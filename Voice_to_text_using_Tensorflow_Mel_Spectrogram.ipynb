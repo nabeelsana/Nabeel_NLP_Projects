{
  "cells": [
    {
      "cell_type": "markdown",
      "metadata": {
        "id": "view-in-github",
        "colab_type": "text"
      },
      "source": [
        "<a href=\"https://colab.research.google.com/github/nabeelsana/Nabeel_NLP_Projects/blob/main/Voice_to_text_using_Tensorflow_Mel_Spectrogram.ipynb\" target=\"_parent\"><img src=\"https://colab.research.google.com/assets/colab-badge.svg\" alt=\"Open In Colab\"/></a>"
      ]
    },
    {
      "cell_type": "code",
      "execution_count": null,
      "metadata": {
        "id": "Lt5tdOWcSNJz"
      },
      "outputs": [],
      "source": [
        "import librosa\n",
        "import librosa.display\n",
        "import matplotlib.pyplot as plt\n",
        "from IPython.display import Audio"
      ]
    },
    {
      "cell_type": "code",
      "execution_count": null,
      "metadata": {
        "id": "mVgIQFr7o8Ri"
      },
      "outputs": [],
      "source": [
        "import numpy as np\n",
        "import sklearn\n",
        "import csv\n",
        "import os\n",
        "import pandas as pd"
      ]
    },
    {
      "cell_type": "code",
      "execution_count": null,
      "metadata": {
        "colab": {
          "base_uri": "https://localhost:8080/",
          "height": 35
        },
        "id": "aB8A7lHLm0nB",
        "outputId": "75ec68fc-03a0-4aad-f3a9-55929902c36d"
      },
      "outputs": [
        {
          "output_type": "execute_result",
          "data": {
            "text/plain": [
              "'2.11.0'"
            ],
            "application/vnd.google.colaboratory.intrinsic+json": {
              "type": "string"
            }
          },
          "metadata": {},
          "execution_count": 2
        }
      ],
      "source": [
        "import tensorflow as tf\n",
        "tf.__version__"
      ]
    },
    {
      "cell_type": "code",
      "execution_count": null,
      "metadata": {
        "colab": {
          "base_uri": "https://localhost:8080/"
        },
        "id": "pk5u3ef5Hyo7",
        "outputId": "5ba29b44-c512-47bd-9990-13250be0fbf1"
      },
      "outputs": [
        {
          "output_type": "stream",
          "name": "stdout",
          "text": [
            "Looking in indexes: https://pypi.org/simple, https://us-python.pkg.dev/colab-wheels/public/simple/\n",
            "Collecting jiwer\n",
            "  Downloading jiwer-3.0.0-py3-none-any.whl (21 kB)\n",
            "Collecting rapidfuzz==2.13.7\n",
            "  Downloading rapidfuzz-2.13.7-cp39-cp39-manylinux_2_17_x86_64.manylinux2014_x86_64.whl (2.2 MB)\n",
            "\u001b[2K     \u001b[90m━━━━━━━━━━━━━━━━━━━━━━━━━━━━━━━━━━━━━━━━\u001b[0m \u001b[32m2.2/2.2 MB\u001b[0m \u001b[31m73.0 MB/s\u001b[0m eta \u001b[36m0:00:00\u001b[0m\n",
            "\u001b[?25hRequirement already satisfied: click<9.0.0,>=8.1.3 in /usr/local/lib/python3.9/dist-packages (from jiwer) (8.1.3)\n",
            "Installing collected packages: rapidfuzz, jiwer\n",
            "Successfully installed jiwer-3.0.0 rapidfuzz-2.13.7\n"
          ]
        }
      ],
      "source": [
        "!pip install jiwer"
      ]
    },
    {
      "cell_type": "code",
      "execution_count": null,
      "metadata": {
        "id": "oFcYIC0nH-6F"
      },
      "outputs": [],
      "source": [
        "from jiwer import wer"
      ]
    },
    {
      "cell_type": "markdown",
      "source": [
        "# DATASET LINK"
      ],
      "metadata": {
        "id": "c_4gGzyvIpNe"
      }
    },
    {
      "cell_type": "markdown",
      "source": [
        "https://keithito.com/LJ-Speech-Dataset/"
      ],
      "metadata": {
        "id": "YH3ISd_pIsOD"
      }
    },
    {
      "cell_type": "code",
      "execution_count": null,
      "metadata": {
        "id": "6rRL3rVeoJ5c"
      },
      "outputs": [],
      "source": [
        "#Mounting Google drive"
      ]
    },
    {
      "cell_type": "code",
      "execution_count": null,
      "metadata": {
        "colab": {
          "base_uri": "https://localhost:8080/"
        },
        "id": "syh_uavEobtO",
        "outputId": "0694cbdc-1987-41fb-dcdd-ce1a1d8d0d65"
      },
      "outputs": [
        {
          "output_type": "stream",
          "name": "stdout",
          "text": [
            "Mounted at /gdrive\n"
          ]
        }
      ],
      "source": [
        "from google.colab import drive\n",
        "drive.mount('/gdrive')"
      ]
    },
    {
      "cell_type": "code",
      "execution_count": null,
      "metadata": {
        "id": "GfTWaAUqp-se"
      },
      "outputs": [],
      "source": [
        "# STEP 1: Listing all audio clips and verifying their presence, then extract file names without extension"
      ]
    },
    {
      "cell_type": "code",
      "execution_count": null,
      "metadata": {
        "colab": {
          "base_uri": "https://localhost:8080/",
          "height": 235
        },
        "id": "GqeVbJ8cfukw",
        "outputId": "bc9051c7-c6ab-4fcd-9883-f0a56b7ffa4f"
      },
      "outputs": [
        {
          "ename": "KeyboardInterrupt",
          "evalue": "ignored",
          "output_type": "error",
          "traceback": [
            "\u001b[0;31m---------------------------------------------------------------------------\u001b[0m",
            "\u001b[0;31mKeyboardInterrupt\u001b[0m                         Traceback (most recent call last)",
            "\u001b[0;32m<ipython-input-7-6692140bbe2b>\u001b[0m in \u001b[0;36m<module>\u001b[0;34m\u001b[0m\n\u001b[1;32m      1\u001b[0m \u001b[0;31m#SKIP\u001b[0m\u001b[0;34m\u001b[0m\u001b[0;34m\u001b[0m\u001b[0;34m\u001b[0m\u001b[0m\n\u001b[0;32m----> 2\u001b[0;31m \u001b[0mfiles\u001b[0m \u001b[0;34m=\u001b[0m \u001b[0mos\u001b[0m\u001b[0;34m.\u001b[0m\u001b[0mlistdir\u001b[0m\u001b[0;34m(\u001b[0m\u001b[0;34m'/gdrive/MyDrive/data/Speech2text/LJSpeech-1.1/wavs'\u001b[0m\u001b[0;34m)\u001b[0m\u001b[0;34m\u001b[0m\u001b[0;34m\u001b[0m\u001b[0m\n\u001b[0m\u001b[1;32m      3\u001b[0m \u001b[0;34m\u001b[0m\u001b[0m\n\u001b[1;32m      4\u001b[0m \u001b[0mprint\u001b[0m\u001b[0;34m(\u001b[0m\u001b[0mtype\u001b[0m\u001b[0;34m(\u001b[0m\u001b[0mfiles\u001b[0m\u001b[0;34m)\u001b[0m\u001b[0;34m)\u001b[0m\u001b[0;34m\u001b[0m\u001b[0;34m\u001b[0m\u001b[0m\n\u001b[1;32m      5\u001b[0m \u001b[0mprint\u001b[0m\u001b[0;34m(\u001b[0m\u001b[0mfiles\u001b[0m\u001b[0;34m[\u001b[0m\u001b[0;34m:\u001b[0m\u001b[0;36m10\u001b[0m\u001b[0;34m]\u001b[0m\u001b[0;34m)\u001b[0m\u001b[0;34m\u001b[0m\u001b[0;34m\u001b[0m\u001b[0m\n",
            "\u001b[0;31mKeyboardInterrupt\u001b[0m: "
          ]
        }
      ],
      "source": [
        "#SKIP\n",
        "#files = os.listdir('/gdrive/MyDrive/data/Speech2text/LJSpeech-1.1/wavs')\n",
        "\n",
        "print(type(files))\n",
        "print(files[:10])\n"
      ]
    },
    {
      "cell_type": "code",
      "execution_count": null,
      "metadata": {
        "id": "Ou4dZSMVxghT"
      },
      "outputs": [],
      "source": [
        "#SKIP\n",
        "#storing file names in drive as a csv file\n",
        "\n",
        "with open('/gdrive/MyDrive/data/Speech2text/LJSpeech-1.1/LJclipnames.csv', \"w\", newline = '') as file:\n",
        "  writer = csv.writer(file)\n",
        "  for name in files:\n",
        "    writer.writerow([name])         #[name] will print each name as a new row"
      ]
    },
    {
      "cell_type": "code",
      "execution_count": null,
      "metadata": {
        "id": "ZYRDeP3QsHL5"
      },
      "outputs": [],
      "source": [
        "#Importing file as a dataframe\n",
        "\n",
        "clips_df = pd.read_csv('/gdrive/MyDrive/data/Speech2text/LJSpeech-1.1/LJclipnames.csv')"
      ]
    },
    {
      "cell_type": "code",
      "execution_count": null,
      "metadata": {
        "colab": {
          "base_uri": "https://localhost:8080/"
        },
        "id": "je6WQ-o2s5yp",
        "outputId": "eca61029-235e-44e8-e925-d01e328e4845"
      },
      "outputs": [
        {
          "output_type": "stream",
          "name": "stdout",
          "text": [
            "13099\n",
            "       Clips_name\n",
            "0  LJ007-0088.wav\n",
            "1  LJ002-0275.wav\n",
            "2  LJ016-0071.wav\n",
            "3  LJ015-0012.wav\n",
            "4  LJ018-0279.wav\n"
          ]
        }
      ],
      "source": [
        "clips_df.columns = (['Clips_name'])\n",
        "print(len(clips_df))\n",
        "print(clips_df.head())"
      ]
    },
    {
      "cell_type": "code",
      "execution_count": null,
      "metadata": {
        "id": "Wh-n7WYHyP_H"
      },
      "outputs": [],
      "source": [
        "clips_df['file_name']= clips_df['Clips_name']"
      ]
    },
    {
      "cell_type": "code",
      "execution_count": null,
      "metadata": {
        "colab": {
          "base_uri": "https://localhost:8080/",
          "height": 206
        },
        "id": "At7SbzcaydWK",
        "outputId": "7709b563-2752-4aba-d324-7c8ff3f77f81"
      },
      "outputs": [
        {
          "output_type": "execute_result",
          "data": {
            "text/plain": [
              "       Clips_name       file_name\n",
              "0  LJ007-0088.wav  LJ007-0088.wav\n",
              "1  LJ002-0275.wav  LJ002-0275.wav\n",
              "2  LJ016-0071.wav  LJ016-0071.wav\n",
              "3  LJ015-0012.wav  LJ015-0012.wav\n",
              "4  LJ018-0279.wav  LJ018-0279.wav"
            ],
            "text/html": [
              "\n",
              "  <div id=\"df-b6e22c95-fb52-4ab4-ba59-edf89799021b\">\n",
              "    <div class=\"colab-df-container\">\n",
              "      <div>\n",
              "<style scoped>\n",
              "    .dataframe tbody tr th:only-of-type {\n",
              "        vertical-align: middle;\n",
              "    }\n",
              "\n",
              "    .dataframe tbody tr th {\n",
              "        vertical-align: top;\n",
              "    }\n",
              "\n",
              "    .dataframe thead th {\n",
              "        text-align: right;\n",
              "    }\n",
              "</style>\n",
              "<table border=\"1\" class=\"dataframe\">\n",
              "  <thead>\n",
              "    <tr style=\"text-align: right;\">\n",
              "      <th></th>\n",
              "      <th>Clips_name</th>\n",
              "      <th>file_name</th>\n",
              "    </tr>\n",
              "  </thead>\n",
              "  <tbody>\n",
              "    <tr>\n",
              "      <th>0</th>\n",
              "      <td>LJ007-0088.wav</td>\n",
              "      <td>LJ007-0088.wav</td>\n",
              "    </tr>\n",
              "    <tr>\n",
              "      <th>1</th>\n",
              "      <td>LJ002-0275.wav</td>\n",
              "      <td>LJ002-0275.wav</td>\n",
              "    </tr>\n",
              "    <tr>\n",
              "      <th>2</th>\n",
              "      <td>LJ016-0071.wav</td>\n",
              "      <td>LJ016-0071.wav</td>\n",
              "    </tr>\n",
              "    <tr>\n",
              "      <th>3</th>\n",
              "      <td>LJ015-0012.wav</td>\n",
              "      <td>LJ015-0012.wav</td>\n",
              "    </tr>\n",
              "    <tr>\n",
              "      <th>4</th>\n",
              "      <td>LJ018-0279.wav</td>\n",
              "      <td>LJ018-0279.wav</td>\n",
              "    </tr>\n",
              "  </tbody>\n",
              "</table>\n",
              "</div>\n",
              "      <button class=\"colab-df-convert\" onclick=\"convertToInteractive('df-b6e22c95-fb52-4ab4-ba59-edf89799021b')\"\n",
              "              title=\"Convert this dataframe to an interactive table.\"\n",
              "              style=\"display:none;\">\n",
              "        \n",
              "  <svg xmlns=\"http://www.w3.org/2000/svg\" height=\"24px\"viewBox=\"0 0 24 24\"\n",
              "       width=\"24px\">\n",
              "    <path d=\"M0 0h24v24H0V0z\" fill=\"none\"/>\n",
              "    <path d=\"M18.56 5.44l.94 2.06.94-2.06 2.06-.94-2.06-.94-.94-2.06-.94 2.06-2.06.94zm-11 1L8.5 8.5l.94-2.06 2.06-.94-2.06-.94L8.5 2.5l-.94 2.06-2.06.94zm10 10l.94 2.06.94-2.06 2.06-.94-2.06-.94-.94-2.06-.94 2.06-2.06.94z\"/><path d=\"M17.41 7.96l-1.37-1.37c-.4-.4-.92-.59-1.43-.59-.52 0-1.04.2-1.43.59L10.3 9.45l-7.72 7.72c-.78.78-.78 2.05 0 2.83L4 21.41c.39.39.9.59 1.41.59.51 0 1.02-.2 1.41-.59l7.78-7.78 2.81-2.81c.8-.78.8-2.07 0-2.86zM5.41 20L4 18.59l7.72-7.72 1.47 1.35L5.41 20z\"/>\n",
              "  </svg>\n",
              "      </button>\n",
              "      \n",
              "  <style>\n",
              "    .colab-df-container {\n",
              "      display:flex;\n",
              "      flex-wrap:wrap;\n",
              "      gap: 12px;\n",
              "    }\n",
              "\n",
              "    .colab-df-convert {\n",
              "      background-color: #E8F0FE;\n",
              "      border: none;\n",
              "      border-radius: 50%;\n",
              "      cursor: pointer;\n",
              "      display: none;\n",
              "      fill: #1967D2;\n",
              "      height: 32px;\n",
              "      padding: 0 0 0 0;\n",
              "      width: 32px;\n",
              "    }\n",
              "\n",
              "    .colab-df-convert:hover {\n",
              "      background-color: #E2EBFA;\n",
              "      box-shadow: 0px 1px 2px rgba(60, 64, 67, 0.3), 0px 1px 3px 1px rgba(60, 64, 67, 0.15);\n",
              "      fill: #174EA6;\n",
              "    }\n",
              "\n",
              "    [theme=dark] .colab-df-convert {\n",
              "      background-color: #3B4455;\n",
              "      fill: #D2E3FC;\n",
              "    }\n",
              "\n",
              "    [theme=dark] .colab-df-convert:hover {\n",
              "      background-color: #434B5C;\n",
              "      box-shadow: 0px 1px 3px 1px rgba(0, 0, 0, 0.15);\n",
              "      filter: drop-shadow(0px 1px 2px rgba(0, 0, 0, 0.3));\n",
              "      fill: #FFFFFF;\n",
              "    }\n",
              "  </style>\n",
              "\n",
              "      <script>\n",
              "        const buttonEl =\n",
              "          document.querySelector('#df-b6e22c95-fb52-4ab4-ba59-edf89799021b button.colab-df-convert');\n",
              "        buttonEl.style.display =\n",
              "          google.colab.kernel.accessAllowed ? 'block' : 'none';\n",
              "\n",
              "        async function convertToInteractive(key) {\n",
              "          const element = document.querySelector('#df-b6e22c95-fb52-4ab4-ba59-edf89799021b');\n",
              "          const dataTable =\n",
              "            await google.colab.kernel.invokeFunction('convertToInteractive',\n",
              "                                                     [key], {});\n",
              "          if (!dataTable) return;\n",
              "\n",
              "          const docLinkHtml = 'Like what you see? Visit the ' +\n",
              "            '<a target=\"_blank\" href=https://colab.research.google.com/notebooks/data_table.ipynb>data table notebook</a>'\n",
              "            + ' to learn more about interactive tables.';\n",
              "          element.innerHTML = '';\n",
              "          dataTable['output_type'] = 'display_data';\n",
              "          await google.colab.output.renderOutput(dataTable, element);\n",
              "          const docLink = document.createElement('div');\n",
              "          docLink.innerHTML = docLinkHtml;\n",
              "          element.appendChild(docLink);\n",
              "        }\n",
              "      </script>\n",
              "    </div>\n",
              "  </div>\n",
              "  "
            ]
          },
          "metadata": {},
          "execution_count": 9
        }
      ],
      "source": [
        "clips_df.head()"
      ]
    },
    {
      "cell_type": "code",
      "execution_count": null,
      "metadata": {
        "id": "zwzCPL8hzKzS"
      },
      "outputs": [],
      "source": [
        "clips_df[['file_name', 'Extension']] = clips_df['file_name'].str.split('.',1, expand = True)"
      ]
    },
    {
      "cell_type": "code",
      "execution_count": null,
      "metadata": {
        "colab": {
          "base_uri": "https://localhost:8080/"
        },
        "id": "mspzO51X06lo",
        "outputId": "fbd67702-e8fc-454c-9c76-9ff9b47ee047"
      },
      "outputs": [
        {
          "output_type": "stream",
          "name": "stdout",
          "text": [
            "       Clips_name   file_name Extension\n",
            "0  LJ007-0088.wav  LJ007-0088       wav\n",
            "1  LJ002-0275.wav  LJ002-0275       wav\n",
            "2  LJ016-0071.wav  LJ016-0071       wav\n",
            "3  LJ015-0012.wav  LJ015-0012       wav\n",
            "4  LJ018-0279.wav  LJ018-0279       wav\n",
            "13099\n"
          ]
        }
      ],
      "source": [
        "print(clips_df.head())\n",
        "print(len(clips_df))"
      ]
    },
    {
      "cell_type": "code",
      "execution_count": null,
      "metadata": {
        "id": "BSxawlSJtc8G"
      },
      "outputs": [],
      "source": [
        "#STEP 2: Read Meta data file contains clips names and sentences"
      ]
    },
    {
      "cell_type": "code",
      "execution_count": null,
      "metadata": {
        "id": "28fpD4JG6yYP"
      },
      "outputs": [],
      "source": [
        "meta_df = pd.read_csv('/gdrive/MyDrive/data/Speech2text/LJSpeech-1.1/metadata.csv',sep = '|', header = None, )  #make sure file is UTF8 encoded\n",
        "\n"
      ]
    },
    {
      "cell_type": "code",
      "execution_count": null,
      "metadata": {
        "id": "4QDsgxgcSX4W"
      },
      "outputs": [],
      "source": [
        "meta_df.columns = (['file_name', 'raw_transcription', 'transcription'])"
      ]
    },
    {
      "cell_type": "code",
      "execution_count": null,
      "metadata": {
        "colab": {
          "base_uri": "https://localhost:8080/",
          "height": 206
        },
        "id": "jvDR9ZRZvq7-",
        "outputId": "bfba70a6-3384-42ae-c46e-5e94ad81fdaf"
      },
      "outputs": [
        {
          "output_type": "execute_result",
          "data": {
            "text/plain": [
              "    file_name                                  raw_transcription  \\\n",
              "0  LJ001-0001  Printing, in the only sense with which we are ...   \n",
              "1  LJ001-0002                     in being comparatively modern.   \n",
              "2  LJ001-0003  For although the Chinese took impressions from...   \n",
              "3  LJ001-0004  produced the block books, which were the immed...   \n",
              "4  LJ001-0005  the invention of movable metal letters in the ...   \n",
              "\n",
              "                                       transcription  \n",
              "0  Printing, in the only sense with which we are ...  \n",
              "1                     in being comparatively modern.  \n",
              "2  For although the Chinese took impressions from...  \n",
              "3  produced the block books, which were the immed...  \n",
              "4  the invention of movable metal letters in the ...  "
            ],
            "text/html": [
              "\n",
              "  <div id=\"df-7377367c-04ed-4da5-b87a-ee1e8f4eefe9\">\n",
              "    <div class=\"colab-df-container\">\n",
              "      <div>\n",
              "<style scoped>\n",
              "    .dataframe tbody tr th:only-of-type {\n",
              "        vertical-align: middle;\n",
              "    }\n",
              "\n",
              "    .dataframe tbody tr th {\n",
              "        vertical-align: top;\n",
              "    }\n",
              "\n",
              "    .dataframe thead th {\n",
              "        text-align: right;\n",
              "    }\n",
              "</style>\n",
              "<table border=\"1\" class=\"dataframe\">\n",
              "  <thead>\n",
              "    <tr style=\"text-align: right;\">\n",
              "      <th></th>\n",
              "      <th>file_name</th>\n",
              "      <th>raw_transcription</th>\n",
              "      <th>transcription</th>\n",
              "    </tr>\n",
              "  </thead>\n",
              "  <tbody>\n",
              "    <tr>\n",
              "      <th>0</th>\n",
              "      <td>LJ001-0001</td>\n",
              "      <td>Printing, in the only sense with which we are ...</td>\n",
              "      <td>Printing, in the only sense with which we are ...</td>\n",
              "    </tr>\n",
              "    <tr>\n",
              "      <th>1</th>\n",
              "      <td>LJ001-0002</td>\n",
              "      <td>in being comparatively modern.</td>\n",
              "      <td>in being comparatively modern.</td>\n",
              "    </tr>\n",
              "    <tr>\n",
              "      <th>2</th>\n",
              "      <td>LJ001-0003</td>\n",
              "      <td>For although the Chinese took impressions from...</td>\n",
              "      <td>For although the Chinese took impressions from...</td>\n",
              "    </tr>\n",
              "    <tr>\n",
              "      <th>3</th>\n",
              "      <td>LJ001-0004</td>\n",
              "      <td>produced the block books, which were the immed...</td>\n",
              "      <td>produced the block books, which were the immed...</td>\n",
              "    </tr>\n",
              "    <tr>\n",
              "      <th>4</th>\n",
              "      <td>LJ001-0005</td>\n",
              "      <td>the invention of movable metal letters in the ...</td>\n",
              "      <td>the invention of movable metal letters in the ...</td>\n",
              "    </tr>\n",
              "  </tbody>\n",
              "</table>\n",
              "</div>\n",
              "      <button class=\"colab-df-convert\" onclick=\"convertToInteractive('df-7377367c-04ed-4da5-b87a-ee1e8f4eefe9')\"\n",
              "              title=\"Convert this dataframe to an interactive table.\"\n",
              "              style=\"display:none;\">\n",
              "        \n",
              "  <svg xmlns=\"http://www.w3.org/2000/svg\" height=\"24px\"viewBox=\"0 0 24 24\"\n",
              "       width=\"24px\">\n",
              "    <path d=\"M0 0h24v24H0V0z\" fill=\"none\"/>\n",
              "    <path d=\"M18.56 5.44l.94 2.06.94-2.06 2.06-.94-2.06-.94-.94-2.06-.94 2.06-2.06.94zm-11 1L8.5 8.5l.94-2.06 2.06-.94-2.06-.94L8.5 2.5l-.94 2.06-2.06.94zm10 10l.94 2.06.94-2.06 2.06-.94-2.06-.94-.94-2.06-.94 2.06-2.06.94z\"/><path d=\"M17.41 7.96l-1.37-1.37c-.4-.4-.92-.59-1.43-.59-.52 0-1.04.2-1.43.59L10.3 9.45l-7.72 7.72c-.78.78-.78 2.05 0 2.83L4 21.41c.39.39.9.59 1.41.59.51 0 1.02-.2 1.41-.59l7.78-7.78 2.81-2.81c.8-.78.8-2.07 0-2.86zM5.41 20L4 18.59l7.72-7.72 1.47 1.35L5.41 20z\"/>\n",
              "  </svg>\n",
              "      </button>\n",
              "      \n",
              "  <style>\n",
              "    .colab-df-container {\n",
              "      display:flex;\n",
              "      flex-wrap:wrap;\n",
              "      gap: 12px;\n",
              "    }\n",
              "\n",
              "    .colab-df-convert {\n",
              "      background-color: #E8F0FE;\n",
              "      border: none;\n",
              "      border-radius: 50%;\n",
              "      cursor: pointer;\n",
              "      display: none;\n",
              "      fill: #1967D2;\n",
              "      height: 32px;\n",
              "      padding: 0 0 0 0;\n",
              "      width: 32px;\n",
              "    }\n",
              "\n",
              "    .colab-df-convert:hover {\n",
              "      background-color: #E2EBFA;\n",
              "      box-shadow: 0px 1px 2px rgba(60, 64, 67, 0.3), 0px 1px 3px 1px rgba(60, 64, 67, 0.15);\n",
              "      fill: #174EA6;\n",
              "    }\n",
              "\n",
              "    [theme=dark] .colab-df-convert {\n",
              "      background-color: #3B4455;\n",
              "      fill: #D2E3FC;\n",
              "    }\n",
              "\n",
              "    [theme=dark] .colab-df-convert:hover {\n",
              "      background-color: #434B5C;\n",
              "      box-shadow: 0px 1px 3px 1px rgba(0, 0, 0, 0.15);\n",
              "      filter: drop-shadow(0px 1px 2px rgba(0, 0, 0, 0.3));\n",
              "      fill: #FFFFFF;\n",
              "    }\n",
              "  </style>\n",
              "\n",
              "      <script>\n",
              "        const buttonEl =\n",
              "          document.querySelector('#df-7377367c-04ed-4da5-b87a-ee1e8f4eefe9 button.colab-df-convert');\n",
              "        buttonEl.style.display =\n",
              "          google.colab.kernel.accessAllowed ? 'block' : 'none';\n",
              "\n",
              "        async function convertToInteractive(key) {\n",
              "          const element = document.querySelector('#df-7377367c-04ed-4da5-b87a-ee1e8f4eefe9');\n",
              "          const dataTable =\n",
              "            await google.colab.kernel.invokeFunction('convertToInteractive',\n",
              "                                                     [key], {});\n",
              "          if (!dataTable) return;\n",
              "\n",
              "          const docLinkHtml = 'Like what you see? Visit the ' +\n",
              "            '<a target=\"_blank\" href=https://colab.research.google.com/notebooks/data_table.ipynb>data table notebook</a>'\n",
              "            + ' to learn more about interactive tables.';\n",
              "          element.innerHTML = '';\n",
              "          dataTable['output_type'] = 'display_data';\n",
              "          await google.colab.output.renderOutput(dataTable, element);\n",
              "          const docLink = document.createElement('div');\n",
              "          docLink.innerHTML = docLinkHtml;\n",
              "          element.appendChild(docLink);\n",
              "        }\n",
              "      </script>\n",
              "    </div>\n",
              "  </div>\n",
              "  "
            ]
          },
          "metadata": {},
          "execution_count": 14
        }
      ],
      "source": [
        "meta_df.head(5)"
      ]
    },
    {
      "cell_type": "code",
      "execution_count": null,
      "metadata": {
        "colab": {
          "base_uri": "https://localhost:8080/",
          "height": 551
        },
        "id": "Kybj4gw5M5of",
        "outputId": "70ebed53-68ae-42b7-86a6-9db271a6ad16"
      },
      "outputs": [
        {
          "output_type": "execute_result",
          "data": {
            "text/plain": [
              "       file_name                                  raw_transcription  \\\n",
              "945   LJ004-0076  Disease, cold, famine, nakedness, and contagio...   \n",
              "948   LJ004-0079  All measures and practices in prison which may...   \n",
              "1119  LJ004-0250  It is obvious that reformation must be materia...   \n",
              "1147  LJ005-0028  There should be no tea and sugar, no assemblag...   \n",
              "1149  LJ005-0030  In prisons, which are really meant to keep the...   \n",
              "1196  LJ005-0077  expedient to introduce such measures and arran...   \n",
              "1371  LJ005-0253  to inquire into and report upon the several ja...   \n",
              "1400  LJ005-0282  the comparatively innocent are seduced, the un...   \n",
              "1500  LJ006-0083  So great is the authority exercised by him,|So...   \n",
              "1655  LJ006-0238  There was a disturbance in the transport yard ...   \n",
              "1853  LJ007-0128  what must be the state of discipline in a plac...   \n",
              "1868  LJ007-0143  is permitted to purchase whatever his own mean...   \n",
              "1929  LJ007-0204  which has been demonstrably proved to be the f...   \n",
              "1939  LJ007-0214  The prominent evils of this prison (Newgate) -...   \n",
              "4693  LJ016-0282  Till three o'clock it was one long revelry of ...   \n",
              "7197  LJ027-0118  for, without waiting to dispute the wisdom of ...   \n",
              "\n",
              "     transcription  \n",
              "945            NaN  \n",
              "948            NaN  \n",
              "1119           NaN  \n",
              "1147           NaN  \n",
              "1149           NaN  \n",
              "1196           NaN  \n",
              "1371           NaN  \n",
              "1400           NaN  \n",
              "1500           NaN  \n",
              "1655           NaN  \n",
              "1853           NaN  \n",
              "1868           NaN  \n",
              "1929           NaN  \n",
              "1939           NaN  \n",
              "4693           NaN  \n",
              "7197           NaN  "
            ],
            "text/html": [
              "\n",
              "  <div id=\"df-93c111cc-3ba6-441d-a085-837725cb023d\">\n",
              "    <div class=\"colab-df-container\">\n",
              "      <div>\n",
              "<style scoped>\n",
              "    .dataframe tbody tr th:only-of-type {\n",
              "        vertical-align: middle;\n",
              "    }\n",
              "\n",
              "    .dataframe tbody tr th {\n",
              "        vertical-align: top;\n",
              "    }\n",
              "\n",
              "    .dataframe thead th {\n",
              "        text-align: right;\n",
              "    }\n",
              "</style>\n",
              "<table border=\"1\" class=\"dataframe\">\n",
              "  <thead>\n",
              "    <tr style=\"text-align: right;\">\n",
              "      <th></th>\n",
              "      <th>file_name</th>\n",
              "      <th>raw_transcription</th>\n",
              "      <th>transcription</th>\n",
              "    </tr>\n",
              "  </thead>\n",
              "  <tbody>\n",
              "    <tr>\n",
              "      <th>945</th>\n",
              "      <td>LJ004-0076</td>\n",
              "      <td>Disease, cold, famine, nakedness, and contagio...</td>\n",
              "      <td>NaN</td>\n",
              "    </tr>\n",
              "    <tr>\n",
              "      <th>948</th>\n",
              "      <td>LJ004-0079</td>\n",
              "      <td>All measures and practices in prison which may...</td>\n",
              "      <td>NaN</td>\n",
              "    </tr>\n",
              "    <tr>\n",
              "      <th>1119</th>\n",
              "      <td>LJ004-0250</td>\n",
              "      <td>It is obvious that reformation must be materia...</td>\n",
              "      <td>NaN</td>\n",
              "    </tr>\n",
              "    <tr>\n",
              "      <th>1147</th>\n",
              "      <td>LJ005-0028</td>\n",
              "      <td>There should be no tea and sugar, no assemblag...</td>\n",
              "      <td>NaN</td>\n",
              "    </tr>\n",
              "    <tr>\n",
              "      <th>1149</th>\n",
              "      <td>LJ005-0030</td>\n",
              "      <td>In prisons, which are really meant to keep the...</td>\n",
              "      <td>NaN</td>\n",
              "    </tr>\n",
              "    <tr>\n",
              "      <th>1196</th>\n",
              "      <td>LJ005-0077</td>\n",
              "      <td>expedient to introduce such measures and arran...</td>\n",
              "      <td>NaN</td>\n",
              "    </tr>\n",
              "    <tr>\n",
              "      <th>1371</th>\n",
              "      <td>LJ005-0253</td>\n",
              "      <td>to inquire into and report upon the several ja...</td>\n",
              "      <td>NaN</td>\n",
              "    </tr>\n",
              "    <tr>\n",
              "      <th>1400</th>\n",
              "      <td>LJ005-0282</td>\n",
              "      <td>the comparatively innocent are seduced, the un...</td>\n",
              "      <td>NaN</td>\n",
              "    </tr>\n",
              "    <tr>\n",
              "      <th>1500</th>\n",
              "      <td>LJ006-0083</td>\n",
              "      <td>So great is the authority exercised by him,|So...</td>\n",
              "      <td>NaN</td>\n",
              "    </tr>\n",
              "    <tr>\n",
              "      <th>1655</th>\n",
              "      <td>LJ006-0238</td>\n",
              "      <td>There was a disturbance in the transport yard ...</td>\n",
              "      <td>NaN</td>\n",
              "    </tr>\n",
              "    <tr>\n",
              "      <th>1853</th>\n",
              "      <td>LJ007-0128</td>\n",
              "      <td>what must be the state of discipline in a plac...</td>\n",
              "      <td>NaN</td>\n",
              "    </tr>\n",
              "    <tr>\n",
              "      <th>1868</th>\n",
              "      <td>LJ007-0143</td>\n",
              "      <td>is permitted to purchase whatever his own mean...</td>\n",
              "      <td>NaN</td>\n",
              "    </tr>\n",
              "    <tr>\n",
              "      <th>1929</th>\n",
              "      <td>LJ007-0204</td>\n",
              "      <td>which has been demonstrably proved to be the f...</td>\n",
              "      <td>NaN</td>\n",
              "    </tr>\n",
              "    <tr>\n",
              "      <th>1939</th>\n",
              "      <td>LJ007-0214</td>\n",
              "      <td>The prominent evils of this prison (Newgate) -...</td>\n",
              "      <td>NaN</td>\n",
              "    </tr>\n",
              "    <tr>\n",
              "      <th>4693</th>\n",
              "      <td>LJ016-0282</td>\n",
              "      <td>Till three o'clock it was one long revelry of ...</td>\n",
              "      <td>NaN</td>\n",
              "    </tr>\n",
              "    <tr>\n",
              "      <th>7197</th>\n",
              "      <td>LJ027-0118</td>\n",
              "      <td>for, without waiting to dispute the wisdom of ...</td>\n",
              "      <td>NaN</td>\n",
              "    </tr>\n",
              "  </tbody>\n",
              "</table>\n",
              "</div>\n",
              "      <button class=\"colab-df-convert\" onclick=\"convertToInteractive('df-93c111cc-3ba6-441d-a085-837725cb023d')\"\n",
              "              title=\"Convert this dataframe to an interactive table.\"\n",
              "              style=\"display:none;\">\n",
              "        \n",
              "  <svg xmlns=\"http://www.w3.org/2000/svg\" height=\"24px\"viewBox=\"0 0 24 24\"\n",
              "       width=\"24px\">\n",
              "    <path d=\"M0 0h24v24H0V0z\" fill=\"none\"/>\n",
              "    <path d=\"M18.56 5.44l.94 2.06.94-2.06 2.06-.94-2.06-.94-.94-2.06-.94 2.06-2.06.94zm-11 1L8.5 8.5l.94-2.06 2.06-.94-2.06-.94L8.5 2.5l-.94 2.06-2.06.94zm10 10l.94 2.06.94-2.06 2.06-.94-2.06-.94-.94-2.06-.94 2.06-2.06.94z\"/><path d=\"M17.41 7.96l-1.37-1.37c-.4-.4-.92-.59-1.43-.59-.52 0-1.04.2-1.43.59L10.3 9.45l-7.72 7.72c-.78.78-.78 2.05 0 2.83L4 21.41c.39.39.9.59 1.41.59.51 0 1.02-.2 1.41-.59l7.78-7.78 2.81-2.81c.8-.78.8-2.07 0-2.86zM5.41 20L4 18.59l7.72-7.72 1.47 1.35L5.41 20z\"/>\n",
              "  </svg>\n",
              "      </button>\n",
              "      \n",
              "  <style>\n",
              "    .colab-df-container {\n",
              "      display:flex;\n",
              "      flex-wrap:wrap;\n",
              "      gap: 12px;\n",
              "    }\n",
              "\n",
              "    .colab-df-convert {\n",
              "      background-color: #E8F0FE;\n",
              "      border: none;\n",
              "      border-radius: 50%;\n",
              "      cursor: pointer;\n",
              "      display: none;\n",
              "      fill: #1967D2;\n",
              "      height: 32px;\n",
              "      padding: 0 0 0 0;\n",
              "      width: 32px;\n",
              "    }\n",
              "\n",
              "    .colab-df-convert:hover {\n",
              "      background-color: #E2EBFA;\n",
              "      box-shadow: 0px 1px 2px rgba(60, 64, 67, 0.3), 0px 1px 3px 1px rgba(60, 64, 67, 0.15);\n",
              "      fill: #174EA6;\n",
              "    }\n",
              "\n",
              "    [theme=dark] .colab-df-convert {\n",
              "      background-color: #3B4455;\n",
              "      fill: #D2E3FC;\n",
              "    }\n",
              "\n",
              "    [theme=dark] .colab-df-convert:hover {\n",
              "      background-color: #434B5C;\n",
              "      box-shadow: 0px 1px 3px 1px rgba(0, 0, 0, 0.15);\n",
              "      filter: drop-shadow(0px 1px 2px rgba(0, 0, 0, 0.3));\n",
              "      fill: #FFFFFF;\n",
              "    }\n",
              "  </style>\n",
              "\n",
              "      <script>\n",
              "        const buttonEl =\n",
              "          document.querySelector('#df-93c111cc-3ba6-441d-a085-837725cb023d button.colab-df-convert');\n",
              "        buttonEl.style.display =\n",
              "          google.colab.kernel.accessAllowed ? 'block' : 'none';\n",
              "\n",
              "        async function convertToInteractive(key) {\n",
              "          const element = document.querySelector('#df-93c111cc-3ba6-441d-a085-837725cb023d');\n",
              "          const dataTable =\n",
              "            await google.colab.kernel.invokeFunction('convertToInteractive',\n",
              "                                                     [key], {});\n",
              "          if (!dataTable) return;\n",
              "\n",
              "          const docLinkHtml = 'Like what you see? Visit the ' +\n",
              "            '<a target=\"_blank\" href=https://colab.research.google.com/notebooks/data_table.ipynb>data table notebook</a>'\n",
              "            + ' to learn more about interactive tables.';\n",
              "          element.innerHTML = '';\n",
              "          dataTable['output_type'] = 'display_data';\n",
              "          await google.colab.output.renderOutput(dataTable, element);\n",
              "          const docLink = document.createElement('div');\n",
              "          docLink.innerHTML = docLinkHtml;\n",
              "          element.appendChild(docLink);\n",
              "        }\n",
              "      </script>\n",
              "    </div>\n",
              "  </div>\n",
              "  "
            ]
          },
          "metadata": {},
          "execution_count": 15
        }
      ],
      "source": [
        "meta_df[meta_df['transcription'].isnull()]   # To check if any column in Trabscription is Null , will drop these lines"
      ]
    },
    {
      "cell_type": "code",
      "execution_count": null,
      "metadata": {
        "id": "gjW7TdK3OHV4"
      },
      "outputs": [],
      "source": [
        "meta_df.dropna(inplace= True)  # drop those lines where transcription column is Null"
      ]
    },
    {
      "cell_type": "code",
      "execution_count": null,
      "metadata": {
        "colab": {
          "base_uri": "https://localhost:8080/"
        },
        "id": "1rOxYKgkwjGG",
        "outputId": "92ea7dbe-cee6-4970-d2d5-091b7d595435"
      },
      "outputs": [
        {
          "output_type": "execute_result",
          "data": {
            "text/plain": [
              "13084"
            ]
          },
          "metadata": {},
          "execution_count": 17
        }
      ],
      "source": [
        "len(meta_df)"
      ]
    },
    {
      "cell_type": "code",
      "execution_count": null,
      "metadata": {
        "id": "c8hfbrvAw1KG"
      },
      "outputs": [],
      "source": [
        "#STEP 3: Compare clips df with Meta df and drop lines in meta file that are not present as clip"
      ]
    },
    {
      "cell_type": "code",
      "execution_count": null,
      "metadata": {
        "id": "Yy4RQhl01Rke"
      },
      "outputs": [],
      "source": [
        "metadata_df = pd.merge(clips_df, meta_df, on = 'file_name')"
      ]
    },
    {
      "cell_type": "code",
      "execution_count": null,
      "metadata": {
        "colab": {
          "base_uri": "https://localhost:8080/"
        },
        "id": "ZXC0Y8343tXb",
        "outputId": "7dd773d1-50e5-4c1d-a871-1b4c86614add"
      },
      "outputs": [
        {
          "output_type": "stream",
          "name": "stdout",
          "text": [
            "13083\n",
            "       Clips_name   file_name Extension  \\\n",
            "0  LJ007-0088.wav  LJ007-0088       wav   \n",
            "\n",
            "                               raw_transcription  \\\n",
            "0  for not less a period than twenty-four years.   \n",
            "\n",
            "                                   transcription  \n",
            "0  for not less a period than twenty-four years.  \n",
            "Index(['Clips_name', 'file_name', 'Extension', 'raw_transcription',\n",
            "       'transcription'],\n",
            "      dtype='object')\n"
          ]
        }
      ],
      "source": [
        "print(len(metadata_df))\n",
        "print(metadata_df.head(1))\n",
        "print(metadata_df.columns)"
      ]
    },
    {
      "cell_type": "code",
      "execution_count": null,
      "metadata": {
        "id": "5KL5hPdA4Fuv"
      },
      "outputs": [],
      "source": [
        "#Just for comfort write file as xls"
      ]
    },
    {
      "cell_type": "code",
      "execution_count": null,
      "metadata": {
        "id": "W_MchhUt4Lpe"
      },
      "outputs": [],
      "source": [
        "#metadata_df.to_excel('/gdrive/MyDrive/data/Speech2text/LJSpeech-1.1/df.xlsx')\n"
      ]
    },
    {
      "cell_type": "code",
      "execution_count": null,
      "metadata": {
        "id": "kOVd7Blk9XqO"
      },
      "outputs": [],
      "source": [
        "#Step 4: Get metadata working file"
      ]
    },
    {
      "cell_type": "code",
      "execution_count": null,
      "metadata": {
        "id": "HweS5UjM92mB"
      },
      "outputs": [],
      "source": [
        "meta_df = metadata_df[['Clips_name', 'file_name', 'transcription']]"
      ]
    },
    {
      "cell_type": "code",
      "execution_count": null,
      "metadata": {
        "id": "gQv_Kw6MS-Fa"
      },
      "outputs": [],
      "source": [
        "meta_df = meta_df.sample(frac= 1).reset_index(drop= True)"
      ]
    },
    {
      "cell_type": "code",
      "execution_count": null,
      "metadata": {
        "colab": {
          "base_uri": "https://localhost:8080/",
          "height": 206
        },
        "id": "ddoboEKmTNuw",
        "outputId": "0617d865-bb1e-4c01-cef5-e6a7806fb926"
      },
      "outputs": [
        {
          "output_type": "execute_result",
          "data": {
            "text/plain": [
              "       Clips_name   file_name  \\\n",
              "0  LJ016-0317.wav  LJ016-0317   \n",
              "1  LJ049-0142.wav  LJ049-0142   \n",
              "2  LJ007-0087.wav  LJ007-0087   \n",
              "3  LJ012-0023.wav  LJ012-0023   \n",
              "4  LJ034-0166.wav  LJ034-0166   \n",
              "\n",
              "                                       transcription  \n",
              "0  but believed that a public ceremony destroyed ...  \n",
              "1  by defining responsibilities clearly and overs...  \n",
              "2  at Appleby for thirteen years, at Anglesea for...  \n",
              "3  He was taken up when still in his teens for st...  \n",
              "4  Two other witnesses were able to offer partial...  "
            ],
            "text/html": [
              "\n",
              "  <div id=\"df-893a6784-f3e9-4c79-a3a7-b9d370aecc18\">\n",
              "    <div class=\"colab-df-container\">\n",
              "      <div>\n",
              "<style scoped>\n",
              "    .dataframe tbody tr th:only-of-type {\n",
              "        vertical-align: middle;\n",
              "    }\n",
              "\n",
              "    .dataframe tbody tr th {\n",
              "        vertical-align: top;\n",
              "    }\n",
              "\n",
              "    .dataframe thead th {\n",
              "        text-align: right;\n",
              "    }\n",
              "</style>\n",
              "<table border=\"1\" class=\"dataframe\">\n",
              "  <thead>\n",
              "    <tr style=\"text-align: right;\">\n",
              "      <th></th>\n",
              "      <th>Clips_name</th>\n",
              "      <th>file_name</th>\n",
              "      <th>transcription</th>\n",
              "    </tr>\n",
              "  </thead>\n",
              "  <tbody>\n",
              "    <tr>\n",
              "      <th>0</th>\n",
              "      <td>LJ016-0317.wav</td>\n",
              "      <td>LJ016-0317</td>\n",
              "      <td>but believed that a public ceremony destroyed ...</td>\n",
              "    </tr>\n",
              "    <tr>\n",
              "      <th>1</th>\n",
              "      <td>LJ049-0142.wav</td>\n",
              "      <td>LJ049-0142</td>\n",
              "      <td>by defining responsibilities clearly and overs...</td>\n",
              "    </tr>\n",
              "    <tr>\n",
              "      <th>2</th>\n",
              "      <td>LJ007-0087.wav</td>\n",
              "      <td>LJ007-0087</td>\n",
              "      <td>at Appleby for thirteen years, at Anglesea for...</td>\n",
              "    </tr>\n",
              "    <tr>\n",
              "      <th>3</th>\n",
              "      <td>LJ012-0023.wav</td>\n",
              "      <td>LJ012-0023</td>\n",
              "      <td>He was taken up when still in his teens for st...</td>\n",
              "    </tr>\n",
              "    <tr>\n",
              "      <th>4</th>\n",
              "      <td>LJ034-0166.wav</td>\n",
              "      <td>LJ034-0166</td>\n",
              "      <td>Two other witnesses were able to offer partial...</td>\n",
              "    </tr>\n",
              "  </tbody>\n",
              "</table>\n",
              "</div>\n",
              "      <button class=\"colab-df-convert\" onclick=\"convertToInteractive('df-893a6784-f3e9-4c79-a3a7-b9d370aecc18')\"\n",
              "              title=\"Convert this dataframe to an interactive table.\"\n",
              "              style=\"display:none;\">\n",
              "        \n",
              "  <svg xmlns=\"http://www.w3.org/2000/svg\" height=\"24px\"viewBox=\"0 0 24 24\"\n",
              "       width=\"24px\">\n",
              "    <path d=\"M0 0h24v24H0V0z\" fill=\"none\"/>\n",
              "    <path d=\"M18.56 5.44l.94 2.06.94-2.06 2.06-.94-2.06-.94-.94-2.06-.94 2.06-2.06.94zm-11 1L8.5 8.5l.94-2.06 2.06-.94-2.06-.94L8.5 2.5l-.94 2.06-2.06.94zm10 10l.94 2.06.94-2.06 2.06-.94-2.06-.94-.94-2.06-.94 2.06-2.06.94z\"/><path d=\"M17.41 7.96l-1.37-1.37c-.4-.4-.92-.59-1.43-.59-.52 0-1.04.2-1.43.59L10.3 9.45l-7.72 7.72c-.78.78-.78 2.05 0 2.83L4 21.41c.39.39.9.59 1.41.59.51 0 1.02-.2 1.41-.59l7.78-7.78 2.81-2.81c.8-.78.8-2.07 0-2.86zM5.41 20L4 18.59l7.72-7.72 1.47 1.35L5.41 20z\"/>\n",
              "  </svg>\n",
              "      </button>\n",
              "      \n",
              "  <style>\n",
              "    .colab-df-container {\n",
              "      display:flex;\n",
              "      flex-wrap:wrap;\n",
              "      gap: 12px;\n",
              "    }\n",
              "\n",
              "    .colab-df-convert {\n",
              "      background-color: #E8F0FE;\n",
              "      border: none;\n",
              "      border-radius: 50%;\n",
              "      cursor: pointer;\n",
              "      display: none;\n",
              "      fill: #1967D2;\n",
              "      height: 32px;\n",
              "      padding: 0 0 0 0;\n",
              "      width: 32px;\n",
              "    }\n",
              "\n",
              "    .colab-df-convert:hover {\n",
              "      background-color: #E2EBFA;\n",
              "      box-shadow: 0px 1px 2px rgba(60, 64, 67, 0.3), 0px 1px 3px 1px rgba(60, 64, 67, 0.15);\n",
              "      fill: #174EA6;\n",
              "    }\n",
              "\n",
              "    [theme=dark] .colab-df-convert {\n",
              "      background-color: #3B4455;\n",
              "      fill: #D2E3FC;\n",
              "    }\n",
              "\n",
              "    [theme=dark] .colab-df-convert:hover {\n",
              "      background-color: #434B5C;\n",
              "      box-shadow: 0px 1px 3px 1px rgba(0, 0, 0, 0.15);\n",
              "      filter: drop-shadow(0px 1px 2px rgba(0, 0, 0, 0.3));\n",
              "      fill: #FFFFFF;\n",
              "    }\n",
              "  </style>\n",
              "\n",
              "      <script>\n",
              "        const buttonEl =\n",
              "          document.querySelector('#df-893a6784-f3e9-4c79-a3a7-b9d370aecc18 button.colab-df-convert');\n",
              "        buttonEl.style.display =\n",
              "          google.colab.kernel.accessAllowed ? 'block' : 'none';\n",
              "\n",
              "        async function convertToInteractive(key) {\n",
              "          const element = document.querySelector('#df-893a6784-f3e9-4c79-a3a7-b9d370aecc18');\n",
              "          const dataTable =\n",
              "            await google.colab.kernel.invokeFunction('convertToInteractive',\n",
              "                                                     [key], {});\n",
              "          if (!dataTable) return;\n",
              "\n",
              "          const docLinkHtml = 'Like what you see? Visit the ' +\n",
              "            '<a target=\"_blank\" href=https://colab.research.google.com/notebooks/data_table.ipynb>data table notebook</a>'\n",
              "            + ' to learn more about interactive tables.';\n",
              "          element.innerHTML = '';\n",
              "          dataTable['output_type'] = 'display_data';\n",
              "          await google.colab.output.renderOutput(dataTable, element);\n",
              "          const docLink = document.createElement('div');\n",
              "          docLink.innerHTML = docLinkHtml;\n",
              "          element.appendChild(docLink);\n",
              "        }\n",
              "      </script>\n",
              "    </div>\n",
              "  </div>\n",
              "  "
            ]
          },
          "metadata": {},
          "execution_count": 22
        }
      ],
      "source": [
        "meta_df.head(5)"
      ]
    },
    {
      "cell_type": "code",
      "execution_count": null,
      "metadata": {
        "id": "JCAmkbKn7LRA"
      },
      "outputs": [],
      "source": [
        "#meta_df = meta_df[:100]   # initial testing of model with 100 examples"
      ]
    },
    {
      "cell_type": "code",
      "execution_count": null,
      "metadata": {
        "colab": {
          "base_uri": "https://localhost:8080/"
        },
        "id": "i59_W2PU7Se7",
        "outputId": "e65e01ff-0dde-4310-8097-f8175604dea3"
      },
      "outputs": [
        {
          "output_type": "execute_result",
          "data": {
            "text/plain": [
              "13083"
            ]
          },
          "metadata": {},
          "execution_count": 23
        }
      ],
      "source": [
        "len(meta_df)"
      ]
    },
    {
      "cell_type": "code",
      "execution_count": null,
      "metadata": {
        "id": "tULOFB5VUTNp"
      },
      "outputs": [],
      "source": [
        "#Step 5: Split into Training Validation data set"
      ]
    },
    {
      "cell_type": "code",
      "execution_count": null,
      "metadata": {
        "colab": {
          "base_uri": "https://localhost:8080/"
        },
        "id": "0rcbuBa5Ud_K",
        "outputId": "18acbd62-d99a-4b73-e9bc-19ddab012e42"
      },
      "outputs": [
        {
          "output_type": "stream",
          "name": "stdout",
          "text": [
            "11774\n"
          ]
        }
      ],
      "source": [
        "split =int(len(meta_df)*0.9)\n",
        "print(split)"
      ]
    },
    {
      "cell_type": "code",
      "execution_count": null,
      "metadata": {
        "colab": {
          "base_uri": "https://localhost:8080/"
        },
        "id": "koVtSWoFVVxP",
        "outputId": "daba9286-36ae-4bda-880e-3ed8b0059713"
      },
      "outputs": [
        {
          "output_type": "stream",
          "name": "stdout",
          "text": [
            "11774\n",
            "1309\n"
          ]
        }
      ],
      "source": [
        "df_train = meta_df[:split]\n",
        "df_val = meta_df[split:]\n",
        "print(len(df_train))\n",
        "print(len(df_val))"
      ]
    },
    {
      "cell_type": "code",
      "execution_count": null,
      "metadata": {
        "id": "hnNi6i-ZGqYK"
      },
      "outputs": [],
      "source": [
        "#MACHINE LEARNING PROCESS"
      ]
    },
    {
      "cell_type": "code",
      "execution_count": null,
      "metadata": {
        "id": "ZX2ycDcg_rXH"
      },
      "outputs": [],
      "source": [
        "path = '/gdrive/MyDrive/data/Speech2text/LJSpeech-1.1/wavs/'"
      ]
    },
    {
      "cell_type": "code",
      "execution_count": null,
      "metadata": {
        "id": "hDozeaVFE_j-"
      },
      "outputs": [],
      "source": [
        "#Functions to process input sentence"
      ]
    },
    {
      "cell_type": "code",
      "execution_count": null,
      "metadata": {
        "id": "UQllBhKtFK80"
      },
      "outputs": [],
      "source": [
        "characters = [x for x in \"abcdefghijklmnopqrstuvwxyz'?! \"]"
      ]
    },
    {
      "cell_type": "code",
      "execution_count": null,
      "metadata": {
        "colab": {
          "base_uri": "https://localhost:8080/"
        },
        "id": "Hr5JHMuJFmeu",
        "outputId": "06ad800b-f0ca-49a1-c675-c2316503cf64"
      },
      "outputs": [
        {
          "output_type": "stream",
          "name": "stdout",
          "text": [
            "['a', 'b', 'c', 'd', 'e', 'f', 'g', 'h', 'i', 'j', 'k', 'l', 'm', 'n', 'o', 'p', 'q', 'r', 's', 't', 'u', 'v', 'w', 'x', 'y', 'z', \"'\", '?', '!', ' ']\n"
          ]
        }
      ],
      "source": [
        "print(characters)"
      ]
    },
    {
      "cell_type": "code",
      "execution_count": null,
      "metadata": {
        "id": "nxfkwXTKFLEi"
      },
      "outputs": [],
      "source": [
        "char_to_num = tf.keras.layers.StringLookup(vocabulary = characters, oov_token= \"\")"
      ]
    },
    {
      "cell_type": "code",
      "execution_count": null,
      "metadata": {
        "colab": {
          "base_uri": "https://localhost:8080/"
        },
        "id": "kl4pVWrqGUU0",
        "outputId": "2d1dcde7-f7d3-4d92-9016-630c79a86870"
      },
      "outputs": [
        {
          "output_type": "stream",
          "name": "stdout",
          "text": [
            "['', 'a', 'b', 'c', 'd', 'e', 'f', 'g', 'h', 'i', 'j', 'k', 'l', 'm', 'n', 'o', 'p', 'q', 'r', 's', 't', 'u', 'v', 'w', 'x', 'y', 'z', \"'\", '?', '!', ' ']\n"
          ]
        }
      ],
      "source": [
        "print(char_to_num.get_vocabulary())"
      ]
    },
    {
      "cell_type": "code",
      "execution_count": null,
      "metadata": {
        "colab": {
          "base_uri": "https://localhost:8080/"
        },
        "id": "t9tHybHfN_wc",
        "outputId": "307379ae-3fd9-4537-a598-a4a65eb9f458"
      },
      "outputs": [
        {
          "output_type": "stream",
          "name": "stdout",
          "text": [
            "31\n"
          ]
        }
      ],
      "source": [
        "print(char_to_num.vocabulary_size())"
      ]
    },
    {
      "cell_type": "code",
      "execution_count": null,
      "metadata": {
        "id": "50uMRW1sOHaT"
      },
      "outputs": [],
      "source": [
        "output_dim = char_to_num.vocabulary_size()+1"
      ]
    },
    {
      "cell_type": "code",
      "execution_count": null,
      "metadata": {
        "colab": {
          "base_uri": "https://localhost:8080/"
        },
        "id": "r9nnyVwVOatD",
        "outputId": "8eec8ae5-d300-4051-bfff-5c0fd91e636d"
      },
      "outputs": [
        {
          "output_type": "stream",
          "name": "stdout",
          "text": [
            "32\n"
          ]
        }
      ],
      "source": [
        "print(output_dim)"
      ]
    },
    {
      "cell_type": "code",
      "execution_count": null,
      "metadata": {
        "id": "LebSU0cZG09V"
      },
      "outputs": [],
      "source": [
        "num_to_char = tf.keras.layers.StringLookup(vocabulary = char_to_num.get_vocabulary(), oov_token= \"\", invert = True)"
      ]
    },
    {
      "cell_type": "code",
      "execution_count": null,
      "metadata": {
        "id": "BZ8KiSutWJmg"
      },
      "outputs": [],
      "source": [
        "#Function to fetch audio files, create spectrogram and process corresponding sentences"
      ]
    },
    {
      "cell_type": "code",
      "execution_count": null,
      "metadata": {
        "id": "e1sHtI5Hbc38"
      },
      "outputs": [],
      "source": [
        "frame_length = 256\n",
        "frame_step = 160\n",
        "fft_length = 384\n",
        "\n",
        "# frame length   = no of data points in each sliding window here 256 points will be covered in each frame out of 212893 input data point\n",
        "# frame steps/hop size = no of data points to skip when sliding window so first 256 data points then skip 160 then start from data point 416 to 672, then skip another 160 and so on\n",
        "#212893/frame steps = no of row  here 212893/160 =1329\n",
        "#the size of the FFT (here 384) determines the number of frequency bins used to represent the spectrum of each frame of the signal.\n",
        "#The number of frequency bins in the resulting spectrum is equal to half the FFT size plus one. so 384/2+1 = 193\n",
        "#This means each row with contain  193 data points i.e columns"
      ]
    },
    {
      "cell_type": "code",
      "execution_count": null,
      "metadata": {
        "id": "T4g6xOzbardQ"
      },
      "outputs": [],
      "source": [
        "def encode_single_sample(audio_file, label):\n",
        "  # 1) process audio generating spectrogram\n",
        "  #A reading and decoding file and change datatype to float\n",
        "\n",
        "  file = tf.io.read_file(path+audio_file)\n",
        "  audio,samplerate = tf.audio.decode_wav(file)\n",
        "  audio = tf.squeeze(audio, axis = -1)\n",
        "  audio = tf.cast(audio, tf.float32)\n",
        "\n",
        "  #B Getting Spectrograph\n",
        "  stfts = tf.signal.stft(audio, frame_length = frame_length, frame_step = frame_step, fft_length= fft_length)\n",
        "  spectrograph = tf.abs(stfts)\n",
        "\n",
        "  #C Warp the linear scale spectrograms into the mel-scale.\n",
        "\n",
        "  num_spectrogram_bins = stfts.shape[-1]\n",
        "\n",
        "  lower_freq = 80.0\n",
        "  upper_freq = 7600.0\n",
        "  num_mel_bins = 80\n",
        "\n",
        "  linear_to_mel_weight_matrix= tf.signal.linear_to_mel_weight_matrix(num_mel_bins=num_mel_bins,\n",
        "                                                                   num_spectrogram_bins = num_spectrogram_bins,\n",
        "                                                                   sample_rate = samplerate,\n",
        "                                                                   lower_edge_hertz = lower_freq,\n",
        "                                                                   upper_edge_hertz= upper_freq)\n",
        "\n",
        "  mel_spectrogram = tf.tensordot(spectrograph, linear_to_mel_weight_matrix, 1 )\n",
        "\n",
        "  mel_spectrogram.set_shape(spectrograph.shape[:-1].concatenate(linear_to_mel_weight_matrix.shape[-1:]))\n",
        "\n",
        "  #D Compute a stabilized log to get log-magnitude mel-scale spectrograms.\n",
        "\n",
        "  lms = tf.math.log(mel_spectrogram + 1e-6)   #log_mel_spectrogram\n",
        "\n",
        "\n",
        "  # Normalization\n",
        "\n",
        "  means = tf.math.reduce_mean(lms, 1, keepdims = True)\n",
        "  stddev = tf.math.reduce_std(lms, 1, keepdims = True)\n",
        "  lmsn = (lms - means)/(stddev+ 1e-10)\n",
        "\n",
        "  #2) process sentence\n",
        "\n",
        "  label = tf.strings.lower(label)\n",
        "  label = tf.strings.unicode_split(label,input_encoding = \"UTF-8\")\n",
        "  label = char_to_num(label)\n",
        "\n",
        "  return lmsn, label\n",
        "\n",
        "\n"
      ]
    },
    {
      "cell_type": "code",
      "execution_count": null,
      "metadata": {
        "id": "nGFE4nw0Hxuv"
      },
      "outputs": [],
      "source": [
        "#Creating Dataset Object   # If any of column has null value , will give error.\n"
      ]
    },
    {
      "cell_type": "code",
      "execution_count": null,
      "metadata": {
        "id": "XroVs5oKIHb_"
      },
      "outputs": [],
      "source": [
        "batch_size = 32\n",
        "\n",
        "train_dataset = tf.data.Dataset.from_tensor_slices((list(df_train['Clips_name']), list(df_train['transcription'])))\n",
        "\n",
        "train_dataset = train_dataset.map(encode_single_sample, num_parallel_calls = tf.data.AUTOTUNE).padded_batch(batch_size).prefetch(buffer_size=tf.data.AUTOTUNE)"
      ]
    },
    {
      "cell_type": "code",
      "execution_count": null,
      "metadata": {
        "id": "Ocm6n4Lkw5qd"
      },
      "outputs": [],
      "source": [
        "val_dataset = tf.data.Dataset.from_tensor_slices((list(df_val['Clips_name']), list(df_val['transcription'])))\n",
        "val_dataset = val_dataset.map(encode_single_sample, num_parallel_calls = tf.data.AUTOTUNE).padded_batch(batch_size).prefetch(buffer_size=tf.data.AUTOTUNE)"
      ]
    },
    {
      "cell_type": "code",
      "execution_count": null,
      "metadata": {
        "colab": {
          "base_uri": "https://localhost:8080/"
        },
        "id": "o-FXN0WgF9n0",
        "outputId": "ca393eb2-6728-40ca-bf0c-567b329fdba2"
      },
      "outputs": [
        {
          "output_type": "stream",
          "name": "stdout",
          "text": [
            "(32, 1337, 80) (32, 149)\n"
          ]
        }
      ],
      "source": [
        "for batch in train_dataset:\n",
        "  a, b = batch\n",
        "  print(a.shape, b.shape)   # 32 clips, 1371 rows/timesteps, 80 freq each\n",
        "  break"
      ]
    },
    {
      "cell_type": "code",
      "execution_count": null,
      "metadata": {
        "colab": {
          "base_uri": "https://localhost:8080/"
        },
        "id": "XqAoC67qFPyN",
        "outputId": "8fa1847b-82a5-40a0-a703-bc03a97d6dd8"
      },
      "outputs": [
        {
          "output_type": "execute_result",
          "data": {
            "text/plain": [
              "TensorShape([1337, 80])"
            ]
          },
          "metadata": {},
          "execution_count": 40
        }
      ],
      "source": [
        "a[2].shape"
      ]
    },
    {
      "cell_type": "code",
      "execution_count": null,
      "metadata": {
        "colab": {
          "base_uri": "https://localhost:8080/"
        },
        "id": "F3gbMGGtHEno",
        "outputId": "91a0f4af-4755-4598-deeb-41a439902b2d"
      },
      "outputs": [
        {
          "name": "stdout",
          "output_type": "stream",
          "text": [
            "(32, 1337, 80) (32, 156)\n"
          ]
        }
      ],
      "source": [
        "for batch in val_dataset:\n",
        "  x, y = batch\n",
        "  print(x.shape, y.shape)\n",
        "  break"
      ]
    },
    {
      "cell_type": "code",
      "execution_count": null,
      "metadata": {
        "id": "HXcIUclwBm7r"
      },
      "outputs": [],
      "source": [
        "#Machine Learning Model"
      ]
    },
    {
      "cell_type": "code",
      "execution_count": null,
      "metadata": {
        "id": "9oT6e56ZBqnR"
      },
      "outputs": [],
      "source": [
        "from tensorflow.keras.models import Sequential"
      ]
    },
    {
      "cell_type": "code",
      "execution_count": null,
      "metadata": {
        "id": "_45lGH6BB5aD"
      },
      "outputs": [],
      "source": [
        "from tensorflow.keras.layers import Dense, Conv2D, BatchNormalization, ReLU, Reshape, Dropout, GRU, Reshape, Bidirectional"
      ]
    },
    {
      "cell_type": "code",
      "execution_count": null,
      "metadata": {
        "id": "PGA_KuIG9Dzj"
      },
      "outputs": [],
      "source": [
        "model = Sequential([\n",
        "    Reshape((-1, 80, 1), name=\"expand_dim\", input_shape=(None, 80)),     # see explanation below                    (batch, rows, columns/data point in each row,      channels)\n",
        "    #                                                                                                                   (-1, -1,         80,                            1) -1 means variable number\n",
        "    Conv2D(filters = 32, kernel_size = [11,41], strides = 2, padding = 'same', use_bias = False,  name = 'conv_1'), # (-1,    -1,     80/2 = 40,                        32)\n",
        "    BatchNormalization(name = 'conv_1_bn'),\n",
        "    ReLU(name= 'conv_1_relu'),\n",
        "    Conv2D(filters = 32, kernel_size = [11,41], strides = 2, padding = 'same', use_bias = False,  name = 'conv_2'),  # (-1,     -1,     40/2 = 20,                        32)\n",
        "    BatchNormalization(name = 'conv_2_bn'),\n",
        "    ReLU(name= 'conv_2_relu'),\n",
        "    Reshape((-1,20*32)), #   (-1,-1,  columns*filters )\n",
        "    #The RNN expects that the input is going to be sequential. Therefore, the input has the shape  [batch_size, time, feature_size]\n",
        "    #reshape as [b_size, num_frames, am_width * am_height * num_filters]\n",
        "    Bidirectional((GRU(units =512, activation = 'tanh',recurrent_activation='sigmoid', use_bias=True,return_sequences=True, reset_after = True , name = 'GRU_1')), name = 'bidir_1' ),\n",
        "    Dropout(rate = 0.5, name = 'drop_out_1'),\n",
        "    Bidirectional((GRU(units =512, activation = 'tanh',recurrent_activation='sigmoid', use_bias=True,return_sequences=True, reset_after = True , name = 'GRU_2')),  name = 'bidir_2' ),\n",
        "    Dropout(rate = 0.5, name = 'drop_out_2'),\n",
        "    Bidirectional((GRU(units =512, activation = 'tanh',recurrent_activation='sigmoid', use_bias=True,return_sequences=True, reset_after = True , name = 'GRU_3')),  name = 'bidir_3' ),\n",
        "    Dropout(rate = 0.5, name = 'drop_out_3'),\n",
        "    Bidirectional((GRU(units =512, activation = 'tanh',recurrent_activation='sigmoid', use_bias=True,return_sequences=True, reset_after = True , name = 'GRU_4')),  name = 'bidir_4' ),\n",
        "    Dropout(rate = 0.5, name = 'drop_out_4'),\n",
        "    Bidirectional((GRU(units =512, activation = 'tanh',recurrent_activation='sigmoid', use_bias=True,return_sequences=True, reset_after = True , name = 'GRU_5')),  name = 'bidir_5' ),\n",
        "    Dense(units= 512*2, name = 'dense1'),\n",
        "    ReLU(name= 'Dense_1_relu'),\n",
        "    Dropout(rate = 0.5, name = 'drop_out_5'),\n",
        "    Dense(units = output_dim, activation = 'softmax')\n",
        "\n",
        "\n",
        "\n",
        "])"
      ]
    },
    {
      "cell_type": "code",
      "execution_count": null,
      "metadata": {
        "colab": {
          "base_uri": "https://localhost:8080/",
          "height": 123
        },
        "id": "nr3UcSgcTEGj",
        "outputId": "9b1ce785-043b-441e-f6d2-dcb6e6696698"
      },
      "outputs": [
        {
          "data": {
            "application/vnd.google.colaboratory.intrinsic+json": {
              "type": "string"
            },
            "text/plain": [
              "'\\ninput_shape=(None, 193) is a parameter used in defining the shape of the input data for a machine learning model.\\n\\nIn this case, None indicates that the input can have a variable number of rows (the first dimension), and 193 indicates that the input data has 193 columns (the second dimension). The first dimension is often left as None to allow for variable batch sizes during training or inference.\\n\\nFor example, if we have a dataset of audio recordings, the first dimension of the input might correspond to the number of time steps in the recording, while the second dimension might correspond to the number of frequency bins in a spectrogram representation of the audio signal. In this case, input_shape=(None, 193) would be appropriate, as the length of the audio recordings can vary, but the number of frequency bins is fixed at 193.\\nIf the input shape is (None, 193), applying the Reshape layer with Reshape((-1, 193, 1)) will transform the input into a new shape of (None, 193, 1).\\n\\nHere, -1 is a special value that indicates that the size of the first dimension of the input should be inferred from the remaining dimensions and the batch size. In other words, the number of samples in the batch can vary, but the size of the other dimensions remains constant.\\n\\nThe resulting shape (None, 193, 1) represents a 3D tensor, where the first dimension is the batch size, the second dimension is the number of time steps, and the third dimension is the number of channels (which is 1 in this case). This 3D tensor is commonly used as input for 1D convolutional neural networks (CNNs) that are designed to operate on sequences of data, such as time series or audio signals.\\n\\n'"
            ]
          },
          "execution_count": 140,
          "metadata": {},
          "output_type": "execute_result"
        }
      ],
      "source": [
        "\"\"\"\n",
        "input_shape=(None, 193) is a parameter used in defining the shape of the input data for a machine learning model.\n",
        "\n",
        "In this case, None indicates that the input can have a variable number of rows (the first dimension), and 193 indicates that the input data has 193 columns (the second dimension).\n",
        "The first dimension is often left as None to allow for variable batch sizes during training or inference.\n",
        "\n",
        "For example, if we have a dataset of audio recordings, the first dimension of the input might correspond to the number of time steps in the recording,\n",
        "while the second dimension might correspond to the number of frequency bins in a spectrogram representation of the audio signal.\n",
        "In this case, input_shape=(None, 193) would be appropriate, as the length of the audio recordings can vary, but the number of frequency bins is fixed at 193.\n",
        "If the input shape is (None, 193), applying the Reshape layer with Reshape((-1, 193, 1)) will transform the input into a new shape of (None,None, 193, 1).\n",
        "\n",
        "Here, -1 is a special value that indicates that the size of the first dimension of the input should be inferred from the remaining dimensions and the batch size.\n",
        "In other words, the number of samples in the batch can vary, but the size of the other dimensions remains constant.\n",
        "\n",
        "The resulting shape (None,None 193, 1) represents a 4D tensor, where the first dimension is the batch size, the second dimension is the number of time steps (rows), and the third dimension is freq bins and 4th dim is\n",
        " the number of channels\n",
        "(which is 1 in this case). This 4D tensor is commonly used as input for 2D convolutional neural networks (CNNs) that are designed to operate on sequences of data,\n",
        " such as time series or audio signals.\n",
        "\n",
        "\"\"\""
      ]
    },
    {
      "cell_type": "code",
      "execution_count": null,
      "metadata": {
        "id": "ayQ5Ali5OERR"
      },
      "outputs": [],
      "source": [
        " #Convolution output:\n",
        "    #The number of filters (32) corresponds to the number of output channels.\n",
        "    #The kernel size of [11, 41] indicates that the convolution will be done over an 11x41 window.\n",
        "    #The stride of 2 indicates that the filter will move 2 pixels at a time.\n",
        "    #The padding of 'same' means that the input will be padded with zeros to ensure that the output has the same spatial dimensions as the input.\n",
        "    #With these parameters, the convolution operation will reduce the spatial dimensions of the input by a factor of 2 in both the vertical and horizontal directions\n",
        "    #(since the stride is 2), while increasing the number of channels to 32.\n",
        "    #output will be of shape (-1,-1,  columns/2 rounded to nearest whole,filters )"
      ]
    },
    {
      "cell_type": "markdown",
      "metadata": {
        "id": "av0odU7bo-Gn"
      },
      "source": []
    },
    {
      "cell_type": "code",
      "execution_count": null,
      "metadata": {
        "colab": {
          "base_uri": "https://localhost:8080/",
          "height": 123
        },
        "id": "f1eFrMmaofoz",
        "outputId": "6486cd98-75fa-4d76-8546-7c8e254e246c"
      },
      "outputs": [
        {
          "data": {
            "application/vnd.google.colaboratory.intrinsic+json": {
              "type": "string"
            },
            "text/plain": [
              "'\\nexplanation for reshape\\nThe Reshape layer is used to reshape the input tensor into a new shape. In this case, the layer will reshape the input tensor to have the following dimensions:\\n\\nThe first dimension will be set to -1, which means that it will be dynamically computed based on the size of the input tensor and the other dimensions specified in the reshape.\\nThe second dimension will be set to 1, indicating that each element in the input tensor will be reshaped into a 1-dimensional vector.\\nThe third dimension will be set to input_dim, which is the size of the input data dimension.\\nThe fourth dimension will be set to 1, indicating that each element in the reshaped tensor will have a single channel.\\nOverall, this layer will transform the input tensor into a 4-dimensional tensor with a variable number of rows, a single column, input_dim channels, and a single batch dimension. This can be useful, for example, when preparing image data for input to a convolutional neural network.*/\\n'"
            ]
          },
          "execution_count": 44,
          "metadata": {},
          "output_type": "execute_result"
        }
      ],
      "source": [
        "\"\"\"\n",
        "explanation for first reshape\n",
        "The Reshape layer is used to reshape the input tensor into a new shape. In this case, the layer will reshape the input tensor to have the following dimensions:\n",
        "\n",
        "The first dimension will be set to -1, which means that it will be dynamically computed based on the size of the input tensor and the other dimensions specified in the reshape.\n",
        "The second dimension will be set to 1, indicating that each element in the input tensor will be reshaped into a 1-dimensional vector.\n",
        "The third dimension will be set to input_dim, which is the size of the input data dimension.\n",
        "The fourth dimension will be set to 1, indicating that each element in the reshaped tensor will have a single channel.\n",
        "Overall, this layer will transform the input tensor into a 4-dimensional tensor with a variable number of rows, a single column, input_dim channels, and a single batch dimension. This can be useful, for example, when preparing image data for input to a convolutional neural network.*/\n",
        "\"\"\"\n"
      ]
    },
    {
      "cell_type": "code",
      "execution_count": null,
      "metadata": {
        "id": "fEmgaOy0oiIZ"
      },
      "outputs": [],
      "source": [
        "opt = tf.keras.optimizers.Adam(learning_rate = 1e-4)"
      ]
    },
    {
      "cell_type": "code",
      "execution_count": null,
      "metadata": {
        "id": "OOt5npOIzRA-"
      },
      "outputs": [],
      "source": [
        "#Defining CTC Loss Function\n",
        "def CTCLoss(y_true, y_pred):\n",
        "  batch_length = tf.cast(tf.shape(y_true)[0], dtype= 'int64')\n",
        "  input_length = tf.cast(tf.shape(y_pred)[1], dtype= 'int64' )\n",
        "  input_length = input_length*tf.ones(shape = (batch_length,1),dtype= 'int64' )\n",
        "\n",
        "  label_length = tf.cast(tf.shape(y_true)[1], dtype= 'int64' )\n",
        "  label_length = label_length*tf.ones(shape = (batch_length,1),dtype= 'int64' )\n",
        "\n",
        "\n",
        "\n",
        "\n",
        "  loss = tf.keras.backend.ctc_batch_cost(y_true,y_pred, input_length, label_length)  #https://keras.io/ko/backend/  for ctc_batch_cost\n",
        "  return loss\n"
      ]
    },
    {
      "cell_type": "code",
      "execution_count": null,
      "metadata": {
        "id": "xCS1lyaay8cO"
      },
      "outputs": [],
      "source": [
        "model.compile(optimizer = opt, loss = CTCLoss)"
      ]
    },
    {
      "cell_type": "code",
      "execution_count": null,
      "metadata": {
        "colab": {
          "base_uri": "https://localhost:8080/"
        },
        "id": "7k97vg3W6suS",
        "outputId": "e0babb5b-f7c2-4f35-e146-174e86670cdf"
      },
      "outputs": [
        {
          "output_type": "stream",
          "name": "stdout",
          "text": [
            "Model: \"sequential\"\n",
            "_________________________________________________________________\n",
            " Layer (type)                Output Shape              Param #   \n",
            "=================================================================\n",
            " expand_dim (Reshape)        (None, None, 80, 1)       0         \n",
            "                                                                 \n",
            " conv_1 (Conv2D)             (None, None, 40, 32)      14432     \n",
            "                                                                 \n",
            " conv_1_bn (BatchNormalizati  (None, None, 40, 32)     128       \n",
            " on)                                                             \n",
            "                                                                 \n",
            " conv_1_relu (ReLU)          (None, None, 40, 32)      0         \n",
            "                                                                 \n",
            " conv_2 (Conv2D)             (None, None, 20, 32)      461824    \n",
            "                                                                 \n",
            " conv_2_bn (BatchNormalizati  (None, None, 20, 32)     128       \n",
            " on)                                                             \n",
            "                                                                 \n",
            " conv_2_relu (ReLU)          (None, None, 20, 32)      0         \n",
            "                                                                 \n",
            " reshape (Reshape)           (None, None, 640)         0         \n",
            "                                                                 \n",
            " bidir_1 (Bidirectional)     (None, None, 1024)        3545088   \n",
            "                                                                 \n",
            " drop_out_1 (Dropout)        (None, None, 1024)        0         \n",
            "                                                                 \n",
            " bidir_2 (Bidirectional)     (None, None, 1024)        4724736   \n",
            "                                                                 \n",
            " drop_out_2 (Dropout)        (None, None, 1024)        0         \n",
            "                                                                 \n",
            " bidir_3 (Bidirectional)     (None, None, 1024)        4724736   \n",
            "                                                                 \n",
            " drop_out_3 (Dropout)        (None, None, 1024)        0         \n",
            "                                                                 \n",
            " bidir_4 (Bidirectional)     (None, None, 1024)        4724736   \n",
            "                                                                 \n",
            " drop_out_4 (Dropout)        (None, None, 1024)        0         \n",
            "                                                                 \n",
            " bidir_5 (Bidirectional)     (None, None, 1024)        4724736   \n",
            "                                                                 \n",
            " dense1 (Dense)              (None, None, 1024)        1049600   \n",
            "                                                                 \n",
            " Dense_1_relu (ReLU)         (None, None, 1024)        0         \n",
            "                                                                 \n",
            " drop_out_5 (Dropout)        (None, None, 1024)        0         \n",
            "                                                                 \n",
            " dense (Dense)               (None, None, 32)          32800     \n",
            "                                                                 \n",
            "=================================================================\n",
            "Total params: 24,002,944\n",
            "Trainable params: 24,002,816\n",
            "Non-trainable params: 128\n",
            "_________________________________________________________________\n"
          ]
        }
      ],
      "source": [
        "model.summary()"
      ]
    },
    {
      "cell_type": "code",
      "execution_count": null,
      "metadata": {
        "colab": {
          "base_uri": "https://localhost:8080/"
        },
        "id": "Nif_8qmC7gVO",
        "outputId": "90cf6f84-8b15-4cde-af10-1af9bc181fc6"
      },
      "outputs": [
        {
          "output_type": "stream",
          "name": "stdout",
          "text": [
            "Epoch 1/30\n",
            "368/368 [==============================] - 979s 3s/step - loss: inf - val_loss: 330.1548\n",
            "Epoch 2/30\n",
            "368/368 [==============================] - 164s 444ms/step - loss: inf - val_loss: 304.8201\n",
            "Epoch 3/30\n",
            "368/368 [==============================] - 163s 443ms/step - loss: inf - val_loss: 299.1194\n",
            "Epoch 4/30\n",
            "368/368 [==============================] - 164s 444ms/step - loss: inf - val_loss: 287.0999\n",
            "Epoch 5/30\n",
            "368/368 [==============================] - 163s 443ms/step - loss: inf - val_loss: 227.0117\n",
            "Epoch 6/30\n",
            "368/368 [==============================] - 165s 447ms/step - loss: inf - val_loss: 205.3157\n",
            "Epoch 7/30\n",
            "368/368 [==============================] - 164s 444ms/step - loss: inf - val_loss: 179.1416\n",
            "Epoch 8/30\n",
            "368/368 [==============================] - 164s 444ms/step - loss: inf - val_loss: 166.1801\n",
            "Epoch 9/30\n",
            "368/368 [==============================] - 163s 443ms/step - loss: inf - val_loss: 161.7987\n",
            "Epoch 10/30\n",
            "368/368 [==============================] - 164s 444ms/step - loss: inf - val_loss: 160.7294\n",
            "Epoch 11/30\n",
            "368/368 [==============================] - 164s 445ms/step - loss: inf - val_loss: 144.3829\n",
            "Epoch 12/30\n",
            "368/368 [==============================] - 164s 444ms/step - loss: inf - val_loss: 181.7858\n",
            "Epoch 13/30\n",
            "368/368 [==============================] - 164s 445ms/step - loss: inf - val_loss: 142.9276\n",
            "Epoch 14/30\n",
            "368/368 [==============================] - 164s 444ms/step - loss: inf - val_loss: 129.1984\n",
            "Epoch 15/30\n",
            "368/368 [==============================] - 164s 444ms/step - loss: inf - val_loss: 140.6109\n",
            "Epoch 16/30\n",
            "368/368 [==============================] - 164s 444ms/step - loss: inf - val_loss: 131.2969\n",
            "Epoch 17/30\n",
            "368/368 [==============================] - 164s 444ms/step - loss: inf - val_loss: 134.7171\n",
            "Epoch 18/30\n",
            "368/368 [==============================] - 164s 444ms/step - loss: inf - val_loss: 171.2136\n",
            "Epoch 19/30\n",
            "368/368 [==============================] - 164s 444ms/step - loss: inf - val_loss: 120.2954\n",
            "Epoch 20/30\n",
            "368/368 [==============================] - 164s 445ms/step - loss: inf - val_loss: 119.7027\n",
            "Epoch 21/30\n",
            "368/368 [==============================] - 164s 444ms/step - loss: inf - val_loss: 124.6157\n",
            "Epoch 22/30\n",
            "368/368 [==============================] - 164s 445ms/step - loss: inf - val_loss: 127.7516\n",
            "Epoch 23/30\n",
            "368/368 [==============================] - 164s 444ms/step - loss: inf - val_loss: 118.3172\n",
            "Epoch 24/30\n",
            "368/368 [==============================] - 163s 443ms/step - loss: inf - val_loss: 131.1155\n",
            "Epoch 25/30\n",
            "368/368 [==============================] - 164s 444ms/step - loss: inf - val_loss: 134.2756\n",
            "Epoch 26/30\n",
            "368/368 [==============================] - 163s 442ms/step - loss: inf - val_loss: 116.8442\n",
            "Epoch 27/30\n",
            "368/368 [==============================] - 163s 443ms/step - loss: inf - val_loss: 120.9208\n",
            "Epoch 28/30\n",
            "368/368 [==============================] - 163s 442ms/step - loss: inf - val_loss: 109.3730\n",
            "Epoch 29/30\n",
            "368/368 [==============================] - 163s 442ms/step - loss: inf - val_loss: 112.8599\n",
            "Epoch 30/30\n",
            "368/368 [==============================] - 163s 443ms/step - loss: inf - val_loss: 110.7877\n"
          ]
        }
      ],
      "source": [
        "hitory = model.fit(train_dataset, validation_data = val_dataset ,epochs = 30)"
      ]
    },
    {
      "cell_type": "code",
      "execution_count": null,
      "metadata": {
        "id": "uDns8IDxOqtz"
      },
      "outputs": [],
      "source": [
        "#Defining Prediction decoding function\n",
        "\n",
        "def decode_batch_prediction(pred):\n",
        "  input_length = np.ones(pred.shape[0])*pred.shape[1]\n",
        "  results = tf.keras.backend.ctc_decode(pred, input_length = input_length, greedy = True)[0][0]                     # https://keras.io/ko/backend/ (for CTC_decode)\n",
        "  output_text = []\n",
        "  for result in results:\n",
        "    result = tf.strings.reduce_join(num_to_char(result)).numpy().decode(\"utf-8\")\n",
        "    output_text.append(result)\n",
        "  return output_text\n",
        "\n"
      ]
    },
    {
      "cell_type": "code",
      "execution_count": null,
      "metadata": {
        "colab": {
          "base_uri": "https://localhost:8080/"
        },
        "id": "AbwTcpvMR_Zf",
        "outputId": "c3a4b297-016e-4192-a38a-a2dc9863c59d"
      },
      "outputs": [
        {
          "output_type": "stream",
          "name": "stdout",
          "text": [
            "1/1 [==============================] - 3s 3s/step\n",
            "1/1 [==============================] - 3s 3s/step\n",
            "1/1 [==============================] - 0s 145ms/step\n",
            "1/1 [==============================] - 0s 119ms/step\n",
            "1/1 [==============================] - 0s 123ms/step\n",
            "1/1 [==============================] - 0s 151ms/step\n",
            "1/1 [==============================] - 0s 121ms/step\n",
            "1/1 [==============================] - 0s 137ms/step\n",
            "1/1 [==============================] - 0s 119ms/step\n",
            "1/1 [==============================] - 0s 144ms/step\n",
            "1/1 [==============================] - 0s 124ms/step\n",
            "1/1 [==============================] - 0s 117ms/step\n",
            "1/1 [==============================] - 0s 121ms/step\n",
            "1/1 [==============================] - 0s 117ms/step\n",
            "1/1 [==============================] - 0s 125ms/step\n",
            "1/1 [==============================] - 0s 149ms/step\n",
            "1/1 [==============================] - 0s 119ms/step\n",
            "1/1 [==============================] - 0s 144ms/step\n",
            "1/1 [==============================] - 0s 106ms/step\n",
            "1/1 [==============================] - 0s 129ms/step\n",
            "1/1 [==============================] - 0s 163ms/step\n",
            "1/1 [==============================] - 0s 124ms/step\n",
            "1/1 [==============================] - 0s 117ms/step\n",
            "1/1 [==============================] - 0s 117ms/step\n",
            "1/1 [==============================] - 0s 113ms/step\n",
            "1/1 [==============================] - 0s 115ms/step\n",
            "1/1 [==============================] - 0s 120ms/step\n",
            "1/1 [==============================] - 0s 118ms/step\n",
            "1/1 [==============================] - 0s 120ms/step\n",
            "1/1 [==============================] - 0s 110ms/step\n",
            "1/1 [==============================] - 0s 118ms/step\n",
            "1/1 [==============================] - 0s 112ms/step\n",
            "1/1 [==============================] - 0s 110ms/step\n",
            "1/1 [==============================] - 0s 139ms/step\n",
            "1/1 [==============================] - 0s 112ms/step\n",
            "1/1 [==============================] - 0s 119ms/step\n",
            "1/1 [==============================] - 0s 111ms/step\n",
            "1/1 [==============================] - 0s 123ms/step\n",
            "1/1 [==============================] - 0s 116ms/step\n",
            "1/1 [==============================] - 0s 120ms/step\n",
            "1/1 [==============================] - 3s 3s/step\n",
            "WER: 0.4590\n",
            "Target :no less than four hundred and fiftyone sentences of death for capital crimes were passed at the old bailey\n",
            "Predictions :no less than four hundred and fifty one sentences of death for capital crimes were passed at the laly\n",
            "Target :the want of sleeping cells long continued a crying need\n",
            "Predictions :the want of sleepingcels on n enin\n",
            "Target :catherine wilson was a female poisoner who did business wholesale\n",
            "Predictions :catter in wilson was a feemale poisoner o did disasaslal\n",
            "Target :he gave me a dollar bill the trip was ninetyfive cents\n",
            "Predictions :he gave my addollarbile thr tr e en ese\n",
            "Target :was a metallic frame with four handholds that riders in the car could grip while standing in the rear seat during parades\n",
            "Predictions :was am mattalic fraimng with four hand holds that riters in the car cold grip while standing in the rear see grig r ras\n",
            "Target :economic system and plans for war end quote\n",
            "Predictions :ic canomic system and plere erd endquot\n",
            "Target :through a dishonored cheque for three thousand pounds paid over as an installment of eighteen thousand pounds owing for an advance on warrants\n",
            "Predictions :tro a disoner chect fr three thousand pounds paide over as in instalment of eighteen thousand pounds ongn fr and an on ronsns\n",
            "Target :the population as reported by the committee in eighteen fourteen averaged about sixty\n",
            "Predictions :the population as reported by the committe in eighteen fortene barreit it tis siste\n",
            "Target :the soil and the atmosphere supply plants with water composed of hydrogen and oxygen\n",
            "Predictions :the soil and the atmissper supply plats with water composed of he ad and an ancion\n",
            "Target :the top of the wall was gained without difficulty\n",
            "Predictions :the top of the wall was gaied withoutifficlty\n"
          ]
        }
      ],
      "source": [
        "#Inferencing\n",
        "\n",
        "predictions = []\n",
        "targets = []\n",
        "\n",
        "for batch in val_dataset:\n",
        "  x,y = batch\n",
        "  batch_predictions = model.predict(x)\n",
        "  batch_predictions = decode_batch_prediction(batch_predictions)\n",
        "  predictions.extend(batch_predictions)\n",
        "\n",
        "  for label in y:\n",
        "    label = tf.strings.reduce_join(num_to_char(label)).numpy().decode(\"utf-8\")\n",
        "    targets.append(label)\n",
        "\n",
        "wer_score = wer(targets, predictions)\n",
        "print(f\"WER: {wer_score:.4f}\")\n",
        "\n",
        "for i in np.random.randint(0,len(predictions),10):\n",
        "  print(f\"Target :{targets[i]}\")\n",
        "  print(f\"Predictions :{predictions[i]}\")\n",
        "\n",
        "\n",
        "\n",
        "\n"
      ]
    },
    {
      "cell_type": "code",
      "execution_count": null,
      "metadata": {
        "colab": {
          "base_uri": "https://localhost:8080/"
        },
        "id": "xJVwns7OIWbD",
        "outputId": "6a1c1b34-5cb5-44c9-e794-11115f680c05"
      },
      "outputs": [
        {
          "output_type": "execute_result",
          "data": {
            "text/plain": [
              "['sothat it might become the exclusive propeity of her husbend whe here e he',\n",
              " 'the foods containing only the elements carbon higdrgen and ucind at car or ar rareses',\n",
              " 'which should be indications of a delicascy of material and manufacture which wold oft nescessity incrreses ss',\n",
              " 'with convicts of all ages and caractors to renteraed nex to impossible but that with the abblitteration of alsencs of selerat',\n",
              " 'mrmulay called tagain taking with him five hundred poundsind cash howd speper a as ans mas aes mesessss',\n",
              " 'since he semed to fel at no onealsunderstood his politicalfiews the letter was a gread valuwed to him fort ques',\n",
              " 'the newgate officers oftained information of this and went to the spot where they effected the cacur',\n",
              " 'at healefacxs faraster lernt that the man he wanted had gon on to boston tent o to pal and an and nd ot pot',\n",
              " \"tornly allsoblieved that oswald's marxes belev slead to a extratinary view of history under which quote he looked poniesof of ere\",\n",
              " 'representing himself as the head of the new orleans branch of the quote oganization calle fair ply for cue end quote',\n",
              " 'two those who say that our expenditures for publicworks ad other means for recovery wr hat he had hed en and orrr',\n",
              " 'but only to be taken soon afterwards for a fressh offentse and again pass throug newgate with tetten e sollellereterte',\n",
              " 'which has been sef for the bove only served to prolong the period during which he was decentur of the attention oft the irl',\n",
              " 'one of theum wented to his sel justed dinertime',\n",
              " 'the mstarious semy fluidnet work of protoplasm which is so far as in o thesissl l l lif fef',\n",
              " 'they had introduced much wer and linnines',\n",
              " 'approximately tenminutes after the arrival at love fieeld the president and mrs kenedy went to the presidential auttmobile to the e te arad',\n",
              " 'oswald replied quote i don goin thing about hat end quot',\n",
              " 'bhe ware of entering the crowd remember thirty pour persons were pressed to death by the crowd when hagraty in collry rx cectun',\n",
              " 'as the century advenced rie fo rirdindreses',\n",
              " 'special agent lawson made certain that the dallas police kept the public and pressd away from the med are tof thssil',\n",
              " 'and must be strongly depricated onmoral grounds as tending to the utter decgredation of one ne dividal',\n",
              " 'some years were still to alaps before capital punishment seast to be the pelty for forgery and inerevele',\n",
              " 'the friench reffy ge was amurderer of the same description who despached his vict of with aloded kain at tir tis stis ses sssess',\n",
              " 'joust prir to the shooting mirs helan markam a waitres in downtown dallas was tot tot tottertententart taan',\n",
              " 'as for my return entrance vesa plese considret sepelt e qudtet',\n",
              " 'accat say whether he had gon oncstrugh that dor the lunchrol dor nontot',\n",
              " 'cief rounly testified that agents onduty in such assituation usually stay with in the bilding during theire',\n",
              " \"and her first remembrance is that it was held in oswald's right hand quote and it almost tusch dhgound he acered end quotute\",\n",
              " 'oswald demonstrated is tinking in connection with his return to the united states by preparing two sets of identical questions of the tie which he migh fa',\n",
              " 'even though oswald indicated that he lighed thotographic work his employr found that he was not in ffitin cor',\n",
              " 'o mardok greate god looke joifully upon the pressios work of ha had a be a a artrtr',\n",
              " 'is extens havbusiness had been carried on biy fral',\n",
              " 'to weare o bleck cret mask to abaye puntily thr er or thr cer rer end i',\n",
              " 'valuable space was combered with many long in winting passeges numerus staircases and unnecessarly thick cndcorren an al',\n",
              " 'for the fradulent disposal of securities lodged in their hands this frm was one of the oldes agng is selalsis hin hin timmm',\n",
              " 'his wold mage him approximately ten whele almost al lav in nerl end quote',\n",
              " 'he saw a man walking souh on lemar from coces',\n",
              " 'nabal callasar the father by be geter wl lel bal bar ber br bal bal ban bn',\n",
              " 'withe entrancsty was at least thirteen chillings sixpente a head with halff r crown a week mor for bed and din',\n",
              " 'upon the twentynight july the same year',\n",
              " 'this increased when the officer accompaed by two others a naihbor and abalet and tor toe the the tesale',\n",
              " 'sometimes in the strand or the ased',\n",
              " 'after a wellcome from the dallas recetion commite',\n",
              " 'she has subsequently admitted the existance of the conversation and offered in explanioion for in di',\n",
              " 'the corporation evident they had boorsive it and beganto fel thae necesity for undertaking great ork of rm',\n",
              " 'sometimes the war was declared medicaly unfit or he obtaied relie by lon nd quo',\n",
              " 'sometime during this iriod and under circumstanses to be disussmrl',\n",
              " \"report of the president's commission on the assassination of president kennedy the mareng commission report \",\n",
              " 'because he was balling out the policemen tellnember was at right to could him in lingewit these teen agters s allth',\n",
              " 'i propose mowu to continued the subject and to devone a couple of chapters to criminal accurrencees of armoriase ad',\n",
              " 'andwriting experts ellowin calle of the treasury department and games teen in in hf hiebi',\n",
              " 'each of these efforts apperse oud',\n",
              " 'brader and more sletif fritra',\n",
              " 'that it was an extrardinary power to exrcise and throuh immr justiced wathing n an lit tan ae mmnmnnn',\n",
              " 'these informal and part time arrangements led to more systimatic protection in nineteen o two after the assassination of rsten cilill',\n",
              " 'tonight i continued that report tho because of the shortness of time my must defer nm mor os sos t to tal latat',\n",
              " 'the poculation generally amounted two from five hundred to seven hundred the accommodation be incaclted to t tded',\n",
              " 'for the many messages wh ch have come to ma after that speach and which it is is is al lismissisinded ded ded',\n",
              " 'whether the metthods and policies adopted in the imergency',\n",
              " 'polntomade most profit out of the reched denisancs of the jail was the marshls only car he got arrent for the coff heas and the bacs',\n",
              " 'the fleet which fe ded in in en ten se',\n",
              " 'another two hundred mor lesst to cadvantag jup the rules and lived outside with in a circumfrence of jlald ad hh',\n",
              " 'securas it seemed in the effections of her loyal people tre e penpinlil',\n",
              " 'his crime under this aspectd of it was lesst preemetitated and less a trosies theirefore than tht of the fr',\n",
              " 'there is no special excritory organ and except in the case of certin reproductive bis he r aslollloocoon',\n",
              " 'this son john william bean was fully identified by dast and pesprele e e e rercenlll',\n",
              " 'when requested to providus psific statement of the standards employed by prs indeciding what information to se and rain',\n",
              " 'thelist great case of frad upon the bank of ingland will fitly close nes branch of the criminl ereteret o engate',\n",
              " 'which offer peculiur chases of profit to an ingeenious and ucurlama',\n",
              " 'and daging from the wall and inscribed scquar brick maryn the name of neborcadnezar he took it to ron wherema seslel lee',\n",
              " 'the aministration of good government was to be watshd over by the local magistrascy certain of wrom mistile idinseseses',\n",
              " 'is somebady did that tome alosy triclike that to take my wife waway and all the frntere wht hae ma  e t',\n",
              " 'as the motorcade approchdel sre',\n",
              " 'and the costlyiness of inlarging it for bade allida of entirely reconstructing the jail so as to constate moprpon',\n",
              " 'heare and there foe was not e sueting kin but a monalounds which the prisoner might extent o seff',\n",
              " 'and which he eninful filld many of the exacting requairments of modernate',\n",
              " 'the case file served mearly as a repossitory for information untill enough had accumulated to in an in insistition',\n",
              " 'in both plants and animals simple wast substances result trom the cattibolla proes in the sell',\n",
              " 'in the ons to the palace of the kains arround ind by a ll of reats rin siese',\n",
              " 'plitical acties',\n",
              " 'n wo have been involved in boming or bo making or who passed condout indicates tendence torde  nd dd',\n",
              " 'therefore branted well designed type dew spacing of the lines and warnds and properposition of the pag on the pa',\n",
              " 'these geblmen wrepointed in actober eighteen thirtyfive owing to the strong representations of the lorsmi',\n",
              " 'who responded to the unplaned event with dspac',\n",
              " 'on this renewevisit mr own was still apent and mr mlay ad gree to bright him a not from a cop e hord  him',\n",
              " 'in his administration of disiplainy was quite ountern',\n",
              " 'bitoria aoms who workd on the forthflor of the depository uilding',\n",
              " 'or an amaginary boundryline and nothing prevented parties frompaing g the sis',\n",
              " 'simple as this proposistioness it tisses tes tes teteded',\n",
              " 'which was the first legislative attempt to compelalasfication of prisoners or their separation in toass',\n",
              " 'and those who watched is house were further incorraged in their mistak the the aer ar ay ar caas',\n",
              " 'visitors were still permitted di come was supplies on given days of the week about the onmy limitation being that the foo should be cut nd o',\n",
              " 'he houlined his plands and a note book and studed them a considerable linet foros as ta',\n",
              " 'agents are instructed that it is not their responsibility to investigate or avaluay a presdadger',\n",
              " 'agent lawsons interm report was received by agent kellerman on november twenty the bae bor er er th tr t trtr',\n",
              " 'another letter directed oxfort to atten an extrrdinary meeting ove dung inlnd',\n",
              " 'the purpose of this experiment was not to test the rifle under conditions which prevailed at the time of the assassination',\n",
              " 'at about this time he hr hs shot',\n",
              " 'special agent in chargche sorls testified that the advancepreparations followed on this ocasion work quote prity much the same end quote',\n",
              " 'their type is on the lins of the jerman and french rather than of the romen priners',\n",
              " 'the atter was actually made of black soing thread firmily and closely interwoiven hut ht recat r tot the thrs',\n",
              " 'and to cer r the abuses and the iniqualities which had throg astst om mo o ti',\n",
              " 'gres is lodged in newgate tried at the ol balin and artor l fif',\n",
              " 'that the keper protested that no a single prisoner culd thusmonupoli space if the state side was prd',\n",
              " 'sid quote',\n",
              " 'we inforcedthebelie that the rifle in the photograph is the rifle which oswald balt frm lines',\n",
              " 'and the trail of evidence he left be hind him on that occasin',\n",
              " 'mr fassomwated and waited for his sabordinat to reeappear and at lal tes sers ser fir hih',\n",
              " 'are esk stovl and g f rose obtained a searchwarnt and imins s as as as hn hi han cr arrr',\n",
              " 'he was poachmen to aggentlemen at ro hamptaon one day he wented to a pon grokers a once worfh and bout appar f pris on prt',\n",
              " 'to which atobal of upoards of one hundred thousand prisoners had been committed in the year only twentythreet prisons were divided acring toll',\n",
              " 'was distured about disrobing infront of then taking sours with them it settern end qet',\n",
              " 'then as they warned him that he would be kept a prisoner intotal darknes in this harrible den untilly ad gree to the rid memn',\n",
              " 'unditered by the well marited punishment which ad overtake in france',\n",
              " 'dagodo on oswald palmore obout cubo than russia and sometimes amagen mselves as leaders in the cumn arm mor mormnt',\n",
              " 'by these means readpathmis appropriate advast soms during a periy et eten f fer en anerar',\n",
              " 'accordingly it was important to determine the lunchen citest quickly as possible so that security could be established at the sight and the motorcade rot sle',\n",
              " 'er found in the buplers pantry bisb bi siriy',\n",
              " 'who was the ringlader and who had long been and a bitual criminal a reputed murder and certainly and inmade more than monce of for nn',\n",
              " 'drove to the northwest corner of elm and huston and part approximately tentfeet from the traffics inl',\n",
              " 'no night clobser bolingalis no places o brecgriation except the trad nionin daes  an n n',\n",
              " 'the cases of poisoning in the pircish callonders are rair nor indeed was the guilt of the accuse wal lsllallassas',\n",
              " 'het maide this twoo the excuse for baging the most important isue of the holo sustion',\n",
              " 'a sight was purchased between readlin and white crost strets and the anasals land',\n",
              " 'and yeit it is imture to take the sorvive atditud which sis quoe pporon o pur sers ed end quote',\n",
              " 'and he had toldus during one of the interviews that he would probably take his wife back to soviet rush al sometime in the fuge',\n",
              " 'expert on head reading adentification from the treasury department and the i',\n",
              " 'hav in carefully spread out of blaket on the floord just pelow that hamict as lylys sesded',\n",
              " 'with two collapsible jumet seats between the frnt anyreyese',\n",
              " 'the kinedliness of the city afarities to fauntoroy was notlimited to the assignment of a sepre pled ernen',\n",
              " 'the amount of brewrs avestractions who was eventually equited was ere e es ses sestatde',\n",
              " 'these wards were always full to over floing sometimes duble the number of the rooms could accommted we gered d te them',\n",
              " 'he declared that this bulet was fired from the same weappon that fired the testpblents to the secenn ol allarn',\n",
              " 'which was eventually to replaced the attempted arrangement of prisoners by classes according to ant teced ns and crime',\n",
              " 'he gavevevidence of seilyg don',\n",
              " 'a third with the captin of the folkestdon and bllong qot',\n",
              " 'his bequest which was charged upon his manner ad goring oxon and hend cld i ecrry',\n",
              " 'two witnesses testified that oswald rs themble the man ty i se',\n",
              " 'in consequence of having receivfed some information of an imporn nater fommon r',\n",
              " 'in de pendently examined the four cartrage cases and arrived at the same concusion as cnmim',\n",
              " 'so many people come to washingtin who no thing the ter on so',\n",
              " 'and catching site of the coffns ranged rown the gallos he smiled hat the show with contemptus inferen',\n",
              " 'the prisoner replied that he had left it in the matres of which he had djust been dprie',\n",
              " 'but to which additions of sometaims made chiefly of stimul ansiftemd necessary i the mettal offer toe teal',\n",
              " 'bringwor who seemed to be familiar with many enty castro activities in new orleans wan on o a a an insestet',\n",
              " 'it is unlikely that the motivation was that smpl',\n",
              " 'the company received from empir hallesale sporting goods limited montrial a shippment of ninetenine duns n concese',\n",
              " 'required fourter etention',\n",
              " 'the hirn with which greenaers crime struck the town was unparoleled ince the time whand catterin has clo rsdd',\n",
              " 'the caurge in adition to the proper use of itsdut dicial fonctions has improperly seftit sufp h hr he tho the he shs',\n",
              " 'the testimony of the officers present indicates that he handled himself with considerable composure uing i hissistin',\n",
              " 'a costed oswald on the way home from school and puched im in the malth mag ag is es lellillin in i tut',\n",
              " 'the rease so the temple of bell sossersasas',\n",
              " \"wuld includ the president's hed\",\n",
              " 'on toberetentyive',\n",
              " 'that i wil uppoin justices who ol not under take to ote arride the jugement of the congris on liilyyp',\n",
              " 'we gun at no their hight for the statements of the incent righters is gegre',\n",
              " 'meantwhile the convener or sherifh was in diespair expecting that failing the executionr he he he te e he he s',\n",
              " 'while the funds of several dequests and charities were applied in adding to the minterial confort of the pisons',\n",
              " 'or animal matter in the form of various or ganic compons of which the most important areprotede to olmmmemenmener',\n",
              " 'it is sarrounded in the firstplayce by abrougd and de mokte tul of ware er mit it es as was lal',\n",
              " 'heralely did not know were pasdin his jal',\n",
              " 'the culprit was chained down to the floor by running a chame through his irons which gevented him from climing to the windo of thisell',\n",
              " 'sentence of death had been recorded against dono in who like wats had semingly ben oerocmontess sensesr',\n",
              " 'i he jined her at hobar town with hy sad op a general sho and so baan oprpr',\n",
              " 'ie should be noted however that tat the time oswald fired the shots at the presidential limousin the governor ocinpied the seet in front of the president',\n",
              " 'elsware the spirtd had been more are less active although not uniforly or l he the the sesestet',\n",
              " 'tided with a straing ling on the floor of the pains trs',\n",
              " 'they revery numerous very imperfect in construction and management and they were very lillrl cried',\n",
              " 'were developed by cemeical presce',\n",
              " 'ic canomic system and plere erd endquot',\n",
              " 'to relate principly to overt threats to harm the president or other speciffict maifistations of postity',\n",
              " 'love feel and the trartart',\n",
              " 'aletter which a forded and additional clu was also found in the poctet of the deceast still it was many wase for or man massasdd',\n",
              " 'after cerching their records from ten pm to form',\n",
              " 'to insure adequate and effective las ongarenene',\n",
              " 'and the few and ecceptional cases of non parasitic anials wih o dot tet tht all',\n",
              " 'some persons were kept for more than five ours standing against the barriers and mannin nerly fated for rom osostion',\n",
              " 'in eighten fifty seve',\n",
              " 'the general similarity of the three series imple',\n",
              " 'and w have every reason to be leve that it sould be infuls winge bo hatm',\n",
              " 'the two dallas newspapers provided their readers with a stady streem of information and speculation abothr',\n",
              " 'wha marina oswald tried to obtain promission to return to the soviet union she testified the h geit hot hrt hs is en nsissi',\n",
              " \"emplied that oswald's fellow employes did not like him whec s wha was obinding ingi\",\n",
              " 'do promoteination wide aceptance of his idministration washingt in made gran toers that serve also to exiet nenten en the pree',\n",
              " 'breninstated that he was sure that the person firing the rifle was osl',\n",
              " 'and expressed opposition to the mitsterrecginme and simet at the for castro and attitue which don of in sad waut quote',\n",
              " \"several tears o balcane's surouning the central court were the lunchion would be held and several cack as coin o er rer tel\",\n",
              " 'ahn itlect of prisodner formang thosed ays was not to be visited up on the lugislatur',\n",
              " 'was am mattalic fraimng with four hand holds that riters in the car cold grip while standing in the rear see grig r ras',\n",
              " 'the sherifs shuder there inquisitive friends pcrine fourt the fe er or on on tin tie carcarciani',\n",
              " 'these wards were allfited with baracpids but ing in an was seslid',\n",
              " 'nor with these to abortive effort al ar pat',\n",
              " 'and klind up the pit of a sistern in the corner of the pressyard some though with the ide of ringisi',\n",
              " 'they reprent and palmprint evidence es stablishes that oswald handled two of the fheor cartennen it the the nond',\n",
              " 'the third bell remained longest at large he two was runnin to at ling in hi hieginld dord',\n",
              " 'frazir estmade in that the bag was two feet long quote give take afines and un   pr isissin d ',\n",
              " 'hi prices were asked and payd for front seeats or good standing room as much as five pons of e tef thf thettyr',\n",
              " 'and dirrection of the activities of allexisting agencies of goverment which ere in a position two and do frn istimformation',\n",
              " 'instedevending in the shar and clear strucke ofcenenslsers',\n",
              " 'the ispectors in the following year on examining the facts found that some of these port creatures had been in confineet fr long prareds',\n",
              " 'if he wanted m to gel than that ment that he did nut lovenmey and that in that case what was the ideat of comming to the unitedstate in the fist plas',\n",
              " 'on the evening of november twentytwo',\n",
              " 'from the street this creates the impression that the prson sdining',\n",
              " 'the prlimentry agents of the members whose election was impened were implicated in eighing an abetting the others to ebscon and mammmay',\n",
              " 'i and my wife strongly protested these tactics by the notorious fby end quote',\n",
              " 'the conptores of lega gilspir street and the boro were discontinued as daters is as as as as as',\n",
              " 'seemesd to place him it assituation in which he could not live with sattisfaction eiher in the united states or te the seseinin',\n",
              " 'to end our present on emplyment as soon as wecan and thet toet ter termene en es ses es tertrere',\n",
              " 'the mailonedor cuponlisted purchacer as gag ad e ead end ed en etet',\n",
              " 'those whoe sat in it were visible to the wholle congregation and sol lol tor the terrer',\n",
              " 'in support of her conclusion mrs oswald noted her husbancs ndirdablaradred',\n",
              " 'and a pick up from grea hound ustitend tel tete tem',\n",
              " 'that such r procedure whith not be consistent with the nature and purpose of the motorcade to let the people seethir president and to wokom him to tir city',\n",
              " 'after they had een cashe by the bag',\n",
              " 'howard sor he would finishim a proved the weeker of the two and aly t tof ton ond the thr',\n",
              " 'after a few years of active eccertion the scitey was robord ef filililil linion',\n",
              " 'ence as dordaon has said the it side of an animal tells the realpistory of its ancesstry the at es s al tal ar er ers es s ',\n",
              " 'it was senten in envlop baring the same name atd return adgres ind harringig',\n",
              " 'president taf apoint in five members and ay de de tetes',\n",
              " 'of residence in the usas ar against any caus whith giin n sissition',\n",
              " 'in the training programs of otheir law enforcement agencies and agents from other agencies attended the regular secret service rangscul',\n",
              " 'the other supported the thery of labor in a sociation but under a stringent orl of silence with is ln in intigt',\n",
              " 'share ind the wekly allowance of meat might also be denined to debtors whom had not paid garneish as well as in the wekly grand from the charrible fun',\n",
              " 'and said quote every body enow wi an n end quote',\n",
              " 'at montfy he was arrained that the olld bailey and the case fully proved sisen es es as ere en rer tirtintin',\n",
              " 'although the parts of some plants exibit ossilating movements without any peroceptable cause and the leves aofbothers re trak and ht',\n",
              " 'this was at length effected by an arp',\n",
              " 'he sught for himself applace in history a ral as the great man who would be recongnized a had hin in hi if ishishim',\n",
              " 'any in all information that they mayecome in contactwith that would indicate dainger to the prsetdentend uote',\n",
              " 'the first ston of pentonvile prison was lad on the tent april eighteen forty by the rck toe momma',\n",
              " 'vice presidet in mrs johnson followed along efense garded by formembers of the fisrtenden tallal',\n",
              " 'whether iky was assigned to his own family is not recorded but no doubt he succeeded to his own property when the term of serituo at ixce',\n",
              " 'that are filled by the bot of all the botors the president nd the resesent',\n",
              " 'the absentyemanagement of unecessary holding company contrl',\n",
              " 'he had been led to suppoose that twelvemonths imprisonment was the utmost the lawcod inflict and he broked down otterl n thn the ',\n",
              " 'and the ordinary in avoiced trembliy with a motion bre re rel al les lel ld dd',\n",
              " 'this sis the same street where the drubstoor in which e always widhe islue',\n",
              " 'another brutal practice had nearly disappeared bout the time of the abilition of tdessection this was the public exibition of the boy',\n",
              " 'the sch masno doubtfassinating and in many respects bele',\n",
              " 'the abovaction should be taken without delay in ortder to attent to verify the information and no avaluation of the invormation shou betetete',\n",
              " 'or imints the noxhus ifflive o erd dnd rtioni',\n",
              " 'six projects will be olicated to localities or relief arious in relation to the number of workers anrlerls in in the rerress',\n",
              " 'which mrs paine had made in part to give her an alternative to reterning to the sovit union marina oswald rot mmas a e qut quote',\n",
              " 'the lipserfh t hin mihn prominent the at tot o toe sor mor an an',\n",
              " 'saw him walt er the clerical office on the second floor toward the dor leading to the front staray',\n",
              " 'i was puishd on ayg n nd nond',\n",
              " 'as it was current amongcontemporare cemses',\n",
              " 'then the babyloning ands seing that his deeds were is brais is words were beyond memtr elelens nd and utoe toe the the thet',\n",
              " 'nord in the metthods by which they were perpetrated greatly vary ro tom tisasas',\n",
              " 'macases were removed to assell on the fellonside and hear they were locked insulitary confimed for tete ted i im',\n",
              " 'return to it for lonch on than again at night his mother have intrained him to do that rathaf ant to ply the ho grlrn',\n",
              " 'when john collins a person in the gar of a sailor of reteh pre en an ad won won on an',\n",
              " 'and tempted him to take to fraudulengentsurance as a certain tatiof of hieig or fon',\n",
              " 'he was a germane mime per',\n",
              " 'therefore he made his weekly vis it unthirs dangngt',\n",
              " 'the matter was still fur ther comlicated at newgate by the presence within the walls of shamlonantics some hos n tn thearyr',\n",
              " 'or arrainment two an assilem and the secretary of state had the same power s regards any wol became ant san lnlln enenenen',\n",
              " 'i next wang to makeit clear exactyly hou hl seller erk',\n",
              " 'what may be necessary for thogse countries is not mrstilitete the mem',\n",
              " 'the two men ongard had gone off immediately aftermr g had is sceped but they returned later in the day and areededd',\n",
              " 'had actually been returned as sain from the ascilem to which thay had been sent and ther was alway some oncertainty estot who was man an wot',\n",
              " 'need as ou wood white breadt and the te the the rinin',\n",
              " 'this tetness according to the procecution was produced by strictna and followed the minstrat o of pll pr',\n",
              " 'the dine men ar trafulyated',\n",
              " 'inteen sixtythre',\n",
              " 'everyin lake in that great uman chaine shaken along the whole linghend line has the motion car and cn enenenee',\n",
              " 'had the same observerable characteris dicxs both undo the mic rescope and all the visual tests the i cond cond',\n",
              " 'the modern printer in the teeat of the evidence given by his ownie considers the singlpage as the unit and prints the pade in the middle of his par',\n",
              " 'the hidells signiature on the noticeof classification wan he he an ing os oswald',\n",
              " 'but rutmpresure du to osmoses capplary action an af frter on of fof flf far farter',\n",
              " 'the best accommodation the jail could offer was reserved for the prisoners on the state sid',\n",
              " 'it may be adid that prison lifed id not idiry with money moses a stri ingtaned came er his apprns walng ngate',\n",
              " 'palmer spedilly fund imiters',\n",
              " 'a bradg she dated april twentyfourthe seventeen intyseven describing an execution on the newly invented scafpoled but fore the detters dor',\n",
              " 'once yu no that he must put the croschairs on the target and that is all at is nesar',\n",
              " 'in the inspectors forth report digty igthghthetentne',\n",
              " 'each of the agents sho visited the press clob or the cellar coffehouse appart from the three members of the minigh shift',\n",
              " 'to the county jails from such prisons as were pased im provement and that the borugh funds thould be charged for the commaton',\n",
              " 'the plant withdrawswater and carboniccasaid from the atmisper the anml omormtet et tot',\n",
              " 'with thirteen dollars eightysevene sente when considerably greatr resurcies were avvile d him',\n",
              " 'robert a frazier an fbiblistics identification expert testified that he was quote onable to re co conlitied und quote',\n",
              " 'richred em naxs in dintent',\n",
              " 'another eleged threat by oswald against apublic fagore in valve fror riserered en er en in',\n",
              " 'on the bases of this punchmar which was dispintived to each dalsdre',\n",
              " 'but his chief extravigence his favorite folly was the exese os sessinin ien lellen',\n",
              " 'no doubt on the removal of ik sollomonts from the sceen his mantal fellp con ry sescecer',\n",
              " 'standing alonside him were buwl wesly frazier and william shelling was al id ded el lly',\n",
              " 'there as asogod supplime byld anper',\n",
              " 'they also discovered that through the intermedioussy of one robert commings lonln ensescercure',\n",
              " 'and the aperage daily number committed that year amounted to three thous nd ne ifi',\n",
              " 'i saw cashman af few ours before his execution smoking and drinking with the utmost unconcern and id reren end quote',\n",
              " \"whealely believes that oswald's conduct did not eight him in his identiication quote becuse in new whs as the rii n hs hos hs hm\",\n",
              " 'at that time rope mant s wes leledes disdes',\n",
              " 'from this he was promoted to barman and as such hard charge of the bisines nvris colpollass',\n",
              " 'alread in he his have ed a',\n",
              " 'many of the indispensible conditions of a monale prison according to modon dides',\n",
              " 'this represents a sped of a leven point to milse prou',\n",
              " 'but much more remaines which his not only suggestive ut dhe monstfrit os os tering',\n",
              " ' is den',\n",
              " 'he shoutetwice quottelellel le erd ed end quote',\n",
              " 'now for the first time the tuftinal estate in holwy was mnen',\n",
              " 'in eighteen eleven williams who murded the mars in racklif highway aving commited sos tit tin al tal ca ining',\n",
              " 'this is because of the establishment of fair compettictive standards and ae pore er er or forportotintin',\n",
              " 'these were deposited in an iron chest of great strin an thesen e for',\n",
              " 'i shall seek asshurances of the making and made an ince of a grements which a bel ey lel lel le en',\n",
              " 'the president vice peresident or other officer next in the order of succestion to the office of president the president elect and the bice resident l',\n",
              " 'it was then my plant interveumarina oswald in detail concerning both her self ant hers as and and r en usteon',\n",
              " 'this commission has necessarily examined into the punctioning of the variousfederal agencies concernt with the tragictric of president kentd o dallal',\n",
              " 'was thus brought to the central criminal court from exitor assizens and that of the stountoncs frm a ton',\n",
              " 'since there was limited if any upportunity for oswald ta hadle aweapon during the two monthsprit tof mevertentytw',\n",
              " 'all received their instructions burly in the morning from capt ain pee duy oulons tof the te tie inion',\n",
              " 'it is in obserbable facts as marmams',\n",
              " 'and that in a moment of angor he not turdon',\n",
              " \"an investigation failed to revieal any invtation extended to mrn iex induring the period when oswald's tree prpel d \",\n",
              " 'he was recognized by in expolicemen who had nown him at ro hampten and mey ay lay esrestd',\n",
              " 'and placed and un mantimtet o toe the che soe sols',\n",
              " 'il ther by bey ls',\n",
              " 'baring seri al number seet tovvisixsix',\n",
              " 'and the lastagent left the prest gupe byt ti m',\n",
              " 'where af fish curry and a brace of partrges were te fe hr hm',\n",
              " 'he was dresed with particular char as he was dedine at the mannings and meat friends one helally',\n",
              " 'ownd and possessed the rifle used to kill president kenen ond no cor rnil',\n",
              " 'but the chire in of the great nor thern could not realize that a clark of the company could onistly be in the possession onmimilllh',\n",
              " 'the fbi which was established within the partment of justice in nineteen o eight has had ing reason years and increinl porten ad alp',\n",
              " 'his last agambit to extricate himself from the mediocrty in defeet which lae themthe tr et ten os of lif',\n",
              " 'in onder to sucplement their income further she falsely swar that pick was seventeen yers old so that he ca join the marine cor',\n",
              " 'he had very few if any close relationships with other people and he appeared to have great vifficulty in find in tae maning fl lain the ror',\n",
              " 'the soumetotal thus produced was inconsiderable compared bat the hundreds that have formerly fill the jal',\n",
              " 'in adition the department of the treasury has requested five additional pagents for its protective recereton',\n",
              " 'the police were at oncesemployed and aftert infinite paines they discovered the person one mos who ha a hae hae the sheserrer',\n",
              " 'and just tefive i olegest on regarding themas representative expressions of the most extensive if not the profoundest no   hisim',\n",
              " 'after the five bodies had hong for half an our a man in a ms cinfr tol tl toe teteteten',\n",
              " 'tack of buildings alongrout of ocred',\n",
              " 'athorities were finally forced to consider placement an ontom bires',\n",
              " 'during his presidency frankl indeed roseevelt made almost four hundred jurniyes and travel more than three hundred fity tous nlil',\n",
              " 'shortly aftertippit was slan policemen found a lighe colard siper jackeit along the roubtaken by the killer as te te ded te ts ca',\n",
              " 'the position of this palmprint on the carton was parolell with the long acxces of nebox and rarin in tht the hererses',\n",
              " 'at two thirtyeigt pm eastrn standred time lind in bains johnson to the o afoffice as the thirty sixt pestent of the en essate',\n",
              " 'was the case of the forgeries upon the bank of england discovered in eighteen sixtythre',\n",
              " 'dhaorn the rear stairs to the first floor where she incountered to depossitory employes whe al al lal llellele',\n",
              " 'the latters salary with thees the rent of the tac and of the chendlers sha mont od o to coesseseerer',\n",
              " 'on the nextday he asked the new orlencepollice to arrane fr him tof i neryby bi',\n",
              " 'at night they replaced in the fifteen cels two three or more to gether ort ton toe toe the toe me memmemmee',\n",
              " 'shortly fter thornly finished reating that wook the marine nuwnit to hich both men wore assignd was required to atk a an as teren n rr',\n",
              " 'the principle of chumche prevaile as in the kings bech',\n",
              " 'in deciding whether oswald carred a rifle to work and a long paper bac on november twentyw',\n",
              " 'and it is sell in as much as and aditionalsubstence nitrogen antint in in ins hesmellenmen',\n",
              " 'broke down at the supree moment before the har of the stillness the offul imnprescenes of the ceem in which he was the principle atr',\n",
              " 'according to odonal quote he had a motorcade wherever wy went end quote',\n",
              " 'no curtain roswre knownto have been discovered in the depository building after the assassination',\n",
              " 'there is no casion to usbiye n bud tue w we',\n",
              " 'upon the rules and disciplie there in establish with regard to the treatment of unconvicted as well as convicted persons',\n",
              " 'the sarteantit the same thing at the reare of the building',\n",
              " 'nebucadnezar says that he builted of burnd bricks but only sundr re es es en n n ar rar',\n",
              " 'the dallas city county investigation labratory tried to determined the type of weeng whihr i the lelt',\n",
              " 'nectes is with in one half block of tha roominghouse aten twentysix north eckl wer as was lalli',\n",
              " 'as one intitled to receve mal',\n",
              " \"according to fritz oswald' sneared saying that they were fate ftographs that he had been potographtd an number of times the day of fr n the pli\",\n",
              " 'whos language and maners whose female associ ats of the most abandon description and the semes cocnend id the he ccrrr',\n",
              " 'id such u reviewed been undertake in by the f',\n",
              " 'driverwil nucalm me accab daner she had seem a get his cat a hnd won en to',\n",
              " 'there are numberless similarities and corolations and sperpein in nirtite',\n",
              " 'his name headed every subscription list his prs was wall s pon',\n",
              " 'mr samual hor was examined i simeme',\n",
              " 'fortunately inseveral of his long inscriptions recently discovered in the babylon in mounds nebucidnezar speaks of the lillithe tllal',\n",
              " 'to block the emendment athough i would be ofly glad i helget some other or kind of a men mend frfie',\n",
              " 'the presidential viicle inuse in dallas describe en cete to',\n",
              " 'the transcript the stablishes that she was refering to the uncolmed state of his haire i discription fully supported by a fotrat of oswal',\n",
              " 'a review of the records cressent fireams revealed that the firm had shiped in attallion carbin seie e tsesss',\n",
              " 'the coach mediately drove of mistr g entered the house hasked frmisser heefht was tolld he would fine im he the cac en erri',\n",
              " 'on november eight ninetesixtythre',\n",
              " 'the want of sleepingcels on n enin',\n",
              " 'as she isued his instructions to greer and to the lead car kelerman heard a flery of shots with hie finen of o the tirin',\n",
              " 'he detected to the soviet union shot i general walker tribed to go to cub and he incontmplated a high jacking in ar ing t tht thr ',\n",
              " 'a divice which desaves no body and a make suboke ber unsestertre',\n",
              " 'many times oswald has recalled this matter to me and said that i en justwanting for a opertuntydy hrhrhim',\n",
              " \"tuat they at once made tracks and took up their resident's under astoomed names and apparmen en sespry\",\n",
              " 'the crnicles of newgate to volume two by arthur griffiths section fifteen nginete eir tir sirtirthrthrte',\n",
              " 'instances rarly accar in which the brojails idmit ovany proper classification of the prisoners',\n",
              " 'he was walking into the officefrom the backcaly',\n",
              " 'haderlaxtd his efforts becase according to his own account he was so frequently stoped in the performance of his dutes',\n",
              " 'i ha nowford to wighte entill new orlens forded the necessary papers to me to show mey in ow al ally marmatin',\n",
              " 'an indication of the nature of les caracter it this time was provided in the spring onf ninten fity',\n",
              " 'the miemployment of officers and prisoners by the governor',\n",
              " 'it was alsto usily established that the hat found in the carrage had been bought at wakers as hare r en rs tertete',\n",
              " 'six lige of the colice after his arrest concerny import stetde mererers',\n",
              " 'he through opend the cicen and billy ingate and mid mid me mem me',\n",
              " 'at the trial the inditment charging them with fellony could not be systained but they were found guilty of conspiracy and sl',\n",
              " 'his letter is aimrablely clear and regular but at least is butifule as an a the romiet',\n",
              " 'in this way he farm the acquaintance of watson and others with hom he was arrained for tras mible prites nd pndprn',\n",
              " 'he gave my addollarbile thr tr e en ese',\n",
              " 'he continued to be concerned about his undesirable discharged it is clear that he houh he had ben unueled',\n",
              " 'cudu and vieme asted the general view wee ha on the americain siile liverdisunin end quote',\n",
              " 'even in eitilly most of the fhelogical and labooks were printed in uitie leter',\n",
              " 'the suspect was describe at quote',\n",
              " 'oswald was carrying only thirteen dollars a seven sents at the time of his arrest although he had left apparnty biin',\n",
              " 'in he interests and for the due protection of the public that the fullisst and fairs in gry l aded',\n",
              " 'and it was diescidedly of a pinion that in all short sentenceds the hard lavbor of the treadwel crankands of fort he e e eererrerll',\n",
              " 'since the camraoperates at espeet of eighteen poit three fre prcen',\n",
              " 'yet even so erl as ded tef the thr se en pall',\n",
              " 'in the course of his remarxs howevery he sead',\n",
              " 'in nineteen fortythree prs received approximately nine tos in if if fof fortontn',\n",
              " 'hers identicalrop ets sex enshenghe',\n",
              " 'leaeping down from his thrown he exclaimed aelowed and asked upyrous ho it was that had dispitured him and ht hed he  te te tetede',\n",
              " 'mrs frize brother mr samual hor junar was chimon of the commine on which also served many notedmembers of the sated f frm',\n",
              " 'said that to his knologed the building was not seeld of at welthirtysix pem whe he cel lel el perpeslall',\n",
              " 'he began life as a lawrigter uring their by some fiften engteennen esw',\n",
              " 'andthus bring the history of prison disciplined ond on to mimes',\n",
              " 'the presher soon the came so frigfule that many would have willingly escaped from the crowd that their attempts only increased te non ol ofconi',\n",
              " 'tbat death straned the financial sforcthens of the remaine of the asollalla',\n",
              " 'religion and crulty frequently go hand in had and nebu hadneser as ellilis',\n",
              " 'twoon took paper an taped from the raping bench of the depository in fastiond abag large on of to carie tha disemell',\n",
              " 'in the plant alsel oxygen is ebsorped through the atpi dermos ands tomat tof for the hr',\n",
              " 'two of the aresting officers placed their inicials on the weapon and oft third in sriede m',\n",
              " 'his a wharneses shown by a leter that he rote to arnel johnson of the communes party asa',\n",
              " 'the diat was now ample in consisted of appound and ha of or red mem',\n",
              " 'during the period november nineteen sixtyone to november niete sixtyhre',\n",
              " 'and at the working letele with personnel of the feeld offices of the various agencies the epepepepetet',\n",
              " 'the employment of edwards and the mannering which the conspirators were allowd to commit temselves further and further before the law was se in moteng ingithm',\n",
              " 'at twelvefiftyfour pm tip it reported that he was in be central ockcfife ara a ad ar ad adad',\n",
              " 'n eighteen thirte',\n",
              " 'he dru together all his power and began the war by marching streate upon babylon an le e the the pe',\n",
              " 'thi could be no recovery of public confidence in the srter tey sou sass',\n",
              " 'in ordr to realize thet evils intailed by incarseration in newgate in these days it is necessaryty ismomcontiin er',\n",
              " \"the agents on the front of the runing boards had directions to move immediately to positions just to the rear of the president and mrs kennedyu when the president's carslo\",\n",
              " 'at tese twelve persons saw the man with the revolver in the vissinity of the tippit crimes ard are are the the the thr th',\n",
              " 'oswald realized that quote theif thinking in idication wil be seepd in the trditions of is sm',\n",
              " 'de clard that they had ghither two form the high appingion of his oner integrty and coin is of sistition',\n",
              " 'robert i quccalan an an hr car car',\n",
              " 'dudgements as to probability willd pend on the number and tipes of maties',\n",
              " 'the history of presidential protection showse growing recogniion over the years that the job must be don bl  e',\n",
              " 'that the serimony may be made more accanicl us rendring the personal intervention of a sckiled puntinary nissi',\n",
              " 'one expressed pleater that oxfored improte so much in speaking and declared that chis otrse e sete em en e l ',\n",
              " 'most of caxstons own tites are of an earliar character tht a as mesmer melmell l lerter',\n",
              " 'another custem which had led to discor was aslsi',\n",
              " 'the service profers to have two agents perform and vancs pration',\n",
              " \"thus while oswald's realintentions a suing that they were known to himnself on cllare\",\n",
              " 'they saw and heard bren in describing what he had sene emmemeed edtquote',\n",
              " 'through noyes the rest of the conspiratores were eventually appryhended theriy little if any of the uilgatton proced hower r wer rereed',\n",
              " 'and attoltd him that he shouldn dutvis and that he had promes e',\n",
              " 'these evidently deprived him of the small portion of fortituteyhe hads sume u',\n",
              " 'at last in the twenty euf month',\n",
              " 'n one fereveded',\n",
              " 'it was proved that mrs wilson had given mrs soms something peculiur o drging',\n",
              " 'he seid quote',\n",
              " 'to watch an prosecute coiners that he received information that coining was carried orn by commings and oters a tessess men menter',\n",
              " 'whll eds nont appear that he established any new relationships as result of his investigation he didotain alarged fictur f of hisot',\n",
              " \"while marina oswald new of her husband's plan togog to mexacco and vente to cubaive possible mrs paine was toled that oswalds oson to cuon\",\n",
              " 'four presidents of the united states have been assainated',\n",
              " 'and that from the time af his conviction outhing but wht is conselitory should be addresd to crmim',\n",
              " 'she boarded the marsalsbus at sate all and elm strets to return home shie te te the ter the tuott',\n",
              " 'that a soceiete did not thaint that oswald as coinet',\n",
              " 'one was the yalmen of the hulter i newgate official the executioners assistent whom mr t gas hmers war ed te te tesoion',\n",
              " 'and in this conection the fact that some acteria thaf simplese ormians on n nd efforfofff',\n",
              " 'these processes must take place everywyr n or o pamm',\n",
              " 'an examination of the window at the rear of the house the wall thorugwhich the bullet pase hand thed the the he he the h',\n",
              " 'the same was realized in the first private execution within newgate',\n",
              " 'a bas station at fixplication in dallas operated arady on et wr wi e e te the the the car',\n",
              " 'when he stoted to open the blanket she so the stok of the file',\n",
              " 'its function was to elert police long the route that the motorcade was approcing and ceterte en en fofpel',\n",
              " 'as he was parking he noted that teople work quote falling and iy wre rilding round down ther grabpingther kildrn n un en an n ',\n",
              " 'the reverin dublu baley el eild was convicted at the central criminal court in febraary eighteen fortthrettr',\n",
              " 'aske davids in an goardan a firm with which clle was closely alied whether the warants men uodeut o inhin',\n",
              " 'marxsment tok as much time as aywanted for the first tartet and alll he terd',\n",
              " 'there er stel many shoking insidence at executions owing to the mongling an unskillful bay in which the overatheo was pred',\n",
              " 'to the great number of small employeres in the smlr comnitete',\n",
              " 'heier oncemore a the almost invariable motonpractise is an oposition to antetrsal as porprion',\n",
              " 'tro a disoner chect fr three thousand pounds paide over as in instalment of eighteen thousand pounds ongn fr and an on ronsns',\n",
              " 'bob was therefor alowed to pason',\n",
              " 'in alets ramifications and alert to vaveren er the the the l',\n",
              " 'the gui tried to du took active shape in the establishment of temporary refesiens at hoxtd in for mals and a aer erer frl',\n",
              " 'ho was in the transportside when one of his fellows in indevering to stright another prisoner with a larch poker missed his am nd cur',\n",
              " 'on the morning of november twentytwo nieteen sixtythre',\n",
              " 'loking over her right sholder she saw that the president had both hands at his neck but she obsered no n nd n ihi',\n",
              " 'mrs randle stated that on the morning of november twentytwo while her brother was eaging prpe',\n",
              " 'ontarpies defentse it was stated that the idea of the theft had been segested to him by anovel ad the mam mes als lallllth',\n",
              " 'yet the law was seld om effever infrte',\n",
              " 'has comemor by chance than fitnecerspecial etication to sesssis of of moffef',\n",
              " 'this doorleavs into a small testibele and another dordleds from the vestibule into the second folr luhr',\n",
              " 'in his intenst desire to join the marines and get away from his toroundings ad is hih',\n",
              " 'he surrindered the bried who had never beenawife and she return to england wither friends whitl l elldln on o par',\n",
              " 'this ingeenoust method a raising fimes he aducted and cr in an to tetitint',\n",
              " 'the wanket in which the rifle was stort was composed of brown and grein cotton isonond lnd fersers',\n",
              " 'the presence an animals of a alementery cavity or internal pocket in which thake en carry about their nutement',\n",
              " 'seven the press yard was that parts at the side for the dende',\n",
              " 'where he expressed r alocktdancs to work in the industral fed',\n",
              " 'two the femaile debtors side consisted of ocurtyr ror vinenene enesenete',\n",
              " 'on whiche the river san to such an extend that the natual bed of the strm ecanof fral',\n",
              " 'hencse as cuvi it was necessary that the cemical composition of the anniml body should be more complcaed tat thathe the p',\n",
              " 'lord william occording to the balay has ofpoeccecepelperper',\n",
              " 'there was no infirmbery no call on won or s sassissitin',\n",
              " 'carged him with he offencs',\n",
              " 'at present federal agencies participate only upon the suffrene of lhll h thies',\n",
              " 'private executions tat their first introduction were not pocular with the newgate officials and fr tely blaes',\n",
              " \"that woman should be frequently capt from chapel in order that the might atten thele's lectures and exretios\",\n",
              " 'no winor bear should be infuture admitted in tor ar aed the the dhelal',\n",
              " 'to be puch fort by chants anywhare into any sort of commeny',\n",
              " 'in his chapter the commissionevalduates the evidence upon which it has basedits conclusion concerning the idetity of the assasn',\n",
              " 'aben mayby supplied with water in which salts of a mona and certain other mneral sals ar desld er portotion',\n",
              " 'in the other oposite were the convicts capitlly convicted who had been resptin',\n",
              " 'beries his head and ir idi',\n",
              " 'oswald had entered the house in his shirtsleads but when he left hi is ia an accact',\n",
              " 'in whose feled the proterct falls and also to notify n other agencsy which imcrayt r r pisisisi',\n",
              " 'he s a no noncands party rar',\n",
              " \"flift in c carter riding in the vice president's fallow car horhides id ed\",\n",
              " \"report of the president's commission on the assassination of president kennedy the warren commission report by the presitent's commission on the assassination of president kennedy\",\n",
              " 'on october three the dallasmorning news quoted us representiv dol lalpuo',\n",
              " 'as compare to assibvilien who had not received this intencse of training he would be considered as a good to ecll a shont end eut',\n",
              " \"mrs as johnson his lanlady testified that oswald's rom ant tentetete ses ter per ley lan ln\",\n",
              " 'the dobsem to be especially inthosaskt cabout any of that colective duties and ar frflin',\n",
              " 'however chief rowly did not condoln the action of the oftuty agents particularly since idviolated ar ragulin of the seserre',\n",
              " 'brak apart from one another and pie ona plate thoaing a cen doily our a smal nackin orthe mer r a an ad tabal',\n",
              " 'somehat of anone conforme',\n",
              " 'there ere freqlent quarls in fites shoe an other missles were freely bandyd but',\n",
              " 'tapter seven le harmy oswald bat pout on on os as rs or on',\n",
              " 'he was charged with moving sumething which should not be tuched with leaving adoor open or coffing miliciously to the disturbance of his compainens',\n",
              " 'an esecsity for which was erge by mr ason when secretary of state inenen tenenen',\n",
              " 'was inseveral places imlytere',\n",
              " 'during the morning of november twentyone oswald asked frazier whether he could rih wim hehae ad et nnon',\n",
              " 'rudiments of ies in cave ficies hind lims beenef the sckin of wals te mer r mer n n an an an',\n",
              " 'but present ac close resemblence whend those of animals and thomse of plant carcrreted ter',\n",
              " \"thurughout aper iccommission asked to marina oswald whether she might have missunderstood the object of her husban's strih she s e quote\",\n",
              " 'tat the government should a soon the responsibility of providing a means by which the creadit of the nation migh gecol',\n",
              " 'theily supervision of the operations of the secret service within the department of the treasury should be improved',\n",
              " 'siuimen and their children remained in the ordinary wards and proicted de',\n",
              " 'reconstructing her movements mrs reed ran the distanced three times and was timed timin sis so cot',\n",
              " 'and held all the threads of these intricet and effarious tansaton',\n",
              " 'during the tmult a prisoner who was one of the worst of the riters was besb bot he bhe bn by',\n",
              " 'president hover thr e igginte te tesses',\n",
              " 'ecept that they did not her oswald say tut o o and end quote',\n",
              " 'burging that falngaroy was a father a sizon his i lif is sasl len men ted toe the the the ta',\n",
              " 'whom he viewed in a police lineup on the night of the assassination was the man he saw fire the shots from the sixth floorwindo of the depositry build',\n",
              " 'that mrs markhm described the man who kiled patrelman tippit as quote short alitle on the havy ed uotete',\n",
              " 'from friday to munday so as to includ one sunday on which day there was especial service for the condemed in the prisin c',\n",
              " 'and fines imposed for conduct dis approved ov biy lelig',\n",
              " 'or any kind of morl imperovement was impossible the prisoners carr was innebitably down wort tl stes t lllsss',\n",
              " 'when oswald was aprehended abust transfer marke for the lake good marsalles routs whos and an an pir pi',\n",
              " 'whic crlse white was executed in eighteen twentythree for arson mee en hec ceccif',\n",
              " 'frances was sentenced to be hangd teeaed end ed erdter',\n",
              " 'the brief drawing gatesmen and wardsmen at the time of the inspectors first missit ust tave ben a particulalrly porrel perseent',\n",
              " 'after hearing the first shot which he thougt was a motorcycle backfire ranan glancset up at the window he he tht tetetuot',\n",
              " 'he drew up several long statements containing naractives cereliffictitioes imputing crimes to his victiom and rcn n n e fee',\n",
              " 'it was no longer possible to stup a coach or carrage for roe the posemand chacarend the lal',\n",
              " 'since many items may protain to a singl case thes ftage o to tho he solld',\n",
              " 'in the discription of the important aspects of the advancs prpation',\n",
              " 'this offered him greatfacilities for the creation of artificial stock it sal from a fictitios oler and trtrntoon ff',\n",
              " 'on the other hand lords cranwert and wencely dialrecommended private executions sosded es es as al lallal la',\n",
              " 'and see for himself hor revolutionar society opperas ar missixsity',\n",
              " 'when the motorcade slose or stops agents stake positions between the president and the crod',\n",
              " 'oswald first rote quote edward vol and un on en en essin ol lol an an an',\n",
              " 'about three hours after the assassination a detective an depity hares ol lhl grrarl',\n",
              " 'who ongoing down arly as surprised to find the dangrom is e fe er er ofconion',\n",
              " 'bi sol called exploitation of his mother ot the cappls tm',\n",
              " 'the soil and the atmissper supply plats with water composed of he ad and an ancion',\n",
              " 'to make thosa sanctions and object of contemptuas motr',\n",
              " 'the resuls of this investigation or fully discused in chapter six eithte tr hine',\n",
              " 'soon after midnight on the senday night for by this time the present practice of executing on mont ain morning had been prety jnely drdd',\n",
              " 'the intrest of the secret service gose beyond information on individuals or groups threatening to cause harm or imbarosment to the president',\n",
              " 'the fbri had been interested in him to some degreat least since the time of his defection in october ninenfiten',\n",
              " 'these suordinit cheeks were also remoarded outer the stcanty prison arsasion',\n",
              " 'is indeed a subject which cannat bat impresse every considerate mind wich humiliationd asra',\n",
              " 'beare no relationsiip to the injury to the united states wich fll of oe tett',\n",
              " 'lawson stated that he quote was looking backo good del of the time',\n",
              " 'the building of the babylon so famous in histry begain with the balsor',\n",
              " 'the sherif rived attended by his officers to received the prison or from the cepe',\n",
              " 'the transfer was dated fridain november twentytwo sixtythree and was punsed nt tese es the the pr',\n",
              " 'these indeed were out to the valuw of three hundred sixtyseven thousand ith thonded eundns',\n",
              " 'the chacxe drawn by the directors also passed through his hand to him two they came act to be ver fifed ud pu',\n",
              " 'wie on to makes te money pori was going hout is mind we calfer she should not a noiyn him porby he doig his estd mon om mom mm mh',\n",
              " 'thei emarxs hear amongs the crowd wore o cort propovl',\n",
              " 'the arrangements relied upon by the secret service to peformed this function wer elefeffit',\n",
              " 'and transportation and traded so great in the mas that eagont dividual concerne id thm sis lll  ',\n",
              " 'we ten sep the old woman to open the door and itproved to be sumlitl bose who ad an ar r way',\n",
              " 'signed by more that a thousand members of gagkn frms',\n",
              " 'she realizes that shes bound on the long jurny accross the desart or r r ou hr he e er he the the thn an ansal',\n",
              " 'fishur testified that about tenor fifteen seconds before the motorcade turned on to hustoncestrey form astre',\n",
              " 'he also stady dallas of sceguals to prepare for his later use of busses to traveled to an frme rlr rs sess',\n",
              " 'the jug in passing sentence of death teld him i rich led the hssen',\n",
              " 'the second house was in lor queen street islington and he useded for sometime as a geor vevellele',\n",
              " 'as the first to appear would have some time to waigt for his fellows adificult and pantlfor lal',\n",
              " 'fristion sater was ber r rmn',\n",
              " 'threading his way among these itener invenders was seen them neek faced te liver of tracts the man of good intenton an ot',\n",
              " 'in this part of the mills allarged quaintity of bank note paper was kept at the periyg of the robr',\n",
              " 'mr newman admitted that he had potitioned that certain trusty man wie ie tie the he lalll',\n",
              " 'the riginal plan called for the president tospend only onedayin the state making erlwind is its to dallas fort se ed an nd o o oo',\n",
              " 'which delt winth jails of all classes as well astranspration',\n",
              " 'even then however ironds accros ared the assant after certain distance and in no one caed do feffe f f rlar',\n",
              " 'as oer burd and sanersonds interesting investigations have shown by a disturbance of the electical state of the contracta susencse',\n",
              " \"she indicated that she had no advancemnollende of oswald's plans\",\n",
              " 'appinions differedt greatly with fregard to the treandweel some uthorities avicated it as a very suver and er ommusnt',\n",
              " 'as a mark of discused and protest aginstimericain polittical policies in faring countriys my personale stine of tisdenent',\n",
              " 'there was no scole for adelts aly the moys were tah any thin and there instructor with his assistenct corn intinin sisrs',\n",
              " 'creese at lnt was discurd',\n",
              " 'catter in wilson was a feemale poisoner o did disasaslal',\n",
              " 'hegame adolarbuilened insay nything os go on close  dorn walkdr oun fr of the cab over to the otherside the shee',\n",
              " 'mainard was the ollming one who sufeda',\n",
              " 'statements of owld enen titin',\n",
              " 'kenifh odonalmayd the final decision to hol the lunchion at the trade mart then so not ified los n on of fer fer t',\n",
              " 'these twentyfour could just slee on the barick ed when the number was highr and it often rosed fory se seee e the the the',\n",
              " 'those portunatey few in number or friton by bolnes nd oun an ae e e en sen sen sinsinsins',\n",
              " 'agent lawsons and vance planning called for the deployment of almosts six cundred members of the dallaspolice peatente',\n",
              " 'halfthe jails had no ccod of rls properly prepared and sanctioned by the judges accorig toelal',\n",
              " 'combined with nitrigen and salfer pomiably also with sallts water at trt comrmmrm m tet ter',\n",
              " 'the fact that he took sol little money with him when he left erving in the morning indicates that he did not expectoget very faf from dllss n u',\n",
              " 'if the field office determines that the case should be subject to continuing r evew paea as is is his fiflil',\n",
              " \"and their jibes and jelity counter acted the ordinarie's counscels or the independedt preatures unspres\",\n",
              " 'the dis graceful overcrowding had been parcially endedt thut the same evils of indiscriminate association wer still present there was the old melect of een',\n",
              " 'afuminutce later she described the nuno tollian',\n",
              " 'each tried to throh the blayimon the other manning declared his wife ad cimmitted the murder mrs man n in diddi id in h the hech',\n",
              " 'these instructions to prs personnel apper to be the only instance wherein effort was made to d dus trgtgeg tr riging',\n",
              " 'porpossessing an unather is pistil with which he had axidetly showe hisef',\n",
              " 'shartly after oswald rented the room on octoer forte',\n",
              " 'cover with a cluth and set near the fire than ye daired trusted the deo and at the mrs o worr',\n",
              " 'although oswald probably left the building at about twelvethirtythree pm his asence was not noticed untill at leas one hof al laler',\n",
              " 'james s caigin fbi handvrating expert testified that this noes we meye hey be bar waswas',\n",
              " 'because the varriations possible preclue e fectid pan',\n",
              " 'as was a chane of a dress card date mitelitenetetitythre',\n",
              " 'these considerations have enduced the commission doblie',\n",
              " 'that no comple for form could be accomplished sal long as the prisons were left under the juristiction of thel o thrteies',\n",
              " 'the memry of which his still fresshion the minds of londoners although have the century has passed ise wismimtete',\n",
              " 'the sociehye did not limite its remarks to the discription of wht hat allready bee duon',\n",
              " 'that his frient had died gratly imbarised with bills to the emount of fourththousand pounds ut in ins me',\n",
              " 'that he was a man of great ability and inteligence and that many of his superiors in the marine corp were not sufficently compitet to g geerer',\n",
              " 'oswald one struck his wife becauseof a letter which she roted to a fornmer boy frind an rssi',\n",
              " 'there was as sile on his face wed was lasen and just as the teriblewit cat es ar ond ortrit',\n",
              " 'and in many instances the deetails of these pictures diffored from the ariginal and even from y chother paticulally as to the confeturait on the fifle',\n",
              " 'each ward was calculated to whole twentyfour alowing each n dividal on fef fen hat hf',\n",
              " 'on the haddel solective service card ther appeared a signtur li   a al',\n",
              " 'ully impressed it the wagte of evidence inpabor ofliion',\n",
              " 'in view of his experiences when he visited his relateves in new orleans te sfring of nineteen fifty and ths theterererii',\n",
              " 'tendolors in cash was noled',\n",
              " 'undership of rolvr',\n",
              " 'most of the prints were found to hav been placed on the cartons by ffiyy cor',\n",
              " 'with matallichandle for the rigter to gras',\n",
              " 'the eder part of the wall was constructed of unmurned brecks and at ad distance of abouthirty six fe for thm the trtrt',\n",
              " 'only when the order of execution came down were those about to suffer placed the part in one of the rooms in the arcae of the milr',\n",
              " 'fire department county sheris department and the tex as department oufpllice',\n",
              " 'this was penal servitued for life unthures sentence bin tieten en en pn ser en tere ere',\n",
              " 'he throws his hance far from him and shouts aloud marc guoot lard mercy as lal  h he meremer mes ss smm',\n",
              " 'taking advantage of being unobserved he got out through the roof on to the leads and traveled along them tore momr mn en tete',\n",
              " 'ithis is the sallutary gold to which the secret service regulation is dritet',\n",
              " 'no encared to closely to enquire into the sources of welth some said he was a fortunete pecl yr in s',\n",
              " 'that it mult applied beyond allreason the number of visitors mady of whom came mearely as the prevers of fod to the ren',\n",
              " 'he certinly mentions details which nether nuboned us norcires would caire to have appear in their wroy alrecords hsar as as sosss',\n",
              " 'and the while bease of the ilans shal pri in their decelet houses and dragings in ter pesselses',\n",
              " 'this involve tighte and unsorving discipline as well as the promotion of anout standing degre of dedication anllt t t',\n",
              " 'if there was no conspiracy which would hel himmisstae the possibility of which has been considered in teater sis',\n",
              " 'the secret service bhe leved that at it was very doubtful that any president would ride regulally in a veicle with a fixe tp tht the hn rrt',\n",
              " ' such an extravid int defensed id not whiy with goge ry',\n",
              " 'the latter seems to have succomed only two willingly to his fassinations and to haveis readly gere tma hi',\n",
              " 'and attendency to return to much of that laxcity and remissness wich formerlly marked the managhent of this prison',\n",
              " \"oswald's rigting on these and other documents was identified by comparing the righting and printing on the documens in queston\",\n",
              " 'it should be remembered that in every be jue hr ar er er porpions',\n",
              " 'he was on the right or mort side of the rode prince obert occupied the same side the rarred e e te e the t',\n",
              " 'a trad almost openly countenenced went subjects for the inatomy schooles were only to be got by riflny grars warss',\n",
              " 'is oviousely of paramount importantce and the powase granted by this act have been frequenty cutet inrstete',\n",
              " 'since the assassination the secret service with the assistance of other federal agences and ofprtin re',\n",
              " 'gave oswald and income which he said approximated that of the director of the factur in which ewrk',\n",
              " 'as his coke was an incombrencse he left it on the top of the third house in newgate street and thus in schars leve beed ard eddd',\n",
              " 'he marke what he thought was the intersection of necxhous and backley on amapt of dallas with a large e',\n",
              " 'as he turned the corneor from main onto houston at a speed of about fife themen lar rar',\n",
              " 'special agent incharge of the dallas office both agents were advise of the trep on veror',\n",
              " 'deniale of riflnunsin',\n",
              " \"each womant wispertd oswald's number to the detective each testified that she was the first to maetat ded dedfaction\",\n",
              " 'and to show his grattictud to the warder who procured is privlage for him himm mammassesd',\n",
              " 'requesting information on houto sbstribe to russion newspapers and ma gesens and as potuote',\n",
              " 'but ineffectively by running his had ag in shslallal',\n",
              " 'liking out toard the crowd and special agent kellerman assooed his pistin ot to the car',\n",
              " 'there were wepons in the room a long nife he hae pep p pal ad and end p',\n",
              " 'and mr aissin keeper of newgate to make avisitation of the jails suposed to be the bues managed including those of petter end lser',\n",
              " 'the service had twentyeigt agents participating in the dallas visit',\n",
              " 'wash a the boll with alitle nooe onm water and ad dis to the del if i should prove to suf rn in illll l lllrr',\n",
              " 'oswald once told powers that he dincare of he returned to the nieds sat al',\n",
              " 'the babylonians and campt without their walls withte is cimmin',\n",
              " 'freqently however he was confronted with evidence which he could not explain and he resorted to statements which ar non to belie',\n",
              " 'the total vollume of information received by pearcs ars resestily',\n",
              " 'and to have been guilty of extortion to others one cert milliam rich ad en hl hed he he he he her',\n",
              " \"woul did not believe that he could reached the president's car at the speaed it was then trailn\",\n",
              " 'in which he protested his discharge and declared that he would yus quote aman en end quotete',\n",
              " 'even alowing han ascessity four of thery lopris but any improvement must be based on showwing openly that the he he prils',\n",
              " 'of regulating only to meet concreet neds appractice of correcercin in of hanha',\n",
              " 'according to marthuret oswald buot leelived for the time that he would be come seventeen years old to joing the marines that holl ered quote',\n",
              " 'shortly after his return from the soviet union oswald severn arllis hos his hs her',\n",
              " 'replaced tdstock in the names of the oritional holders who migh other wise have been completedlye rond',\n",
              " 'darius saving become master of the place dit tho wal ald al od ol lal la',\n",
              " 'had appointed at committee of prison inspectors presided over by the undersequetary of state to ro all nd ind i rir',\n",
              " 'all almost without ecxception slee soubly ingete tete ter ter en entsen',\n",
              " 'changed to the rest as the misrable cre filed thrugh the public streets exposed to the sronfla es a beresserr',\n",
              " 'and stated that in his oppinion newgate as the commonjail of middle sex was holy anadequate to the proper confiment of is prsnrs',\n",
              " 'carry thornly mom os sisisit',\n",
              " 'the wellknow catus stre cunseriy',\n",
              " \"he said that he quote was fary sary that he had not hit him end quote marina oswald's testimorny was fully supported by th not sl\",\n",
              " 'the walls of babylon were so long and wide and hige tat hl wol om mem meree',\n",
              " 'he put them also to the sord',\n",
              " 'the blow fell sudenally and when least dexpected one morning mir fassand astallallr fer ere en incicic',\n",
              " 'watter nitrates ore nitrates and various mineral substances insolution in warte',\n",
              " 'that this made prove the beginning of a better system of confinment and that every description o persons who may be unfortunately under sentence of death',\n",
              " 'sorels and lawson drove over the selected broute with bachelar and other police officers verifying that it could be truverse within fortyfivements',\n",
              " 'waited by trebled the amont of cous',\n",
              " 'the rintals evrooms ind fs went to a wardaon whose income must to thousnd tere te edded en he pons',\n",
              " 'mean while on november seventen',\n",
              " 'the experience i have had convences my that one and perhaps the anly good of an execution i he the lalnn n te p',\n",
              " 'hush the unsecing mermer of the mo now rate to ll or ror',\n",
              " 'on the one invagling cilly infusiests to jing in the plont and the inion on ho the heh',\n",
              " 'myrequest for siizenchip is not ending before the sumpreme soviet of the us as r tie te te te e por porlersens',\n",
              " 'lord firars body was brought to surgens hall after execution in his on ccaring is',\n",
              " 'he now pretended that mr turner was also on his way to the border prse ie fesfefer',\n",
              " 'he was soon summnd on deck but as he would not move the mutinars came down and as and as sar or or ho hr',\n",
              " 'the advance preparations in dallas by agent wincst in dg lawson of the white house detail avd id din in rir tit tot',\n",
              " 'later on the tarteists agitateit prsistently for the concession embraced in the socle pee er erd id wif hi',\n",
              " 'she would have seen baker ortruly on the first floor or on the stairs unless they were already in the second for lunctron oio woslal',\n",
              " 'the committ migt well sugest the avolition of these jails or their amaldimation with the larger county establishments in their med erod',\n",
              " 'i proposed to retern now to the subject iof newgate extins',\n",
              " 'cards were issued and to such an extent that although the service was not to commenstall haft est an  m mm',\n",
              " 'at about elleven fortyfivevam the floorlaying crem used ovel vare o commen mon te the se sfor',\n",
              " 'althugh the recored indicates that brenin was an accurite observer he deklind to make appositive identification of oswald when he first sa im in the polce lin',\n",
              " 'to the question of quote are you accommunist end quoteherherd her er es',\n",
              " 'withthat appearing ondacuments known to have beenriten by oswald such as his letters paskport appictation and dirmn s ',\n",
              " 'for the first four attempts the fires mis tit the the ses e lel lillingses',\n",
              " 'a sound as at the otion had sudinly broken through some eincient ountry against which its epeor restles bulows hare erd as haed',\n",
              " 'when the time coms rcion',\n",
              " 'and by standers keek din through the shtters but no ne entered or saugt interfer in hom memmen mem mem er rerrarll',\n",
              " 'unchure in london and ritit hre mimm',\n",
              " 'the disessembled rifle was to long to becarried in this manr',\n",
              " 'till the hole body of the slayves were manumitted in eighten thrtythre',\n",
              " 'in eighteen fifty sirgurge gread broth or n mon to te te fect',\n",
              " 'he testified that he had felt the sargent had aprogiganstd him and that he had unsuccessipully sau attransfer for hn sereg n nuntt',\n",
              " 'the jerms more ore less developed of contaties deses charrivans the for runers of the prsin an',\n",
              " 'and servicees related to the security of the president',\n",
              " 'welle in order tho acchee three hits it would not be required that a man be an ecceptional shot a profisiont man with is weten en qend quote',\n",
              " 'he vhen entered the building and tok the front passenger elevator as far i it wolol hf fhr fl',\n",
              " 'when govenor connally called at the white hale on october for to discusse the detals of the sit',\n",
              " \"from one of the elderly relatives with whom he spoke oswald's interest in such thay was presens a shark contras tit ht attd\",\n",
              " 'the dredful execrations of some of the felondse so shok his frame that he observed the clcket as cadken n in in his hsss',\n",
              " 'and camemunder the strong animendbursion of the jail committee of seventeen twent nie',\n",
              " 'rathorf than waike for the lonewhich stopdaccross the street from his roming huse',\n",
              " 'aftern the president had retired at his ot tel',\n",
              " 'lason confertd with the local police and the local office of the federal bureau of investigation about otential dangers to the president',\n",
              " 'the prison was annestive a vuses githe rererin ing eng hant',\n",
              " 'on the fortkeenth jun eighteen hundred there were one hundred ninetynine debtors and to hundred eigten ine len in the pis',\n",
              " 'and they met with the approval of his profesional inviser the cervar general of prisons',\n",
              " 'the state of texas had exclusiusitin',\n",
              " 'the firms paper whent down further and further in value and aplication to the committee of bankers for siystance was prreielele',\n",
              " 'through the underpass and leas into an axces rod',\n",
              " 'all the committe could du in this respect was to throug the responsiblit honhors',\n",
              " 'as she marina tlol at at it tit the the the ae lal',\n",
              " 'and beyond it was a room called the wineroome becaused forml y as to the pall on bnpk',\n",
              " 'frfers that discription which ere expresely prepard for his own clas and which abound in volger adventure in criminal and teprise and in the histries of the police',\n",
              " 'tead callaway who sal the gun mand moments after the shooting testified that omie en en nen nenesene ent tt',\n",
              " 'where aman bet on the frontdor of the bus brdad ad ad as sisr',\n",
              " 'he was indited on eight charges two only of which were senstanciated but uneach of them he receed descentence if sevengers antartrto',\n",
              " 'cannon by trad at chimny swe had long been caracterized by the bitters hater tof the polceor',\n",
              " 'anwer i never came tmome lis lel lel het hes ses sotion',\n",
              " 'and along sicly paile faice withihither',\n",
              " 'again there was no regular alonds a fel calles were purchased out of the garnishmny and the rl e b',\n",
              " 'over the door in guilt letters were the wards crown office in the window was a pil of af ficial unbles oststitelles see',\n",
              " 'abribe to the judge was certain to secure a quitle ands o the neglect of the formality was saielill lo on on hn hin',\n",
              " 'craps walked at once into the yard and a cross to the female side where he found some of the washingstill ang otot trr',\n",
              " 'in the protection of the president it tde presidential car permitted immediate aces to the president by a secret service agent at the first ine ofdanger',\n",
              " 'over the assassination of president kennedy led to imbaresment and confusion in the subsequent invistigation by feerl and coo oeire',\n",
              " 'southon huston and southwes accross the houst denvied ut to se e pe pe lel e en an al lal lals',\n",
              " 'the form r already voud to the same criminal carar and looking up to their elders with the respect due to sesecelpalperrs',\n",
              " 'pall am stome of of thf very',\n",
              " \"that he might no something of special interest oswald's his storic diry srisie e he benpe ens es es qus quoe\",\n",
              " 'when marina oswald testified before the commission on febrary three to sit nineixyx',\n",
              " 'but i am jeless of the right of every sitizen to call to the ottention of of ir or rmrmen',\n",
              " 'the creation of an expensive staf for subris',\n",
              " 'mrs paine who had no nowlege of the rifle first said know but when the question was translad rnes as l leei',\n",
              " 'when interviewed by fbi agents on genuary twentyone nineteen sixtyfour',\n",
              " 'the last public execution in front of newgate was that of the fening allarat',\n",
              " 'on the twentyseventhe bapril in the followng year',\n",
              " 'the man bousfeld however whose execution was sos ad ed lod',\n",
              " 'there is no doubt however that oswald was seen leaving his roominghouse at about one pin wid in ird rir rerdact',\n",
              " 'he concluded quote',\n",
              " 'convinceing as are the evidencees o descenh recorded in the structure of fancs an amals',\n",
              " 'the sale of spirits was forbiden but jn could always be had at the wisling shos whereit was nown is mos ine ',\n",
              " 'semed to straghe cermin with har and consternation to the exclusion of all power of recollected ness inpreparation for the approchin allomt',\n",
              " 'it was not surprising that the replicas sact made on december one nineteen sixtythre',\n",
              " 'hardly any one',\n",
              " 'and the roial party drove back to clarants house queen being anxious to gife the first news of the oar ad of thr ter the the thrrr',\n",
              " 'again the twentytwo charles the secat c twenty orded the jaler to kee felns an et rere er er cer r n n',\n",
              " 'that indistricts wherid was se rul evil doors especially dreaded comminders os conconcins',\n",
              " \"none of these possibilities statisfactorilly explains oswald's act if it his judged by the stanars oerresinmalmn\",\n",
              " 'and helt to move the personal offects of marina oswald and bhe be',\n",
              " 'the roof of the female prison sas the granjury in their presentment in eighteen thirteen let in the rain',\n",
              " 'insixo six in avond the old anmay of bolln lnd ferer er en an',\n",
              " 'when the spund is light sift a ourt and a cup a flor into abole or th th tho tos sos sosslsl',\n",
              " 'taymous in the annals of newgate for the hardy fod the ad displayed in the or of execution when the terminated their cr in in  lll',\n",
              " 'he might ke pem from the fire or give him his suo or grl an anlan en of pofsin',\n",
              " 'their cam be no sipit they fr those who ah turned the idea of communism into a vil ertesto ter ranman',\n",
              " 'resturictives were applied but he was in a fainting condition whentied and hand to be supported by the sextite excuuor',\n",
              " 'andr jacxon a raminling nd wnd wis s was es er tet',\n",
              " 'which wer then recommended two and generally adocted by the visiting justices ol hr the the timmm',\n",
              " 'feasetding altented with ig',\n",
              " 'this site was ho hn or rk',\n",
              " 'to be held before the sterd of the roile houseold the night marshial and the sreto of tof tout',\n",
              " 'and it is nw except urig cessions or when the gallows is in requisition prcta r r prpo',\n",
              " 'in this connection it should be noted that in speking of the worker oswald told mihtale paimn pelalla las ssesses tet totuot',\n",
              " 'in the six to eigtmen at period before the motorcade arrived brenan saw amanly and return to the windo quote uull ien quote',\n",
              " 'with respect to indestrntd a business but newly allor gred at pr prie in in is his his his hises',\n",
              " 'helternative between lavbor or idelness or the selection of the form mhofe laer',\n",
              " 'misles marily and points uperds with maninsis ol lk',\n",
              " 'catterson when askedbelater to confirm his identification by affidin it sad he did not re call having been shon the hotrafh',\n",
              " 'marina oswald testified that in new ormans in may of nineteen sixtythree she observed oswald siting with the rifle in therr en tor tntt',\n",
              " 'had himbarkd on a considerable expenditure in order to provide a modle prison orililatatin',\n",
              " 'whe should be pade into general prison funds and no part of them handed over to the prisoners themseves',\n",
              " 'oxes and cases were stectd i highim',\n",
              " 'baker sopt ad the dor of the luchrom and commanded quote come her end quote',\n",
              " 'he saw a man walking way from him in the luncrm',\n",
              " 'at the time of the assassination the names of about one hundred persons were in this index all of whoomer included in the gru afor hndre',\n",
              " 'the chonicles of newgate volume two by arther griffiths section twenty nginer r sirtsrt ron',\n",
              " 'nown more strictl imedr tanke to the inspectors and the more stringent disciplin and before he em bark for o strailiat to undr gohis fortyeers',\n",
              " 'and subsequently after this conversation my fother cameman and we were kind of arduing bac confort thabout the situation and my fother cam in the rome',\n",
              " 'robson said they were akilernd riy',\n",
              " \"the waren commission report by the president's commission on the assassination of president kennedy cate hr sessissinenen tr thtr\",\n",
              " 'the costs in heaviyr debts all ways dubled the sum if the arrest was made in the country didreit',\n",
              " 'and in late je nor early jely he told is wife that he wanted to return to the soviet union wither she said that he was exteml  sestt',\n",
              " 'the organis a must be compared in detail with allthose which resemble it closely instructure cosil li i tirter',\n",
              " 'mr smitths seccount of the condemned convect who sell he was prmitted to enter hinemee eae hes hes herher',\n",
              " 'mongth dead was a saler let whom mll ndo',\n",
              " \"the waren commission report by the president's commission on the assassination of president keney erter te\",\n",
              " 'the windows were to be glanced and peated to prevent prisoners from ooking ut',\n",
              " 'the perenibro passes through the fichi statge to bhe berer in of if min',\n",
              " 'troversing warit was possible the statents of the inspectors and offering explination and paliation su ee os u dd ddd',\n",
              " 'his lordships wathe wad n',\n",
              " 'ablu jacket later identified a marina oswald as her husbands was subs equtly found in the building a a  hi hswl',\n",
              " 'and moner two man were lowd to mend clothes and make shos the rules made by the secretary of state were hom n in posses es er thr thr p',\n",
              " 'is immeiait chief was had mr fasson upon whose confidence y gaine so rapodly throughis activted ndenen an an an manmarr',\n",
              " 'in the morning the stentent het were so appressted that he and every onalse on waking rut onlded dhd the dar',\n",
              " 'nine of the latter were cacture with all the warmatarial colliseshs callal an and an an in inin',\n",
              " 'through the apprturehe creptd out onto the landing at the dead of night and so down into the central space of the bilding',\n",
              " 'tradling expenses of these agents case fifteen pounds and another ten pounds were spant in the highe of thratrman',\n",
              " 'in the animal oxygen is absorbed by tha blood in ecesse by thet hem allove f the re als of the loed',\n",
              " 'only two of the men in the lineup with oswald were teen agres go eerene en in in en mor orn',\n",
              " 'first thit must be nuted that so structures a not non adaptive that is don oc chane to hac an a an er ind in of f',\n",
              " 'indels name on the post office boxaplication was part of oswalds use of onnontinses ed dell',\n",
              " 'there was fear as to the unrestrct d os tf tol',\n",
              " 'he acted in a mannor which excited the suspicions of the crue',\n",
              " 'and occupied by secret service agents sorels and lawson and ll l es tes he ted thr her',\n",
              " 'on this wek le in in',\n",
              " 'a handmade bag of rapping paper and tape was found in the southeast corner of the sixth floor along side the window from which the shout werefired',\n",
              " 'partly through their own carelesness when transfring their opperations terem',\n",
              " 'who seldem let assessiong goby without visiting newgate',\n",
              " 'that he was the leader of af fashious organization and when i said that even though all of that might be trouo jus the same hade e rir tit tis sili',\n",
              " 'it also appears that le tried to tae along with his ulderboters',\n",
              " 'the occasion was considered exceleme by the constiriators for desposeal of the hol cav ent at n ol',\n",
              " 'the commission concluded that oswald could have fired the shots and stell have been present in the second floor lunchrom when ee b er rl',\n",
              " 'a firearms expert with the fbi a sembled the rifle insitimtmntis in intenten ten ten to tolll',\n",
              " 'sometimes any who had had a narrowes cape fainted but the bolk of thos restitd qun end on eneneenfenfene',\n",
              " 'mrs manning was not without personal cams',\n",
              " 'they were accused by a confederate who goded by consions and ter ter ter tor e the the he ses sll',\n",
              " 'he then chows out nearthree thousand of beleading citizens and caused them to be crocified hile he allowe the aemained s lilt hn at tt tit',\n",
              " 'and af last each organism or each aliuns of organisms must come to the greates consesion af l whichl al adth',\n",
              " 'end twelve to fifteen of these cases as hiin ing ar rersis',\n",
              " 'latei down that individuals might be confined separatel and partis in islells',\n",
              " 'and stollpaper on a much largers ctal an ron',\n",
              " 'aving thus passed his time heareturncs a greater addect in crime with a witer acuintence af oncriminals and aperhapses din re juee m',\n",
              " 'partly because of the greater speet and comfort of travel and partly because of the greater demans made on the preisident',\n",
              " 'it seems that oswald imediately attempted suicide a straking indication of houm much he desbiged tor min min tin tie tie tio ion',\n",
              " \"proceeded approximately two to three carolingt sping the president' follow p\",\n",
              " 'the croples of newgate falume two by arthirtniffits section forten niogitet er rer ser er one',\n",
              " 'particulalrly to those a desire nowt to offer up their prases and thanke givings for thy late merses out ased tof the them',\n",
              " 'turning to his right in the direction of the noise kelerman heard the president say',\n",
              " 'nearly every one of these durisdictions hat its own prison and they were one hundred and sixty such ga andal',\n",
              " 'the new orleans office of the fbi lerned that ints obtember oswald had given a forwarding address of to fiene dviv',\n",
              " 'and the return adress was postd office box to in o tit tiel s',\n",
              " 'all of whith to cording to his own confession made no doubt with the ideaof exonnerating mrs gail he accomplied hithr esise',\n",
              " 'lones to the rail rods and insurinse companes and fil or or erd en end ses esle',\n",
              " 'many animals of even complexs structure which live parecitically within others are wholy devoied of an almantrcacy',\n",
              " 'hi dis not appear to have beenable to established miningfull relationchips with other people he was prpetually dis contented with erle rd m',\n",
              " 'decent clthing in beding and adios sficte o for thm',\n",
              " 'but of these three hundred ad ninety six were everstd by the kaing in councel and only fitywor eleles utut',\n",
              " 'im getting of tht lconfused with somany questions',\n",
              " 'kichion the whole crivage domonos and common tossing at which is much as for filhn hs hes hn hn hon n',\n",
              " 'on the olpening of whitecross prison for debtors in eitenften',\n",
              " 'according to the trolman pol this discription came from mrs mackm and as rereiad ad dad veve',\n",
              " 'the womean where he lodged notice that he was very resless at night moning and siing much c c en en epeei',\n",
              " 'but there were few cases so remarkable as the great one al ray rcud',\n",
              " 'under the entry for august to steptember of the er ro quote',\n",
              " 'through the constable on his fact and violently assaltetd him by joping in his hshesen n',\n",
              " 'ever since a similar proposal pased the houseivereat resentatives in eighteen sixtenen',\n",
              " 'the convicts were ppinioned one by one and sentinl to the thel',\n",
              " 'working throug bast agencies of coerse and employing grat massf of man in on of por porcono',\n",
              " 'the bacumin used in the work was brought to babylon from is a smalstree which cles to the fere',\n",
              " 'and decuarated kearn there with large releps representing bolls and lings ad ridin',\n",
              " 'mrs aberhams imposed upon her father by abstracting apportion of the dust and sellingt on groucu',\n",
              " 'the commission shars his concern',\n",
              " 'his associated with an adact if motification of loc a motor structures lages in wans',\n",
              " 'one of these was mops whod hd the mieirs',\n",
              " 'wakefield in replie to her inquries satisfied hear that her mother was well and that the real reas in for some ingerfromscol',\n",
              " 'marmally it would be ad good tipke of litterature and the one that irecall was leavs of grass biy wel lien end quote',\n",
              " 'provided by other agenes',\n",
              " 'mrs kennedy and the atturny gnerl',\n",
              " \"ill heard a second shot proximately five seconds after the first which removed aportion of the president's hed\",\n",
              " 'his use of those excuses to present himself to the world as apperson who was ben n flly ed',\n",
              " 'she thought that its collor was similar to that of the bagk found on the sixth floor of the school book depository after the assassination',\n",
              " 'shieldren harily old inough to be re least from the nuersry',\n",
              " 'after their brliced from lacistr ind newgate respectively ut lil l a er ded',\n",
              " 'while an irland a wife dashd aut her husbans braings whrh hemer',\n",
              " 'was a wholein it hall and he was dirdy and i din loice i id it o mon min in e ten he',\n",
              " 'apt in friatz produced the selective service card baring the name la  he ala',\n",
              " 'he did not have a checklisst of the tasts she was expected to accomplish either bi is own fforts or with the cooperaton of ll totie',\n",
              " 'and apperson calling preself misslackeduly attended at the bank where the mony was had id nover to her an prp or',\n",
              " 'a hidell p abox to nine one five leltses sen tenteneteneneneseteixtyty',\n",
              " 'the last paragrafht irected her to the jail',\n",
              " 'newgate continued to be i reproachd to those responspbo or mimmemtmet',\n",
              " 'was clens and closed with sutures but a smalm m tallicfrigment remen the the the rer ras la',\n",
              " 'he hadmitted nothing that would damage him but discused other maters ritre',\n",
              " 'they weremade to wash and swal the ward or they were shut out from the ward fir place and from bidden to pas ac chalk lin on on the r',\n",
              " 'gree in the latter case was a secondary move',\n",
              " 'the house was empty bare and stripe ef all etsfurniche and or ror end en en ed ace',\n",
              " 'and his half brother john pick who had been borne in nineteen thirtytrene r reremer as as as sas rarad',\n",
              " 'under which wae ar an an in pincinsins',\n",
              " 'the finding that lee harvey oswald attempted to murder apublic figure in iirnninenettyththe',\n",
              " 'eventually polloly was decided upon as a sigte for the newstit prison',\n",
              " 'he natturally seese the primary and the most important distinction miten anmalsd an',\n",
              " 'and later experience has fully proved the advantig of a judicious system pertoies lar',\n",
              " 'marina oswald gave is her appinion that the mae loder cupon was in oswald hnringing',\n",
              " 'there will be those of coureul try to tell u that the ecxceptional failiare is charactrist et tof the dide en ever',\n",
              " 'satler was ine fr sesesteye',\n",
              " 'to see that no circumstances of severityar found in his treeatment which are not found in hisentec',\n",
              " \"removal of the president's udy\",\n",
              " 'to control traffic arrangements weremade for the deployment of ft pe trolmen and motorcycl pollice ad various positions along the rout',\n",
              " 'asked me inongl til w fif fer rmimes',\n",
              " 'hached amongtsthem a plock to murder ter offies and his she sheh',\n",
              " 'the committe is not seem to have yet understod that newgate could be only and properly re',\n",
              " 'and with the concurrnce of the dallas police was entirely appropriate inview of the known desdire o the presede',\n",
              " 'show howgreatly the publicigy in wie diescemination of the news regarding murder facillitate the detection of crie',\n",
              " 'then hounlit walked down the starwey to the secondfor laning and rten ran trm',\n",
              " 'after his reacent rebous in ecuccucy',\n",
              " 'mrs markhumtol col',\n",
              " 'oswald said quote no ser when neugit down stairs clost t the the the e ed eod qu',\n",
              " 'in addition there is no evidence that he received any substantial amount amaterials from the nattional hid qurtes',\n",
              " 'a vice and misry debasing all or confind with in their walls and dessevinating through thir respectif comnintes',\n",
              " 'fif the protective jobis welldone its performance wil be evident only in the ounececeallffif e sssec',\n",
              " 'to hich the evente of lesst november coldenenin',\n",
              " 'or tomis jefforson from washinton to to sall',\n",
              " 'aparently woulue through the downtown areap prolan es terte',\n",
              " 'of people ho had die frendless would vollentarilly surrender tham for the advansement of metacsside',\n",
              " 'in one part the most praise were the ectivies prvele',\n",
              " 'in another part seven persons mat their deffif if faftatio',\n",
              " 'bua hichy kept the autaman icqweapon ready as the cacarad o the the possil',\n",
              " 'the old custim so fruful of the worst evils of keeving at tap inscide the prison man a le',\n",
              " 'the grubbal also includ representatives of cities and of labor prmin an an n ind end sre',\n",
              " 'to have ebtained as much es forty thousand pounds by fals and fraudln pes',\n",
              " 'no less than four hundred and fifty one sentences of death for capital crimes were passed at the laly',\n",
              " 'was discarded along with the others as oswald lefthe se',\n",
              " 'fhull evidence was taken on all points and on that regarding public executions there was agreat propondrence of apinint ored beveion',\n",
              " 'to provides such commodations injails as maein necessary to ainswer tis salatary prpes',\n",
              " 'as the inspectors of prisons bound them in eighteen thirtyfive to sis',\n",
              " 'she testified that oswald quote was very happy end quote about the bert of the child',\n",
              " 'a president elect and accanndedat for the presidency winin er lie',\n",
              " 'now she abiuwsed the dory on an an an on bon',\n",
              " 'bicwaters also remembered that a man received a transfor at lamar and alm streets and that a man in the light up was about the sive of hamn',\n",
              " 'warm and coled bat or o ene in in en ee',\n",
              " 'down belo betwee in the gallaries was the mas of the prison puilation',\n",
              " 'which insome fassion presides over albemovements of the protoplasm and is the fiysical basis of the fonnomonup ofirity',\n",
              " 'one of the owners had metter atadeal tut the captain had already osconded with the packages of precisturns is hispit',\n",
              " 'and open handed unthinking charity which gave freely to the por and ned the money which the longe to hiscireter',\n",
              " 'while in plants nitrogen is only excedently joined with the three other fundemental consitunc ouprin anin',\n",
              " 'chapter two the sasan an on',\n",
              " 'but wile repuiating the charges made einst him of systematticecextravid ens end masy',\n",
              " 'the evls of association for these debtors were perpetuated although the tlan provided for the separation of the various contingient cimtd tt',\n",
              " 'the cases subject to perioicgreview and the one hundred or so cases in the highrescatry',\n",
              " 'there is anough onit to say that it could have com any had perhosilitl stronger to say that prably for mom miss',\n",
              " 'he would have arrived ther about twilfifeted n on m',\n",
              " 'a fire was lift in it and the made induing so throug alott rof robishas it semed which had accumulated under the great on top of the brinll',\n",
              " 'baker was riding at two we aldmodercycle ahignd the last pressd ar of the mocered',\n",
              " 'were the murder for which he was condemed had been commited',\n",
              " 'and i saw president kennedy gra at himself and lerch for and tht theleend ed quote',\n",
              " 'cosely following this great constructive effort we a the rer rer s al ianineses',\n",
              " 'in all cases tie mem te the she she',\n",
              " 'he was seen afterware smoking and talking with is host in their back parler nd erere ed end nd o',\n",
              " \"running in a lined from the wound in the rear of the president's head towrd the front part of the sel\",\n",
              " \"for examples to ad attermination of the optimom organization of the president's pretion\",\n",
              " 'the dirful suspicions which surrounted the case filld the whole country with unedin is in ig',\n",
              " 'who not strangely resent de ors istued by the aldermn',\n",
              " 'made by photographing the oswald cards reetuching the resulting negatives and producing princs for the tre tetendeis',\n",
              " 'one of the turn hes arrushe foard and push a',\n",
              " 'we ave reasent ta fer that poverty rage clothes and an inability to pay ae word dos waeere ed ded ed per porroroionin',\n",
              " 'quote the only thing ni contestifiye iis they could halve on the basis of the rifling caractrists coh  ed ed end qude',\n",
              " \"oswald's file at the department of state passkport office wae erein nineneinextixt\",\n",
              " 'where the anevitedbly meat with further contamination from the society of the most avandoned and incorrigal inmof the theal',\n",
              " 'to those in other lonedon prisons for newgate was not the only place of durance for these onfortunit people ther ral  tof the egec',\n",
              " 'indicating that his motivation was at bleace in part a personal one on november twentysitninetetynn',\n",
              " 'therewere dormatories without light controll or ruitind n ',\n",
              " 'at least in the unit to which he wais assigned after his return from the far e',\n",
              " 'but ll o or os sossossissisin',\n",
              " 'from attember twentyfour nineteen sixtythree when marina oswald arived in erving from new orleans untill the morning of the assassination',\n",
              " 'day after day travbylon scorched by the het of newndat shiurein tie the lelin in ie thegt',\n",
              " 'the prisoner who used the nif was secured med it was the wardsman and not the officers to whon the report was made and no official inquiry orpunishment follo',\n",
              " 'in the fall of nineteen forty eight she ho od ond ed rs rassald',\n",
              " 'forn extended toor of westerner oppan countries the soviet kun inln end ldlend',\n",
              " 'simply expressed the left and right and their ofspering factions and concere any practical atetpt allaltitiv',\n",
              " 'that the formse af printed letters should followm more orlesst closely those of the ritteincaracter and they followgimvry cusy',\n",
              " 'anfortunately he took todrink lost his appointment and felfmrman tht or',\n",
              " 'all agents are soinspruted',\n",
              " 'the trial of caterin winsor the ba b for',\n",
              " ...]"
            ]
          },
          "metadata": {},
          "execution_count": 51
        }
      ],
      "source": [
        "predictions"
      ]
    }
  ],
  "metadata": {
    "accelerator": "GPU",
    "colab": {
      "provenance": [],
      "gpuClass": "premium",
      "mount_file_id": "15cBDxxKOz5NfgZ2nOBAkybYt7VsOZk0q",
      "authorship_tag": "ABX9TyNMgmRGefHZBPERAH6stmVp",
      "include_colab_link": true
    },
    "gpuClass": "premium",
    "kernelspec": {
      "display_name": "Python 3",
      "name": "python3"
    },
    "language_info": {
      "name": "python"
    }
  },
  "nbformat": 4,
  "nbformat_minor": 0
}