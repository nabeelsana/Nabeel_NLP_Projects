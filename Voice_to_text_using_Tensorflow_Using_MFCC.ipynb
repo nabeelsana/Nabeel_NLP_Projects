{
  "cells": [
    {
      "cell_type": "markdown",
      "metadata": {
        "id": "view-in-github",
        "colab_type": "text"
      },
      "source": [
        "<a href=\"https://colab.research.google.com/github/nabeelsana/Nabeel_NLP_Projects/blob/main/Voice_to_text_using_Tensorflow_Using_MFCC.ipynb\" target=\"_parent\"><img src=\"https://colab.research.google.com/assets/colab-badge.svg\" alt=\"Open In Colab\"/></a>"
      ]
    },
    {
      "cell_type": "code",
      "execution_count": null,
      "metadata": {
        "id": "Lt5tdOWcSNJz"
      },
      "outputs": [],
      "source": [
        "import librosa\n",
        "import librosa.display\n",
        "import matplotlib.pyplot as plt\n",
        "from IPython.display import Audio"
      ]
    },
    {
      "cell_type": "code",
      "execution_count": null,
      "metadata": {
        "id": "mVgIQFr7o8Ri"
      },
      "outputs": [],
      "source": [
        "import numpy as np\n",
        "import sklearn\n",
        "import csv\n",
        "import os\n",
        "import pandas as pd"
      ]
    },
    {
      "cell_type": "code",
      "execution_count": null,
      "metadata": {
        "colab": {
          "base_uri": "https://localhost:8080/",
          "height": 35
        },
        "id": "aB8A7lHLm0nB",
        "outputId": "436044d7-2d43-4c0c-8897-027daf0e8aac"
      },
      "outputs": [
        {
          "output_type": "execute_result",
          "data": {
            "text/plain": [
              "'2.11.0'"
            ],
            "application/vnd.google.colaboratory.intrinsic+json": {
              "type": "string"
            }
          },
          "metadata": {},
          "execution_count": 3
        }
      ],
      "source": [
        "import tensorflow as tf\n",
        "tf.__version__"
      ]
    },
    {
      "cell_type": "code",
      "execution_count": null,
      "metadata": {
        "colab": {
          "base_uri": "https://localhost:8080/"
        },
        "id": "pk5u3ef5Hyo7",
        "outputId": "1659cf86-b51c-4a12-8860-124fa85b9318"
      },
      "outputs": [
        {
          "output_type": "stream",
          "name": "stdout",
          "text": [
            "Looking in indexes: https://pypi.org/simple, https://us-python.pkg.dev/colab-wheels/public/simple/\n",
            "Collecting jiwer\n",
            "  Downloading jiwer-2.6.0-py3-none-any.whl (20 kB)\n",
            "Collecting rapidfuzz==2.13.7\n",
            "  Downloading rapidfuzz-2.13.7-cp39-cp39-manylinux_2_17_x86_64.manylinux2014_x86_64.whl (2.2 MB)\n",
            "\u001b[2K     \u001b[90m━━━━━━━━━━━━━━━━━━━━━━━━━━━━━━━━━━━━━━━━\u001b[0m \u001b[32m2.2/2.2 MB\u001b[0m \u001b[31m26.4 MB/s\u001b[0m eta \u001b[36m0:00:00\u001b[0m\n",
            "\u001b[?25hRequirement already satisfied: click<9.0.0,>=8.1.3 in /usr/local/lib/python3.9/dist-packages (from jiwer) (8.1.3)\n",
            "Installing collected packages: rapidfuzz, jiwer\n",
            "Successfully installed jiwer-2.6.0 rapidfuzz-2.13.7\n"
          ]
        }
      ],
      "source": [
        "!pip install jiwer"
      ]
    },
    {
      "cell_type": "code",
      "execution_count": null,
      "metadata": {
        "id": "oFcYIC0nH-6F"
      },
      "outputs": [],
      "source": [
        "from jiwer import wer"
      ]
    },
    {
      "cell_type": "markdown",
      "source": [
        "# DATASET LINK"
      ],
      "metadata": {
        "id": "ff89AFJcIx5C"
      }
    },
    {
      "cell_type": "markdown",
      "source": [
        "https://keithito.com/LJ-Speech-Dataset/"
      ],
      "metadata": {
        "id": "giTJu3cOI0wU"
      }
    },
    {
      "cell_type": "code",
      "execution_count": null,
      "metadata": {
        "id": "6rRL3rVeoJ5c"
      },
      "outputs": [],
      "source": [
        "#Mounting Google drive"
      ]
    },
    {
      "cell_type": "code",
      "execution_count": null,
      "metadata": {
        "colab": {
          "base_uri": "https://localhost:8080/"
        },
        "id": "syh_uavEobtO",
        "outputId": "a735bb3d-03d2-4925-a8c4-9cb3a59a26f1"
      },
      "outputs": [
        {
          "output_type": "stream",
          "name": "stdout",
          "text": [
            "Mounted at /gdrive\n"
          ]
        }
      ],
      "source": [
        "from google.colab import drive\n",
        "drive.mount('/gdrive')"
      ]
    },
    {
      "cell_type": "code",
      "execution_count": null,
      "metadata": {
        "id": "GfTWaAUqp-se"
      },
      "outputs": [],
      "source": [
        "# STEP 1: Listing all audio clips and verifying their presence, then extract file names without extension"
      ]
    },
    {
      "cell_type": "code",
      "execution_count": null,
      "metadata": {
        "id": "GqeVbJ8cfukw",
        "colab": {
          "base_uri": "https://localhost:8080/",
          "height": 235
        },
        "outputId": "bc9051c7-c6ab-4fcd-9883-f0a56b7ffa4f"
      },
      "outputs": [
        {
          "output_type": "error",
          "ename": "KeyboardInterrupt",
          "evalue": "ignored",
          "traceback": [
            "\u001b[0;31m---------------------------------------------------------------------------\u001b[0m",
            "\u001b[0;31mKeyboardInterrupt\u001b[0m                         Traceback (most recent call last)",
            "\u001b[0;32m<ipython-input-7-6692140bbe2b>\u001b[0m in \u001b[0;36m<module>\u001b[0;34m\u001b[0m\n\u001b[1;32m      1\u001b[0m \u001b[0;31m#SKIP\u001b[0m\u001b[0;34m\u001b[0m\u001b[0;34m\u001b[0m\u001b[0;34m\u001b[0m\u001b[0m\n\u001b[0;32m----> 2\u001b[0;31m \u001b[0mfiles\u001b[0m \u001b[0;34m=\u001b[0m \u001b[0mos\u001b[0m\u001b[0;34m.\u001b[0m\u001b[0mlistdir\u001b[0m\u001b[0;34m(\u001b[0m\u001b[0;34m'/gdrive/MyDrive/data/Speech2text/LJSpeech-1.1/wavs'\u001b[0m\u001b[0;34m)\u001b[0m\u001b[0;34m\u001b[0m\u001b[0;34m\u001b[0m\u001b[0m\n\u001b[0m\u001b[1;32m      3\u001b[0m \u001b[0;34m\u001b[0m\u001b[0m\n\u001b[1;32m      4\u001b[0m \u001b[0mprint\u001b[0m\u001b[0;34m(\u001b[0m\u001b[0mtype\u001b[0m\u001b[0;34m(\u001b[0m\u001b[0mfiles\u001b[0m\u001b[0;34m)\u001b[0m\u001b[0;34m)\u001b[0m\u001b[0;34m\u001b[0m\u001b[0;34m\u001b[0m\u001b[0m\n\u001b[1;32m      5\u001b[0m \u001b[0mprint\u001b[0m\u001b[0;34m(\u001b[0m\u001b[0mfiles\u001b[0m\u001b[0;34m[\u001b[0m\u001b[0;34m:\u001b[0m\u001b[0;36m10\u001b[0m\u001b[0;34m]\u001b[0m\u001b[0;34m)\u001b[0m\u001b[0;34m\u001b[0m\u001b[0;34m\u001b[0m\u001b[0m\n",
            "\u001b[0;31mKeyboardInterrupt\u001b[0m: "
          ]
        }
      ],
      "source": [
        "#SKIP\n",
        "#files = os.listdir('/gdrive/MyDrive/data/Speech2text/LJSpeech-1.1/wavs')\n",
        "\n",
        "print(type(files))\n",
        "print(files[:10])\n"
      ]
    },
    {
      "cell_type": "code",
      "execution_count": null,
      "metadata": {
        "id": "Ou4dZSMVxghT"
      },
      "outputs": [],
      "source": [
        "#SKIP\n",
        "#storing file names in drive as a csv file\n",
        "\n",
        "with open('/gdrive/MyDrive/data/Speech2text/LJSpeech-1.1/LJclipnames.csv', \"w\", newline = '') as file:\n",
        "  writer = csv.writer(file)\n",
        "  for name in files:\n",
        "    writer.writerow([name])         #[name] will print each name as a new row"
      ]
    },
    {
      "cell_type": "code",
      "execution_count": null,
      "metadata": {
        "id": "ZYRDeP3QsHL5"
      },
      "outputs": [],
      "source": [
        "#Importing file as a dataframe\n",
        "\n",
        "clips_df = pd.read_csv('/gdrive/MyDrive/data/Speech2text/LJSpeech-1.1/LJclipnames.csv')"
      ]
    },
    {
      "cell_type": "code",
      "execution_count": null,
      "metadata": {
        "colab": {
          "base_uri": "https://localhost:8080/"
        },
        "id": "je6WQ-o2s5yp",
        "outputId": "ce20304f-5408-4813-eb1f-6f99699d2361"
      },
      "outputs": [
        {
          "output_type": "stream",
          "name": "stdout",
          "text": [
            "13099\n",
            "       Clips_name\n",
            "0  LJ007-0088.wav\n",
            "1  LJ002-0275.wav\n",
            "2  LJ016-0071.wav\n",
            "3  LJ015-0012.wav\n",
            "4  LJ018-0279.wav\n"
          ]
        }
      ],
      "source": [
        "clips_df.columns = (['Clips_name'])\n",
        "print(len(clips_df))\n",
        "print(clips_df.head())"
      ]
    },
    {
      "cell_type": "code",
      "execution_count": null,
      "metadata": {
        "id": "Wh-n7WYHyP_H"
      },
      "outputs": [],
      "source": [
        "clips_df['file_name']= clips_df['Clips_name']"
      ]
    },
    {
      "cell_type": "code",
      "execution_count": null,
      "metadata": {
        "colab": {
          "base_uri": "https://localhost:8080/",
          "height": 206
        },
        "id": "At7SbzcaydWK",
        "outputId": "f9c9dd2b-d223-47b4-8523-e7c9e83f625d"
      },
      "outputs": [
        {
          "output_type": "execute_result",
          "data": {
            "text/plain": [
              "       Clips_name       file_name\n",
              "0  LJ007-0088.wav  LJ007-0088.wav\n",
              "1  LJ002-0275.wav  LJ002-0275.wav\n",
              "2  LJ016-0071.wav  LJ016-0071.wav\n",
              "3  LJ015-0012.wav  LJ015-0012.wav\n",
              "4  LJ018-0279.wav  LJ018-0279.wav"
            ],
            "text/html": [
              "\n",
              "  <div id=\"df-46a40e68-ca8c-411a-922c-fa37ffb856fc\">\n",
              "    <div class=\"colab-df-container\">\n",
              "      <div>\n",
              "<style scoped>\n",
              "    .dataframe tbody tr th:only-of-type {\n",
              "        vertical-align: middle;\n",
              "    }\n",
              "\n",
              "    .dataframe tbody tr th {\n",
              "        vertical-align: top;\n",
              "    }\n",
              "\n",
              "    .dataframe thead th {\n",
              "        text-align: right;\n",
              "    }\n",
              "</style>\n",
              "<table border=\"1\" class=\"dataframe\">\n",
              "  <thead>\n",
              "    <tr style=\"text-align: right;\">\n",
              "      <th></th>\n",
              "      <th>Clips_name</th>\n",
              "      <th>file_name</th>\n",
              "    </tr>\n",
              "  </thead>\n",
              "  <tbody>\n",
              "    <tr>\n",
              "      <th>0</th>\n",
              "      <td>LJ007-0088.wav</td>\n",
              "      <td>LJ007-0088.wav</td>\n",
              "    </tr>\n",
              "    <tr>\n",
              "      <th>1</th>\n",
              "      <td>LJ002-0275.wav</td>\n",
              "      <td>LJ002-0275.wav</td>\n",
              "    </tr>\n",
              "    <tr>\n",
              "      <th>2</th>\n",
              "      <td>LJ016-0071.wav</td>\n",
              "      <td>LJ016-0071.wav</td>\n",
              "    </tr>\n",
              "    <tr>\n",
              "      <th>3</th>\n",
              "      <td>LJ015-0012.wav</td>\n",
              "      <td>LJ015-0012.wav</td>\n",
              "    </tr>\n",
              "    <tr>\n",
              "      <th>4</th>\n",
              "      <td>LJ018-0279.wav</td>\n",
              "      <td>LJ018-0279.wav</td>\n",
              "    </tr>\n",
              "  </tbody>\n",
              "</table>\n",
              "</div>\n",
              "      <button class=\"colab-df-convert\" onclick=\"convertToInteractive('df-46a40e68-ca8c-411a-922c-fa37ffb856fc')\"\n",
              "              title=\"Convert this dataframe to an interactive table.\"\n",
              "              style=\"display:none;\">\n",
              "        \n",
              "  <svg xmlns=\"http://www.w3.org/2000/svg\" height=\"24px\"viewBox=\"0 0 24 24\"\n",
              "       width=\"24px\">\n",
              "    <path d=\"M0 0h24v24H0V0z\" fill=\"none\"/>\n",
              "    <path d=\"M18.56 5.44l.94 2.06.94-2.06 2.06-.94-2.06-.94-.94-2.06-.94 2.06-2.06.94zm-11 1L8.5 8.5l.94-2.06 2.06-.94-2.06-.94L8.5 2.5l-.94 2.06-2.06.94zm10 10l.94 2.06.94-2.06 2.06-.94-2.06-.94-.94-2.06-.94 2.06-2.06.94z\"/><path d=\"M17.41 7.96l-1.37-1.37c-.4-.4-.92-.59-1.43-.59-.52 0-1.04.2-1.43.59L10.3 9.45l-7.72 7.72c-.78.78-.78 2.05 0 2.83L4 21.41c.39.39.9.59 1.41.59.51 0 1.02-.2 1.41-.59l7.78-7.78 2.81-2.81c.8-.78.8-2.07 0-2.86zM5.41 20L4 18.59l7.72-7.72 1.47 1.35L5.41 20z\"/>\n",
              "  </svg>\n",
              "      </button>\n",
              "      \n",
              "  <style>\n",
              "    .colab-df-container {\n",
              "      display:flex;\n",
              "      flex-wrap:wrap;\n",
              "      gap: 12px;\n",
              "    }\n",
              "\n",
              "    .colab-df-convert {\n",
              "      background-color: #E8F0FE;\n",
              "      border: none;\n",
              "      border-radius: 50%;\n",
              "      cursor: pointer;\n",
              "      display: none;\n",
              "      fill: #1967D2;\n",
              "      height: 32px;\n",
              "      padding: 0 0 0 0;\n",
              "      width: 32px;\n",
              "    }\n",
              "\n",
              "    .colab-df-convert:hover {\n",
              "      background-color: #E2EBFA;\n",
              "      box-shadow: 0px 1px 2px rgba(60, 64, 67, 0.3), 0px 1px 3px 1px rgba(60, 64, 67, 0.15);\n",
              "      fill: #174EA6;\n",
              "    }\n",
              "\n",
              "    [theme=dark] .colab-df-convert {\n",
              "      background-color: #3B4455;\n",
              "      fill: #D2E3FC;\n",
              "    }\n",
              "\n",
              "    [theme=dark] .colab-df-convert:hover {\n",
              "      background-color: #434B5C;\n",
              "      box-shadow: 0px 1px 3px 1px rgba(0, 0, 0, 0.15);\n",
              "      filter: drop-shadow(0px 1px 2px rgba(0, 0, 0, 0.3));\n",
              "      fill: #FFFFFF;\n",
              "    }\n",
              "  </style>\n",
              "\n",
              "      <script>\n",
              "        const buttonEl =\n",
              "          document.querySelector('#df-46a40e68-ca8c-411a-922c-fa37ffb856fc button.colab-df-convert');\n",
              "        buttonEl.style.display =\n",
              "          google.colab.kernel.accessAllowed ? 'block' : 'none';\n",
              "\n",
              "        async function convertToInteractive(key) {\n",
              "          const element = document.querySelector('#df-46a40e68-ca8c-411a-922c-fa37ffb856fc');\n",
              "          const dataTable =\n",
              "            await google.colab.kernel.invokeFunction('convertToInteractive',\n",
              "                                                     [key], {});\n",
              "          if (!dataTable) return;\n",
              "\n",
              "          const docLinkHtml = 'Like what you see? Visit the ' +\n",
              "            '<a target=\"_blank\" href=https://colab.research.google.com/notebooks/data_table.ipynb>data table notebook</a>'\n",
              "            + ' to learn more about interactive tables.';\n",
              "          element.innerHTML = '';\n",
              "          dataTable['output_type'] = 'display_data';\n",
              "          await google.colab.output.renderOutput(dataTable, element);\n",
              "          const docLink = document.createElement('div');\n",
              "          docLink.innerHTML = docLinkHtml;\n",
              "          element.appendChild(docLink);\n",
              "        }\n",
              "      </script>\n",
              "    </div>\n",
              "  </div>\n",
              "  "
            ]
          },
          "metadata": {},
          "execution_count": 10
        }
      ],
      "source": [
        "clips_df.head()"
      ]
    },
    {
      "cell_type": "code",
      "execution_count": null,
      "metadata": {
        "id": "zwzCPL8hzKzS"
      },
      "outputs": [],
      "source": [
        "clips_df[['file_name', 'Extension']] = clips_df['file_name'].str.split('.',1, expand = True)"
      ]
    },
    {
      "cell_type": "code",
      "execution_count": null,
      "metadata": {
        "colab": {
          "base_uri": "https://localhost:8080/"
        },
        "id": "mspzO51X06lo",
        "outputId": "470d0721-95af-47ef-8159-5338a33abecc"
      },
      "outputs": [
        {
          "output_type": "stream",
          "name": "stdout",
          "text": [
            "       Clips_name   file_name Extension\n",
            "0  LJ007-0088.wav  LJ007-0088       wav\n",
            "1  LJ002-0275.wav  LJ002-0275       wav\n",
            "2  LJ016-0071.wav  LJ016-0071       wav\n",
            "3  LJ015-0012.wav  LJ015-0012       wav\n",
            "4  LJ018-0279.wav  LJ018-0279       wav\n",
            "13099\n"
          ]
        }
      ],
      "source": [
        "print(clips_df.head())\n",
        "print(len(clips_df))"
      ]
    },
    {
      "cell_type": "code",
      "execution_count": null,
      "metadata": {
        "id": "BSxawlSJtc8G"
      },
      "outputs": [],
      "source": [
        "#STEP 2: Read Meta data file contains clips names and sentences"
      ]
    },
    {
      "cell_type": "code",
      "execution_count": null,
      "metadata": {
        "id": "28fpD4JG6yYP"
      },
      "outputs": [],
      "source": [
        "meta_df = pd.read_csv('/gdrive/MyDrive/data/Speech2text/LJSpeech-1.1/metadata.csv',sep = '|', header = None, )  #make sure file is UTF8 encoded\n",
        "\n"
      ]
    },
    {
      "cell_type": "code",
      "execution_count": null,
      "metadata": {
        "id": "4QDsgxgcSX4W"
      },
      "outputs": [],
      "source": [
        "meta_df.columns = (['file_name', 'raw_transcription', 'transcription'])"
      ]
    },
    {
      "cell_type": "code",
      "execution_count": null,
      "metadata": {
        "colab": {
          "base_uri": "https://localhost:8080/",
          "height": 206
        },
        "id": "jvDR9ZRZvq7-",
        "outputId": "46b1bd7c-5c27-465b-b396-fb08a4b41938"
      },
      "outputs": [
        {
          "output_type": "execute_result",
          "data": {
            "text/plain": [
              "    file_name                                  raw_transcription  \\\n",
              "0  LJ001-0001  Printing, in the only sense with which we are ...   \n",
              "1  LJ001-0002                     in being comparatively modern.   \n",
              "2  LJ001-0003  For although the Chinese took impressions from...   \n",
              "3  LJ001-0004  produced the block books, which were the immed...   \n",
              "4  LJ001-0005  the invention of movable metal letters in the ...   \n",
              "\n",
              "                                       transcription  \n",
              "0  Printing, in the only sense with which we are ...  \n",
              "1                     in being comparatively modern.  \n",
              "2  For although the Chinese took impressions from...  \n",
              "3  produced the block books, which were the immed...  \n",
              "4  the invention of movable metal letters in the ...  "
            ],
            "text/html": [
              "\n",
              "  <div id=\"df-03f09f67-f939-4ce1-b8bb-dcf671cb71c7\">\n",
              "    <div class=\"colab-df-container\">\n",
              "      <div>\n",
              "<style scoped>\n",
              "    .dataframe tbody tr th:only-of-type {\n",
              "        vertical-align: middle;\n",
              "    }\n",
              "\n",
              "    .dataframe tbody tr th {\n",
              "        vertical-align: top;\n",
              "    }\n",
              "\n",
              "    .dataframe thead th {\n",
              "        text-align: right;\n",
              "    }\n",
              "</style>\n",
              "<table border=\"1\" class=\"dataframe\">\n",
              "  <thead>\n",
              "    <tr style=\"text-align: right;\">\n",
              "      <th></th>\n",
              "      <th>file_name</th>\n",
              "      <th>raw_transcription</th>\n",
              "      <th>transcription</th>\n",
              "    </tr>\n",
              "  </thead>\n",
              "  <tbody>\n",
              "    <tr>\n",
              "      <th>0</th>\n",
              "      <td>LJ001-0001</td>\n",
              "      <td>Printing, in the only sense with which we are ...</td>\n",
              "      <td>Printing, in the only sense with which we are ...</td>\n",
              "    </tr>\n",
              "    <tr>\n",
              "      <th>1</th>\n",
              "      <td>LJ001-0002</td>\n",
              "      <td>in being comparatively modern.</td>\n",
              "      <td>in being comparatively modern.</td>\n",
              "    </tr>\n",
              "    <tr>\n",
              "      <th>2</th>\n",
              "      <td>LJ001-0003</td>\n",
              "      <td>For although the Chinese took impressions from...</td>\n",
              "      <td>For although the Chinese took impressions from...</td>\n",
              "    </tr>\n",
              "    <tr>\n",
              "      <th>3</th>\n",
              "      <td>LJ001-0004</td>\n",
              "      <td>produced the block books, which were the immed...</td>\n",
              "      <td>produced the block books, which were the immed...</td>\n",
              "    </tr>\n",
              "    <tr>\n",
              "      <th>4</th>\n",
              "      <td>LJ001-0005</td>\n",
              "      <td>the invention of movable metal letters in the ...</td>\n",
              "      <td>the invention of movable metal letters in the ...</td>\n",
              "    </tr>\n",
              "  </tbody>\n",
              "</table>\n",
              "</div>\n",
              "      <button class=\"colab-df-convert\" onclick=\"convertToInteractive('df-03f09f67-f939-4ce1-b8bb-dcf671cb71c7')\"\n",
              "              title=\"Convert this dataframe to an interactive table.\"\n",
              "              style=\"display:none;\">\n",
              "        \n",
              "  <svg xmlns=\"http://www.w3.org/2000/svg\" height=\"24px\"viewBox=\"0 0 24 24\"\n",
              "       width=\"24px\">\n",
              "    <path d=\"M0 0h24v24H0V0z\" fill=\"none\"/>\n",
              "    <path d=\"M18.56 5.44l.94 2.06.94-2.06 2.06-.94-2.06-.94-.94-2.06-.94 2.06-2.06.94zm-11 1L8.5 8.5l.94-2.06 2.06-.94-2.06-.94L8.5 2.5l-.94 2.06-2.06.94zm10 10l.94 2.06.94-2.06 2.06-.94-2.06-.94-.94-2.06-.94 2.06-2.06.94z\"/><path d=\"M17.41 7.96l-1.37-1.37c-.4-.4-.92-.59-1.43-.59-.52 0-1.04.2-1.43.59L10.3 9.45l-7.72 7.72c-.78.78-.78 2.05 0 2.83L4 21.41c.39.39.9.59 1.41.59.51 0 1.02-.2 1.41-.59l7.78-7.78 2.81-2.81c.8-.78.8-2.07 0-2.86zM5.41 20L4 18.59l7.72-7.72 1.47 1.35L5.41 20z\"/>\n",
              "  </svg>\n",
              "      </button>\n",
              "      \n",
              "  <style>\n",
              "    .colab-df-container {\n",
              "      display:flex;\n",
              "      flex-wrap:wrap;\n",
              "      gap: 12px;\n",
              "    }\n",
              "\n",
              "    .colab-df-convert {\n",
              "      background-color: #E8F0FE;\n",
              "      border: none;\n",
              "      border-radius: 50%;\n",
              "      cursor: pointer;\n",
              "      display: none;\n",
              "      fill: #1967D2;\n",
              "      height: 32px;\n",
              "      padding: 0 0 0 0;\n",
              "      width: 32px;\n",
              "    }\n",
              "\n",
              "    .colab-df-convert:hover {\n",
              "      background-color: #E2EBFA;\n",
              "      box-shadow: 0px 1px 2px rgba(60, 64, 67, 0.3), 0px 1px 3px 1px rgba(60, 64, 67, 0.15);\n",
              "      fill: #174EA6;\n",
              "    }\n",
              "\n",
              "    [theme=dark] .colab-df-convert {\n",
              "      background-color: #3B4455;\n",
              "      fill: #D2E3FC;\n",
              "    }\n",
              "\n",
              "    [theme=dark] .colab-df-convert:hover {\n",
              "      background-color: #434B5C;\n",
              "      box-shadow: 0px 1px 3px 1px rgba(0, 0, 0, 0.15);\n",
              "      filter: drop-shadow(0px 1px 2px rgba(0, 0, 0, 0.3));\n",
              "      fill: #FFFFFF;\n",
              "    }\n",
              "  </style>\n",
              "\n",
              "      <script>\n",
              "        const buttonEl =\n",
              "          document.querySelector('#df-03f09f67-f939-4ce1-b8bb-dcf671cb71c7 button.colab-df-convert');\n",
              "        buttonEl.style.display =\n",
              "          google.colab.kernel.accessAllowed ? 'block' : 'none';\n",
              "\n",
              "        async function convertToInteractive(key) {\n",
              "          const element = document.querySelector('#df-03f09f67-f939-4ce1-b8bb-dcf671cb71c7');\n",
              "          const dataTable =\n",
              "            await google.colab.kernel.invokeFunction('convertToInteractive',\n",
              "                                                     [key], {});\n",
              "          if (!dataTable) return;\n",
              "\n",
              "          const docLinkHtml = 'Like what you see? Visit the ' +\n",
              "            '<a target=\"_blank\" href=https://colab.research.google.com/notebooks/data_table.ipynb>data table notebook</a>'\n",
              "            + ' to learn more about interactive tables.';\n",
              "          element.innerHTML = '';\n",
              "          dataTable['output_type'] = 'display_data';\n",
              "          await google.colab.output.renderOutput(dataTable, element);\n",
              "          const docLink = document.createElement('div');\n",
              "          docLink.innerHTML = docLinkHtml;\n",
              "          element.appendChild(docLink);\n",
              "        }\n",
              "      </script>\n",
              "    </div>\n",
              "  </div>\n",
              "  "
            ]
          },
          "metadata": {},
          "execution_count": 15
        }
      ],
      "source": [
        "meta_df.head(5)"
      ]
    },
    {
      "cell_type": "code",
      "execution_count": null,
      "metadata": {
        "colab": {
          "base_uri": "https://localhost:8080/",
          "height": 551
        },
        "id": "Kybj4gw5M5of",
        "outputId": "6096fef2-e437-4dab-df33-950647220bbb"
      },
      "outputs": [
        {
          "output_type": "execute_result",
          "data": {
            "text/plain": [
              "       file_name                                  raw_transcription  \\\n",
              "945   LJ004-0076  Disease, cold, famine, nakedness, and contagio...   \n",
              "948   LJ004-0079  All measures and practices in prison which may...   \n",
              "1119  LJ004-0250  It is obvious that reformation must be materia...   \n",
              "1147  LJ005-0028  There should be no tea and sugar, no assemblag...   \n",
              "1149  LJ005-0030  In prisons, which are really meant to keep the...   \n",
              "1196  LJ005-0077  expedient to introduce such measures and arran...   \n",
              "1371  LJ005-0253  to inquire into and report upon the several ja...   \n",
              "1400  LJ005-0282  the comparatively innocent are seduced, the un...   \n",
              "1500  LJ006-0083  So great is the authority exercised by him,|So...   \n",
              "1655  LJ006-0238  There was a disturbance in the transport yard ...   \n",
              "1853  LJ007-0128  what must be the state of discipline in a plac...   \n",
              "1868  LJ007-0143  is permitted to purchase whatever his own mean...   \n",
              "1929  LJ007-0204  which has been demonstrably proved to be the f...   \n",
              "1939  LJ007-0214  The prominent evils of this prison (Newgate) -...   \n",
              "4693  LJ016-0282  Till three o'clock it was one long revelry of ...   \n",
              "7197  LJ027-0118  for, without waiting to dispute the wisdom of ...   \n",
              "\n",
              "     transcription  \n",
              "945            NaN  \n",
              "948            NaN  \n",
              "1119           NaN  \n",
              "1147           NaN  \n",
              "1149           NaN  \n",
              "1196           NaN  \n",
              "1371           NaN  \n",
              "1400           NaN  \n",
              "1500           NaN  \n",
              "1655           NaN  \n",
              "1853           NaN  \n",
              "1868           NaN  \n",
              "1929           NaN  \n",
              "1939           NaN  \n",
              "4693           NaN  \n",
              "7197           NaN  "
            ],
            "text/html": [
              "\n",
              "  <div id=\"df-66917ee4-e287-4b77-bd84-acd2b03f9eda\">\n",
              "    <div class=\"colab-df-container\">\n",
              "      <div>\n",
              "<style scoped>\n",
              "    .dataframe tbody tr th:only-of-type {\n",
              "        vertical-align: middle;\n",
              "    }\n",
              "\n",
              "    .dataframe tbody tr th {\n",
              "        vertical-align: top;\n",
              "    }\n",
              "\n",
              "    .dataframe thead th {\n",
              "        text-align: right;\n",
              "    }\n",
              "</style>\n",
              "<table border=\"1\" class=\"dataframe\">\n",
              "  <thead>\n",
              "    <tr style=\"text-align: right;\">\n",
              "      <th></th>\n",
              "      <th>file_name</th>\n",
              "      <th>raw_transcription</th>\n",
              "      <th>transcription</th>\n",
              "    </tr>\n",
              "  </thead>\n",
              "  <tbody>\n",
              "    <tr>\n",
              "      <th>945</th>\n",
              "      <td>LJ004-0076</td>\n",
              "      <td>Disease, cold, famine, nakedness, and contagio...</td>\n",
              "      <td>NaN</td>\n",
              "    </tr>\n",
              "    <tr>\n",
              "      <th>948</th>\n",
              "      <td>LJ004-0079</td>\n",
              "      <td>All measures and practices in prison which may...</td>\n",
              "      <td>NaN</td>\n",
              "    </tr>\n",
              "    <tr>\n",
              "      <th>1119</th>\n",
              "      <td>LJ004-0250</td>\n",
              "      <td>It is obvious that reformation must be materia...</td>\n",
              "      <td>NaN</td>\n",
              "    </tr>\n",
              "    <tr>\n",
              "      <th>1147</th>\n",
              "      <td>LJ005-0028</td>\n",
              "      <td>There should be no tea and sugar, no assemblag...</td>\n",
              "      <td>NaN</td>\n",
              "    </tr>\n",
              "    <tr>\n",
              "      <th>1149</th>\n",
              "      <td>LJ005-0030</td>\n",
              "      <td>In prisons, which are really meant to keep the...</td>\n",
              "      <td>NaN</td>\n",
              "    </tr>\n",
              "    <tr>\n",
              "      <th>1196</th>\n",
              "      <td>LJ005-0077</td>\n",
              "      <td>expedient to introduce such measures and arran...</td>\n",
              "      <td>NaN</td>\n",
              "    </tr>\n",
              "    <tr>\n",
              "      <th>1371</th>\n",
              "      <td>LJ005-0253</td>\n",
              "      <td>to inquire into and report upon the several ja...</td>\n",
              "      <td>NaN</td>\n",
              "    </tr>\n",
              "    <tr>\n",
              "      <th>1400</th>\n",
              "      <td>LJ005-0282</td>\n",
              "      <td>the comparatively innocent are seduced, the un...</td>\n",
              "      <td>NaN</td>\n",
              "    </tr>\n",
              "    <tr>\n",
              "      <th>1500</th>\n",
              "      <td>LJ006-0083</td>\n",
              "      <td>So great is the authority exercised by him,|So...</td>\n",
              "      <td>NaN</td>\n",
              "    </tr>\n",
              "    <tr>\n",
              "      <th>1655</th>\n",
              "      <td>LJ006-0238</td>\n",
              "      <td>There was a disturbance in the transport yard ...</td>\n",
              "      <td>NaN</td>\n",
              "    </tr>\n",
              "    <tr>\n",
              "      <th>1853</th>\n",
              "      <td>LJ007-0128</td>\n",
              "      <td>what must be the state of discipline in a plac...</td>\n",
              "      <td>NaN</td>\n",
              "    </tr>\n",
              "    <tr>\n",
              "      <th>1868</th>\n",
              "      <td>LJ007-0143</td>\n",
              "      <td>is permitted to purchase whatever his own mean...</td>\n",
              "      <td>NaN</td>\n",
              "    </tr>\n",
              "    <tr>\n",
              "      <th>1929</th>\n",
              "      <td>LJ007-0204</td>\n",
              "      <td>which has been demonstrably proved to be the f...</td>\n",
              "      <td>NaN</td>\n",
              "    </tr>\n",
              "    <tr>\n",
              "      <th>1939</th>\n",
              "      <td>LJ007-0214</td>\n",
              "      <td>The prominent evils of this prison (Newgate) -...</td>\n",
              "      <td>NaN</td>\n",
              "    </tr>\n",
              "    <tr>\n",
              "      <th>4693</th>\n",
              "      <td>LJ016-0282</td>\n",
              "      <td>Till three o'clock it was one long revelry of ...</td>\n",
              "      <td>NaN</td>\n",
              "    </tr>\n",
              "    <tr>\n",
              "      <th>7197</th>\n",
              "      <td>LJ027-0118</td>\n",
              "      <td>for, without waiting to dispute the wisdom of ...</td>\n",
              "      <td>NaN</td>\n",
              "    </tr>\n",
              "  </tbody>\n",
              "</table>\n",
              "</div>\n",
              "      <button class=\"colab-df-convert\" onclick=\"convertToInteractive('df-66917ee4-e287-4b77-bd84-acd2b03f9eda')\"\n",
              "              title=\"Convert this dataframe to an interactive table.\"\n",
              "              style=\"display:none;\">\n",
              "        \n",
              "  <svg xmlns=\"http://www.w3.org/2000/svg\" height=\"24px\"viewBox=\"0 0 24 24\"\n",
              "       width=\"24px\">\n",
              "    <path d=\"M0 0h24v24H0V0z\" fill=\"none\"/>\n",
              "    <path d=\"M18.56 5.44l.94 2.06.94-2.06 2.06-.94-2.06-.94-.94-2.06-.94 2.06-2.06.94zm-11 1L8.5 8.5l.94-2.06 2.06-.94-2.06-.94L8.5 2.5l-.94 2.06-2.06.94zm10 10l.94 2.06.94-2.06 2.06-.94-2.06-.94-.94-2.06-.94 2.06-2.06.94z\"/><path d=\"M17.41 7.96l-1.37-1.37c-.4-.4-.92-.59-1.43-.59-.52 0-1.04.2-1.43.59L10.3 9.45l-7.72 7.72c-.78.78-.78 2.05 0 2.83L4 21.41c.39.39.9.59 1.41.59.51 0 1.02-.2 1.41-.59l7.78-7.78 2.81-2.81c.8-.78.8-2.07 0-2.86zM5.41 20L4 18.59l7.72-7.72 1.47 1.35L5.41 20z\"/>\n",
              "  </svg>\n",
              "      </button>\n",
              "      \n",
              "  <style>\n",
              "    .colab-df-container {\n",
              "      display:flex;\n",
              "      flex-wrap:wrap;\n",
              "      gap: 12px;\n",
              "    }\n",
              "\n",
              "    .colab-df-convert {\n",
              "      background-color: #E8F0FE;\n",
              "      border: none;\n",
              "      border-radius: 50%;\n",
              "      cursor: pointer;\n",
              "      display: none;\n",
              "      fill: #1967D2;\n",
              "      height: 32px;\n",
              "      padding: 0 0 0 0;\n",
              "      width: 32px;\n",
              "    }\n",
              "\n",
              "    .colab-df-convert:hover {\n",
              "      background-color: #E2EBFA;\n",
              "      box-shadow: 0px 1px 2px rgba(60, 64, 67, 0.3), 0px 1px 3px 1px rgba(60, 64, 67, 0.15);\n",
              "      fill: #174EA6;\n",
              "    }\n",
              "\n",
              "    [theme=dark] .colab-df-convert {\n",
              "      background-color: #3B4455;\n",
              "      fill: #D2E3FC;\n",
              "    }\n",
              "\n",
              "    [theme=dark] .colab-df-convert:hover {\n",
              "      background-color: #434B5C;\n",
              "      box-shadow: 0px 1px 3px 1px rgba(0, 0, 0, 0.15);\n",
              "      filter: drop-shadow(0px 1px 2px rgba(0, 0, 0, 0.3));\n",
              "      fill: #FFFFFF;\n",
              "    }\n",
              "  </style>\n",
              "\n",
              "      <script>\n",
              "        const buttonEl =\n",
              "          document.querySelector('#df-66917ee4-e287-4b77-bd84-acd2b03f9eda button.colab-df-convert');\n",
              "        buttonEl.style.display =\n",
              "          google.colab.kernel.accessAllowed ? 'block' : 'none';\n",
              "\n",
              "        async function convertToInteractive(key) {\n",
              "          const element = document.querySelector('#df-66917ee4-e287-4b77-bd84-acd2b03f9eda');\n",
              "          const dataTable =\n",
              "            await google.colab.kernel.invokeFunction('convertToInteractive',\n",
              "                                                     [key], {});\n",
              "          if (!dataTable) return;\n",
              "\n",
              "          const docLinkHtml = 'Like what you see? Visit the ' +\n",
              "            '<a target=\"_blank\" href=https://colab.research.google.com/notebooks/data_table.ipynb>data table notebook</a>'\n",
              "            + ' to learn more about interactive tables.';\n",
              "          element.innerHTML = '';\n",
              "          dataTable['output_type'] = 'display_data';\n",
              "          await google.colab.output.renderOutput(dataTable, element);\n",
              "          const docLink = document.createElement('div');\n",
              "          docLink.innerHTML = docLinkHtml;\n",
              "          element.appendChild(docLink);\n",
              "        }\n",
              "      </script>\n",
              "    </div>\n",
              "  </div>\n",
              "  "
            ]
          },
          "metadata": {},
          "execution_count": 16
        }
      ],
      "source": [
        "meta_df[meta_df['transcription'].isnull()]   # To check if any column in Trabscription is Null , will drop these lines"
      ]
    },
    {
      "cell_type": "code",
      "execution_count": null,
      "metadata": {
        "id": "gjW7TdK3OHV4"
      },
      "outputs": [],
      "source": [
        "meta_df.dropna(inplace= True)  # drop those lines where transcription column is Null"
      ]
    },
    {
      "cell_type": "code",
      "execution_count": null,
      "metadata": {
        "colab": {
          "base_uri": "https://localhost:8080/"
        },
        "id": "1rOxYKgkwjGG",
        "outputId": "d577afb9-22b3-4d6a-b62f-1a0cdfa306a8"
      },
      "outputs": [
        {
          "output_type": "execute_result",
          "data": {
            "text/plain": [
              "13084"
            ]
          },
          "metadata": {},
          "execution_count": 18
        }
      ],
      "source": [
        "len(meta_df)"
      ]
    },
    {
      "cell_type": "code",
      "execution_count": null,
      "metadata": {
        "id": "c8hfbrvAw1KG"
      },
      "outputs": [],
      "source": [
        "#STEP 3: Compare clips df with Meta df and drop lines in meta file that are not present as clip"
      ]
    },
    {
      "cell_type": "code",
      "execution_count": null,
      "metadata": {
        "id": "Yy4RQhl01Rke"
      },
      "outputs": [],
      "source": [
        "metadata_df = pd.merge(clips_df, meta_df, on = 'file_name')"
      ]
    },
    {
      "cell_type": "code",
      "execution_count": null,
      "metadata": {
        "colab": {
          "base_uri": "https://localhost:8080/"
        },
        "id": "ZXC0Y8343tXb",
        "outputId": "349d54a0-7106-428f-8763-193fdf852085"
      },
      "outputs": [
        {
          "output_type": "stream",
          "name": "stdout",
          "text": [
            "13083\n",
            "       Clips_name   file_name Extension  \\\n",
            "0  LJ007-0088.wav  LJ007-0088       wav   \n",
            "\n",
            "                               raw_transcription  \\\n",
            "0  for not less a period than twenty-four years.   \n",
            "\n",
            "                                   transcription  \n",
            "0  for not less a period than twenty-four years.  \n",
            "Index(['Clips_name', 'file_name', 'Extension', 'raw_transcription',\n",
            "       'transcription'],\n",
            "      dtype='object')\n"
          ]
        }
      ],
      "source": [
        "print(len(metadata_df))\n",
        "print(metadata_df.head(1))\n",
        "print(metadata_df.columns)"
      ]
    },
    {
      "cell_type": "code",
      "execution_count": null,
      "metadata": {
        "id": "5KL5hPdA4Fuv"
      },
      "outputs": [],
      "source": [
        "#Just for comfort write file as xls"
      ]
    },
    {
      "cell_type": "code",
      "execution_count": null,
      "metadata": {
        "id": "W_MchhUt4Lpe"
      },
      "outputs": [],
      "source": [
        "#metadata_df.to_excel('/gdrive/MyDrive/data/Speech2text/LJSpeech-1.1/df.xlsx')\n"
      ]
    },
    {
      "cell_type": "code",
      "execution_count": null,
      "metadata": {
        "id": "kOVd7Blk9XqO"
      },
      "outputs": [],
      "source": [
        "#Step 4: Get metadata working file"
      ]
    },
    {
      "cell_type": "code",
      "execution_count": null,
      "metadata": {
        "id": "HweS5UjM92mB"
      },
      "outputs": [],
      "source": [
        "meta_df = metadata_df[['Clips_name', 'file_name', 'transcription']]"
      ]
    },
    {
      "cell_type": "code",
      "execution_count": null,
      "metadata": {
        "id": "gQv_Kw6MS-Fa"
      },
      "outputs": [],
      "source": [
        "meta_df = meta_df.sample(frac= 1).reset_index(drop= True)"
      ]
    },
    {
      "cell_type": "code",
      "execution_count": null,
      "metadata": {
        "colab": {
          "base_uri": "https://localhost:8080/",
          "height": 206
        },
        "id": "ddoboEKmTNuw",
        "outputId": "cee8f310-e989-4489-99f3-2e1fbaf598ef"
      },
      "outputs": [
        {
          "output_type": "execute_result",
          "data": {
            "text/plain": [
              "       Clips_name   file_name  \\\n",
              "0  LJ032-0166.wav  LJ032-0166   \n",
              "1  LJ045-0158.wav  LJ045-0158   \n",
              "2  LJ009-0303.wav  LJ009-0303   \n",
              "3  LJ004-0214.wav  LJ004-0214   \n",
              "4  LJ012-0076.wav  LJ012-0076   \n",
              "\n",
              "                                       transcription  \n",
              "0  Judgments as to probability will depend on the...  \n",
              "1  He spent quite a bit of time putting away diap...  \n",
              "2                 Then came the cost of the gallows,  \n",
              "3  Its evils were inherent and irremediable, but ...  \n",
              "4  There was an increase rather than an abatement...  "
            ],
            "text/html": [
              "\n",
              "  <div id=\"df-1e1a45e6-4716-47ea-8ac7-b56146f8a27f\">\n",
              "    <div class=\"colab-df-container\">\n",
              "      <div>\n",
              "<style scoped>\n",
              "    .dataframe tbody tr th:only-of-type {\n",
              "        vertical-align: middle;\n",
              "    }\n",
              "\n",
              "    .dataframe tbody tr th {\n",
              "        vertical-align: top;\n",
              "    }\n",
              "\n",
              "    .dataframe thead th {\n",
              "        text-align: right;\n",
              "    }\n",
              "</style>\n",
              "<table border=\"1\" class=\"dataframe\">\n",
              "  <thead>\n",
              "    <tr style=\"text-align: right;\">\n",
              "      <th></th>\n",
              "      <th>Clips_name</th>\n",
              "      <th>file_name</th>\n",
              "      <th>transcription</th>\n",
              "    </tr>\n",
              "  </thead>\n",
              "  <tbody>\n",
              "    <tr>\n",
              "      <th>0</th>\n",
              "      <td>LJ032-0166.wav</td>\n",
              "      <td>LJ032-0166</td>\n",
              "      <td>Judgments as to probability will depend on the...</td>\n",
              "    </tr>\n",
              "    <tr>\n",
              "      <th>1</th>\n",
              "      <td>LJ045-0158.wav</td>\n",
              "      <td>LJ045-0158</td>\n",
              "      <td>He spent quite a bit of time putting away diap...</td>\n",
              "    </tr>\n",
              "    <tr>\n",
              "      <th>2</th>\n",
              "      <td>LJ009-0303.wav</td>\n",
              "      <td>LJ009-0303</td>\n",
              "      <td>Then came the cost of the gallows,</td>\n",
              "    </tr>\n",
              "    <tr>\n",
              "      <th>3</th>\n",
              "      <td>LJ004-0214.wav</td>\n",
              "      <td>LJ004-0214</td>\n",
              "      <td>Its evils were inherent and irremediable, but ...</td>\n",
              "    </tr>\n",
              "    <tr>\n",
              "      <th>4</th>\n",
              "      <td>LJ012-0076.wav</td>\n",
              "      <td>LJ012-0076</td>\n",
              "      <td>There was an increase rather than an abatement...</td>\n",
              "    </tr>\n",
              "  </tbody>\n",
              "</table>\n",
              "</div>\n",
              "      <button class=\"colab-df-convert\" onclick=\"convertToInteractive('df-1e1a45e6-4716-47ea-8ac7-b56146f8a27f')\"\n",
              "              title=\"Convert this dataframe to an interactive table.\"\n",
              "              style=\"display:none;\">\n",
              "        \n",
              "  <svg xmlns=\"http://www.w3.org/2000/svg\" height=\"24px\"viewBox=\"0 0 24 24\"\n",
              "       width=\"24px\">\n",
              "    <path d=\"M0 0h24v24H0V0z\" fill=\"none\"/>\n",
              "    <path d=\"M18.56 5.44l.94 2.06.94-2.06 2.06-.94-2.06-.94-.94-2.06-.94 2.06-2.06.94zm-11 1L8.5 8.5l.94-2.06 2.06-.94-2.06-.94L8.5 2.5l-.94 2.06-2.06.94zm10 10l.94 2.06.94-2.06 2.06-.94-2.06-.94-.94-2.06-.94 2.06-2.06.94z\"/><path d=\"M17.41 7.96l-1.37-1.37c-.4-.4-.92-.59-1.43-.59-.52 0-1.04.2-1.43.59L10.3 9.45l-7.72 7.72c-.78.78-.78 2.05 0 2.83L4 21.41c.39.39.9.59 1.41.59.51 0 1.02-.2 1.41-.59l7.78-7.78 2.81-2.81c.8-.78.8-2.07 0-2.86zM5.41 20L4 18.59l7.72-7.72 1.47 1.35L5.41 20z\"/>\n",
              "  </svg>\n",
              "      </button>\n",
              "      \n",
              "  <style>\n",
              "    .colab-df-container {\n",
              "      display:flex;\n",
              "      flex-wrap:wrap;\n",
              "      gap: 12px;\n",
              "    }\n",
              "\n",
              "    .colab-df-convert {\n",
              "      background-color: #E8F0FE;\n",
              "      border: none;\n",
              "      border-radius: 50%;\n",
              "      cursor: pointer;\n",
              "      display: none;\n",
              "      fill: #1967D2;\n",
              "      height: 32px;\n",
              "      padding: 0 0 0 0;\n",
              "      width: 32px;\n",
              "    }\n",
              "\n",
              "    .colab-df-convert:hover {\n",
              "      background-color: #E2EBFA;\n",
              "      box-shadow: 0px 1px 2px rgba(60, 64, 67, 0.3), 0px 1px 3px 1px rgba(60, 64, 67, 0.15);\n",
              "      fill: #174EA6;\n",
              "    }\n",
              "\n",
              "    [theme=dark] .colab-df-convert {\n",
              "      background-color: #3B4455;\n",
              "      fill: #D2E3FC;\n",
              "    }\n",
              "\n",
              "    [theme=dark] .colab-df-convert:hover {\n",
              "      background-color: #434B5C;\n",
              "      box-shadow: 0px 1px 3px 1px rgba(0, 0, 0, 0.15);\n",
              "      filter: drop-shadow(0px 1px 2px rgba(0, 0, 0, 0.3));\n",
              "      fill: #FFFFFF;\n",
              "    }\n",
              "  </style>\n",
              "\n",
              "      <script>\n",
              "        const buttonEl =\n",
              "          document.querySelector('#df-1e1a45e6-4716-47ea-8ac7-b56146f8a27f button.colab-df-convert');\n",
              "        buttonEl.style.display =\n",
              "          google.colab.kernel.accessAllowed ? 'block' : 'none';\n",
              "\n",
              "        async function convertToInteractive(key) {\n",
              "          const element = document.querySelector('#df-1e1a45e6-4716-47ea-8ac7-b56146f8a27f');\n",
              "          const dataTable =\n",
              "            await google.colab.kernel.invokeFunction('convertToInteractive',\n",
              "                                                     [key], {});\n",
              "          if (!dataTable) return;\n",
              "\n",
              "          const docLinkHtml = 'Like what you see? Visit the ' +\n",
              "            '<a target=\"_blank\" href=https://colab.research.google.com/notebooks/data_table.ipynb>data table notebook</a>'\n",
              "            + ' to learn more about interactive tables.';\n",
              "          element.innerHTML = '';\n",
              "          dataTable['output_type'] = 'display_data';\n",
              "          await google.colab.output.renderOutput(dataTable, element);\n",
              "          const docLink = document.createElement('div');\n",
              "          docLink.innerHTML = docLinkHtml;\n",
              "          element.appendChild(docLink);\n",
              "        }\n",
              "      </script>\n",
              "    </div>\n",
              "  </div>\n",
              "  "
            ]
          },
          "metadata": {},
          "execution_count": 23
        }
      ],
      "source": [
        "meta_df.head(5)"
      ]
    },
    {
      "cell_type": "code",
      "execution_count": null,
      "metadata": {
        "id": "JCAmkbKn7LRA"
      },
      "outputs": [],
      "source": [
        "#meta_df = meta_df[:100]   # initial testing of model with 100 examples"
      ]
    },
    {
      "cell_type": "code",
      "execution_count": null,
      "metadata": {
        "colab": {
          "base_uri": "https://localhost:8080/"
        },
        "id": "i59_W2PU7Se7",
        "outputId": "6ce49f10-bd2c-431e-a000-2f390c234831"
      },
      "outputs": [
        {
          "output_type": "execute_result",
          "data": {
            "text/plain": [
              "13083"
            ]
          },
          "metadata": {},
          "execution_count": 24
        }
      ],
      "source": [
        "len(meta_df)"
      ]
    },
    {
      "cell_type": "code",
      "execution_count": null,
      "metadata": {
        "id": "tULOFB5VUTNp"
      },
      "outputs": [],
      "source": [
        "#Step 5: Split into Training Validation data set"
      ]
    },
    {
      "cell_type": "code",
      "execution_count": null,
      "metadata": {
        "colab": {
          "base_uri": "https://localhost:8080/"
        },
        "id": "0rcbuBa5Ud_K",
        "outputId": "f68d9a49-2cbd-4022-9990-e68d20b7ef0e"
      },
      "outputs": [
        {
          "output_type": "stream",
          "name": "stdout",
          "text": [
            "11774\n"
          ]
        }
      ],
      "source": [
        "split =int(len(meta_df)*0.9)\n",
        "print(split)"
      ]
    },
    {
      "cell_type": "code",
      "execution_count": null,
      "metadata": {
        "colab": {
          "base_uri": "https://localhost:8080/"
        },
        "id": "koVtSWoFVVxP",
        "outputId": "88de3daa-c2fc-4f49-ac3d-e9915b1224f6"
      },
      "outputs": [
        {
          "output_type": "stream",
          "name": "stdout",
          "text": [
            "11774\n",
            "1309\n"
          ]
        }
      ],
      "source": [
        "df_train = meta_df[:split]\n",
        "df_val = meta_df[split:]\n",
        "print(len(df_train))\n",
        "print(len(df_val))"
      ]
    },
    {
      "cell_type": "code",
      "execution_count": null,
      "metadata": {
        "id": "hnNi6i-ZGqYK"
      },
      "outputs": [],
      "source": [
        "#MACHINE LEARNING PROCESS"
      ]
    },
    {
      "cell_type": "code",
      "execution_count": null,
      "metadata": {
        "id": "ZX2ycDcg_rXH"
      },
      "outputs": [],
      "source": [
        "path = '/gdrive/MyDrive/data/Speech2text/LJSpeech-1.1/wavs/'"
      ]
    },
    {
      "cell_type": "code",
      "execution_count": null,
      "metadata": {
        "id": "hDozeaVFE_j-"
      },
      "outputs": [],
      "source": [
        "#Functions to process input sentence"
      ]
    },
    {
      "cell_type": "code",
      "execution_count": null,
      "metadata": {
        "id": "UQllBhKtFK80"
      },
      "outputs": [],
      "source": [
        "characters = [x for x in \"abcdefghijklmnopqrstuvwxyz'?! \"]"
      ]
    },
    {
      "cell_type": "code",
      "execution_count": null,
      "metadata": {
        "colab": {
          "base_uri": "https://localhost:8080/"
        },
        "id": "Hr5JHMuJFmeu",
        "outputId": "2528f5e0-f379-43a5-9c69-b9431c395c20"
      },
      "outputs": [
        {
          "output_type": "stream",
          "name": "stdout",
          "text": [
            "['a', 'b', 'c', 'd', 'e', 'f', 'g', 'h', 'i', 'j', 'k', 'l', 'm', 'n', 'o', 'p', 'q', 'r', 's', 't', 'u', 'v', 'w', 'x', 'y', 'z', \"'\", '?', '!', ' ']\n"
          ]
        }
      ],
      "source": [
        "print(characters)"
      ]
    },
    {
      "cell_type": "code",
      "execution_count": null,
      "metadata": {
        "id": "nxfkwXTKFLEi"
      },
      "outputs": [],
      "source": [
        "char_to_num = tf.keras.layers.StringLookup(vocabulary = characters, oov_token= \"\")"
      ]
    },
    {
      "cell_type": "code",
      "execution_count": null,
      "metadata": {
        "colab": {
          "base_uri": "https://localhost:8080/"
        },
        "id": "kl4pVWrqGUU0",
        "outputId": "773485d4-9a23-4dd8-ee84-ca60904d486b"
      },
      "outputs": [
        {
          "output_type": "stream",
          "name": "stdout",
          "text": [
            "['', 'a', 'b', 'c', 'd', 'e', 'f', 'g', 'h', 'i', 'j', 'k', 'l', 'm', 'n', 'o', 'p', 'q', 'r', 's', 't', 'u', 'v', 'w', 'x', 'y', 'z', \"'\", '?', '!', ' ']\n"
          ]
        }
      ],
      "source": [
        "print(char_to_num.get_vocabulary())"
      ]
    },
    {
      "cell_type": "code",
      "execution_count": null,
      "metadata": {
        "colab": {
          "base_uri": "https://localhost:8080/"
        },
        "id": "t9tHybHfN_wc",
        "outputId": "5fca3d52-973f-4193-919a-6a2c8fb15144"
      },
      "outputs": [
        {
          "output_type": "stream",
          "name": "stdout",
          "text": [
            "31\n"
          ]
        }
      ],
      "source": [
        "print(char_to_num.vocabulary_size())"
      ]
    },
    {
      "cell_type": "code",
      "execution_count": null,
      "metadata": {
        "id": "50uMRW1sOHaT"
      },
      "outputs": [],
      "source": [
        "output_dim = char_to_num.vocabulary_size()+1"
      ]
    },
    {
      "cell_type": "code",
      "execution_count": null,
      "metadata": {
        "colab": {
          "base_uri": "https://localhost:8080/"
        },
        "id": "r9nnyVwVOatD",
        "outputId": "4950a1ee-8524-43db-c424-4626923d8925"
      },
      "outputs": [
        {
          "output_type": "stream",
          "name": "stdout",
          "text": [
            "32\n"
          ]
        }
      ],
      "source": [
        "print(output_dim)"
      ]
    },
    {
      "cell_type": "code",
      "execution_count": null,
      "metadata": {
        "id": "LebSU0cZG09V"
      },
      "outputs": [],
      "source": [
        "num_to_char = tf.keras.layers.StringLookup(vocabulary = char_to_num.get_vocabulary(), oov_token= \"\", invert = True)"
      ]
    },
    {
      "cell_type": "code",
      "execution_count": null,
      "metadata": {
        "id": "BZ8KiSutWJmg"
      },
      "outputs": [],
      "source": [
        "#Function to fetch audio files, create spectrogram and process corresponding sentences"
      ]
    },
    {
      "cell_type": "code",
      "execution_count": null,
      "metadata": {
        "id": "e1sHtI5Hbc38"
      },
      "outputs": [],
      "source": [
        "frame_length = 256\n",
        "frame_step = 160\n",
        "fft_length = 384\n",
        "\n",
        "# frame length   = no of data points in each sliding window here 256 points will be covered in each frame out of 212893 input data point\n",
        "# frame steps/hop size = no of data points to skip when sliding window so first 256 data points then skip 160 then start from data point 416 to 672, then skip another 160 and so on\n",
        "#212893/frame steps = no of row  here 212893/160 =1329\n",
        "#the size of the FFT (here 384) determines the number of frequency bins used to represent the spectrum of each frame of the signal.\n",
        "#The number of frequency bins in the resulting spectrum is equal to half the FFT size plus one. so 384/2+1 = 193\n",
        "#This means each row with contain  193 data points i.e columns"
      ]
    },
    {
      "cell_type": "code",
      "execution_count": null,
      "metadata": {
        "id": "T4g6xOzbardQ"
      },
      "outputs": [],
      "source": [
        "def encode_single_sample(audio_file, label):\n",
        "  # 1) process audio generating spectrogram\n",
        "  #A reading and decoding file and change datatype to float\n",
        "\n",
        "  file = tf.io.read_file(path+audio_file)\n",
        "  audio,samplerate = tf.audio.decode_wav(file)\n",
        "  audio = tf.squeeze(audio, axis = -1)\n",
        "  audio = tf.cast(audio, tf.float32)\n",
        "\n",
        "  #B Getting Spectrograph\n",
        "  stfts = tf.signal.stft(audio, frame_length = frame_length, frame_step = frame_step, fft_length= fft_length)\n",
        "  spectrograph = tf.abs(stfts)\n",
        "\n",
        "  #C Warp the linear scale spectrograms into the mel-scale.\n",
        "\n",
        "  num_spectrogram_bins = stfts.shape[-1]\n",
        "\n",
        "  lower_freq = 80.0\n",
        "  upper_freq = 7600.0\n",
        "  num_mel_bins = 80\n",
        "\n",
        "  linear_to_mel_weight_matrix= tf.signal.linear_to_mel_weight_matrix(num_mel_bins=num_mel_bins,\n",
        "                                                                   num_spectrogram_bins = num_spectrogram_bins,\n",
        "                                                                   sample_rate = samplerate,\n",
        "                                                                   lower_edge_hertz = lower_freq,\n",
        "                                                                   upper_edge_hertz= upper_freq)\n",
        "\n",
        "  mel_spectrogram = tf.tensordot(spectrograph, linear_to_mel_weight_matrix, 1 )\n",
        "\n",
        "  mel_spectrogram.set_shape(spectrograph.shape[:-1].concatenate(linear_to_mel_weight_matrix.shape[-1:]))\n",
        "\n",
        "  #D Compute a stabilized log to get log-magnitude mel-scale spectrograms.\n",
        "\n",
        "  log_mel_spectrogram = tf.math.log(mel_spectrogram + 1e-6)\n",
        "\n",
        "  #Compute MFCC\n",
        "\n",
        "  mfcc = tf.signal.mfccs_from_log_mel_spectrograms (log_mel_spectrogram)[..., :13] # take first freq 13 bins   #https://www.tensorflow.org/api_docs/python/tf/signal/mfccs_from_log_mel_spectrograms\n",
        "\n",
        "  #mfcc = tf.signal.mfccs_from_log_mel_spectrograms (log_mel_spectrogram)\n",
        "\n",
        "\n",
        "  # Normalization\n",
        "\n",
        "  means = tf.math.reduce_mean(mfcc, 1, keepdims = True)\n",
        "  stddev = tf.math.reduce_std(mfcc, 1, keepdims = True)\n",
        "  mfccs = (mfcc - means)/(stddev+ 1e-10)\n",
        "\n",
        "  #2) process sentence\n",
        "\n",
        "  label = tf.strings.lower(label)\n",
        "  label = tf.strings.unicode_split(label,input_encoding = \"UTF-8\")\n",
        "  label = char_to_num(label)\n",
        "\n",
        "  return mfccs, label\n",
        "\n",
        "\n"
      ]
    },
    {
      "cell_type": "code",
      "execution_count": null,
      "metadata": {
        "id": "nGFE4nw0Hxuv"
      },
      "outputs": [],
      "source": [
        "#Creating Dataset Object   # If any of column has null value , will give error.\n"
      ]
    },
    {
      "cell_type": "code",
      "execution_count": null,
      "metadata": {
        "id": "XroVs5oKIHb_"
      },
      "outputs": [],
      "source": [
        "batch_size = 32\n",
        "\n",
        "train_dataset = tf.data.Dataset.from_tensor_slices((list(df_train['Clips_name']), list(df_train['transcription'])))\n",
        "\n",
        "train_dataset = train_dataset.map(encode_single_sample, num_parallel_calls = tf.data.AUTOTUNE).padded_batch(batch_size).prefetch(buffer_size=tf.data.AUTOTUNE)"
      ]
    },
    {
      "cell_type": "code",
      "execution_count": null,
      "metadata": {
        "id": "Ocm6n4Lkw5qd"
      },
      "outputs": [],
      "source": [
        "val_dataset = tf.data.Dataset.from_tensor_slices((list(df_val['Clips_name']), list(df_val['transcription'])))\n",
        "val_dataset = val_dataset.map(encode_single_sample, num_parallel_calls = tf.data.AUTOTUNE).padded_batch(batch_size).prefetch(buffer_size=tf.data.AUTOTUNE)"
      ]
    },
    {
      "cell_type": "code",
      "execution_count": null,
      "metadata": {
        "colab": {
          "base_uri": "https://localhost:8080/"
        },
        "id": "o-FXN0WgF9n0",
        "outputId": "f207600a-78d3-4a03-fddc-88c9d5f06cf0"
      },
      "outputs": [
        {
          "output_type": "stream",
          "name": "stdout",
          "text": [
            "(32, 1261, 13) (32, 139)\n"
          ]
        }
      ],
      "source": [
        "for batch in train_dataset:\n",
        "  a, b = batch\n",
        "  print(a.shape, b.shape)   # 32 clips, 1371 rows/timesteps, 80 freq each\n",
        "  break"
      ]
    },
    {
      "cell_type": "code",
      "execution_count": null,
      "metadata": {
        "colab": {
          "base_uri": "https://localhost:8080/"
        },
        "id": "XqAoC67qFPyN",
        "outputId": "0e8f3cfd-6b2d-42bc-fc78-0a9066bf9519"
      },
      "outputs": [
        {
          "data": {
            "text/plain": [
              "TensorShape([1390, 80])"
            ]
          },
          "execution_count": 42,
          "metadata": {},
          "output_type": "execute_result"
        }
      ],
      "source": [
        "a[2].shape"
      ]
    },
    {
      "cell_type": "code",
      "execution_count": null,
      "metadata": {
        "colab": {
          "base_uri": "https://localhost:8080/"
        },
        "id": "F3gbMGGtHEno",
        "outputId": "91a0f4af-4755-4598-deeb-41a439902b2d"
      },
      "outputs": [
        {
          "name": "stdout",
          "output_type": "stream",
          "text": [
            "(32, 1337, 80) (32, 156)\n"
          ]
        }
      ],
      "source": [
        "for batch in val_dataset:\n",
        "  x, y = batch\n",
        "  print(x.shape, y.shape)\n",
        "  break"
      ]
    },
    {
      "cell_type": "code",
      "execution_count": null,
      "metadata": {
        "id": "HXcIUclwBm7r"
      },
      "outputs": [],
      "source": [
        "#Machine Learning Model"
      ]
    },
    {
      "cell_type": "code",
      "execution_count": null,
      "metadata": {
        "id": "9oT6e56ZBqnR"
      },
      "outputs": [],
      "source": [
        "from tensorflow.keras.models import Sequential"
      ]
    },
    {
      "cell_type": "code",
      "execution_count": null,
      "metadata": {
        "id": "_45lGH6BB5aD"
      },
      "outputs": [],
      "source": [
        "from tensorflow.keras.layers import Dense, Conv2D, BatchNormalization, ReLU, Reshape, Dropout, GRU, Reshape, Bidirectional"
      ]
    },
    {
      "cell_type": "code",
      "execution_count": null,
      "metadata": {
        "id": "PGA_KuIG9Dzj"
      },
      "outputs": [],
      "source": [
        "model = Sequential([\n",
        "    Reshape((-1, 13, 1), name=\"expand_dim\", input_shape=(None, 13)),     # see explanation below                    (batch, rows, columns/data point in each row,      channels)\n",
        "    #                                                                                                                   (-1, -1,         80,                            1) -1 means variable number\n",
        "    Conv2D(filters = 32, kernel_size = [11,41], strides = 2, padding = 'same', use_bias = False,  name = 'conv_1'), # (-1,    -1,     80/2 = 40,                        32)\n",
        "    BatchNormalization(name = 'conv_1_bn'),\n",
        "    ReLU(name= 'conv_1_relu'),\n",
        "    Conv2D(filters = 32, kernel_size = [11,41], strides = 2, padding = 'same', use_bias = False,  name = 'conv_2'),  # (-1,     -1,     40/2 = 20,                        32)\n",
        "    BatchNormalization(name = 'conv_2_bn'),\n",
        "    ReLU(name= 'conv_2_relu'),\n",
        "    Reshape((-1,4*32)), #   (-1,-1,  columns*filters )\n",
        "    #The RNN expects that the input is going to be sequential. Therefore, the input has the shape  [batch_size, time, feature_size]\n",
        "    #reshape as [b_size, num_frames, am_width * am_height * num_filters]\n",
        "    Bidirectional((GRU(units =512, activation = 'tanh',recurrent_activation='sigmoid', use_bias=True,return_sequences=True, reset_after = True , name = 'GRU_1')), name = 'bidir_1' ),\n",
        "    Dropout(rate = 0.5, name = 'drop_out_1'),\n",
        "    Bidirectional((GRU(units =512, activation = 'tanh',recurrent_activation='sigmoid', use_bias=True,return_sequences=True, reset_after = True , name = 'GRU_2')),  name = 'bidir_2' ),\n",
        "    Dropout(rate = 0.5, name = 'drop_out_2'),\n",
        "    Bidirectional((GRU(units =512, activation = 'tanh',recurrent_activation='sigmoid', use_bias=True,return_sequences=True, reset_after = True , name = 'GRU_3')),  name = 'bidir_3' ),\n",
        "    Dropout(rate = 0.5, name = 'drop_out_3'),\n",
        "    Bidirectional((GRU(units =512, activation = 'tanh',recurrent_activation='sigmoid', use_bias=True,return_sequences=True, reset_after = True , name = 'GRU_4')),  name = 'bidir_4' ),\n",
        "    Dropout(rate = 0.5, name = 'drop_out_4'),\n",
        "    Bidirectional((GRU(units =512, activation = 'tanh',recurrent_activation='sigmoid', use_bias=True,return_sequences=True, reset_after = True , name = 'GRU_5')),  name = 'bidir_5' ),\n",
        "    Dense(units= 512*2, name = 'dense1'),\n",
        "    ReLU(name= 'Dense_1_relu'),\n",
        "    Dropout(rate = 0.5, name = 'drop_out_5'),\n",
        "    Dense(units = output_dim, activation = 'softmax')\n",
        "\n",
        "\n",
        "\n",
        "])"
      ]
    },
    {
      "cell_type": "code",
      "execution_count": null,
      "metadata": {
        "colab": {
          "base_uri": "https://localhost:8080/",
          "height": 123
        },
        "id": "nr3UcSgcTEGj",
        "outputId": "9b1ce785-043b-441e-f6d2-dcb6e6696698"
      },
      "outputs": [
        {
          "data": {
            "application/vnd.google.colaboratory.intrinsic+json": {
              "type": "string"
            },
            "text/plain": [
              "'\\ninput_shape=(None, 193) is a parameter used in defining the shape of the input data for a machine learning model.\\n\\nIn this case, None indicates that the input can have a variable number of rows (the first dimension), and 193 indicates that the input data has 193 columns (the second dimension). The first dimension is often left as None to allow for variable batch sizes during training or inference.\\n\\nFor example, if we have a dataset of audio recordings, the first dimension of the input might correspond to the number of time steps in the recording, while the second dimension might correspond to the number of frequency bins in a spectrogram representation of the audio signal. In this case, input_shape=(None, 193) would be appropriate, as the length of the audio recordings can vary, but the number of frequency bins is fixed at 193.\\nIf the input shape is (None, 193), applying the Reshape layer with Reshape((-1, 193, 1)) will transform the input into a new shape of (None, 193, 1).\\n\\nHere, -1 is a special value that indicates that the size of the first dimension of the input should be inferred from the remaining dimensions and the batch size. In other words, the number of samples in the batch can vary, but the size of the other dimensions remains constant.\\n\\nThe resulting shape (None, 193, 1) represents a 3D tensor, where the first dimension is the batch size, the second dimension is the number of time steps, and the third dimension is the number of channels (which is 1 in this case). This 3D tensor is commonly used as input for 1D convolutional neural networks (CNNs) that are designed to operate on sequences of data, such as time series or audio signals.\\n\\n'"
            ]
          },
          "execution_count": 140,
          "metadata": {},
          "output_type": "execute_result"
        }
      ],
      "source": [
        "\"\"\"\n",
        "input_shape=(None, 193) is a parameter used in defining the shape of the input data for a machine learning model.\n",
        "\n",
        "In this case, None indicates that the input can have a variable number of rows (the first dimension), and 193 indicates that the input data has 193 columns (the second dimension).\n",
        "The first dimension is often left as None to allow for variable batch sizes during training or inference.\n",
        "\n",
        "For example, if we have a dataset of audio recordings, the first dimension of the input might correspond to the number of time steps in the recording,\n",
        "while the second dimension might correspond to the number of frequency bins in a spectrogram representation of the audio signal.\n",
        "In this case, input_shape=(None, 193) would be appropriate, as the length of the audio recordings can vary, but the number of frequency bins is fixed at 193.\n",
        "If the input shape is (None, 193), applying the Reshape layer with Reshape((-1, 193, 1)) will transform the input into a new shape of (None,None, 193, 1).\n",
        "\n",
        "Here, -1 is a special value that indicates that the size of the first dimension of the input should be inferred from the remaining dimensions and the batch size.\n",
        "In other words, the number of samples in the batch can vary, but the size of the other dimensions remains constant.\n",
        "\n",
        "The resulting shape (None,None 193, 1) represents a 4D tensor, where the first dimension is the batch size, the second dimension is the number of time steps (rows), and the third dimension is freq bins and 4th dim is\n",
        " the number of channels\n",
        "(which is 1 in this case). This 4D tensor is commonly used as input for 2D convolutional neural networks (CNNs) that are designed to operate on sequences of data,\n",
        " such as time series or audio signals.\n",
        "\n",
        "\"\"\""
      ]
    },
    {
      "cell_type": "code",
      "execution_count": null,
      "metadata": {
        "id": "ayQ5Ali5OERR"
      },
      "outputs": [],
      "source": [
        " #Convolution output:\n",
        "    #The number of filters (32) corresponds to the number of output channels.\n",
        "    #The kernel size of [11, 41] indicates that the convolution will be done over an 11x41 window.\n",
        "    #The stride of 2 indicates that the filter will move 2 pixels at a time.\n",
        "    #The padding of 'same' means that the input will be padded with zeros to ensure that the output has the same spatial dimensions as the input.\n",
        "    #With these parameters, the convolution operation will reduce the spatial dimensions of the input by a factor of 2 in both the vertical and horizontal directions\n",
        "    #(since the stride is 2), while increasing the number of channels to 32.\n",
        "    #output will be of shape (-1,-1,  columns/2 rounded to nearest whole,filters )"
      ]
    },
    {
      "cell_type": "markdown",
      "metadata": {
        "id": "av0odU7bo-Gn"
      },
      "source": []
    },
    {
      "cell_type": "code",
      "execution_count": null,
      "metadata": {
        "colab": {
          "base_uri": "https://localhost:8080/",
          "height": 123
        },
        "id": "f1eFrMmaofoz",
        "outputId": "6486cd98-75fa-4d76-8546-7c8e254e246c"
      },
      "outputs": [
        {
          "data": {
            "application/vnd.google.colaboratory.intrinsic+json": {
              "type": "string"
            },
            "text/plain": [
              "'\\nexplanation for reshape\\nThe Reshape layer is used to reshape the input tensor into a new shape. In this case, the layer will reshape the input tensor to have the following dimensions:\\n\\nThe first dimension will be set to -1, which means that it will be dynamically computed based on the size of the input tensor and the other dimensions specified in the reshape.\\nThe second dimension will be set to 1, indicating that each element in the input tensor will be reshaped into a 1-dimensional vector.\\nThe third dimension will be set to input_dim, which is the size of the input data dimension.\\nThe fourth dimension will be set to 1, indicating that each element in the reshaped tensor will have a single channel.\\nOverall, this layer will transform the input tensor into a 4-dimensional tensor with a variable number of rows, a single column, input_dim channels, and a single batch dimension. This can be useful, for example, when preparing image data for input to a convolutional neural network.*/\\n'"
            ]
          },
          "execution_count": 44,
          "metadata": {},
          "output_type": "execute_result"
        }
      ],
      "source": [
        "\"\"\"\n",
        "explanation for first reshape\n",
        "The Reshape layer is used to reshape the input tensor into a new shape. In this case, the layer will reshape the input tensor to have the following dimensions:\n",
        "\n",
        "The first dimension will be set to -1, which means that it will be dynamically computed based on the size of the input tensor and the other dimensions specified in the reshape.\n",
        "The second dimension will be set to 1, indicating that each element in the input tensor will be reshaped into a 1-dimensional vector.\n",
        "The third dimension will be set to input_dim, which is the size of the input data dimension.\n",
        "The fourth dimension will be set to 1, indicating that each element in the reshaped tensor will have a single channel.\n",
        "Overall, this layer will transform the input tensor into a 4-dimensional tensor with a variable number of rows, a single column, input_dim channels, and a single batch dimension. This can be useful, for example, when preparing image data for input to a convolutional neural network.*/\n",
        "\"\"\"\n"
      ]
    },
    {
      "cell_type": "code",
      "execution_count": null,
      "metadata": {
        "id": "fEmgaOy0oiIZ"
      },
      "outputs": [],
      "source": [
        "opt = tf.keras.optimizers.Adam(learning_rate = 1e-4)"
      ]
    },
    {
      "cell_type": "code",
      "execution_count": null,
      "metadata": {
        "id": "OOt5npOIzRA-"
      },
      "outputs": [],
      "source": [
        "#Defining CTC Loss Function\n",
        "def CTCLoss(y_true, y_pred):\n",
        "  batch_length = tf.cast(tf.shape(y_true)[0], dtype= 'int64')\n",
        "  input_length = tf.cast(tf.shape(y_pred)[1], dtype= 'int64' )\n",
        "  input_length = input_length*tf.ones(shape = (batch_length,1),dtype= 'int64' )\n",
        "\n",
        "  label_length = tf.cast(tf.shape(y_true)[1], dtype= 'int64' )\n",
        "  label_length = label_length*tf.ones(shape = (batch_length,1),dtype= 'int64' )\n",
        "\n",
        "\n",
        "\n",
        "\n",
        "  loss = tf.keras.backend.ctc_batch_cost(y_true,y_pred, input_length, label_length)  #https://keras.io/ko/backend/  for ctc_batch_cost\n",
        "  return loss\n"
      ]
    },
    {
      "cell_type": "code",
      "execution_count": null,
      "metadata": {
        "id": "xCS1lyaay8cO"
      },
      "outputs": [],
      "source": [
        "model.compile(optimizer = opt, loss = CTCLoss)"
      ]
    },
    {
      "cell_type": "code",
      "execution_count": null,
      "metadata": {
        "colab": {
          "base_uri": "https://localhost:8080/"
        },
        "id": "7k97vg3W6suS",
        "outputId": "6f830e49-9145-4471-b10a-74a3d0caf644"
      },
      "outputs": [
        {
          "output_type": "stream",
          "name": "stdout",
          "text": [
            "Model: \"sequential_2\"\n",
            "_________________________________________________________________\n",
            " Layer (type)                Output Shape              Param #   \n",
            "=================================================================\n",
            " expand_dim (Reshape)        (None, None, 13, 1)       0         \n",
            "                                                                 \n",
            " conv_1 (Conv2D)             (None, None, 7, 32)       14432     \n",
            "                                                                 \n",
            " conv_1_bn (BatchNormalizati  (None, None, 7, 32)      128       \n",
            " on)                                                             \n",
            "                                                                 \n",
            " conv_1_relu (ReLU)          (None, None, 7, 32)       0         \n",
            "                                                                 \n",
            " conv_2 (Conv2D)             (None, None, 4, 32)       461824    \n",
            "                                                                 \n",
            " conv_2_bn (BatchNormalizati  (None, None, 4, 32)      128       \n",
            " on)                                                             \n",
            "                                                                 \n",
            " conv_2_relu (ReLU)          (None, None, 4, 32)       0         \n",
            "                                                                 \n",
            " reshape_2 (Reshape)         (None, None, 128)         0         \n",
            "                                                                 \n",
            " bidir_1 (Bidirectional)     (None, None, 1024)        1972224   \n",
            "                                                                 \n",
            " drop_out_1 (Dropout)        (None, None, 1024)        0         \n",
            "                                                                 \n",
            " bidir_2 (Bidirectional)     (None, None, 1024)        4724736   \n",
            "                                                                 \n",
            " drop_out_2 (Dropout)        (None, None, 1024)        0         \n",
            "                                                                 \n",
            " bidir_3 (Bidirectional)     (None, None, 1024)        4724736   \n",
            "                                                                 \n",
            " drop_out_3 (Dropout)        (None, None, 1024)        0         \n",
            "                                                                 \n",
            " bidir_4 (Bidirectional)     (None, None, 1024)        4724736   \n",
            "                                                                 \n",
            " drop_out_4 (Dropout)        (None, None, 1024)        0         \n",
            "                                                                 \n",
            " bidir_5 (Bidirectional)     (None, None, 1024)        4724736   \n",
            "                                                                 \n",
            " dense1 (Dense)              (None, None, 1024)        1049600   \n",
            "                                                                 \n",
            " Dense_1_relu (ReLU)         (None, None, 1024)        0         \n",
            "                                                                 \n",
            " drop_out_5 (Dropout)        (None, None, 1024)        0         \n",
            "                                                                 \n",
            " dense_2 (Dense)             (None, None, 32)          32800     \n",
            "                                                                 \n",
            "=================================================================\n",
            "Total params: 22,430,080\n",
            "Trainable params: 22,429,952\n",
            "Non-trainable params: 128\n",
            "_________________________________________________________________\n"
          ]
        }
      ],
      "source": [
        "model.summary()"
      ]
    },
    {
      "cell_type": "code",
      "execution_count": null,
      "metadata": {
        "colab": {
          "base_uri": "https://localhost:8080/"
        },
        "id": "Nif_8qmC7gVO",
        "outputId": "9b20c419-5c8d-4cd0-a398-048eee9e2c4b"
      },
      "outputs": [
        {
          "output_type": "stream",
          "name": "stdout",
          "text": [
            "Epoch 1/10\n",
            "368/368 [==============================] - 2266s 6s/step - loss: inf - val_loss: 338.2608\n",
            "Epoch 2/10\n",
            "368/368 [==============================] - 1357s 4s/step - loss: inf - val_loss: 339.0825\n",
            "Epoch 3/10\n",
            "368/368 [==============================] - 1340s 4s/step - loss: inf - val_loss: 318.0742\n",
            "Epoch 4/10\n",
            "368/368 [==============================] - 1337s 4s/step - loss: inf - val_loss: 333.8138\n",
            "Epoch 5/10\n",
            "368/368 [==============================] - 1328s 4s/step - loss: inf - val_loss: 266.5611\n",
            "Epoch 6/10\n",
            "368/368 [==============================] - 1429s 4s/step - loss: inf - val_loss: 228.6001\n",
            "Epoch 7/10\n",
            "368/368 [==============================] - 1406s 4s/step - loss: inf - val_loss: 216.0003\n",
            "Epoch 8/10\n",
            "368/368 [==============================] - 1375s 4s/step - loss: inf - val_loss: 195.9469\n",
            "Epoch 9/10\n",
            "368/368 [==============================] - 1376s 4s/step - loss: inf - val_loss: 185.1549\n",
            "Epoch 10/10\n",
            "368/368 [==============================] - 1362s 4s/step - loss: inf - val_loss: 187.8814\n"
          ]
        }
      ],
      "source": [
        "hitory = model.fit(train_dataset, validation_data = val_dataset ,epochs = 10)"
      ]
    },
    {
      "cell_type": "code",
      "execution_count": null,
      "metadata": {
        "id": "uDns8IDxOqtz"
      },
      "outputs": [],
      "source": [
        "#Defining Prediction decoding function\n",
        "\n",
        "def decode_batch_prediction(pred):\n",
        "  input_length = np.ones(pred.shape[0])*pred.shape[1]\n",
        "  results = tf.keras.backend.ctc_decode(pred, input_length = input_length, greedy = True)[0][0]                     # https://keras.io/ko/backend/ (for CTC_decode)\n",
        "  output_text = []\n",
        "  for result in results:\n",
        "    result = tf.strings.reduce_join(num_to_char(result)).numpy().decode(\"utf-8\")\n",
        "    output_text.append(result)\n",
        "  return output_text\n",
        "\n"
      ]
    },
    {
      "cell_type": "code",
      "execution_count": null,
      "metadata": {
        "id": "AbwTcpvMR_Zf",
        "colab": {
          "base_uri": "https://localhost:8080/"
        },
        "outputId": "6e72b3a0-e59d-4c7b-c700-847edc22efc8"
      },
      "outputs": [
        {
          "output_type": "stream",
          "name": "stdout",
          "text": [
            "1/1 [==============================] - 7s 7s/step\n",
            "1/1 [==============================] - 4s 4s/step\n",
            "1/1 [==============================] - 0s 317ms/step\n",
            "1/1 [==============================] - 0s 418ms/step\n",
            "1/1 [==============================] - 0s 364ms/step\n",
            "1/1 [==============================] - 0s 397ms/step\n",
            "1/1 [==============================] - 0s 421ms/step\n",
            "1/1 [==============================] - 0s 419ms/step\n",
            "1/1 [==============================] - 0s 422ms/step\n",
            "1/1 [==============================] - 0s 399ms/step\n",
            "1/1 [==============================] - 0s 407ms/step\n",
            "1/1 [==============================] - 0s 405ms/step\n",
            "1/1 [==============================] - 0s 391ms/step\n",
            "1/1 [==============================] - 0s 452ms/step\n",
            "1/1 [==============================] - 0s 385ms/step\n",
            "1/1 [==============================] - 0s 355ms/step\n",
            "1/1 [==============================] - 0s 378ms/step\n",
            "1/1 [==============================] - 0s 417ms/step\n",
            "1/1 [==============================] - 0s 390ms/step\n",
            "1/1 [==============================] - 0s 418ms/step\n",
            "1/1 [==============================] - 0s 405ms/step\n",
            "1/1 [==============================] - 0s 387ms/step\n",
            "1/1 [==============================] - 0s 419ms/step\n",
            "1/1 [==============================] - 0s 396ms/step\n",
            "1/1 [==============================] - 0s 409ms/step\n",
            "1/1 [==============================] - 0s 381ms/step\n",
            "1/1 [==============================] - 0s 409ms/step\n",
            "1/1 [==============================] - 0s 391ms/step\n",
            "1/1 [==============================] - 0s 431ms/step\n",
            "1/1 [==============================] - 0s 390ms/step\n",
            "1/1 [==============================] - 0s 388ms/step\n",
            "1/1 [==============================] - 0s 433ms/step\n",
            "1/1 [==============================] - 0s 383ms/step\n",
            "1/1 [==============================] - 0s 408ms/step\n",
            "1/1 [==============================] - 0s 410ms/step\n",
            "1/1 [==============================] - 0s 441ms/step\n",
            "1/1 [==============================] - 0s 396ms/step\n",
            "1/1 [==============================] - 0s 406ms/step\n",
            "1/1 [==============================] - 0s 375ms/step\n",
            "1/1 [==============================] - 0s 412ms/step\n",
            "1/1 [==============================] - 4s 4s/step\n",
            "WER: 0.8006\n",
            "Target :would be astonished to observe the peculiar tenderness i was going to add respect\n",
            "Predictions :whl he istonie to oserf potoer tenders w  a e\n",
            "Target :some of the officers saw oswald strike mcdonald with his fist most of them heard a click which they assumed to be a click of the hammer of the revolver\n",
            "Predictions :some of the officers sa oswald stritmi dold whith hi sfeist most ovem per apleck was n t te     \n",
            "Target :this committee as well as the one preceding it also reported in terms of strong reprobation on the small prisons and jails\n",
            "Predictions :this commat as walas the on precenet aso reportedginturs of strom reprpaion o os as s s\n",
            "Target :and if we determined that the course of the investigation required us to clarify or face him down with this information we would do it at the appropriate time\n",
            "Predictions :and ifwe atermened that the corse of the investigation wreqarred ustclarfi r faion down whith his imfermation     e \n",
            "Target :report of the president's commission on the assassination of president kennedy\n",
            "Predictions :ereport of the presidence commission on the assasination of presidntn\n"
          ]
        }
      ],
      "source": [
        "#Inferencing\n",
        "\n",
        "predictions = []\n",
        "targets = []\n",
        "\n",
        "for batch in val_dataset:\n",
        "  x,y = batch\n",
        "  batch_predictions = model.predict(x)\n",
        "  batch_predictions = decode_batch_prediction(batch_predictions)\n",
        "  predictions.extend(batch_predictions)\n",
        "\n",
        "  for label in y:\n",
        "    label = tf.strings.reduce_join(num_to_char(label)).numpy().decode(\"utf-8\")\n",
        "    targets.append(label)\n",
        "\n",
        "wer_score = wer(targets, predictions)\n",
        "print(f\"WER: {wer_score:.4f}\")\n",
        "\n",
        "for i in np.random.randint(0,len(predictions),5):\n",
        "  print(f\"Target :{targets[i]}\")\n",
        "  print(f\"Predictions :{predictions[i]}\")\n",
        "\n",
        "\n",
        "\n",
        "\n"
      ]
    },
    {
      "cell_type": "code",
      "execution_count": null,
      "metadata": {
        "colab": {
          "base_uri": "https://localhost:8080/"
        },
        "id": "xJVwns7OIWbD",
        "outputId": "0632e13d-3b1d-40c7-d633-5e737ab40760"
      },
      "outputs": [
        {
          "output_type": "execute_result",
          "data": {
            "text/plain": [
              "['i segetof maantud an importens sofficion to exploe other jails e en n n r re e ',\n",
              " 'he ad not eanpo strier e cas of consr o ren en n ',\n",
              " 'in the mal abot chawa be wen buingon in sn n s s',\n",
              " 'ie vestigation determent that this potagraf was tak an apromently seven tentsof he moo wr r',\n",
              " 'he was takin to a osl in mos ower ie was captinto oto rtwenty i en n',\n",
              " 'the bol of the prisonrs wer stil ltn ns',\n",
              " 'o don a triet o perwatems ceny to lethe aria bat sh re fs e e e e e  ',\n",
              " 'i masofting non ha opaticunally his',\n",
              " 'foler men wil lain newgate no harded with other onnen r s ',\n",
              " 'mers my paid n oe oe r',\n",
              " 'at the firstnterigation oswald clamed that his only crime was harin nm mn n ',\n",
              " 'he remo at lease som of the piturs whichadbeen pastedinit and same dem a mon his affas w rer e    ',\n",
              " 'aqor assas execution in ate fre s s ',\n",
              " 'any presidence have ban under standibly impation whith the securty procationsw he e e e e e e',\n",
              " 'pimes tobeu micals offics managur of o tred rosin compnincorpry in en r r rer',\n",
              " 'oswald had foln n ol l',\n",
              " 'he pris other tates of fiers presint in the blaike hor rn n n ',\n",
              " 'howrd all brenning was an i whith his to the suin as in decated previusla the cimmision consider his ssis n s ',\n",
              " 'no ing conbenence was suferd by the conpregation amon wo wor loard and sesee e r  ',\n",
              " 'and in mentiont holrs',\n",
              " 'lord aica mr shrs neats is tr wil im urs an an s s e e e e e',\n",
              " 'rein ain to the ponstecution words and implications which harno an n nr er re e e e ',\n",
              " 'the pepbl injoing the gratr freom whrh sars promited hem were contented and laftin baby on hint on h he  ',\n",
              " 'the xannation of the stmic be trae the presons of antomony in large oite as a e ',\n",
              " 'and erin oswald testified that oswald ded not sa any hain aout fert hn as n e e re e',\n",
              " 'ostes inisia ration on hearin at oswald was a suspec in he assasiation was  ',\n",
              " 'which requirs tha constent exuis of juhmentan pase on rer r',\n",
              " 'f if an sho any felling of ter non were inpreswet the slenety r  e s   ',\n",
              " 'wh as convicted of complesity in the clorkon welixplosion intended to hefect terls e e',\n",
              " 'and war in penal or houspal custedy arlested onn in  l s s ',\n",
              " 'the mos popuring the ts or ing harald and morning cronaal on son na the weple dispat all  n n   ',\n",
              " 'the was in meat ly cal ba y sfecial agen emry pere  ',\n",
              " 'robery r r',\n",
              " 'the rout was fer the revu by lasin and sarls with a sistin chefe aialar and members of the loal onsennn n e ',\n",
              " 'the genral wond s e te',\n",
              " 'neot tae ed forgranted that the former rather then the later prvil hn s t',\n",
              " 'during thes mnomers andtrine diffcltis s e e ',\n",
              " 'oer harcos recomented that oswal e plase on proation oncondision that he se al ann ie s  ',\n",
              " 'and new anstil imperfitly undrsons esr',\n",
              " 'the reflex action of the snal is ther reselt of the presens of an nerfiestin n an',\n",
              " 'but is time pas di ticltis and de las in of tenin jenment la to the removl of cos es o he er re  ',\n",
              " 'she was tried in  prol eten sicet osspition of haing atented to pos nen rre  e ',\n",
              " 'when intrvued by afb agons ongenuwry twenty wen ente ese',\n",
              " 'prining ban for or perps ay be consier as the ark of man as n ',\n",
              " 'that the dicrtion of the sspecin the tipa shuting was semilar to bhe disprtion which hadbeen given by braning in on o sss',\n",
              " 'that the oly resonble explination for hexistentcs o of fon imentl uity in r re ',\n",
              " 'and stoll haper on amuch larers n r',\n",
              " 'and o the rls of many o aru a ersits and o allmas er re e e r',\n",
              " 'on he other hand the farof special preation cen only maintan that hese ridiments ar fom o he e te e e n',\n",
              " 'eery windo haits par of opiens e re re r e',\n",
              " 'he contine his efferts to revers the dissharge bi tition in the na e esr ',\n",
              " 'the sae swal on the lin onrote which wen londen and fo sr omn e ',\n",
              " 'ehfeal oficse shunturmn those federal agencs which r repersented localy and with which ls on n n',\n",
              " 'woith las an gentlmen al a hav a grau ore sa a as an ',\n",
              " 'in tis conaction a shol be noted that in speing of the worer oswald to mil pa rrrss',\n",
              " \"acording to rrrna oswald's testimony on he nit of the waer suting per husen leter paren on \",\n",
              " 'they wet aubll that inglin has ma prors ot of herdeprssion by an d notin  n e e',\n",
              " 'there victom was aman ine patrcocr acustm hosaer woi binsuter of marde wro   n',\n",
              " 'oswald was non to other fenderal agencs with which the secret servics mantin in',\n",
              " 'wen quetly retrned to is of e ',\n",
              " 'oswald was ast juring benerlns reaed dbatin which hen gae o oes in n ne e e',\n",
              " 'it was stated in evidence before the commission on papidal punismentin ite se',\n",
              " 'he soin ent he gon and tfrog the shels in to smpusions on s s  ',\n",
              " 'of his many manfistuts b asial hear confime masals an menerting un his nee lact as regars pre e ',\n",
              " 'thers somindication had he maerelate to man wor easaly ento wening  oe e e s s ',\n",
              " 'after hy return o he stret he erectedarten haris istation to te trolmn at the fron n an n n n n',\n",
              " 'his dimenr in mee preceing his exicaution hnd rere en n ',\n",
              " 'ond the ober the geverner of he jas aes ',\n",
              " 'mord wiam rosl live telon in nor frstret ar la  e e e e e ',\n",
              " 'he masta pland his ata at the varyn lats prire to firs ing wonn n he e e r',\n",
              " 'the ablons were aber apon the ms n n n n n e e r',\n",
              " 'myrequest fo the revoking of my mrsins i',\n",
              " 'ing aigen fifty s e ',\n",
              " 'when visited won daimn the conden se justesangte sappalpers pla was strating n nn ',\n",
              " 'as sih he hat pree genral contro over is soie s e e e',\n",
              " 'the hadgrat hostisy tor his in vie  her e e ',\n",
              " 'hes rds we a fity with barac bas s n n   ',\n",
              " 'and heded toored the texes sol te re ',\n",
              " 'it was nostrane at sabordneso milect ter jut wren supers ',\n",
              " 'two the last theirefor he plae the part of he man won fole end nd n n ',\n",
              " 'pain prtakelar tention to the crownd r in n i te',\n",
              " 'he was anjermn ne',\n",
              " 'in prefrences to a shor streach of the sentral xpresway which prisented am miers saet ',\n",
              " 'undersucerer orders al a dors an gase of thisbla relefo en at n  n n n e e   ',\n",
              " 'hat onfortyfive fm the police ra stated quote hav infrmation osespec jus went in thetexsi r r s ',\n",
              " 'the siety for the aprovement of prison diiplen was tae wirt the desar n s',\n",
              " 'tha later was arwo er reste on acarge of uering forge chas nnin    ',\n",
              " 'he let of be pres resemich inteferd with and laf a and ro sem at nosexcest tened his effers on to he oss ',\n",
              " 'the form r alra vou to the same criminl prear and lking o to their elders whith tnhe ressc is n s s s ',\n",
              " 'somtimes the stention hot wether is sand e aed',\n",
              " 'the acife of e afaritis and the undu as sendencr bose wo as convictedfelins h he n e e r',\n",
              " 'to that in mi miine an an an n n n n n e ',\n",
              " 'the caribl spectical was as demorllising to the publik fro hn n n nn n',\n",
              " 'rater then weae fo the lone we sto ticros es stre r e',\n",
              " 'a simlar descrition was beiin onchel to  he  e  e ',\n",
              " 'mand by officers of the dalas placsetd artment this a mobeal prceed the man ar e her rr  ',\n",
              " 'an that elaters emily speking is s  ',\n",
              " 'be ese their on tols and bis with ou an gagers ponsiqencs as rears sn e e',\n",
              " 'the transper was satend frinaing o ember twenty t sixte thre n s in n  n se e e ',\n",
              " 'the co lode hotulaing atrosity or of selt intres e  s ',\n",
              " 'newgat thro al ers continned abiy r h he a',\n",
              " 'the pracice was folingingto abas and the prisoner sel am reqar rens n n ',\n",
              " 'his resonimbal expectation hoevers far r ae',\n",
              " 'she lucgout the grecis trom wind and sa oswald pras the stret and wak tord de drie ly r r re r  ',\n",
              " 'which whld intcate and oswasd re ',\n",
              " 'there was no monder or at wers frut rarly han nn fr r s r',\n",
              " 'mhis ups conpession was indorst by wns and the imea resos wh s e e e ',\n",
              " 'we tot e es',\n",
              " 'it was perpitratend poner respectibl consieser',\n",
              " 'sapler probly misonder ste and he geclar that the polees oficer had broken fae wi hann e r',\n",
              " 'on was reuon gifferd a waligecae u who had ben atcrase sosan n n n n n n n ',\n",
              " 'an al la handed me apantly about saving the rosbers and lok e at paper an astal rememberaforsmmes nnn n ',\n",
              " 'in mean o bhe inrd bot maper agree to by as s ',\n",
              " 'nor were the ms dimenentsan bail prisoners any longer sepperaten from bos wo s o s r e e ',\n",
              " 'oswald re the bain his righ han neare the t o ae e e e e  e  ',\n",
              " 'it as sand that sol larg accrod had never colecteencs the excution of mis pror or had e publ indees  s',\n",
              " 'y anm sho i dres e e e e e e e',\n",
              " 'the derecter nd deity derecter for plans of the s testifie conserning that eagences limited nolage oswol f o  ',\n",
              " 'wor e n or re re',\n",
              " 'and at theirequest too pls offcers were sent tobermany to enqir for hin at the ma os w wh wh  s  e  ',\n",
              " 'inits bye erequest won he fiscor begining to line on ne',\n",
              " 'ianser that no ontry r e  o e e e ',\n",
              " 'she ha sumpseqrently anmited enistence of the conprsation nn or oen n n  n n ',\n",
              " 'he reil scors of the antien temples r r n n s s ',\n",
              " 'bat s drpersom harly considerd the conerssn',\n",
              " 'l oswald remaing of his mother and ac o o  n n n te',\n",
              " 'and ubl par shait se te e   ',\n",
              " 'he ma had ardin sompoice for pingnerancs by in oters hi was pol l l l',\n",
              " 'that oswald stated that he ded nospekanlistion his panly be puese ded no on n on en n ',\n",
              " 'this commat as walas the on precenet aso reportedginturs of strom reprpaion o os as s s',\n",
              " 'beris s and e e e',\n",
              " 'suly he uters of short hs sr ',\n",
              " 'the ie the presidentia fol a car at the time of the shuting an n n n n e ',\n",
              " 'in the lons o the palas of the cans sor rond in lnl a r e s',\n",
              " 'strantend with the exeptencs of bos o wiations to a un lo inters he he e ',\n",
              " 'on novembers wheny t oever we for srendring pisesion of the rifle to the at i r r',\n",
              " 'the lor cae being infat invended in n re e e e ',\n",
              " 'may a determentd efer to burn hin se to dat y froing hmse obally on to the frd n n n n ',\n",
              " 'al abust w oexetion se som an e e e e e e',\n",
              " 'the co prafs meae their were on doe le may filars andin was aconm n s re e   ',\n",
              " 'which jonsa sa he ded not rece and til after the asasnation  h e e e e ',\n",
              " 'from the out sets os n n n n ',\n",
              " 'in his wmise r ',\n",
              " 'wan anygeven protise as o becassifid ecase ms e esind e n n e r',\n",
              " 'inling was repprsented by mrcrofer and ther risalt of his inper was givent of the poblic as in apendxs to the housof comms reporst n n en',\n",
              " 'he was pohmen to hegentlman at ro hat on da he wented to apon bropers of ons wor ann n er r rer  ',\n",
              " 'of the lams o s',\n",
              " 'an nother jal ba a ilcester was also wore the al commindatini     ',\n",
              " 'tha shemaricnce had demandin sise to ig an r r re ',\n",
              " 'on the onhand man arfoun structurs whch re perfitly an noge and an an n n n n  ',\n",
              " 'he cu them as e r',\n",
              " 'ther was no ing preason merder ore mans he number such prins re mane tret e const r r o ',\n",
              " 'ereport of the presidence commission on the assasination of presidntn',\n",
              " 'fiscsal wod was dispoverd nex orning in mn hose e e',\n",
              " 'and so pasin byderove dn toe e n n r',\n",
              " 'acoring to osy ms pan indcated that she foshe cotino was was n  n ',\n",
              " 'prisoners wor confordet som timse pae for for bas at the rat of t whet he ashulinsn e e e   ',\n",
              " 'if he advanse preparation his thero and the prtecue dovisns n ten r ',\n",
              " 'wit he invas of mi prescopacannatmmy be in over solity of the facted solfmon anls s   ',\n",
              " 'wie themens of bring an onis lily woit isos o ',\n",
              " 'wma oi men e e re e ',\n",
              " 'and no wore bid ',\n",
              " 'is rememberd at the former prison as iad fi',\n",
              " 'on the erlius of the bate opraters in frogulen fias we e ',\n",
              " 'it herman han that plasted pa ws s ne e',\n",
              " 'it had the ba iffect o disstracin tn',\n",
              " 'in conthou to the deters in newgate te pcortrs thay oe ie wore devided as i sen e e e e e e',\n",
              " 'in which re ban ifits of pride or shi ar recan i the publi stake inves importin serss e ',\n",
              " 'a smart ditactf fr r re e e e',\n",
              " 'in support af herconclosion rs oswald notes her has ens n e e e ',\n",
              " 'these pniderations and n n s te  ',\n",
              " 'the de was lon premenitatn and whute av been executed a da erlr had nmt s r n n n  ',\n",
              " 'whch rpears to be wore an expresion of his on si e localcondision an nr r n n n ',\n",
              " 'dresing sa eing tesame wo is in ther anetrs in ne e ins s   ',\n",
              " 'the foroing renals an panens fho pridlegs to onter with feseactien on comementan distrs  o oe er  ',\n",
              " 'ing consering whuther oswald was at the sofiese orner win do at thit in he hr',\n",
              " 'he shu onsiw and divied as farsit whe go ao r r r e n ',\n",
              " 'was alsoi dentified by marina oswald as haing bentaken bi her hasben r on n n   ',\n",
              " 'he set this about members of the ressions pekinggr in the dalas fort werth aro  e te te r re re ',\n",
              " 'ey bot reprduse many of the featurs of the case of was re e',\n",
              " 'i then wigh to the gre  sewether the rifle was ta and iy sa that hae lanket was stil va an an and n n n ',\n",
              " 'should negosit simlararagments with such other state ar lol lain forsemet agences ae re e n  ',\n",
              " 'there actions demenstrat hat the president and the nation penexpeccerange and ovotion tengut her en n e ',\n",
              " 'he telsecur rangements had be ma byrao fom he presidents n er re e',\n",
              " 'witho n lartment no maturial changen disiplin or interr conn te e e e',\n",
              " 'as regards the first  h n n e s',\n",
              " 'evn were s n l',\n",
              " 'oswald left for mexcosit on sectember twentyfied naneteen sixty thr and arivfe ansetember teten',\n",
              " 'is inerpart was bout whethy forfet w and at inerpls of abot one underdinforty hi ho    ',\n",
              " 'sombof wah as esh ta of ecoicse roesork esh nor wos h s   ',\n",
              " 'presently fal an r e e',\n",
              " 'itf was alarg bo brohe seting perls  o oon hn n tn et',\n",
              " 'inger and coway  the same line of a forman frm which ms mark mpeerlarma araentin  ',\n",
              " 'ales the gilty prisoner was iveno et ho mord was pcunish i ther by the exlusion of visitrs s we e e e e',\n",
              " 'it was ba whoformd chef part  s sls ls e e',\n",
              " 'and he had tos ample mens of intreduing to the prisoners bhe prohimited bey alwis much coitin n annn re r ',\n",
              " 'in ninte firty sas as testified that the trogitional pra rou ing daas was alon mansees ss    ',\n",
              " 'tha lhis parancs rios and hal lis forfens rokin an contrie hars nnnn   n en e  ',\n",
              " 'e is as ad ma the watingus was ol in or neriy as i e n es s s   ',\n",
              " 'the commision tronly inperiges tese effers to mprov proection o wo on n e re',\n",
              " 'it was fprsomtime afterd thes aconsted practis toco the chimas nn o o oe e e e ',\n",
              " 'this ound nowigas to be rely eficais the mamne remnas n r n n n',\n",
              " 'nine of the latter were catur with al the wrmterial cs n n',\n",
              " 'tan amad and araparat unto herfother fo the sake of the luper of fersuses nd fr haing atwrs ll n',\n",
              " 'me anstencs of grat simlarits invertabret structur is o a e',\n",
              " 'after he had asassinase ed the amerin president i dousnon appere that he ad n n   r',\n",
              " 'a pro is ra as any non colected in neo baly to se e sermony oo  o e  es  e e ',\n",
              " 'nd the ord nary in aoise trimly with mosnrr ',\n",
              " 'the also asatane e ne oe oe r',\n",
              " 'in clin ar rusion voluw intiled qo b oius folin viceend qote s s n n n n n n n ',\n",
              " 'trom perr mot o e e e e',\n",
              " 'fariners indi replas and trokiule reins s e r',\n",
              " 'thesimce the cale tes ther was garnasho hotiging te e e e e',\n",
              " 'the listing had been socomplet in niscae that he was no trace of the prent on the riflet sel  i is n n n ',\n",
              " 'the raon nat in usin motercaed is alaerat ad prmis an number of ifret mens of counacation the rs l',\n",
              " 'then wen mix ap with hease in ore ',\n",
              " 'the mans cenral discrtion was simlar to the on bro has or e e e',\n",
              " 'he foun to anty shels inbusis and gaevemto petro min ja am o wr e e    ',\n",
              " 'in supribled ifficultis wre stilsaposed to stand in the wa of any general implmmet tof fprsers e r',\n",
              " 'on the seconcers er reqaed five ote on fs   n ',\n",
              " 'the alsu discover that twro the intermediu of one rober comings wn n r',\n",
              " 'farister naxt trease f iet t o oe',\n",
              " 'he hadlded to n rs   ',\n",
              " 'his motices fr thus immieing me dasterd l crime of oxr r re e e',\n",
              " 'this change la som dis ontant and jo was foun that the mich grater bon or re leve frm irs a pomponas an n  r r e ',\n",
              " 'aout the had was an in scriction in gre caraters as a an      ',\n",
              " 'stated the burs weas n ins o ',\n",
              " 'on the oer an sins to rals co be mae fom e e ae t',\n",
              " 'on rating e conden sa she hro reso pon the flor ise en n n e e rere',\n",
              " 'ineheen fortn abil was broin to nsstiormme oment of charplens inas n n n  ',\n",
              " 'and h atempt on the lie o president helect fringn ',\n",
              " 'with h f bri exetions sl e ',\n",
              " 'and ther farin durs af comt be xepted as a w e e er e ',\n",
              " 'station in police on the rotos of all modingso o n in s re ',\n",
              " 'she confirmd e the sintervuw by s re t',\n",
              " 'the costily grete anar ha and we the woards we firs openg in th morin het ten n  ',\n",
              " 'one waor gir oes fet and nanangh bydrine his sta te ce an nan an an  ',\n",
              " 'the increse of ban forgrs andeds cas or re e e ',\n",
              " 'the comision has aluwated the evidens tending to sho hal harvy oswalds man lifer parpano rifl  ',\n",
              " 'on contrald fcopersation with visirs of the tary wers descrition prostitus ses s ',\n",
              " 'asetd on on the contence of the no which oswald lef for his we n ee',\n",
              " 'and the prison alos was tl limsend to ren r',\n",
              " 'h otoe report noted that president henings ory sixers a aenn n    ',\n",
              " 'on onis sevintee nineteen sixty thre he apper breafly onarradia pro rom an on on n nne ',\n",
              " 'bit al costiltan as much extr and of ae lugurius crs s e re e e e ',\n",
              " 'the cmmi dis notseng to ha et understund that negate col be onaand ed re e',\n",
              " 'with forcamens and tofirplacs ee  e e e e e',\n",
              " 'two gase later quote som ba g propbaly from iesol i  e e    ',\n",
              " 'ther slsof this investigation or folly ispustinchater ses    ',\n",
              " 'oot sex mont slater s e e e e ',\n",
              " 'bau palpret n e',\n",
              " 'at the wih house an af odonalspecial asisteto the presdent a  a e  e r r re',\n",
              " 'ar rignaly adoterin pracis sat roubly in stafer sher he an grauly with dn frommi n nn n ',\n",
              " 'on which the rever san to suchian extent that the nat won n he e e e ',\n",
              " 'this intustington ore',\n",
              " 'he was neber sais fid an',\n",
              " 'when a prisoner committed an affencsiginces the couni r egenstin indebingul he was tred  br r ed ',\n",
              " 'ther even beter wen col ',\n",
              " 'bt as the plan wasd confesidly expermential for the benifed of the contry generly the ammount for wich the sitsho be resposbl i inn',\n",
              " 'a ferther and more ing neqwhish hismeteng of e suen',\n",
              " 'were asocaded continulyg wihe number those wo co lok it sercent on amitigation oin',\n",
              " 'the as un restrangececiation of untrid and convited jvani with a dilt prisoers e e n n ',\n",
              " 'this was at mitidin evidence by the ternmts and was proe by he aparns of the prisontals which more hamar s on in  e',\n",
              " 'that no president fit fr s a e',\n",
              " 'a iy vuspastis time erturns a grater adectin crim wit he wider aqintencs am om criminals an  rer r e ',\n",
              " 'bempartn port to reckenise is that thes boundrs or art official n an nd nd t e e e e e e ',\n",
              " 'her r reginal captal had bin afeshilins and for dise they prchsed the rigt  te s e e ',\n",
              " 'the total o the information receed by pears s  ',\n",
              " 'thay ha astanding bas deinto sleon and alendt flok mates   o     ',\n",
              " 'the counsal araniing clus in idition to the president and biycse president the secrteris of stae an eans n   ',\n",
              " 'the felin and  mismenet the san an an nd ie sn n n ',\n",
              " 'he other si reported that the sistim of tae so e laber was most postly so many officers beng wer prdr tin n n ',\n",
              " 'waer n after jdor som friens of the dece stod bi and nd re e n s n n n n n',\n",
              " 'an incar was at on sest on fo n nd o oe e e ',\n",
              " 'aepan his continudcaation with the resion and msafer his retr',\n",
              " 'he ad the nik nan ws ',\n",
              " 'brecs sh strns sur tr r e n  n    ',\n",
              " 'te commissiongaelitl wate te sie n ',\n",
              " 'wht hat sfirict ar containing its ordinary my new dos of aron acasend and an n       ',\n",
              " 'he wards man dd not meserly lose his situation fort or was dren fe lnlecr r re ',\n",
              " 'but les tan pcompletely tro for poaperto wen intargat ae e er r ',\n",
              " 'the clat with dras water and paron a as ad from the ut r  nnn n ',\n",
              " 'ne gs o the affarty of mr burhial hn e re re e ',\n",
              " 'theris gra angersens to me to rrise fom the constent haved  frbas a an n n ',\n",
              " 'at shud not be relidapon to the determent of the amagingat iv application of jegmentin s as as',\n",
              " 'm on whish to mae everylon onbor shar and sheral lie s s  te e e  ',\n",
              " 'the cronpls of newgate blm t by arther grifents section fitn n e e re e',\n",
              " 'thexcepfor inorguration ore other pras in boling farin di mitares acopony by the presindint in in',\n",
              " 'eilterated rehtwe laber wor iamas wh he e e  e e r ',\n",
              " 'fr an tay sasires ponpringnation affternation mey reconvense that he wuld nears n and n en r r  ',\n",
              " 'walses relations rne him migensos oer r',\n",
              " 'the croding was inposiqence of the dila in re modin rs',\n",
              " 'it was oufited with a ear plaste bubl to which was nier ble fr on r e ',\n",
              " 'in onwars he forge pors of eturny and for cee to relas srses n en e ',\n",
              " 'a properly taken einistee in reeaminiyg mager aspes o e in in o',\n",
              " 'but bey camn wn al to nwgate fortril at be ol aly and n r r an ae     ',\n",
              " 'undr be abl and and ar jety lars on o o o',\n",
              " 'twoer hasbens membershu card in n n an oe te',\n",
              " 'was fro wa aften abo was cos n n ete',\n",
              " 'iss firstapered in the devonon and aperspilory in in n e n e  r ',\n",
              " 'a lesticon afor to pafer va al oft her o ',\n",
              " 'aing concederd the prom builiis as xplanins os s sa ',\n",
              " 'on inlin which poxpered hand avalsd o isonin flated self concet n he n ere r r r',\n",
              " 'the wodeclare he son no won and apordngly pas we wer aie in n  ',\n",
              " 'in l be soferged tod denal wa in sexes iganrations n nd n n nn es se e ',\n",
              " 'only nonanly so oeber in man chases s n en e n n  ',\n",
              " 'there scarcely lone of the foses of roin mos inbablon o hs se e e e e e ',\n",
              " 'wre the aperause for the ponismasshe s o e res',\n",
              " 'he decidits stricn or the vetual poso n on ns n on ',\n",
              " 'acaned ammornage of sevn fos ',\n",
              " 'i appears to havebeen oslatary operation on oswalds part in spihe of his mstatmens to the newarlencs plae  e e e ee',\n",
              " 'phors alsotestified that oswald was reser and sems  be quot as o  te e',\n",
              " 'the genation of af filen tfropicgeta main capton bron but bese prtaculy the bils or lital ccernsns n n',\n",
              " 'bhe he coud no ofor tosen the mackt to the motarswo and she as ak o sn   ',\n",
              " 'tollod closly beind the presons on e',\n",
              " 'and the fotagra h we e e',\n",
              " 'i e lut notreces and the poliece peer noting of him he hanfa on out of th contry to copon onn hen e',\n",
              " 'the fise presidnt a r',\n",
              " 'the commision amvouuwated the folling avientcs in considering whether le hary oswald fired the sh',\n",
              " 'but by printers in strasper a a ae e',\n",
              " 'adissional porore an e',\n",
              " 'as a resuls of that conbersation mrina oswald rote the sovi a anpcin wasing ion n e e re e e e ',\n",
              " 'his monyng would besed to componcsa consltencs to lee standerd quement hor s s',\n",
              " 'bu icle protect he actal belan erning por properas on on n n h e s  ',\n",
              " 'soin soim sarge to tolu th is al n ',\n",
              " 'it regarded apraxmatly one hunderdof these for undrecases asr r',\n",
              " 'bos wo at intimaten that the presidento he n ie ese e e e e',\n",
              " 'oswald alson dinie oing a rifle and setet sncely in the marin cor   r l   ',\n",
              " 'soe an manin the most afl sitaion a ae e n',\n",
              " 'aporing to he bie presidnent of flines  ',\n",
              " 'y he inergasmon ind sel e convicted prisoner and in wors s s e  ',\n",
              " 'the priminals ar noexpose o uw toal ay mot the fatal stae a las ar of teta e he e e ',\n",
              " 'where robery with bilancs was intente the prpotraters had not to wald ot barius shiftson en rns  ',\n",
              " 'anse steration stared man in the fase n or r s oe n e  e',\n",
              " 'dhiscrid a large aeing oned in the rit rear par of the ha it sustantal damnte and expoter of granson n n n ',\n",
              " 'that oswald the sended by stearae from the sixs for t s n on r ',\n",
              " 'after haning bout e fol ston ohis for sometime theis so ad las h he he es s e ',\n",
              " 'the sesspet last se roning west onjeferson or rn n re r',\n",
              " ' the assasination of president hendy d mans in ixaination of the prtect of massurs om ple s ',\n",
              " 'from retern to fort wors  ',\n",
              " 'tesified that in mely afen the shos e e e e e re e e e  ',\n",
              " 'me e',\n",
              " 'in nu hat was partly flandsd on his ha for oing to its aing to s in rin n n en en n n  ',\n",
              " 'and quot as heis qote prinsifl rs n n o orer n n s',\n",
              " 'sonaferrs r ',\n",
              " 'she san that i she heers poter husen the we erina oswalds oto per usn   ',\n",
              " 'the prisons we stil farfomin flicking the phre punismens r re re e ',\n",
              " 'and because the mrn was ofin soim perfict that the amount of efert cold not be n sete e',\n",
              " 'thre eremote the rifl from the blinke in the paes r e e ',\n",
              " 'his farplay for cu a committy actiitis however maed mor ifical fore on o n n n ',\n",
              " 'juring thisreconstrction the pemal prisoers wn n ',\n",
              " 'his wal was e e er r',\n",
              " 'he aparaly conclunded that the ad se',\n",
              " 'e short atantion a his eains mental an boly as supli of evering essr a r r e ',\n",
              " 'he en nates o osivations to the atendent abot e far nd n en te te te t n',\n",
              " 'hes ros weor for the mertonsetre ment of a feuly ilor inger pations althog the firs messe manion nenrre  e e',\n",
              " 'the was som dot has to wetere isto and fire was actualy lode wit l  e er e e e e e ',\n",
              " 'niter renls ore paterson so the man after he tur noftfer n e ',\n",
              " 'that severa maters broties atention in late otober and erly november ingpling the visid to the soe an onme n ',\n",
              " 'on the sevente sho li e te e',\n",
              " 'mr venat spees of thirtiate capultle convict se fon in the presard in fegrri ies nn',\n",
              " 'the evidence indecate that oswal usualy tol his popected hmploiers and implinment couslers that he had recely eendisre  ',\n",
              " 'was ein lunhion his ca which was paron pan fasing h sou hies orner of censtry ad a a  n n  ',\n",
              " 'was strie at the ol baling he foin ear for por sn nd n n n e te',\n",
              " 'only to of the man in the linu with oswald weretenagurs  n   ',\n",
              " 'whit manege to fe his res sasoner and contine to stroa r the afisiols fr somtm    e   ',\n",
              " 'oswald otaine ajo inje ly of ninteen sixet as a she ma or rn n n n e ',\n",
              " 'a na his helas i a sen or oen ns s ',\n",
              " 'acoring to mis pamne was a n n n  ',\n",
              " 'cintamnuly altering irasing in aing figurs to cars ponwi and caber the atrations  hn h e es s',\n",
              " 'engiem an bims and danil rd quo in irns for to gas for briaking the winose of the gan n n n n ',\n",
              " 'ad utioa simmences bhe gining no latere han ha an n e',\n",
              " 'the sental primil cort wos ac c ci t ',\n",
              " 'the alver wilmng whe jarity f pepl ind this contr now ho to sif  wee ofomn th h  e e e ',\n",
              " 'ian asire to ae bhe castrren which president andes s o o o s',\n",
              " 'in facted din chaine his exprision on n e',\n",
              " 'whalthers no proe that he save ciften undre os ',\n",
              " 'alscprictions of afenders coorgated to goer in n o  s',\n",
              " 'is he aigentsification and alimination of posibl sors of dangere to the president e fore the gaer in os',\n",
              " 'who he immalaration of the crinial qoed otheir crol concommiten so extus ser',\n",
              " 'mir boxton in the werk alrady quote instones an nother gre iscase of the hars o n n enn',\n",
              " 'ineae them was alare rfrish morter ine vat alat of losper most which y stain as r  n  ',\n",
              " 'ad daring an pcleverly plan rabero dimans was that of the tartis n n ',\n",
              " 'the femal felins wrds isial scrivat len n n e t',\n",
              " 'ansr a sae would be beter ifiremade with ru ential ohoi as  n  n n n n ',\n",
              " 'as the fectualy tor rebue and apas a profane sperid of the work inslnt n e ',\n",
              " 'to which al prposls for expendetur of onn must bo for prlinmnrsi n n  ',\n",
              " 'suh ten re the srcomstanses of the frstte ',\n",
              " 'anbrefly descrie ore r s of the morm maralal murders n the ears me le fn n an an n n n e  ',\n",
              " 'sarls who ha pertisippaiin preisidential cection asiments in dastsince a visid by presed ariin l',\n",
              " 'ther lasions of plasand animls to the ates r e re',\n",
              " 'sa im wa her the cloril office on the seconflor o e e e e e e r',\n",
              " 'but ber an har n n e e re ',\n",
              " 'mar wd wos nam  so fromol es sn',\n",
              " 'the ather and the lase frominal excuted for forgrin is contr was on mars   n n o o   ',\n",
              " 'sinif icantn shaking hecarater of le ary oswald was the det of his  o oon n n n ',\n",
              " 'sometims berls of firtn twell een tan orn n ens s e ',\n",
              " 'the amarncshils also testified that quot rigen frints and qo ofta oswald erinoswald complaine aat os as n  s s',\n",
              " 'and that they had been mardinfort wort and li tar antil comintoneorons he had tod thenearlans aresting offesers',\n",
              " 'the dor of his plase of deran staon and ms ig be gan ocens e e e n n es',\n",
              " 'but expand bote the so arm be operations of he stingagencs rtcul in os h e e e ',\n",
              " 'we ha fon fromn time to tme w  e e e',\n",
              " 'affer bout on mn e r',\n",
              " 'astardent to anigras and he polece parsd te sarencs was going raning prescrosingaber wars i of e bed r n ',\n",
              " 'neo ad neer ching of bailon e esalten fres  he e e e e    ',\n",
              " 'a speem forheing the ol prison with ho wader pits after the sistom nongenrly a doted os s r ',\n",
              " 'since tecamraoperats ad aspeef eaten r ere e',\n",
              " 'whe avlitl propection onerhe od las ns e e e e e e',\n",
              " 'frm which he rosed to be ssisten restr with the special e e e re re',\n",
              " 'never sence mian ogration ion marh niken phiry re  y l n e e e e e e ',\n",
              " 'simaler arangements for moter cae of tenmils inln many las f folrn n  ',\n",
              " 'wite when tax with his atemnt and mited tat the aisation was tro andsot with prins sae t e e e ',\n",
              " 'but y neven the less frewently manange to secret the mens of making awa with hmsns and an n oe e r',\n",
              " 'each pretral man migh be given aprpared boled of anstroctions explang whone is expected oft him the secre ser s s rs',\n",
              " 'napers and others nw him at thats ime recal an intrverti we re e e ',\n",
              " 'mhs cambal ofer him las and there was an altercation in the corseoffe r re  n ',\n",
              " 'he for woed inplans propared by the inspecters of prisons nor e   ',\n",
              " 'he didnot ont his lanlaye to nos ril mam hecaus sho mike ared in the paper of the fact that he ad bin in russin and an and en n n',\n",
              " 'shar in the replalloans if meate mi asof he dnine to deters h wad not pa garis hs wa e e e e ',\n",
              " 'mat amtane frm a stey of the avencse relation sheps and inflinces which apeare to a mensin nianin hi in sa adn',\n",
              " 'that the committ a aeten sixtythree fulliin dors serjashs recmndations as regarsay arr en n n e',\n",
              " 'abadoted cqose of far copetition h e e e e e ee',\n",
              " 'and lesst naro interpotation of theirslsl',\n",
              " 'from ameicl upoin pesidinkhenedy was alive when he rit a l',\n",
              " 'ingjeneral or famy life began o deterr y or re e  ',\n",
              " 'but hos he avans of byaiy simply tended to breat don o disstation s h he s  ',\n",
              " 'sater was averiy excitable althon not an l e rnm',\n",
              " 'the partly crim was probabling cerise y the fereles n ten n ',\n",
              " 'specialagent winstine laoson amember of the wie hasdital who acted as the aaen e ',\n",
              " 'and the man clalso en any time ofors cot and shuer to ms prs sh s s e ',\n",
              " 'neari a grating hrowhich the deters recee her er o e n e  s',\n",
              " 'they reno amblige to ataen chapl and so timieber was prisoners sidt one vemmedersninn n    ',\n",
              " 'ren paf was caldin and informd of the intendedin as stogation he trie to stae alf el or bi car e er r e  r',\n",
              " 'and susiqetly afer his cronpercation wy fother camman in we recino arguing backenfor th bout the situinion n an n',\n",
              " 'tey to be ese ellavater to the sevent for and ran u a stery to the wroe whe e e e r',\n",
              " 'inothers bot were suppliedin ampl qontits the castovaring proprisoner from iti n s ',\n",
              " 'which was the first leguce latef atent to compelle asfication of prisoners o r e e  s',\n",
              " 'that eagencs of the fbi indalls d not concider oswalds presons in the texs soslon se ',\n",
              " 'without making in atak on the president a crim fritning parm to the presidant is e ',\n",
              " 'the sit of wrich was to be sod to crise fospital thot the intentsion was a corse to embdy an msrln n n n n ',\n",
              " 'she wa smarty trastin aplas whol ',\n",
              " 'he was generly supos e e',\n",
              " 'in bat conaction e shuld be noted that marina oswald testifid on sactember sixs mingeteen sixty fo r h h   ',\n",
              " 'since thes agencs ar alraa liged constely to evonuwiy he tetes s e ',\n",
              " 'to be intirly geffremshens nae foris on rs a ',\n",
              " 'son in betweng the oper and lor lethers severals fring ss were fon h wi h e e  r',\n",
              " 'on te fatl morning ie n n ',\n",
              " 'somefive pundredin al were arrested ban as ally hreof thes relae  es e r re ',\n",
              " 'captin doin who was convictend of poisening his broern la sre ie e e ',\n",
              " 'was aplied oly to the releeif or geters wo wo e re e e r',\n",
              " 'the fatale us was not aowis reced ns s e',\n",
              " 'pertis as nmber to ts ero st one threaro for sex t nls  ',\n",
              " 'ing grat part thre the copration o amaricn his r r e ',\n",
              " 'he was as sho maer by tra and seald in londin afer his maen te e',\n",
              " 'the presiden like ou bor pearances becas more pepl pro se r',\n",
              " 'retern to noorlins an n n n r',\n",
              " 'as ames of in cresing the sbari om prisonment laers and viis from otsie o not be formittedrn efrsoso n ',\n",
              " 'for the many messigs whchave con to meafte that speh n whi  s i   e e ',\n",
              " 'the maals of be sidniffiinbas as repoten by jon pak qote las  e en n nnnnn',\n",
              " 'accoring to the avilusionary interpertation of such fas ren avary buld reason wi a ht res  n ',\n",
              " 'and har at the mispaided line of reasining of thenaes e  n ',\n",
              " 'can frar rost dor recly he and e ed tn n n',\n",
              " 'algan lose said in in inter ve that bhe cousiof the distencs foro which he emerve the gonn he with his itye to st w he  en n   ',\n",
              " 'at ap ticxtin oee',\n",
              " 'de ity shar a ar wal fers recal suter mar pe e in oe es ',\n",
              " 'it is saascactery to beablsh record hat som consinderation was shon hecapital conde fin n ',\n",
              " \"the presidental lost complatly lak oswald's ew of tegovernr prire to the time the firs s r\",\n",
              " 'ie maerramling difens nd nd e e',\n",
              " 'the man was oswal he was sitingwa lo in the reare of the main flore eer r re re e ',\n",
              " 'le whith sae that i wal bebar frme affiwentar rasia i e not o in n n n n n n n n ',\n",
              " 'ani was af lighe aftoars to let inm o fi s ',\n",
              " 'aended wen merina oswald honu and refused to taoto em o e min won e e ed     ',\n",
              " 'the atrning genal intfregese obil to a bolish hapital punismet n tarrel re',\n",
              " 'the triof caftring wes re er',\n",
              " 'u afrmd la mon the pro was sen to present s an e r e ',\n",
              " 'ispressialy ba a wrilim sno ailas steh o sle frm me lassa an n n ',\n",
              " 'and hat the win strees the me wusd gountown whild bhe ofsiffition wetd ae e    ',\n",
              " 'emel prisoners we stilexposed to the folve of the mals then neting in front of the glry be pr s s',\n",
              " 'he state that the other bro regacted himpartly becues he was an ammarickion af fact that hes an she had explte hi ',\n",
              " 'nagen losons intrm report was receve by agen cellerion on november twenty   e e re e e ',\n",
              " 'qesion in ie ie n n n n ',\n",
              " 'manings ti mer was more in armany with hi sitat on on on oe e e e',\n",
              " 'ien gon printing e spaes betwen mors h n s s s ',\n",
              " 'two a disinal operations weprformd on governer coly for wons which he had not realist had sestae ne     ',\n",
              " 'asbenfar less en n an ere r r',\n",
              " 'last o al the ca man s wor that he had balt the bry ha found in the carig for m ar   h ae r r r ',\n",
              " 'atd  in sofo the jail was part of the porhos sowit was at rient en nr h he s or s  ',\n",
              " 'le was wawais hoterperd and now this trat of carater morin wor re intn  n n ',\n",
              " 'ap lemash which haning nearly on no poly o ied r re r ',\n",
              " 'crl jam proferdict mers croferd and whilt wort rusl were convincsed that the omtlye asn n on rn n ',\n",
              " 'whiche beleve was were ha ba reah when a was lae on the se w e n n ',\n",
              " 'who hajus complated ad vans were on the presins rct o',\n",
              " 'censtindil has rely ben h mo an which al sum secrent prison constrtion has een bae  an n rn n r ',\n",
              " 'whuith inselfor maden large forsom weks he atrae is faris ton brea hre r r r r e r',\n",
              " 'a ha of the a rafic indics there refld nolisting for an indebiural dened to be appocentil e e r e e',\n",
              " 'its mening wod dhe pend h on the cine of jestis w s e en ee',\n",
              " 'persolras',\n",
              " 'but the prvain maral to mey he gest fom the penlty inflicted aponpersos sin nsn s   ',\n",
              " ' wa to ta with ew very simply aout the ne for prs n ins s',\n",
              " 'wo tha criminals stand poit by two pees of timber whichar ma to slie in an o of  he presma r r ',\n",
              " 'some of the officers sa oswald stritmi dold whith hi sfeist most ovem per apleck was n t te     ',\n",
              " 'as inglan on bat o oa ae a e ',\n",
              " 'she ha realise al her afes and broa an with herferitur two renanpers lains e r  ',\n",
              " 'firs ad lors cla he vand o and apiment in the conins ar an n n s',\n",
              " 'ot caway and giner testifi tat the had not enshon any piters e e se ',\n",
              " 'i meremided of that ev nin in mar for ers o o n n n e e e r ',\n",
              " 'there was amasters sie for femmalso prepa usual fes but aasoated with the ret n e mn r r ',\n",
              " 'and minnoting mord an smlar n n e',\n",
              " 'the fals coin was ba biinnagent frmmanagent and ealins werepared on sepretal o   n nn',\n",
              " 'la ron the cartius satetated pristo eae for the consession ambrase s s l l   e ',\n",
              " 'mherowns reacha hie of he ofort',\n",
              " 'he foun he most udo the manrs of his compon wh he he e e e e',\n",
              " 'the tonas finins ralso inferm by ronalje whithmes n other hat e e e ere',\n",
              " 'in this wa the poter impresions at l n on n',\n",
              " 'thremans ho i ',\n",
              " 'bha in indebigual presensesingnifficin danger to the life of the president his namis plased in at rd n  ',\n",
              " 'and vas ein much mor sen and ragular tham na a pcart in we s a  ',\n",
              " 'he sed lining cinditions o ere ther convinsts soming was rowit the sistim and that pos wes s ',\n",
              " 'in his commission tesin',\n",
              " 'in t wereroe crompating tir dispoiions for pesoing spring ar n ',\n",
              " 'bi is time the work an mi hear s n l',\n",
              " 'the prponderentcs of the evancs supors the conpluion ad n e e e ',\n",
              " 'the gan a solr biyn nin hafel who had ben wonded in the had and istre fr mn e r  n n',\n",
              " 'fer not las apard nd e e er',\n",
              " 'rober a fraer and cherstl tht he e e e er e',\n",
              " 'the neu chal had bing in agrat mesr consrcted by the prisons s',\n",
              " 'whe disixparmant was sofarecestl that abouatng fity s e e e e ',\n",
              " 'as those folodin ninteen firty six during a tr to dalas pair res s l',\n",
              " 'aste the factit he was an ot standn n ',\n",
              " 'more wre theese the olingusmens oferd were lol o harites were indesus e e e r',\n",
              " 'whern appears that he ma ave dstrited par plafor ceu o commit meterials on one onivenfle acaion in bls n n ee',\n",
              " 'at difrent pointes on the cose wary ofinbisd h  e  ss',\n",
              " 'the tas withou in other wor is annot toraes was s  ',\n",
              " 'men wa the clarted man sti bent in to the fomn on s n',\n",
              " 'prommananly reported presidin cenid as having quote a  invited the cuing peple to da to overfr fo gal os rs n ',\n",
              " 'whith o vas he himselset or r e e n',\n",
              " 'tocaro a cerfulyn plant poling of another heminbn and was willingt consimat suc r perps     e s ',\n",
              " 'hre be infredoution to any of hisinsfritions of wich hefoloing is on n n n l l an n e ',\n",
              " 'a for fotegra  r r re',\n",
              " 'aoring to socaal is indicaia quote presentse inst  lectial fontioning inhe operrarn',\n",
              " 'th e positerishopin department was on the first flor to which oswald hand aes in then non e prfonmns he es',\n",
              " 'bhat the daestermination of wether arnotir shuld be arreloncation of resposibilitis anfotions  n n n e e   ',\n",
              " 'mr ce of issup strfrt whominitr the astae of srs n n',\n",
              " 'was intreduse as erly as sevenn nenten e r',\n",
              " 's',\n",
              " 'most hatd had atenency to trnd om in to the world ardend and ccomi in n on es es n n ',\n",
              " 'end quot mager andersin cocloy quot i wetsae at ha a s  e e  e e e',\n",
              " 'bat erfild by the bot o al the boters h he e e e n ',\n",
              " 'for this prpicse he ave ore ther was s sos  n ',\n",
              " 'when visity mian on febroary fiften nanteen fhiry tr and un presiden hary hes n n e e ennn',\n",
              " 'hen came the crie ha salfen n e e e ',\n",
              " 'ther re two se ',\n",
              " 'advise the buroit the same time by tlity of the mfrmation sofrnied to the secretceris an an and   as ass',\n",
              " 'and in ves digation fail tor riviial anin etation expended to mirn ixinduring the parin wow s o e e r',\n",
              " 'u bosmoing fhro had e trapicon ho from merfy to lor as n ',\n",
              " 'it is the presidents riahe and dut to be be acte leer of his arty as when he sexs to be relect or n',\n",
              " 'the asassn was en reqir to had the tare wone mor time within aspace of fromfor ie e  e  ',\n",
              " 'aseres o ier for or hndlanms of am mon n n  ',\n",
              " 'wi f secred the servence the res ore ofol r r re s',\n",
              " 'mast peche becaste declare he had been donout of the proper prasef the co dust bat it was colare hat he hedtrie to aprpr ',\n",
              " 'er s wh n n n e e re r',\n",
              " 'were mon to propied hensels with sor e n r  ',\n",
              " 'w oswald teerse e ',\n",
              " 'wien londin forinstencs in eten twenty non tfrenty for pers s e es re e e ',\n",
              " 'but a he same tim e must and jates whl bring to the cors s aes sn sn n n ',\n",
              " 'when eturrageens at thearpo work complete the secret service mae nesisary ragtemes fo the bise prs n  ',\n",
              " 'his alyfar omrco tra at coring to is ongerl he was unrmitting in is atensions to convics wora a ',\n",
              " 'the later had the wat n t',\n",
              " 'the polaceminansisted osertiong the promss  e   es',\n",
              " 'ha non ofvom spoe unchin as ec e n n l',\n",
              " 'as a ramn quotend a gin the concorse of pepl colected in fron o the oe in ie s',\n",
              " 'it was his o handy work  re en  ',\n",
              " 'the jagin asingsentence of da l e e e e ',\n",
              " 'ing hiegen er',\n",
              " 'and the jogin pasing sentence on him of transpretation for life expres de prereat t  n in n ',\n",
              " 'it muspe remeber however that most mader printingus on by resenr ons ar nd nd e e ',\n",
              " 'the odr afficers with sel of wo miy haf convrs oaf bost ha an usal oprtns of wating  e mer r  ',\n",
              " 'in indevering to er rest ontamnation prisoners were wore posly confin as ans s n ',\n",
              " 'where ar maers portls mils for the manefer n n n e',\n",
              " 'when inditemens whal prferdigencs ot rothers for having care w n re',\n",
              " 'the oficers of piseciet  were to be non aol ae is s',\n",
              " 'a finded rdrd that the or nary of newa e restrected for mating an cm in in in ',\n",
              " 'a gan the dissipling comanly dend in seperale fo heveryplace of durs ws s n n',\n",
              " 'and ifwe atermened that the corse of the investigation wreqarred ustclarfi r faion down whith his imfermation     e ',\n",
              " 'ht had inregued muth r n n',\n",
              " 'soufon huson and sot wes apros ti heustinvied ut  es e e     ',\n",
              " 'the also contained a leven resesion sels six punissment sls an n o o o e e r r ',\n",
              " 'hers notng to sho at prvui we l te te ',\n",
              " 'droe to the ort was orner of o man huston and pak oenn e e e e e',\n",
              " 'she de erly and soe oe s ',\n",
              " 'ofrpi we the s las but afe ors o on e r r n ',\n",
              " 'those fortril and ther esentencs for r ',\n",
              " 'as we crasetd the pressar y cokcr and the soitar clanten fres es r  ',\n",
              " 'marmin top as much cimas ayn wanted for the firstari an n an  ',\n",
              " 'which the barius clont secretaris identifie as the property of theirse ',\n",
              " 'bat everng the same for o the log in the foflment of hismision ss  e',\n",
              " 'ic do and coen  maa rifle as ae ',\n",
              " 'this was concered safer tan antrsin he e',\n",
              " 'ba o at the proses of the construci rebiing of a maraco an  e n n n n  ',\n",
              " 'these baters whs n fr se en in',\n",
              " 'the gover mental conspuences of a sasination of one of the spesifie of ficials ge m einited staes apl par r ',\n",
              " 'there is spearcely arl reerd from his ran which is not shefly ote i with he drcres s s  ',\n",
              " 'ar beern an mear persoal strante him the apoplisment of sech cas as as o on n r',\n",
              " 'he mark wat he fo was the intrsection of neus and baly un am mot of ths as e e',\n",
              " 'h amagaperdclost fi undr bloa meus n nors aly which as thefi indr blo hes and visl duf  e e r',\n",
              " 'hishud not had any gificlty in hiinuer tarinte an in e reqas notranin a o t io hn en ie  ',\n",
              " 'at his tril af wael an parrck to of his sase  as o e e er',\n",
              " 'oswald souse qet le gits of stret s e ',\n",
              " 'sene to stra r min with hr and ponsternation to the explaustion of all poer f relected mes inprre  ',\n",
              " 'the ech containe fors ma ros r ns s s',\n",
              " 'this featurs were not carwor but rater sa and and n n n  e e',\n",
              " 'perhas the most out standing fonfoiong of such a stay is that oswald as profnl n n   n n ',\n",
              " 'liely discorse a on past criminl explices a laber ac discsion oof or te te e r r  ',\n",
              " 'e nfortet man was compeld at line o o tet t e ses s',\n",
              " 'pcup aco bun which afterwrts pladin amport n and n n in te t  ',\n",
              " 'wreplen ay hand qould coller to hem here was no greson them and they enoframente e',\n",
              " 'bat the oswalds wereliing at t one for in e ',\n",
              " 'ounres pas astactued whishin ateno r the cortsnn l n e e e re  ',\n",
              " 'mo laftat the sert of h hes e e  ',\n",
              " 'mrs pan was plang abert ty paryfor wone of for chieldern on that weken and her hus been mihal as a ',\n",
              " 'she testified that oswald sad tha jemeral waer qote as a a ae e ae ae   ',\n",
              " 'ad was us are wit varilatl beration altr the sixtme anseenting sntre n nn',\n",
              " 'ues representit its hin re he os',\n",
              " 'the commission belis that ot the fb and the secret seris hav to narly consred e re e e ',\n",
              " 'the intir wit tof the oterd defes not inplg the mo o wo oe r e t',\n",
              " 'whe the ares ae',\n",
              " 'she ro and ereleder of to lainete',\n",
              " 'the nese bender was as o et aes',\n",
              " 'atd the forbr the prvasinlol er s s e ',\n",
              " 'i is sugested that in orginisation shore of hits parto investga a the posiblis es en e e e',\n",
              " 'the ro ind a nother leer that he woulquote never return to the inied staes which is aprentr ',\n",
              " 'aer and beling sprintended oy troly whent fr a sepin set of tors and so a asenng dr er r  ',\n",
              " 'aponfer reing of this bil ser chames mackentah mo has an an menment that capital punismah eapos worrr',\n",
              " 'sovasting haflton o superviser of the lae en re re en',\n",
              " 'he plase the rifl n the flore o hae site were oswalds rifle was as l t te te',\n",
              " 'when len ot on the morning of his execution esto last name entl manhe to od of one of his ass onon o o on n',\n",
              " 'the ereliust bo printed with moabal ties he vun ber or orty two n o  e e e e ',\n",
              " 'the commission nots with a protl several reson mesurs cakin and proposed by the secrecerves ooto o es n  ',\n",
              " 'as she issud his instructions to grear and to the le car hellerman her aflary of shs h hn he e e   ',\n",
              " 'wore crat iiturs and fris frports consering in asassination ar etentid isassination of er wroor oer r er e',\n",
              " 'he trie dstar acopersation with e sevral times t a wlnias and he se athe inwe me to be ae nt n e ss',\n",
              " 'apromatly fifte man werk in the wer hous and trly not his that oswas on on n ',\n",
              " 'the infrmary was in lar the imsion of visiurs limmite and asn e re e e e r',\n",
              " 'it was recommented that the diters shope sumied an afroe lik therals that contited prisoners should notrse nd    ',\n",
              " 'as farac is the rain of hirs seacen a la was pased declaring etsfiion provasiensio e mae fr ters ns',\n",
              " 'epend bo oswald indecated that he like fotagraffit war   e n n    ',\n",
              " 'the gre ar otectural experment which gro oud of the strom reprsontations of cary enton and ohers and was the first nasion a rein in ton of the ',\n",
              " 'serculation ma abilis am en e re e r r r',\n",
              " 'forxapl in his leter of november ninene',\n",
              " 'luc on atestifie ha this ponprent was the righ omn rn e ',\n",
              " 'constin reaaluation of precegers with he tention to spescial problos and men dbelomentif an strucins s t  ',\n",
              " 'ther tremant was also maerof chas iy stols lect on ro mason  flor cerded to getering mpns or   ',\n",
              " 'but a pendl ther was nomrter n  e e e e e e e',\n",
              " 'wh preachus plamne pon ly discores s fit as any rligis dis ors pande feter re e re te ',\n",
              " 'to undertake som on n frfr',\n",
              " 'le ary oswald lef the pan housin arvang a apromanly seven fift a on wn a s s  ',\n",
              " 'the a for pri ed executions li to the arection of the gals shand in the eucising nar and hat the flinme of the passen mn n',\n",
              " 'stanining apon in ante stemy fo tot s tese n n n es',\n",
              " 'oswad e l e',\n",
              " 'the sermony which was whit is bially  fe fisials an reprsenitece of the pres was profome wit he ut onsesen ',\n",
              " 'an iportan forpics of the presidencs isit das was spekal lonhion givn miy bises ns e e',\n",
              " 'al le child agentlmin of largh proport in chessur of which counte he was actuly i shar t hn     ',\n",
              " 'it was ben aveas esing tipits carra who firs repordd bhe ciling of prtrolmentitet hn nd o  s',\n",
              " 'after aboted to weseeration r r o or r r ',\n",
              " 'in deviuals wo ware regarded as danguers to the presde',\n",
              " 'on anotercaion the bin erforge ugentlmens nan why he latter was sitn hen en e r',\n",
              " 'altho merin a oswald to the commission tat er huspen had god personl relation shis in s on n ',\n",
              " 'uan mehe entrey for man n e',\n",
              " 'acording to o dol o e rer r r re ',\n",
              " 'tu ex pas nd ae as e e e e ',\n",
              " 'ther renoi whith mees altho fortenearal bo in an mabrng hos  n n n n    ',\n",
              " 'ave ma oswald a suect of conserne to the serese',\n",
              " 'bht the man was a quote wiht ma a out twenty fn about fie f ae r arr n',\n",
              " 'un markt plece pars to the bise president an mstns on fr  ',\n",
              " 'undror sistm maersmus be sa to ford securty with ou inen esns s n n',\n",
              " 'wo ind been in the habed of taking cal ocom fr womitism ms wasan ar n   ',\n",
              " 'oswald apaly sared reing about poninis on hn s he e',\n",
              " 'but it was aoray plan that they costeteted in independen affarty with hin the gals r re e n   ',\n",
              " 'the oner came with ha police and was marly condens th he s er',\n",
              " 'he debatend over radustation do d asno s we e r ',\n",
              " 'in co loned premeaditation he e e e n',\n",
              " 'in ininstent arfaes were cover whith coter fistils n  he rsse  ',\n",
              " 'tet ari con to any of this pecificmasers hoever ooo n n n ',\n",
              " 'at the toplaces in dallas we the present wel er man for apere of time o o e e e e r',\n",
              " 'u on no me wil eept msal an ashrs n e e e e e r ',\n",
              " 'an nother cae of lon continet scessw forgr was bro to ligte to ears aftin the conictions o ar n ',\n",
              " 'she wouth at sen baer or trally on the first for or on the stars an ls hey re ora innss    ',\n",
              " 'and le for arving with marna oswald in jun and most of the oswls  ses ',\n",
              " 'she pointed to the linket which was on the florvary closed o were roe his and',\n",
              " 'nosan comman shold bable o derectorspose apropra to the margecy the comission fines hat the secre eris inin  ',\n",
              " 'com the biling ews n to ed distent wal with at tru isete',\n",
              " 'his aset for fat were ase e molling nen feer onal len  ',\n",
              " 'it is not in the practice of the secret servise to mak servas wor ches of bildings along the rot o or r sesn ',\n",
              " 'as the ears pas reate on of he reformity continen to pervi  r r e en n ',\n",
              " 'when marina oswald testifie before the commision on ferary he se ',\n",
              " 'noser was the jo fenahe and hafedusin compeiturs apeared ehe ofering the anen o or r s',\n",
              " 'eited by fraes wralt er miallig hates and n n n  ',\n",
              " 'wason and sorls met with daas she of poice je e prs s se   ',\n",
              " 'che of policecery and plice moder siles ac at had the mordr ha i n e e ',\n",
              " 'es evidences hav bin in the pasther iers somn wat oter sha on hn e e e re n',\n",
              " 'rusl confirm this stament in asore ote n te te in',\n",
              " 'of ehof his canges of men er',\n",
              " 'on thespenal se wend al lasaaation sto raing suprm or sistm mand e prrs os n   ',\n",
              " 'sae r s',\n",
              " 'tr thin meaion or arbetraion  e e re s',\n",
              " 'the re tocouns in he indiment on for steling at shevalu forten hudr pos the sacten frse n e e  ',\n",
              " 'in meating the problims of indastr recovery the chet agenc ad thegoberments s sn n n o er r r ',\n",
              " 'tring which hay contof the momes the prisoners in her sel asusual and herfrens in e tre he ter re e en e e ',\n",
              " 'jimginson an other patrin in tha theater sin officer grand oswald and n ae ae e   ',\n",
              " 'which curs in asout westrly dretion as a prces don ra tor the tripl onderpas n  ',\n",
              " 'a site was peruse bitwen ralimn and went crosedn n n en n n',\n",
              " 'this howevers probalyg not a sors o fit al energy buat ony contreieed o o he mintin o he te e',\n",
              " 'net the seciet ey wredriving to lidin the line wej aganl arnd on e e e e e e ',\n",
              " 'the jal aparits ofingae he his osibly ond importes t the oe r ',\n",
              " 'report of the presidencs commision on the asasination of pesident caney ho warin commision wereport  the presidents cimmision onn s snn',\n",
              " 'eusing sco rapetly working aboting using the soke to relo a rcared quikly an and n   n n ',\n",
              " 'at onthery fi fm afer of aneronly had ben move to the opring wr on   e e e e  r',\n",
              " 'wereport of the presidents commission on easasination of president cany the warn commision rort b the presidens ommision ns s n',\n",
              " 'tifection to the soeinn',\n",
              " 'lass mostemporton hrsponsibulitis were ita preventid actiongest any on indas ae e e e re e e ',\n",
              " 'wth thosin which her s no seperation no proper in forcsement apardlar on n ono on e r r',\n",
              " 'with morby turosity to scan his eaurs an wach his dimenar fhro the shifting niely pons sas e e e ',\n",
              " 'fracting his excutier or r a l',\n",
              " 'anen inchans apon the giviscs he e er re ',\n",
              " 'it was pers that the arioas solected frperhis mus be excesivfely casly to  cir and nd ld   e e ',\n",
              " 'the main otectof this a was to compis etn formit in isien ere r',\n",
              " 'is the worst can two the wors e intended to revegon donsom ton has ae  en n en e e',\n",
              " 'tal the prospectiv implr that aswald was quote pind a capuler somties an and an an n o o  ',\n",
              " 'e ceon no he receved mor mn and beter liing qorters than other rusions s ',\n",
              " 'the comsion as not e that the relations beten oswald and his wife  e e e e',\n",
              " 'which lan a so tispried es qote er revicable n wo s as as   ',\n",
              " 'wo hedrealed the acolty in execting ar lating to peapl and quote and who ha qote n n n n n   ',\n",
              " 'al ra as strondis lake to the releen las indiscriminet apication of the axtreng al r sas  ',\n",
              " 'he sa igens fluter uport he was not ser qote by anpreshore te hamne eblin wrn o on   ',\n",
              " 'and a life intrestd in fivfe osn pos a fact on which sms rs sos   ',\n",
              " 'afire was lih inis and the main doing so fro alotr robc shas aseed which had acumulated underde gra     ',\n",
              " 'as as as tey do the mot the sil which ty go fom  citin e e',\n",
              " 'shon befr in nember vers in undstr aration n l n n n n n n n',\n",
              " 'the sit also lo the por detters for t nonses of bra day and her share of ae s n nn n   ',\n",
              " 'mrina oswald a trinitend bat to their lihig appart and to the imminen er o he es ',\n",
              " 'and maninpoted to get somsmal govermit poe re e e',\n",
              " 'and as pempare to the aberg mal of his ahe roo the sgiliin toout unaie sas a an nn',\n",
              " 'and expresy ut most contem forper hasben on n n n e e e e ',\n",
              " 'his hoxles pamms pesay the border caritory bhet wen be aimal and vetibale cinom  re en n n',\n",
              " 'poer repli desiring mr mala to col on n n n n en ',\n",
              " 'whether the mees an palss ad giin n ne re',\n",
              " 'the bise president decided to wats an tol he receved effinitevf ore f he iesn',\n",
              " 'to of mate mor vigeris efferts to lokat oswalds roming hosapresing dalas and to inter u ham r n n ',\n",
              " 'in the same ar cepitl punisret was firther rstrite nds se te e e e s  ',\n",
              " 'hestdatien that the por palaty of lhe wod and the mel whe cas the rifl os or mos er fron the stim rn  ',\n",
              " 'ore maksims or the shaes a reckemisn re veingree ms wr n n n ',\n",
              " 'mie have bin wore allert in the dalas moter cae of te had recir pre r',\n",
              " 'on the oter hand ords cran wer and wense lat o remened prie excutions     s',\n",
              " 'le hares',\n",
              " 'as ba erreahe the seconflor e was bot wety fe fron the vestiiual dor he intended to conting aron o hes lete re',\n",
              " 'batrong the wino in the dor he caot of fleing plentse of he man wa in in the stoe le ',\n",
              " 'a polece carmaty uter an  s e re r',\n",
              " 'on it wa to the trae mart and november nanten the timnes harl eten n ere e e',\n",
              " 'it sore members non olay t oxr n n n n e r',\n",
              " 'restricting the copergon his wa whithaf oy unnessery conterversy ove te inmplusion or exclsion of other fisions wor n rs',\n",
              " 'as a bline fr ther new fronds thy seat a es lastationers in ur bildings adelfi and and n as n n n  ',\n",
              " 'ot the r',\n",
              " 'the commision has parflly considered the testimoy of these to whitmes whith regate t e ',\n",
              " 'it was he approprasied contaie n sns s ',\n",
              " 'he roe at quote fosns of sertulerswretereenn',\n",
              " 'ing which he protested his dis charge and deiclared hat he whe use o n e ',\n",
              " 'and cept alto gethr sere from the oher prisoners until e deit ',\n",
              " 'camemoen aors ses o r r',\n",
              " 'she was not in imea danger buc she whish to seer dater as it was posibl she mies in be com imn cee e oer ien inn',\n",
              " 'bht hom secrteary had laed down that at lease fiapers with bhe indespensibl and such anarai was amposible to a in   ',\n",
              " 'praably the rearwal sie with the oer an ins r',\n",
              " 'e r es',\n",
              " 'epen llon men asesity for theriy lo pras buat an  improvment must be base onshing ol en ae e e e  ',\n",
              " 'for evidence stablishing be ous h e e e',\n",
              " 'after amomence has atation she tl my haty work at the texs so o depositary i n n n n an a ',\n",
              " 'the poulation as reported by the commit in eiten forte re e tet',\n",
              " 'he recal that the spescialagenton chare of the dallasoffice of the afba r n ',\n",
              " 'ebinthan the re oserton of the faver for afime refrencs to egeent an resecln n n n',\n",
              " 'thees poerment has no charges or compinens',\n",
              " 'ie meanly afterserving ohis reears meus rn or he apanent his maranlie sn n ',\n",
              " 'e ast bsn as in amosionl y he e e er',\n",
              " 'orned ma a ifiing gage in afpesact tiities intexes the fonl n ann en',\n",
              " 'to plem the govers ofice in the mal ron',\n",
              " 'he wouth a reace ustdestination ad aproon wit fee e r',\n",
              " 'the bertler muterin persensn sa i texpressions a dfiincs wast the por sh s e s s e e',\n",
              " 'the persoml inbiment and reprsent tiv of theire dimit n en',\n",
              " 'oswald demenstrati is eikein conetion with his return to he nit sas by forparin to sets of idential ustns of the te',\n",
              " 'ther was as at nocontrl lover the prisoners afr n o',\n",
              " 'whedocerparynoted fre ar and blad in the presidencs chest chay he asat hust ts bnsr woe ree  ',\n",
              " 'bacto start uslis fod and te comparsin of the grin in an n n oe  ',\n",
              " 'qote crit hav esly ben inn n   n ',\n",
              " 'osns and quote of serciulars e spassially son ad piene t e e n n n ',\n",
              " 'the dicaion to remoe the sen aaction to he mefrn t t h  sl',\n",
              " 'orsmeshers was lonin inmatef neuwgat an n s s e e  ',\n",
              " 'which had lon bin idmited as indspensible and had nevers had and e re e',\n",
              " 'was alsom reported inhe o tober one nineen sixtythre esh of h wrr o wo o os s s ',\n",
              " 'special agen blan a benit ones lef his placse insie e folo c  o o  e e e e ',\n",
              " 'and e din avany greadisire to osoanyg more me cuese ad ronangte as he hinsosad n orer r  nn',\n",
              " 'aconfidential informent and vise he af  that oswald was non o  enant n e e e',\n",
              " 'ser jon dn pa had in haraten a barinat se for his on n n n n n  ',\n",
              " 'iga he to the neaes of balon andet sis ond the servitun of the oblonia o e er r r   ',\n",
              " 'a prison er generly e oldis nd s es',\n",
              " 'the soms oftaned by be welin the name mof r n e e e',\n",
              " 'the lor plans and anamls refer to  bo ar so for r ',\n",
              " 'he had been laita sappos that twele mons inprisonment was the amost the lacuedin flit nd y bro r rnn  ',\n",
              " 'which frinly delined to mo afi the disshargd and soabise im in aleter ate tlid e',\n",
              " 'ou de partmental palusis relating to the nasials curity the responsibility to rev en oerced the prtectibactivites of the sepresr',\n",
              " 'in his indpendent evesigation ar him mandel o of the nerer sie e',\n",
              " 'andis ary simpl and lanebl and on efectedly thessie for is i in in n n  ',\n",
              " 'in explaning the diffrence betwen his poly ad bay of the efbn the mater of probibl ient n',\n",
              " 'it his idenification byco in wes menster hospil who survied longan of to ma aforld episintion ho e ',\n",
              " 'he so two man in sepert cars ried oun o achurch arking lot the casn to aers  o or r r   ',\n",
              " 'the servic shud migoshe a mambarandim a undrstanding withe caencs at has been asistinit and fr which a cenixpac tit inn',\n",
              " 'was shi tom marh wenty minteen sixtythr to a ja id dal oooo on n n  ',\n",
              " 'hers no wa oever to aliminayt the posibility of the fiders ha ing comfromannother identipls r ',\n",
              " 'loer in roing pan and ral ve do in to as she  n he n n e ',\n",
              " 'the jerincs mantan as iis ther r in o t he rl',\n",
              " 'the fees sho first plas tits and in their bax pul of sho to h porters on n n n ',\n",
              " 'the rits of prided inoviguals ms ne e e',\n",
              " 'for raecst ap pine of r for diner hafapound of o meat r    ',\n",
              " 'a hin wem and was explates many in the craed mir or anulated hse e n n n',\n",
              " 'in dalas one of the nagencs was asined to wa sistencecurethy mesurs at lo fel nd for ar ete e e  ',\n",
              " 'of the oly start seacerin and woldhy sustencsns  n n n n n  e',\n",
              " 'bat refirils to the secret service n e ie newcretry o in e te e re e e ',\n",
              " 'h is ick cntnt t',\n",
              " 'tha aallaander maca wo merderd his mitres at norn folde  ee n n n n    ',\n",
              " 'but tesit was tot mi be profided by the amission of the pres a anan onlan n r e',\n",
              " 'andly in exepte in ner n tarty litl folt codingfetur hav been o tht he mesr',\n",
              " 'he pect oswald from the lina as the man who andpored the bus at e q oonrn n n  n ',\n",
              " 'in spit of the fa that un emplnmnt r mas s ',\n",
              " 'cue posibly mae tse betene man he ',\n",
              " 'ad epland any ses ot',\n",
              " 'wer asfars posible migad and tom do   th e e on on n e e e   ',\n",
              " 'whr secated to gether of averyvrof ahe cae and tilinwhens n n nnne ',\n",
              " 'and amove wod r r rs',\n",
              " 'incling the fue o e r',\n",
              " 'the prime of posning is asentialy on which al be mos preilnt in i is is is ',\n",
              " 'when nhat en re',\n",
              " 'this man was in ob assextrin distras an any mor fero inspection wilt hav in bul sevrns  ',\n",
              " 'and sogjess the posibility as di his no to mis wife os prire to the atemtngem a war r a e e n n  ',\n",
              " 'to top paper and tae from the raing banhof bhe depositur an fassiond aba  e e te   e e  ',\n",
              " 'but in amerpolitinprison a solotly aseni the carperation in repl o mr  e  e e s',\n",
              " 'and that consicquently he aservence of theire mostemportn prvisions was toe te le e',\n",
              " 'shortly befor the dalast lase had repord to he secret service that the hanal aet r r s s ',\n",
              " 'soamens wal waing to epearen port preeaed the turn sitaken to apobli hosw r rer',\n",
              " 'the oprce wil ha fail far bon e importn stne  a ie e e ee',\n",
              " 'thistime hopref aing his wre to the bia n n e es e e ',\n",
              " 'and he was oly conpicted o in attent to harras  e en ',\n",
              " 'ad notem brtl practese had nearly dseppeared aout he time of the ablision of asetion his was the pupa esin tn o ',\n",
              " 'that wa he had begon tor ret marand ainals at the agef fitn the concoivf an tat mae in sin s s',\n",
              " 'par arrone fro the ni and mornyn which he and alarge ary of frns ee e e n n ',\n",
              " 'acoring to ther categors res',\n",
              " 'on was ba ol an of the faltr in neuga offish he executioners esstent who mte tes ans s  s ',\n",
              " 'oswalds commitent to maras  contrivited to the dicisions which lad him to defect to the sovia unin ininnn',\n",
              " 'unner the conistions wrefer t in he e ',\n",
              " 'cheare also was to be takn that the prisoners sho not bhe cet in hane oen r',\n",
              " 'the shos whld af in emanly spae and he assassing wild noien fers s n n ',\n",
              " 'i sugast aln in n n es e',\n",
              " 'hen non n became wor ners h the he e re e ',\n",
              " 'ad disa isfaction whac semed to pinexpresion hat sis ce e',\n",
              " 'and prominat in the criminl aals of newga in hese later ears wil be foun nomrs were marlin is ts    ',\n",
              " 'he lefthis weing ring in aco on the drasering his wro he alsa left one hudred seenty dolars in wolid n n n te e r',\n",
              " 'te last istate from newgate was aoly fhrears e go and acer us if fo fin l e ',\n",
              " 'and spresial agentcs coapraing with them on presidential and smaler prtectev he simencs r concider to be s e or',\n",
              " 'teffer id the secon mate gret but constely wenteng fire os s e e e e e ',\n",
              " 'for le al sobled that oswalds markes oliae s lane to i exra nara f his trander which qote    ',\n",
              " 'his determend ad diction to eal cores had lantes in s ',\n",
              " 'wit more remanse to be saibot rouson he apearse o av exectit his psision n   e      ',\n",
              " 'ceror ans wer ba to care he sl l ',\n",
              " 'the mor garing insilfl osca as ae fected inahteen thirs sestet ten en n n n ',\n",
              " 'since the asasination the secret service an the departent of the tre',\n",
              " 'the pimans to dont iop his scatert sta and some of the mo nsin n an an  ',\n",
              " 'aftery ving this aspat of the maer his cater a sept fort ton on ons o',\n",
              " 'the aresting oficers found oforghed solecti service car with apetur of oswal an an an a n a ',\n",
              " 'bhis esu was proceris and pendentd on the conwilof the warnsmen co messon o the postions sh e ae re e e',\n",
              " 'mase on the aboevidencse the commision conclued that oswald firtise the rifle found on the six flor of the deposrl',\n",
              " 'o vea him so precicly is u his seing estintive mark when heed mis at isis on n ',\n",
              " 'it was mading comment opon he jestics to revid distingt plaes of confimment for fi se e',\n",
              " 'he alsoxprestd conserbal resentment at bhe holt giengs wese re rer er re ',\n",
              " 'oswald was however miing to dispust his contas with soviat aforts e inni aing ann lnn',\n",
              " 'that ters a woial unting ground at falo and that wil gaimng of evrycine is contin th he s e ',\n",
              " 'me shas such carfinmen ments as s as o e n n  ',\n",
              " 'or jon ros commenting aunte ofer of te portrsin on oe e',\n",
              " 'wod it is proabl ad aventiualy over com ther lucencs of som of the prisoners at lesed and wht af isas os on e e ed',\n",
              " 'warbrgin aaes n e e',\n",
              " 'or to makin slkinplose crompat with tevitens of contatios n es',\n",
              " 'whailes memr of the lin of this inaturt ther were forn mn o n n ns n n n n ',\n",
              " 'doccon mat dedxaminers or the trasre aparment and be fba s e e e',\n",
              " 'this exipiion lasts fr smmnas and n n n n e s',\n",
              " 'the prassios metal was sent from plae to place rl n n ',\n",
              " 'iconlead ior bo ansnimit a the grat wals of baby on  e is  s ',\n",
              " 'the ws an ansilo mont of h in aformity in diitars in sumprisns in wos o n n n ',\n",
              " 'ut ae e l ',\n",
              " 'that mrsmeshers had no rigt to the nam that had a has beendo eron on conson ol aes ses ',\n",
              " 'after frint had cald in tolter president cenedy has ben she e e  ',\n",
              " 'the p is the magered amesticinvestgate n ant e he e ee',\n",
              " 'as me acrosin the pre',\n",
              " 'co a swmal man crile and of ely constitus o ws as a e ',\n",
              " 'ther davuin sencstd to newga for him esament an s s sie en n n e ',\n",
              " 'desimed inpollars of fin n n n ',\n",
              " 'b reaperin his confession frotended that he anis intendey a  or r r r e   ',\n",
              " 'and his unseestwal atent to bot to eba n in e e e e e e ',\n",
              " 'post had pom to the pane residents on november one and e',\n",
              " 'mrs paine had noting to ad to which ad ara told him ixefen n e e e  ',\n",
              " 'on the wai bese sof the iin sho ri ind their desalit hoses and nd n n n n s',\n",
              " 'the pineltomat such in acens any of the provisions of wi sen ',\n",
              " 'his trabl woild be in secrest his public aparances wilh be be in ble pro las r r o s s  ',\n",
              " 'car drising the for por spo as y qo real a aie n n    ',\n",
              " 'he was also itended by ther revern mrsprinet and he indifesible mr aer was s n n',\n",
              " 'altat to malhu was an diversifi pasions and amosions which sercomstasas hi hes s e r',\n",
              " 'sinc o discloere uf such detel imprmation relating to protecteve masurs mi under mine preson mees e ter re e',\n",
              " 'mrer padedgin conpled that the paker and tae from the ba ri denticle oar s s ',\n",
              " 'hat in for prisons which at enetime of ter contane one tosan hreundr et prisoners rse ee ',\n",
              " 'baras osibl moans wal betratend in he apropt pontes of the discin  ',\n",
              " 'tonie si ing hat mi dasun the wi hose i ma i firs reao report t te e e n n  ',\n",
              " 'of fotoper fe expert with the hf ',\n",
              " 'noby intrfere with tham or regula ad dircondat in migh i troen so isposd and ded so frunl on n n ',\n",
              " 'asistincef bataler of the dalaspolce noted bhe oxencs of any forml statemen by the secret servis o      ',\n",
              " 'in ao hes ros the president woso oe ',\n",
              " 'an had no intended any creses m af oswalds oiicl vs which is the wan which r l s as r',\n",
              " 'and ha he but bnabl  removedcs ir bars he mih of dsended in to nutese ene ',\n",
              " 'he saty lot mae that bad welb bar fr me af ad wento ressia and whit e hadin id n n  ',\n",
              " 'the shi however mat with hexaspratingly fime wether and it was not antol catin s ',\n",
              " 'aplacement iner eor of tel wes and e e e er',\n",
              " 'oswalds man tlhe perarcono rifl serial mumberce te savenci cs wws s s    ',\n",
              " 'these pungent an wel rounded striturs aplie with stil reater fors to the unconvicto prisonr the man wocane to the prisonins n ann',\n",
              " 'when hisser han d on af his sos s n s  ',\n",
              " 'wor his on r',\n",
              " 'is identity was astablashed wy abon thel ofletters in is pokate we he e e e',\n",
              " 'and beondet was a rom cot ineg on hs s s on  ',\n",
              " 'some of that feing was exprestd in the insientin boling ven bise presidential caneday jonsn we e en n n e e',\n",
              " 'wreport of the presidencs commission on thea sassination of president canyy the orn commision wreport b the presidents comission on he assassnis n e',\n",
              " 'that the pass of dhe beliment presented bythe indiviual orginism wo fo in her man oians s s  ',\n",
              " 'some tames the prib cosald ded not me for mos an juring al tat tn t en n ',\n",
              " 'over the asasination of president kenedy len to inbarsmenten confusion in the susiqenting vestigation rl ',\n",
              " 'and the gra otsie werld share in the conie he ',\n",
              " 'he wak ot of the ro o the riteser r',\n",
              " 'o fice and misery debasing al or confime with in their wals and nd n n n n n e e e e e',\n",
              " 'spescial agen rey on the righ fron on ort e e sn ',\n",
              " 'the first boks were prented in black letter i e aleter wich was aboic divelent o th he e en n re ',\n",
              " 'he shos ar welling he was to a fr matily and desiitely when the fins n o o sers',\n",
              " 'the president is popn erlr at da of the arfor seccanman porsrs ',\n",
              " 'at in cecet sdanin argo wit himfern numbr of ears and ido tenkecoul ofcanged his mine o ma alesu i le e e ',\n",
              " 'roably his freen oxganis sd fon the perpcioigination bun moras fre in he fotoceon het rsns n ',\n",
              " 'alsoin his wal e',\n",
              " 'wla was broou as in atern and bhe camming je rs n ',\n",
              " 'pr these case was ataned in nots the nots rethaned by wone of the conperrs for bod hat the bankming in n and and n n ',\n",
              " 'the prisoners were tocultimat the lan and rase sofficion fers s he er r',\n",
              " 'a corse with bhe aiimprovmens foling loner eeriencs of the patern arriginaed by the arotets s   ',\n",
              " 'dronkinnis it fe ever perd h n ie tis e e e',\n",
              " 'to betendn versity in mosto bat the ate in ae monley alos e en e r  ',\n",
              " 'no selong contaned mwore then tan ar dusin eah som sort of decore om was n n tn n  ',\n",
              " 'ad dan there was no raguar alons o fl co re et e en n n n ',\n",
              " 'his san axes to mens un limmited was no gout  to the proftibl rol his ad dtee er r e n ',\n",
              " 'an in formation incam posibility of an atem togincse ta person or te e e',\n",
              " 'on the metam mwar is of ore feloical unis tom sels in wargonral sencs an main his r s s s  ',\n",
              " 'the drenfl execprations of sem of he fons so shup his rm that he umser a  aeae e n n ',\n",
              " 'these had be etrebdi to polliicl ation som fat at the large pertuces in farng rns s te e   ',\n",
              " 'sofars fime printinies conserd to paper ded no gatw s ae  ',\n",
              " 'in hiscase the time was unsaetefie but it was not mor inconpenin nvas wer e  ',\n",
              " 'alo a person co hand a lacar n an n n n e e e e',\n",
              " 'al ansrs et',\n",
              " 'negate has rmane retern the acrond of wa the holl of the chalas aos on n e se',\n",
              " 'sspition apears o av rested on bro  hn hn e e  ',\n",
              " 'sent his plake chess ate in momber to the e e er r r',\n",
              " 'ae secin was neve theles s ',\n",
              " 'an atald him that ieshi dovis and n hn e e e e',\n",
              " 'i he osens of cases a were dementry orvestangiual srctie o',\n",
              " 'he te no he told his wife at he id beenfir he ointarly lef on notover i annnn n ',\n",
              " 'wor so relefe in the constent aplication o n n in in n',\n",
              " 'this affected cals predit and unle reports were inserculation  inn in n e e   ',\n",
              " 'raterettention was pae to the capital convas and tha hars of thirs sas n aes',\n",
              " 'th epartment of staeed non evise ite the s   e e e e',\n",
              " 'enda he was to ile om n ne',\n",
              " \"oswald's jaced was found along the pat of fli takin by the gonen has e e e e\",\n",
              " 'mr babl oply a er rich harvicse fortin and n an s the    ',\n",
              " 'at fing to mi sel ho e to d se  e ',\n",
              " 'asin don pon the greaeto freaies n n l e ',\n",
              " 'fela pon him and inspit of his resistencs cary ham into was sorto an re ten tn n n t t ',\n",
              " 'the calprafs meend ar haining was baryro sen n n n n ',\n",
              " 'whe moust cintingen to pret ',\n",
              " 'the rforagras e is',\n",
              " 'noe i acations wr e rn n',\n",
              " 'wencesit had sterted down el stre tored the tricpale under has r',\n",
              " 'porgionatly an several of his long insfritions resently descoverd in thebablonan nos n n e e e  s   ',\n",
              " 'at the rear in e sie the on mabal were sma roning wors ses e e  e e e e',\n",
              " 'thre transfor stoating removld two the coons and for a  nn n n nn n n',\n",
              " 'fraser testifie refore the commision that oswald hare n ns e e ',\n",
              " 'nobals fla sons la os suches jan shor remsrns a er re  ',\n",
              " 'araly s e is s s s ',\n",
              " 'sems o a been firstd to mension baberon and on of hises fritions sene stae e e e e e',\n",
              " 'brr matma do o an he outher place man  he aoe e',\n",
              " 'there retrans of lard brnd bres os o oe e e e oe e  ',\n",
              " 'thn e orlans officinvestigated and locaten oswald arning his adres and form rplace of he plonment oos eee',\n",
              " 'the wa of be netrogon is protn os',\n",
              " 'co procovered this tm it was problly pomers intention tathishon reover whishing to inpered the suppisitin o o ',\n",
              " 'gaise the grn and also usal on n on n r e',\n",
              " 'the beter disposed complame birly of wat hy hid te e',\n",
              " 'senturs after werd evento his a uise mother sa tfre in e n',\n",
              " 'and stother jusiese r e',\n",
              " ...]"
            ]
          },
          "metadata": {},
          "execution_count": 65
        }
      ],
      "source": [
        "predictions"
      ]
    }
  ],
  "metadata": {
    "colab": {
      "provenance": [],
      "mount_file_id": "15cBDxxKOz5NfgZ2nOBAkybYt7VsOZk0q",
      "authorship_tag": "ABX9TyP18lQq9UiOPkc0yL282MA7",
      "include_colab_link": true
    },
    "gpuClass": "standard",
    "kernelspec": {
      "display_name": "Python 3",
      "name": "python3"
    },
    "language_info": {
      "name": "python"
    },
    "accelerator": "GPU"
  },
  "nbformat": 4,
  "nbformat_minor": 0
}