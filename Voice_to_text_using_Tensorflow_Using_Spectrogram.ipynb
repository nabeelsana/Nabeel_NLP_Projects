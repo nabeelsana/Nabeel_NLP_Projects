{
  "nbformat": 4,
  "nbformat_minor": 0,
  "metadata": {
    "colab": {
      "provenance": [],
      "mount_file_id": "15cBDxxKOz5NfgZ2nOBAkybYt7VsOZk0q",
      "authorship_tag": "ABX9TyMPTQln2vp7Ce6JOu6z4ABx",
      "include_colab_link": true
    },
    "kernelspec": {
      "name": "python3",
      "display_name": "Python 3"
    },
    "language_info": {
      "name": "python"
    },
    "gpuClass": "standard",
    "accelerator": "GPU"
  },
  "cells": [
    {
      "cell_type": "markdown",
      "metadata": {
        "id": "view-in-github",
        "colab_type": "text"
      },
      "source": [
        "<a href=\"https://colab.research.google.com/github/nabeelsana/Nabeel_NLP_Projects/blob/main/Voice_to_text_using_Tensorflow_Using_Spectrogram.ipynb\" target=\"_parent\"><img src=\"https://colab.research.google.com/assets/colab-badge.svg\" alt=\"Open In Colab\"/></a>"
      ]
    },
    {
      "cell_type": "code",
      "execution_count": null,
      "metadata": {
        "id": "Lt5tdOWcSNJz"
      },
      "outputs": [],
      "source": [
        "import librosa\n",
        "import librosa.display\n",
        "import matplotlib.pyplot as plt\n",
        "from IPython.display import Audio"
      ]
    },
    {
      "cell_type": "code",
      "source": [
        "import numpy as np\n",
        "import sklearn\n",
        "import csv\n",
        "import os\n",
        "import pandas as pd"
      ],
      "metadata": {
        "id": "mVgIQFr7o8Ri"
      },
      "execution_count": null,
      "outputs": []
    },
    {
      "cell_type": "code",
      "source": [
        "import tensorflow as tf\n",
        "tf.__version__"
      ],
      "metadata": {
        "id": "aB8A7lHLm0nB",
        "colab": {
          "base_uri": "https://localhost:8080/",
          "height": 36
        },
        "outputId": "812bf086-3b71-4fdf-a75d-447ac0c8f5ae"
      },
      "execution_count": null,
      "outputs": [
        {
          "output_type": "execute_result",
          "data": {
            "text/plain": [
              "'2.12.0'"
            ],
            "application/vnd.google.colaboratory.intrinsic+json": {
              "type": "string"
            }
          },
          "metadata": {},
          "execution_count": 3
        }
      ]
    },
    {
      "cell_type": "code",
      "source": [
        "!pip install jiwer"
      ],
      "metadata": {
        "colab": {
          "base_uri": "https://localhost:8080/"
        },
        "id": "pk5u3ef5Hyo7",
        "outputId": "ad067a5b-f634-4520-e14a-c2df36f6ff87"
      },
      "execution_count": null,
      "outputs": [
        {
          "output_type": "stream",
          "name": "stdout",
          "text": [
            "Looking in indexes: https://pypi.org/simple, https://us-python.pkg.dev/colab-wheels/public/simple/\n",
            "Collecting jiwer\n",
            "  Downloading jiwer-3.0.1-py3-none-any.whl (21 kB)\n",
            "Requirement already satisfied: click<9.0.0,>=8.1.3 in /usr/local/lib/python3.10/dist-packages (from jiwer) (8.1.3)\n",
            "Collecting rapidfuzz==2.13.7\n",
            "  Downloading rapidfuzz-2.13.7-cp310-cp310-manylinux_2_17_x86_64.manylinux2014_x86_64.whl (2.2 MB)\n",
            "\u001b[2K     \u001b[90m━━━━━━━━━━━━━━━━━━━━━━━━━━━━━━━━━━━━━━━━\u001b[0m \u001b[32m2.2/2.2 MB\u001b[0m \u001b[31m39.1 MB/s\u001b[0m eta \u001b[36m0:00:00\u001b[0m\n",
            "\u001b[?25hInstalling collected packages: rapidfuzz, jiwer\n",
            "Successfully installed jiwer-3.0.1 rapidfuzz-2.13.7\n"
          ]
        }
      ]
    },
    {
      "cell_type": "code",
      "source": [
        "from jiwer import wer"
      ],
      "metadata": {
        "id": "oFcYIC0nH-6F"
      },
      "execution_count": null,
      "outputs": []
    },
    {
      "cell_type": "markdown",
      "source": [
        "# DATASET LINK"
      ],
      "metadata": {
        "id": "jM43OZ1XI62q"
      }
    },
    {
      "cell_type": "markdown",
      "source": [
        "https://keithito.com/LJ-Speech-Dataset/"
      ],
      "metadata": {
        "id": "q9odmHjMI9i9"
      }
    },
    {
      "cell_type": "code",
      "source": [
        "#Mounting Google drive"
      ],
      "metadata": {
        "id": "6rRL3rVeoJ5c"
      },
      "execution_count": null,
      "outputs": []
    },
    {
      "cell_type": "code",
      "source": [
        "from google.colab import drive\n",
        "drive.mount('/gdrive')"
      ],
      "metadata": {
        "colab": {
          "base_uri": "https://localhost:8080/"
        },
        "id": "syh_uavEobtO",
        "outputId": "6152fa00-9d86-4a64-ffcf-f9ffc2fc61d7"
      },
      "execution_count": null,
      "outputs": [
        {
          "output_type": "stream",
          "name": "stdout",
          "text": [
            "Mounted at /gdrive\n"
          ]
        }
      ]
    },
    {
      "cell_type": "code",
      "source": [
        "# STEP 1: Listing all audio clips and verifying their presence, then extract file names without extension"
      ],
      "metadata": {
        "id": "GfTWaAUqp-se"
      },
      "execution_count": null,
      "outputs": []
    },
    {
      "cell_type": "code",
      "source": [
        "#files = os.listdir('/gdrive/MyDrive/data/Speech2text/LJSpeech-1.1/wavs')\n",
        "\n",
        "print(type(files))\n",
        "print(files[:10])\n"
      ],
      "metadata": {
        "id": "GqeVbJ8cfukw",
        "colab": {
          "base_uri": "https://localhost:8080/"
        },
        "outputId": "c7b69586-df96-4d7a-a5f3-a256ac9bd9eb"
      },
      "execution_count": null,
      "outputs": [
        {
          "output_type": "stream",
          "name": "stdout",
          "text": [
            "<class 'list'>\n",
            "['LJ050-0150.wav', 'LJ007-0088.wav', 'LJ002-0275.wav', 'LJ016-0071.wav', 'LJ015-0012.wav', 'LJ018-0279.wav', 'LJ011-0263.wav', 'LJ046-0108.wav', 'LJ011-0242.wav', 'LJ002-0085.wav']\n"
          ]
        }
      ]
    },
    {
      "cell_type": "code",
      "source": [
        "#storing file names in drive as a csv file\n",
        "\n",
        "with open('/gdrive/MyDrive/data/Speech2text/LJSpeech-1.1/LJclipnames.csv', \"w\", newline = '') as file:\n",
        "  writer = csv.writer(file)\n",
        "  for name in files:\n",
        "    writer.writerow([name])         #[name] will print each name as a new row"
      ],
      "metadata": {
        "id": "Ou4dZSMVxghT"
      },
      "execution_count": null,
      "outputs": []
    },
    {
      "cell_type": "code",
      "source": [
        "#Importing file as a dataframe\n",
        "\n",
        "clips_df = pd.read_csv('/gdrive/MyDrive/data/Speech2text/LJSpeech-1.1/LJclipnames.csv')"
      ],
      "metadata": {
        "id": "ZYRDeP3QsHL5"
      },
      "execution_count": null,
      "outputs": []
    },
    {
      "cell_type": "code",
      "source": [
        "clips_df.columns = (['Clips_name'])\n",
        "print(len(clips_df))\n",
        "print(clips_df.head())"
      ],
      "metadata": {
        "colab": {
          "base_uri": "https://localhost:8080/"
        },
        "id": "je6WQ-o2s5yp",
        "outputId": "a8b5550e-2ad2-4308-c3e0-d563c98c5a27"
      },
      "execution_count": null,
      "outputs": [
        {
          "output_type": "stream",
          "name": "stdout",
          "text": [
            "13099\n",
            "       Clips_name\n",
            "0  LJ007-0088.wav\n",
            "1  LJ002-0275.wav\n",
            "2  LJ016-0071.wav\n",
            "3  LJ015-0012.wav\n",
            "4  LJ018-0279.wav\n"
          ]
        }
      ]
    },
    {
      "cell_type": "code",
      "source": [
        "clips_df['file_name']= clips_df['Clips_name']"
      ],
      "metadata": {
        "id": "Wh-n7WYHyP_H",
        "colab": {
          "base_uri": "https://localhost:8080/",
          "height": 501
        },
        "outputId": "07112d20-c32c-43c6-df94-246d5808799e"
      },
      "execution_count": null,
      "outputs": [
        {
          "output_type": "error",
          "ename": "KeyError",
          "evalue": "ignored",
          "traceback": [
            "\u001b[0;31m---------------------------------------------------------------------------\u001b[0m",
            "\u001b[0;31mKeyError\u001b[0m                                  Traceback (most recent call last)",
            "\u001b[0;32m/usr/local/lib/python3.9/dist-packages/pandas/core/indexes/base.py\u001b[0m in \u001b[0;36mget_loc\u001b[0;34m(self, key, method, tolerance)\u001b[0m\n\u001b[1;32m   3801\u001b[0m             \u001b[0;32mtry\u001b[0m\u001b[0;34m:\u001b[0m\u001b[0;34m\u001b[0m\u001b[0;34m\u001b[0m\u001b[0m\n\u001b[0;32m-> 3802\u001b[0;31m                 \u001b[0;32mreturn\u001b[0m \u001b[0mself\u001b[0m\u001b[0;34m.\u001b[0m\u001b[0m_engine\u001b[0m\u001b[0;34m.\u001b[0m\u001b[0mget_loc\u001b[0m\u001b[0;34m(\u001b[0m\u001b[0mcasted_key\u001b[0m\u001b[0;34m)\u001b[0m\u001b[0;34m\u001b[0m\u001b[0;34m\u001b[0m\u001b[0m\n\u001b[0m\u001b[1;32m   3803\u001b[0m             \u001b[0;32mexcept\u001b[0m \u001b[0mKeyError\u001b[0m \u001b[0;32mas\u001b[0m \u001b[0merr\u001b[0m\u001b[0;34m:\u001b[0m\u001b[0;34m\u001b[0m\u001b[0;34m\u001b[0m\u001b[0m\n",
            "\u001b[0;32m/usr/local/lib/python3.9/dist-packages/pandas/_libs/index.pyx\u001b[0m in \u001b[0;36mpandas._libs.index.IndexEngine.get_loc\u001b[0;34m()\u001b[0m\n",
            "\u001b[0;32m/usr/local/lib/python3.9/dist-packages/pandas/_libs/index.pyx\u001b[0m in \u001b[0;36mpandas._libs.index.IndexEngine.get_loc\u001b[0;34m()\u001b[0m\n",
            "\u001b[0;32mpandas/_libs/hashtable_class_helper.pxi\u001b[0m in \u001b[0;36mpandas._libs.hashtable.PyObjectHashTable.get_item\u001b[0;34m()\u001b[0m\n",
            "\u001b[0;32mpandas/_libs/hashtable_class_helper.pxi\u001b[0m in \u001b[0;36mpandas._libs.hashtable.PyObjectHashTable.get_item\u001b[0;34m()\u001b[0m\n",
            "\u001b[0;31mKeyError\u001b[0m: 'Clips_name'",
            "\nThe above exception was the direct cause of the following exception:\n",
            "\u001b[0;31mKeyError\u001b[0m                                  Traceback (most recent call last)",
            "\u001b[0;32m<ipython-input-7-0d972cfed99b>\u001b[0m in \u001b[0;36m<cell line: 1>\u001b[0;34m()\u001b[0m\n\u001b[0;32m----> 1\u001b[0;31m \u001b[0mclips_df\u001b[0m\u001b[0;34m[\u001b[0m\u001b[0;34m'file_name'\u001b[0m\u001b[0;34m]\u001b[0m\u001b[0;34m=\u001b[0m \u001b[0mclips_df\u001b[0m\u001b[0;34m[\u001b[0m\u001b[0;34m'Clips_name'\u001b[0m\u001b[0;34m]\u001b[0m\u001b[0;34m\u001b[0m\u001b[0;34m\u001b[0m\u001b[0m\n\u001b[0m",
            "\u001b[0;32m/usr/local/lib/python3.9/dist-packages/pandas/core/frame.py\u001b[0m in \u001b[0;36m__getitem__\u001b[0;34m(self, key)\u001b[0m\n\u001b[1;32m   3805\u001b[0m             \u001b[0;32mif\u001b[0m \u001b[0mself\u001b[0m\u001b[0;34m.\u001b[0m\u001b[0mcolumns\u001b[0m\u001b[0;34m.\u001b[0m\u001b[0mnlevels\u001b[0m \u001b[0;34m>\u001b[0m \u001b[0;36m1\u001b[0m\u001b[0;34m:\u001b[0m\u001b[0;34m\u001b[0m\u001b[0;34m\u001b[0m\u001b[0m\n\u001b[1;32m   3806\u001b[0m                 \u001b[0;32mreturn\u001b[0m \u001b[0mself\u001b[0m\u001b[0;34m.\u001b[0m\u001b[0m_getitem_multilevel\u001b[0m\u001b[0;34m(\u001b[0m\u001b[0mkey\u001b[0m\u001b[0;34m)\u001b[0m\u001b[0;34m\u001b[0m\u001b[0;34m\u001b[0m\u001b[0m\n\u001b[0;32m-> 3807\u001b[0;31m             \u001b[0mindexer\u001b[0m \u001b[0;34m=\u001b[0m \u001b[0mself\u001b[0m\u001b[0;34m.\u001b[0m\u001b[0mcolumns\u001b[0m\u001b[0;34m.\u001b[0m\u001b[0mget_loc\u001b[0m\u001b[0;34m(\u001b[0m\u001b[0mkey\u001b[0m\u001b[0;34m)\u001b[0m\u001b[0;34m\u001b[0m\u001b[0;34m\u001b[0m\u001b[0m\n\u001b[0m\u001b[1;32m   3808\u001b[0m             \u001b[0;32mif\u001b[0m \u001b[0mis_integer\u001b[0m\u001b[0;34m(\u001b[0m\u001b[0mindexer\u001b[0m\u001b[0;34m)\u001b[0m\u001b[0;34m:\u001b[0m\u001b[0;34m\u001b[0m\u001b[0;34m\u001b[0m\u001b[0m\n\u001b[1;32m   3809\u001b[0m                 \u001b[0mindexer\u001b[0m \u001b[0;34m=\u001b[0m \u001b[0;34m[\u001b[0m\u001b[0mindexer\u001b[0m\u001b[0;34m]\u001b[0m\u001b[0;34m\u001b[0m\u001b[0;34m\u001b[0m\u001b[0m\n",
            "\u001b[0;32m/usr/local/lib/python3.9/dist-packages/pandas/core/indexes/base.py\u001b[0m in \u001b[0;36mget_loc\u001b[0;34m(self, key, method, tolerance)\u001b[0m\n\u001b[1;32m   3802\u001b[0m                 \u001b[0;32mreturn\u001b[0m \u001b[0mself\u001b[0m\u001b[0;34m.\u001b[0m\u001b[0m_engine\u001b[0m\u001b[0;34m.\u001b[0m\u001b[0mget_loc\u001b[0m\u001b[0;34m(\u001b[0m\u001b[0mcasted_key\u001b[0m\u001b[0;34m)\u001b[0m\u001b[0;34m\u001b[0m\u001b[0;34m\u001b[0m\u001b[0m\n\u001b[1;32m   3803\u001b[0m             \u001b[0;32mexcept\u001b[0m \u001b[0mKeyError\u001b[0m \u001b[0;32mas\u001b[0m \u001b[0merr\u001b[0m\u001b[0;34m:\u001b[0m\u001b[0;34m\u001b[0m\u001b[0;34m\u001b[0m\u001b[0m\n\u001b[0;32m-> 3804\u001b[0;31m                 \u001b[0;32mraise\u001b[0m \u001b[0mKeyError\u001b[0m\u001b[0;34m(\u001b[0m\u001b[0mkey\u001b[0m\u001b[0;34m)\u001b[0m \u001b[0;32mfrom\u001b[0m \u001b[0merr\u001b[0m\u001b[0;34m\u001b[0m\u001b[0;34m\u001b[0m\u001b[0m\n\u001b[0m\u001b[1;32m   3805\u001b[0m             \u001b[0;32mexcept\u001b[0m \u001b[0mTypeError\u001b[0m\u001b[0;34m:\u001b[0m\u001b[0;34m\u001b[0m\u001b[0;34m\u001b[0m\u001b[0m\n\u001b[1;32m   3806\u001b[0m                 \u001b[0;31m# If we have a listlike key, _check_indexing_error will raise\u001b[0m\u001b[0;34m\u001b[0m\u001b[0;34m\u001b[0m\u001b[0m\n",
            "\u001b[0;31mKeyError\u001b[0m: 'Clips_name'"
          ]
        }
      ]
    },
    {
      "cell_type": "code",
      "source": [
        "clips_df.head()"
      ],
      "metadata": {
        "colab": {
          "base_uri": "https://localhost:8080/",
          "height": 206
        },
        "id": "At7SbzcaydWK",
        "outputId": "93842ff0-9093-4210-ed30-6da3017e42ad"
      },
      "execution_count": null,
      "outputs": [
        {
          "output_type": "execute_result",
          "data": {
            "text/plain": [
              "   LJ050-0150.wav\n",
              "0  LJ007-0088.wav\n",
              "1  LJ002-0275.wav\n",
              "2  LJ016-0071.wav\n",
              "3  LJ015-0012.wav\n",
              "4  LJ018-0279.wav"
            ],
            "text/html": [
              "\n",
              "  <div id=\"df-0877f905-a2d7-4794-8dc6-3a2b4ad814d9\">\n",
              "    <div class=\"colab-df-container\">\n",
              "      <div>\n",
              "<style scoped>\n",
              "    .dataframe tbody tr th:only-of-type {\n",
              "        vertical-align: middle;\n",
              "    }\n",
              "\n",
              "    .dataframe tbody tr th {\n",
              "        vertical-align: top;\n",
              "    }\n",
              "\n",
              "    .dataframe thead th {\n",
              "        text-align: right;\n",
              "    }\n",
              "</style>\n",
              "<table border=\"1\" class=\"dataframe\">\n",
              "  <thead>\n",
              "    <tr style=\"text-align: right;\">\n",
              "      <th></th>\n",
              "      <th>LJ050-0150.wav</th>\n",
              "    </tr>\n",
              "  </thead>\n",
              "  <tbody>\n",
              "    <tr>\n",
              "      <th>0</th>\n",
              "      <td>LJ007-0088.wav</td>\n",
              "    </tr>\n",
              "    <tr>\n",
              "      <th>1</th>\n",
              "      <td>LJ002-0275.wav</td>\n",
              "    </tr>\n",
              "    <tr>\n",
              "      <th>2</th>\n",
              "      <td>LJ016-0071.wav</td>\n",
              "    </tr>\n",
              "    <tr>\n",
              "      <th>3</th>\n",
              "      <td>LJ015-0012.wav</td>\n",
              "    </tr>\n",
              "    <tr>\n",
              "      <th>4</th>\n",
              "      <td>LJ018-0279.wav</td>\n",
              "    </tr>\n",
              "  </tbody>\n",
              "</table>\n",
              "</div>\n",
              "      <button class=\"colab-df-convert\" onclick=\"convertToInteractive('df-0877f905-a2d7-4794-8dc6-3a2b4ad814d9')\"\n",
              "              title=\"Convert this dataframe to an interactive table.\"\n",
              "              style=\"display:none;\">\n",
              "        \n",
              "  <svg xmlns=\"http://www.w3.org/2000/svg\" height=\"24px\"viewBox=\"0 0 24 24\"\n",
              "       width=\"24px\">\n",
              "    <path d=\"M0 0h24v24H0V0z\" fill=\"none\"/>\n",
              "    <path d=\"M18.56 5.44l.94 2.06.94-2.06 2.06-.94-2.06-.94-.94-2.06-.94 2.06-2.06.94zm-11 1L8.5 8.5l.94-2.06 2.06-.94-2.06-.94L8.5 2.5l-.94 2.06-2.06.94zm10 10l.94 2.06.94-2.06 2.06-.94-2.06-.94-.94-2.06-.94 2.06-2.06.94z\"/><path d=\"M17.41 7.96l-1.37-1.37c-.4-.4-.92-.59-1.43-.59-.52 0-1.04.2-1.43.59L10.3 9.45l-7.72 7.72c-.78.78-.78 2.05 0 2.83L4 21.41c.39.39.9.59 1.41.59.51 0 1.02-.2 1.41-.59l7.78-7.78 2.81-2.81c.8-.78.8-2.07 0-2.86zM5.41 20L4 18.59l7.72-7.72 1.47 1.35L5.41 20z\"/>\n",
              "  </svg>\n",
              "      </button>\n",
              "      \n",
              "  <style>\n",
              "    .colab-df-container {\n",
              "      display:flex;\n",
              "      flex-wrap:wrap;\n",
              "      gap: 12px;\n",
              "    }\n",
              "\n",
              "    .colab-df-convert {\n",
              "      background-color: #E8F0FE;\n",
              "      border: none;\n",
              "      border-radius: 50%;\n",
              "      cursor: pointer;\n",
              "      display: none;\n",
              "      fill: #1967D2;\n",
              "      height: 32px;\n",
              "      padding: 0 0 0 0;\n",
              "      width: 32px;\n",
              "    }\n",
              "\n",
              "    .colab-df-convert:hover {\n",
              "      background-color: #E2EBFA;\n",
              "      box-shadow: 0px 1px 2px rgba(60, 64, 67, 0.3), 0px 1px 3px 1px rgba(60, 64, 67, 0.15);\n",
              "      fill: #174EA6;\n",
              "    }\n",
              "\n",
              "    [theme=dark] .colab-df-convert {\n",
              "      background-color: #3B4455;\n",
              "      fill: #D2E3FC;\n",
              "    }\n",
              "\n",
              "    [theme=dark] .colab-df-convert:hover {\n",
              "      background-color: #434B5C;\n",
              "      box-shadow: 0px 1px 3px 1px rgba(0, 0, 0, 0.15);\n",
              "      filter: drop-shadow(0px 1px 2px rgba(0, 0, 0, 0.3));\n",
              "      fill: #FFFFFF;\n",
              "    }\n",
              "  </style>\n",
              "\n",
              "      <script>\n",
              "        const buttonEl =\n",
              "          document.querySelector('#df-0877f905-a2d7-4794-8dc6-3a2b4ad814d9 button.colab-df-convert');\n",
              "        buttonEl.style.display =\n",
              "          google.colab.kernel.accessAllowed ? 'block' : 'none';\n",
              "\n",
              "        async function convertToInteractive(key) {\n",
              "          const element = document.querySelector('#df-0877f905-a2d7-4794-8dc6-3a2b4ad814d9');\n",
              "          const dataTable =\n",
              "            await google.colab.kernel.invokeFunction('convertToInteractive',\n",
              "                                                     [key], {});\n",
              "          if (!dataTable) return;\n",
              "\n",
              "          const docLinkHtml = 'Like what you see? Visit the ' +\n",
              "            '<a target=\"_blank\" href=https://colab.research.google.com/notebooks/data_table.ipynb>data table notebook</a>'\n",
              "            + ' to learn more about interactive tables.';\n",
              "          element.innerHTML = '';\n",
              "          dataTable['output_type'] = 'display_data';\n",
              "          await google.colab.output.renderOutput(dataTable, element);\n",
              "          const docLink = document.createElement('div');\n",
              "          docLink.innerHTML = docLinkHtml;\n",
              "          element.appendChild(docLink);\n",
              "        }\n",
              "      </script>\n",
              "    </div>\n",
              "  </div>\n",
              "  "
            ]
          },
          "metadata": {},
          "execution_count": 6
        }
      ]
    },
    {
      "cell_type": "code",
      "source": [
        "clips_df[['file_name', 'Extension']] = clips_df['file_name'].str.split('.',1, expand = True)"
      ],
      "metadata": {
        "id": "zwzCPL8hzKzS"
      },
      "execution_count": null,
      "outputs": []
    },
    {
      "cell_type": "code",
      "source": [
        "print(clips_df.head())\n",
        "print(len(clips_df))"
      ],
      "metadata": {
        "colab": {
          "base_uri": "https://localhost:8080/"
        },
        "id": "mspzO51X06lo",
        "outputId": "d8b51916-c621-4a4d-b112-6c6ca695dbaf"
      },
      "execution_count": null,
      "outputs": [
        {
          "output_type": "stream",
          "name": "stdout",
          "text": [
            "       Clips_name   file_name Extension\n",
            "0  LJ007-0088.wav  LJ007-0088       wav\n",
            "1  LJ002-0275.wav  LJ002-0275       wav\n",
            "2  LJ016-0071.wav  LJ016-0071       wav\n",
            "3  LJ015-0012.wav  LJ015-0012       wav\n",
            "4  LJ018-0279.wav  LJ018-0279       wav\n",
            "13099\n"
          ]
        }
      ]
    },
    {
      "cell_type": "code",
      "source": [
        "#STEP 2: Read Meta data file contains clips names and sentences"
      ],
      "metadata": {
        "id": "BSxawlSJtc8G"
      },
      "execution_count": null,
      "outputs": []
    },
    {
      "cell_type": "code",
      "source": [
        "meta_df = pd.read_csv('/gdrive/MyDrive/data/Speech2text/LJSpeech-1.1/metadata.csv',sep = '|', header = None, )  #make sure file is UTF8 encoded\n",
        "\n"
      ],
      "metadata": {
        "id": "28fpD4JG6yYP"
      },
      "execution_count": null,
      "outputs": []
    },
    {
      "cell_type": "code",
      "source": [
        "meta_df.columns = (['file_name', 'raw_transcription', 'transcription'])"
      ],
      "metadata": {
        "id": "4QDsgxgcSX4W"
      },
      "execution_count": null,
      "outputs": []
    },
    {
      "cell_type": "code",
      "source": [
        "meta_df.head(5)"
      ],
      "metadata": {
        "colab": {
          "base_uri": "https://localhost:8080/",
          "height": 206
        },
        "id": "jvDR9ZRZvq7-",
        "outputId": "5628ccf7-1d59-4a10-9a75-b4aa59c8a059"
      },
      "execution_count": null,
      "outputs": [
        {
          "output_type": "execute_result",
          "data": {
            "text/plain": [
              "    file_name                                  raw_transcription  \\\n",
              "0  LJ001-0001  Printing, in the only sense with which we are ...   \n",
              "1  LJ001-0002                     in being comparatively modern.   \n",
              "2  LJ001-0003  For although the Chinese took impressions from...   \n",
              "3  LJ001-0004  produced the block books, which were the immed...   \n",
              "4  LJ001-0005  the invention of movable metal letters in the ...   \n",
              "\n",
              "                                       transcription  \n",
              "0  Printing, in the only sense with which we are ...  \n",
              "1                     in being comparatively modern.  \n",
              "2  For although the Chinese took impressions from...  \n",
              "3  produced the block books, which were the immed...  \n",
              "4  the invention of movable metal letters in the ...  "
            ],
            "text/html": [
              "\n",
              "  <div id=\"df-a7a87862-bc8d-4fd3-8571-7e1f04120130\">\n",
              "    <div class=\"colab-df-container\">\n",
              "      <div>\n",
              "<style scoped>\n",
              "    .dataframe tbody tr th:only-of-type {\n",
              "        vertical-align: middle;\n",
              "    }\n",
              "\n",
              "    .dataframe tbody tr th {\n",
              "        vertical-align: top;\n",
              "    }\n",
              "\n",
              "    .dataframe thead th {\n",
              "        text-align: right;\n",
              "    }\n",
              "</style>\n",
              "<table border=\"1\" class=\"dataframe\">\n",
              "  <thead>\n",
              "    <tr style=\"text-align: right;\">\n",
              "      <th></th>\n",
              "      <th>file_name</th>\n",
              "      <th>raw_transcription</th>\n",
              "      <th>transcription</th>\n",
              "    </tr>\n",
              "  </thead>\n",
              "  <tbody>\n",
              "    <tr>\n",
              "      <th>0</th>\n",
              "      <td>LJ001-0001</td>\n",
              "      <td>Printing, in the only sense with which we are ...</td>\n",
              "      <td>Printing, in the only sense with which we are ...</td>\n",
              "    </tr>\n",
              "    <tr>\n",
              "      <th>1</th>\n",
              "      <td>LJ001-0002</td>\n",
              "      <td>in being comparatively modern.</td>\n",
              "      <td>in being comparatively modern.</td>\n",
              "    </tr>\n",
              "    <tr>\n",
              "      <th>2</th>\n",
              "      <td>LJ001-0003</td>\n",
              "      <td>For although the Chinese took impressions from...</td>\n",
              "      <td>For although the Chinese took impressions from...</td>\n",
              "    </tr>\n",
              "    <tr>\n",
              "      <th>3</th>\n",
              "      <td>LJ001-0004</td>\n",
              "      <td>produced the block books, which were the immed...</td>\n",
              "      <td>produced the block books, which were the immed...</td>\n",
              "    </tr>\n",
              "    <tr>\n",
              "      <th>4</th>\n",
              "      <td>LJ001-0005</td>\n",
              "      <td>the invention of movable metal letters in the ...</td>\n",
              "      <td>the invention of movable metal letters in the ...</td>\n",
              "    </tr>\n",
              "  </tbody>\n",
              "</table>\n",
              "</div>\n",
              "      <button class=\"colab-df-convert\" onclick=\"convertToInteractive('df-a7a87862-bc8d-4fd3-8571-7e1f04120130')\"\n",
              "              title=\"Convert this dataframe to an interactive table.\"\n",
              "              style=\"display:none;\">\n",
              "        \n",
              "  <svg xmlns=\"http://www.w3.org/2000/svg\" height=\"24px\"viewBox=\"0 0 24 24\"\n",
              "       width=\"24px\">\n",
              "    <path d=\"M0 0h24v24H0V0z\" fill=\"none\"/>\n",
              "    <path d=\"M18.56 5.44l.94 2.06.94-2.06 2.06-.94-2.06-.94-.94-2.06-.94 2.06-2.06.94zm-11 1L8.5 8.5l.94-2.06 2.06-.94-2.06-.94L8.5 2.5l-.94 2.06-2.06.94zm10 10l.94 2.06.94-2.06 2.06-.94-2.06-.94-.94-2.06-.94 2.06-2.06.94z\"/><path d=\"M17.41 7.96l-1.37-1.37c-.4-.4-.92-.59-1.43-.59-.52 0-1.04.2-1.43.59L10.3 9.45l-7.72 7.72c-.78.78-.78 2.05 0 2.83L4 21.41c.39.39.9.59 1.41.59.51 0 1.02-.2 1.41-.59l7.78-7.78 2.81-2.81c.8-.78.8-2.07 0-2.86zM5.41 20L4 18.59l7.72-7.72 1.47 1.35L5.41 20z\"/>\n",
              "  </svg>\n",
              "      </button>\n",
              "      \n",
              "  <style>\n",
              "    .colab-df-container {\n",
              "      display:flex;\n",
              "      flex-wrap:wrap;\n",
              "      gap: 12px;\n",
              "    }\n",
              "\n",
              "    .colab-df-convert {\n",
              "      background-color: #E8F0FE;\n",
              "      border: none;\n",
              "      border-radius: 50%;\n",
              "      cursor: pointer;\n",
              "      display: none;\n",
              "      fill: #1967D2;\n",
              "      height: 32px;\n",
              "      padding: 0 0 0 0;\n",
              "      width: 32px;\n",
              "    }\n",
              "\n",
              "    .colab-df-convert:hover {\n",
              "      background-color: #E2EBFA;\n",
              "      box-shadow: 0px 1px 2px rgba(60, 64, 67, 0.3), 0px 1px 3px 1px rgba(60, 64, 67, 0.15);\n",
              "      fill: #174EA6;\n",
              "    }\n",
              "\n",
              "    [theme=dark] .colab-df-convert {\n",
              "      background-color: #3B4455;\n",
              "      fill: #D2E3FC;\n",
              "    }\n",
              "\n",
              "    [theme=dark] .colab-df-convert:hover {\n",
              "      background-color: #434B5C;\n",
              "      box-shadow: 0px 1px 3px 1px rgba(0, 0, 0, 0.15);\n",
              "      filter: drop-shadow(0px 1px 2px rgba(0, 0, 0, 0.3));\n",
              "      fill: #FFFFFF;\n",
              "    }\n",
              "  </style>\n",
              "\n",
              "      <script>\n",
              "        const buttonEl =\n",
              "          document.querySelector('#df-a7a87862-bc8d-4fd3-8571-7e1f04120130 button.colab-df-convert');\n",
              "        buttonEl.style.display =\n",
              "          google.colab.kernel.accessAllowed ? 'block' : 'none';\n",
              "\n",
              "        async function convertToInteractive(key) {\n",
              "          const element = document.querySelector('#df-a7a87862-bc8d-4fd3-8571-7e1f04120130');\n",
              "          const dataTable =\n",
              "            await google.colab.kernel.invokeFunction('convertToInteractive',\n",
              "                                                     [key], {});\n",
              "          if (!dataTable) return;\n",
              "\n",
              "          const docLinkHtml = 'Like what you see? Visit the ' +\n",
              "            '<a target=\"_blank\" href=https://colab.research.google.com/notebooks/data_table.ipynb>data table notebook</a>'\n",
              "            + ' to learn more about interactive tables.';\n",
              "          element.innerHTML = '';\n",
              "          dataTable['output_type'] = 'display_data';\n",
              "          await google.colab.output.renderOutput(dataTable, element);\n",
              "          const docLink = document.createElement('div');\n",
              "          docLink.innerHTML = docLinkHtml;\n",
              "          element.appendChild(docLink);\n",
              "        }\n",
              "      </script>\n",
              "    </div>\n",
              "  </div>\n",
              "  "
            ]
          },
          "metadata": {},
          "execution_count": 10
        }
      ]
    },
    {
      "cell_type": "code",
      "source": [
        "meta_df[meta_df['transcription'].isnull()]   # To check if any column in Trabscription is Null , will drop these lines"
      ],
      "metadata": {
        "colab": {
          "base_uri": "https://localhost:8080/",
          "height": 551
        },
        "id": "Kybj4gw5M5of",
        "outputId": "ae718df9-36cc-4ac9-d4e2-166e03fd9c85"
      },
      "execution_count": null,
      "outputs": [
        {
          "output_type": "execute_result",
          "data": {
            "text/plain": [
              "       file_name                                  raw_transcription  \\\n",
              "945   LJ004-0076  Disease, cold, famine, nakedness, and contagio...   \n",
              "948   LJ004-0079  All measures and practices in prison which may...   \n",
              "1119  LJ004-0250  It is obvious that reformation must be materia...   \n",
              "1147  LJ005-0028  There should be no tea and sugar, no assemblag...   \n",
              "1149  LJ005-0030  In prisons, which are really meant to keep the...   \n",
              "1196  LJ005-0077  expedient to introduce such measures and arran...   \n",
              "1371  LJ005-0253  to inquire into and report upon the several ja...   \n",
              "1400  LJ005-0282  the comparatively innocent are seduced, the un...   \n",
              "1500  LJ006-0083  So great is the authority exercised by him,|So...   \n",
              "1655  LJ006-0238  There was a disturbance in the transport yard ...   \n",
              "1853  LJ007-0128  what must be the state of discipline in a plac...   \n",
              "1868  LJ007-0143  is permitted to purchase whatever his own mean...   \n",
              "1929  LJ007-0204  which has been demonstrably proved to be the f...   \n",
              "1939  LJ007-0214  The prominent evils of this prison (Newgate) -...   \n",
              "4693  LJ016-0282  Till three o'clock it was one long revelry of ...   \n",
              "7197  LJ027-0118  for, without waiting to dispute the wisdom of ...   \n",
              "\n",
              "     transcription  \n",
              "945            NaN  \n",
              "948            NaN  \n",
              "1119           NaN  \n",
              "1147           NaN  \n",
              "1149           NaN  \n",
              "1196           NaN  \n",
              "1371           NaN  \n",
              "1400           NaN  \n",
              "1500           NaN  \n",
              "1655           NaN  \n",
              "1853           NaN  \n",
              "1868           NaN  \n",
              "1929           NaN  \n",
              "1939           NaN  \n",
              "4693           NaN  \n",
              "7197           NaN  "
            ],
            "text/html": [
              "\n",
              "  <div id=\"df-62a3369a-72b5-4293-bdb4-407c289a2f1e\">\n",
              "    <div class=\"colab-df-container\">\n",
              "      <div>\n",
              "<style scoped>\n",
              "    .dataframe tbody tr th:only-of-type {\n",
              "        vertical-align: middle;\n",
              "    }\n",
              "\n",
              "    .dataframe tbody tr th {\n",
              "        vertical-align: top;\n",
              "    }\n",
              "\n",
              "    .dataframe thead th {\n",
              "        text-align: right;\n",
              "    }\n",
              "</style>\n",
              "<table border=\"1\" class=\"dataframe\">\n",
              "  <thead>\n",
              "    <tr style=\"text-align: right;\">\n",
              "      <th></th>\n",
              "      <th>file_name</th>\n",
              "      <th>raw_transcription</th>\n",
              "      <th>transcription</th>\n",
              "    </tr>\n",
              "  </thead>\n",
              "  <tbody>\n",
              "    <tr>\n",
              "      <th>945</th>\n",
              "      <td>LJ004-0076</td>\n",
              "      <td>Disease, cold, famine, nakedness, and contagio...</td>\n",
              "      <td>NaN</td>\n",
              "    </tr>\n",
              "    <tr>\n",
              "      <th>948</th>\n",
              "      <td>LJ004-0079</td>\n",
              "      <td>All measures and practices in prison which may...</td>\n",
              "      <td>NaN</td>\n",
              "    </tr>\n",
              "    <tr>\n",
              "      <th>1119</th>\n",
              "      <td>LJ004-0250</td>\n",
              "      <td>It is obvious that reformation must be materia...</td>\n",
              "      <td>NaN</td>\n",
              "    </tr>\n",
              "    <tr>\n",
              "      <th>1147</th>\n",
              "      <td>LJ005-0028</td>\n",
              "      <td>There should be no tea and sugar, no assemblag...</td>\n",
              "      <td>NaN</td>\n",
              "    </tr>\n",
              "    <tr>\n",
              "      <th>1149</th>\n",
              "      <td>LJ005-0030</td>\n",
              "      <td>In prisons, which are really meant to keep the...</td>\n",
              "      <td>NaN</td>\n",
              "    </tr>\n",
              "    <tr>\n",
              "      <th>1196</th>\n",
              "      <td>LJ005-0077</td>\n",
              "      <td>expedient to introduce such measures and arran...</td>\n",
              "      <td>NaN</td>\n",
              "    </tr>\n",
              "    <tr>\n",
              "      <th>1371</th>\n",
              "      <td>LJ005-0253</td>\n",
              "      <td>to inquire into and report upon the several ja...</td>\n",
              "      <td>NaN</td>\n",
              "    </tr>\n",
              "    <tr>\n",
              "      <th>1400</th>\n",
              "      <td>LJ005-0282</td>\n",
              "      <td>the comparatively innocent are seduced, the un...</td>\n",
              "      <td>NaN</td>\n",
              "    </tr>\n",
              "    <tr>\n",
              "      <th>1500</th>\n",
              "      <td>LJ006-0083</td>\n",
              "      <td>So great is the authority exercised by him,|So...</td>\n",
              "      <td>NaN</td>\n",
              "    </tr>\n",
              "    <tr>\n",
              "      <th>1655</th>\n",
              "      <td>LJ006-0238</td>\n",
              "      <td>There was a disturbance in the transport yard ...</td>\n",
              "      <td>NaN</td>\n",
              "    </tr>\n",
              "    <tr>\n",
              "      <th>1853</th>\n",
              "      <td>LJ007-0128</td>\n",
              "      <td>what must be the state of discipline in a plac...</td>\n",
              "      <td>NaN</td>\n",
              "    </tr>\n",
              "    <tr>\n",
              "      <th>1868</th>\n",
              "      <td>LJ007-0143</td>\n",
              "      <td>is permitted to purchase whatever his own mean...</td>\n",
              "      <td>NaN</td>\n",
              "    </tr>\n",
              "    <tr>\n",
              "      <th>1929</th>\n",
              "      <td>LJ007-0204</td>\n",
              "      <td>which has been demonstrably proved to be the f...</td>\n",
              "      <td>NaN</td>\n",
              "    </tr>\n",
              "    <tr>\n",
              "      <th>1939</th>\n",
              "      <td>LJ007-0214</td>\n",
              "      <td>The prominent evils of this prison (Newgate) -...</td>\n",
              "      <td>NaN</td>\n",
              "    </tr>\n",
              "    <tr>\n",
              "      <th>4693</th>\n",
              "      <td>LJ016-0282</td>\n",
              "      <td>Till three o'clock it was one long revelry of ...</td>\n",
              "      <td>NaN</td>\n",
              "    </tr>\n",
              "    <tr>\n",
              "      <th>7197</th>\n",
              "      <td>LJ027-0118</td>\n",
              "      <td>for, without waiting to dispute the wisdom of ...</td>\n",
              "      <td>NaN</td>\n",
              "    </tr>\n",
              "  </tbody>\n",
              "</table>\n",
              "</div>\n",
              "      <button class=\"colab-df-convert\" onclick=\"convertToInteractive('df-62a3369a-72b5-4293-bdb4-407c289a2f1e')\"\n",
              "              title=\"Convert this dataframe to an interactive table.\"\n",
              "              style=\"display:none;\">\n",
              "        \n",
              "  <svg xmlns=\"http://www.w3.org/2000/svg\" height=\"24px\"viewBox=\"0 0 24 24\"\n",
              "       width=\"24px\">\n",
              "    <path d=\"M0 0h24v24H0V0z\" fill=\"none\"/>\n",
              "    <path d=\"M18.56 5.44l.94 2.06.94-2.06 2.06-.94-2.06-.94-.94-2.06-.94 2.06-2.06.94zm-11 1L8.5 8.5l.94-2.06 2.06-.94-2.06-.94L8.5 2.5l-.94 2.06-2.06.94zm10 10l.94 2.06.94-2.06 2.06-.94-2.06-.94-.94-2.06-.94 2.06-2.06.94z\"/><path d=\"M17.41 7.96l-1.37-1.37c-.4-.4-.92-.59-1.43-.59-.52 0-1.04.2-1.43.59L10.3 9.45l-7.72 7.72c-.78.78-.78 2.05 0 2.83L4 21.41c.39.39.9.59 1.41.59.51 0 1.02-.2 1.41-.59l7.78-7.78 2.81-2.81c.8-.78.8-2.07 0-2.86zM5.41 20L4 18.59l7.72-7.72 1.47 1.35L5.41 20z\"/>\n",
              "  </svg>\n",
              "      </button>\n",
              "      \n",
              "  <style>\n",
              "    .colab-df-container {\n",
              "      display:flex;\n",
              "      flex-wrap:wrap;\n",
              "      gap: 12px;\n",
              "    }\n",
              "\n",
              "    .colab-df-convert {\n",
              "      background-color: #E8F0FE;\n",
              "      border: none;\n",
              "      border-radius: 50%;\n",
              "      cursor: pointer;\n",
              "      display: none;\n",
              "      fill: #1967D2;\n",
              "      height: 32px;\n",
              "      padding: 0 0 0 0;\n",
              "      width: 32px;\n",
              "    }\n",
              "\n",
              "    .colab-df-convert:hover {\n",
              "      background-color: #E2EBFA;\n",
              "      box-shadow: 0px 1px 2px rgba(60, 64, 67, 0.3), 0px 1px 3px 1px rgba(60, 64, 67, 0.15);\n",
              "      fill: #174EA6;\n",
              "    }\n",
              "\n",
              "    [theme=dark] .colab-df-convert {\n",
              "      background-color: #3B4455;\n",
              "      fill: #D2E3FC;\n",
              "    }\n",
              "\n",
              "    [theme=dark] .colab-df-convert:hover {\n",
              "      background-color: #434B5C;\n",
              "      box-shadow: 0px 1px 3px 1px rgba(0, 0, 0, 0.15);\n",
              "      filter: drop-shadow(0px 1px 2px rgba(0, 0, 0, 0.3));\n",
              "      fill: #FFFFFF;\n",
              "    }\n",
              "  </style>\n",
              "\n",
              "      <script>\n",
              "        const buttonEl =\n",
              "          document.querySelector('#df-62a3369a-72b5-4293-bdb4-407c289a2f1e button.colab-df-convert');\n",
              "        buttonEl.style.display =\n",
              "          google.colab.kernel.accessAllowed ? 'block' : 'none';\n",
              "\n",
              "        async function convertToInteractive(key) {\n",
              "          const element = document.querySelector('#df-62a3369a-72b5-4293-bdb4-407c289a2f1e');\n",
              "          const dataTable =\n",
              "            await google.colab.kernel.invokeFunction('convertToInteractive',\n",
              "                                                     [key], {});\n",
              "          if (!dataTable) return;\n",
              "\n",
              "          const docLinkHtml = 'Like what you see? Visit the ' +\n",
              "            '<a target=\"_blank\" href=https://colab.research.google.com/notebooks/data_table.ipynb>data table notebook</a>'\n",
              "            + ' to learn more about interactive tables.';\n",
              "          element.innerHTML = '';\n",
              "          dataTable['output_type'] = 'display_data';\n",
              "          await google.colab.output.renderOutput(dataTable, element);\n",
              "          const docLink = document.createElement('div');\n",
              "          docLink.innerHTML = docLinkHtml;\n",
              "          element.appendChild(docLink);\n",
              "        }\n",
              "      </script>\n",
              "    </div>\n",
              "  </div>\n",
              "  "
            ]
          },
          "metadata": {},
          "execution_count": 11
        }
      ]
    },
    {
      "cell_type": "code",
      "source": [
        "meta_df.dropna(inplace= True)  # drop those lines where transcription column is Null"
      ],
      "metadata": {
        "id": "gjW7TdK3OHV4"
      },
      "execution_count": null,
      "outputs": []
    },
    {
      "cell_type": "code",
      "source": [
        "len(meta_df)"
      ],
      "metadata": {
        "colab": {
          "base_uri": "https://localhost:8080/"
        },
        "id": "1rOxYKgkwjGG",
        "outputId": "a773fe04-54b9-4a67-a42c-d339a6142bec"
      },
      "execution_count": null,
      "outputs": [
        {
          "output_type": "execute_result",
          "data": {
            "text/plain": [
              "13084"
            ]
          },
          "metadata": {},
          "execution_count": 13
        }
      ]
    },
    {
      "cell_type": "code",
      "source": [
        "#STEP 3: Compare clips df with Meta df and drop lines in meta file that are not present as clip"
      ],
      "metadata": {
        "id": "c8hfbrvAw1KG"
      },
      "execution_count": null,
      "outputs": []
    },
    {
      "cell_type": "code",
      "source": [
        "metadata_df = pd.merge(clips_df, meta_df, on = 'file_name')"
      ],
      "metadata": {
        "id": "Yy4RQhl01Rke",
        "colab": {
          "base_uri": "https://localhost:8080/",
          "height": 311
        },
        "outputId": "9b8cf5f3-f6fc-4999-e638-797933a413b4"
      },
      "execution_count": null,
      "outputs": [
        {
          "output_type": "error",
          "ename": "KeyError",
          "evalue": "ignored",
          "traceback": [
            "\u001b[0;31m---------------------------------------------------------------------------\u001b[0m",
            "\u001b[0;31mKeyError\u001b[0m                                  Traceback (most recent call last)",
            "\u001b[0;32m<ipython-input-14-5aa53111b2c0>\u001b[0m in \u001b[0;36m<cell line: 1>\u001b[0;34m()\u001b[0m\n\u001b[0;32m----> 1\u001b[0;31m \u001b[0mmetadata_df\u001b[0m \u001b[0;34m=\u001b[0m \u001b[0mpd\u001b[0m\u001b[0;34m.\u001b[0m\u001b[0mmerge\u001b[0m\u001b[0;34m(\u001b[0m\u001b[0mclips_df\u001b[0m\u001b[0;34m,\u001b[0m \u001b[0mmeta_df\u001b[0m\u001b[0;34m,\u001b[0m \u001b[0mon\u001b[0m \u001b[0;34m=\u001b[0m \u001b[0;34m'file_name'\u001b[0m\u001b[0;34m)\u001b[0m\u001b[0;34m\u001b[0m\u001b[0;34m\u001b[0m\u001b[0m\n\u001b[0m",
            "\u001b[0;32m/usr/local/lib/python3.9/dist-packages/pandas/core/reshape/merge.py\u001b[0m in \u001b[0;36mmerge\u001b[0;34m(left, right, how, on, left_on, right_on, left_index, right_index, sort, suffixes, copy, indicator, validate)\u001b[0m\n\u001b[1;32m    108\u001b[0m     \u001b[0mvalidate\u001b[0m\u001b[0;34m:\u001b[0m \u001b[0mstr\u001b[0m \u001b[0;34m|\u001b[0m \u001b[0;32mNone\u001b[0m \u001b[0;34m=\u001b[0m \u001b[0;32mNone\u001b[0m\u001b[0;34m,\u001b[0m\u001b[0;34m\u001b[0m\u001b[0;34m\u001b[0m\u001b[0m\n\u001b[1;32m    109\u001b[0m ) -> DataFrame:\n\u001b[0;32m--> 110\u001b[0;31m     op = _MergeOperation(\n\u001b[0m\u001b[1;32m    111\u001b[0m         \u001b[0mleft\u001b[0m\u001b[0;34m,\u001b[0m\u001b[0;34m\u001b[0m\u001b[0;34m\u001b[0m\u001b[0m\n\u001b[1;32m    112\u001b[0m         \u001b[0mright\u001b[0m\u001b[0;34m,\u001b[0m\u001b[0;34m\u001b[0m\u001b[0;34m\u001b[0m\u001b[0m\n",
            "\u001b[0;32m/usr/local/lib/python3.9/dist-packages/pandas/core/reshape/merge.py\u001b[0m in \u001b[0;36m__init__\u001b[0;34m(self, left, right, how, on, left_on, right_on, axis, left_index, right_index, sort, suffixes, indicator, validate)\u001b[0m\n\u001b[1;32m    701\u001b[0m             \u001b[0mself\u001b[0m\u001b[0;34m.\u001b[0m\u001b[0mright_join_keys\u001b[0m\u001b[0;34m,\u001b[0m\u001b[0;34m\u001b[0m\u001b[0;34m\u001b[0m\u001b[0m\n\u001b[1;32m    702\u001b[0m             \u001b[0mself\u001b[0m\u001b[0;34m.\u001b[0m\u001b[0mjoin_names\u001b[0m\u001b[0;34m,\u001b[0m\u001b[0;34m\u001b[0m\u001b[0;34m\u001b[0m\u001b[0m\n\u001b[0;32m--> 703\u001b[0;31m         ) = self._get_merge_keys()\n\u001b[0m\u001b[1;32m    704\u001b[0m \u001b[0;34m\u001b[0m\u001b[0m\n\u001b[1;32m    705\u001b[0m         \u001b[0;31m# validate the merge keys dtypes. We may need to coerce\u001b[0m\u001b[0;34m\u001b[0m\u001b[0;34m\u001b[0m\u001b[0m\n",
            "\u001b[0;32m/usr/local/lib/python3.9/dist-packages/pandas/core/reshape/merge.py\u001b[0m in \u001b[0;36m_get_merge_keys\u001b[0;34m(self)\u001b[0m\n\u001b[1;32m   1177\u001b[0m                         \u001b[0;31m#  the latter of which will raise\u001b[0m\u001b[0;34m\u001b[0m\u001b[0;34m\u001b[0m\u001b[0m\n\u001b[1;32m   1178\u001b[0m                         \u001b[0mlk\u001b[0m \u001b[0;34m=\u001b[0m \u001b[0mcast\u001b[0m\u001b[0;34m(\u001b[0m\u001b[0mHashable\u001b[0m\u001b[0;34m,\u001b[0m \u001b[0mlk\u001b[0m\u001b[0;34m)\u001b[0m\u001b[0;34m\u001b[0m\u001b[0;34m\u001b[0m\u001b[0m\n\u001b[0;32m-> 1179\u001b[0;31m                         \u001b[0mleft_keys\u001b[0m\u001b[0;34m.\u001b[0m\u001b[0mappend\u001b[0m\u001b[0;34m(\u001b[0m\u001b[0mleft\u001b[0m\u001b[0;34m.\u001b[0m\u001b[0m_get_label_or_level_values\u001b[0m\u001b[0;34m(\u001b[0m\u001b[0mlk\u001b[0m\u001b[0;34m)\u001b[0m\u001b[0;34m)\u001b[0m\u001b[0;34m\u001b[0m\u001b[0;34m\u001b[0m\u001b[0m\n\u001b[0m\u001b[1;32m   1180\u001b[0m                         \u001b[0mjoin_names\u001b[0m\u001b[0;34m.\u001b[0m\u001b[0mappend\u001b[0m\u001b[0;34m(\u001b[0m\u001b[0mlk\u001b[0m\u001b[0;34m)\u001b[0m\u001b[0;34m\u001b[0m\u001b[0;34m\u001b[0m\u001b[0m\n\u001b[1;32m   1181\u001b[0m                     \u001b[0;32melse\u001b[0m\u001b[0;34m:\u001b[0m\u001b[0;34m\u001b[0m\u001b[0;34m\u001b[0m\u001b[0m\n",
            "\u001b[0;32m/usr/local/lib/python3.9/dist-packages/pandas/core/generic.py\u001b[0m in \u001b[0;36m_get_label_or_level_values\u001b[0;34m(self, key, axis)\u001b[0m\n\u001b[1;32m   1848\u001b[0m             )\n\u001b[1;32m   1849\u001b[0m         \u001b[0;32melse\u001b[0m\u001b[0;34m:\u001b[0m\u001b[0;34m\u001b[0m\u001b[0;34m\u001b[0m\u001b[0m\n\u001b[0;32m-> 1850\u001b[0;31m             \u001b[0;32mraise\u001b[0m \u001b[0mKeyError\u001b[0m\u001b[0;34m(\u001b[0m\u001b[0mkey\u001b[0m\u001b[0;34m)\u001b[0m\u001b[0;34m\u001b[0m\u001b[0;34m\u001b[0m\u001b[0m\n\u001b[0m\u001b[1;32m   1851\u001b[0m \u001b[0;34m\u001b[0m\u001b[0m\n\u001b[1;32m   1852\u001b[0m         \u001b[0;31m# Check for duplicates\u001b[0m\u001b[0;34m\u001b[0m\u001b[0;34m\u001b[0m\u001b[0m\n",
            "\u001b[0;31mKeyError\u001b[0m: 'file_name'"
          ]
        }
      ]
    },
    {
      "cell_type": "code",
      "source": [
        "print(len(metadata_df))\n",
        "print(metadata_df.head(1))\n",
        "print(metadata_df.columns)"
      ],
      "metadata": {
        "colab": {
          "base_uri": "https://localhost:8080/",
          "height": 200
        },
        "id": "ZXC0Y8343tXb",
        "outputId": "c9b06ca5-6c66-454d-b338-e1ab5030a874"
      },
      "execution_count": null,
      "outputs": [
        {
          "output_type": "error",
          "ename": "NameError",
          "evalue": "ignored",
          "traceback": [
            "\u001b[0;31m---------------------------------------------------------------------------\u001b[0m",
            "\u001b[0;31mNameError\u001b[0m                                 Traceback (most recent call last)",
            "\u001b[0;32m<ipython-input-15-8bc82371cd7c>\u001b[0m in \u001b[0;36m<cell line: 1>\u001b[0;34m()\u001b[0m\n\u001b[0;32m----> 1\u001b[0;31m \u001b[0mprint\u001b[0m\u001b[0;34m(\u001b[0m\u001b[0mlen\u001b[0m\u001b[0;34m(\u001b[0m\u001b[0mmetadata_df\u001b[0m\u001b[0;34m)\u001b[0m\u001b[0;34m)\u001b[0m\u001b[0;34m\u001b[0m\u001b[0;34m\u001b[0m\u001b[0m\n\u001b[0m\u001b[1;32m      2\u001b[0m \u001b[0mprint\u001b[0m\u001b[0;34m(\u001b[0m\u001b[0mmetadata_df\u001b[0m\u001b[0;34m.\u001b[0m\u001b[0mhead\u001b[0m\u001b[0;34m(\u001b[0m\u001b[0;36m1\u001b[0m\u001b[0;34m)\u001b[0m\u001b[0;34m)\u001b[0m\u001b[0;34m\u001b[0m\u001b[0;34m\u001b[0m\u001b[0m\n\u001b[1;32m      3\u001b[0m \u001b[0mprint\u001b[0m\u001b[0;34m(\u001b[0m\u001b[0mmetadata_df\u001b[0m\u001b[0;34m.\u001b[0m\u001b[0mcolumns\u001b[0m\u001b[0;34m)\u001b[0m\u001b[0;34m\u001b[0m\u001b[0;34m\u001b[0m\u001b[0m\n",
            "\u001b[0;31mNameError\u001b[0m: name 'metadata_df' is not defined"
          ]
        }
      ]
    },
    {
      "cell_type": "code",
      "source": [
        "#Just for comfort write file as xls"
      ],
      "metadata": {
        "id": "5KL5hPdA4Fuv"
      },
      "execution_count": null,
      "outputs": []
    },
    {
      "cell_type": "code",
      "source": [
        "#metadata_df.to_excel('/gdrive/MyDrive/data/Speech2text/LJSpeech-1.1/df.xlsx')\n"
      ],
      "metadata": {
        "id": "W_MchhUt4Lpe"
      },
      "execution_count": null,
      "outputs": []
    },
    {
      "cell_type": "code",
      "source": [
        "metadata_df = pd.read_excel('/gdrive/MyDrive/data/Speech2text/LJSpeech-1.1/df.xlsx')"
      ],
      "metadata": {
        "id": "rO4FfVGVfbr1"
      },
      "execution_count": null,
      "outputs": []
    },
    {
      "cell_type": "code",
      "source": [
        "len(metadata_df)"
      ],
      "metadata": {
        "colab": {
          "base_uri": "https://localhost:8080/"
        },
        "id": "roy6ntN46K3Z",
        "outputId": "bd10c697-902a-4b7e-ccd8-a7dad999db58"
      },
      "execution_count": null,
      "outputs": [
        {
          "output_type": "execute_result",
          "data": {
            "text/plain": [
              "13083"
            ]
          },
          "metadata": {},
          "execution_count": 15
        }
      ]
    },
    {
      "cell_type": "code",
      "source": [
        "#Step 4: Get metadata working file"
      ],
      "metadata": {
        "id": "kOVd7Blk9XqO"
      },
      "execution_count": null,
      "outputs": []
    },
    {
      "cell_type": "code",
      "source": [
        "meta_df = metadata_df[['Clips_name', 'file_name', 'transcription']]"
      ],
      "metadata": {
        "id": "HweS5UjM92mB"
      },
      "execution_count": null,
      "outputs": []
    },
    {
      "cell_type": "code",
      "source": [
        "meta_df = meta_df.sample(frac= 1).reset_index(drop= True)"
      ],
      "metadata": {
        "id": "gQv_Kw6MS-Fa"
      },
      "execution_count": null,
      "outputs": []
    },
    {
      "cell_type": "code",
      "source": [
        "meta_df.head(5)"
      ],
      "metadata": {
        "colab": {
          "base_uri": "https://localhost:8080/",
          "height": 206
        },
        "id": "ddoboEKmTNuw",
        "outputId": "c92dfb33-8045-4fb1-ba09-79c51763784d"
      },
      "execution_count": null,
      "outputs": [
        {
          "output_type": "execute_result",
          "data": {
            "text/plain": [
              "       Clips_name   file_name  \\\n",
              "0  LJ003-0116.wav  LJ003-0116   \n",
              "1  LJ007-0207.wav  LJ007-0207   \n",
              "2  LJ001-0101.wav  LJ001-0101   \n",
              "3  LJ044-0194.wav  LJ044-0194   \n",
              "4  LJ002-0010.wav  LJ002-0010   \n",
              "\n",
              "                                       transcription  \n",
              "0  A jury having been selected and duly sworn, th...  \n",
              "1  but this had the effect of throwing them into ...  \n",
              "2  It is discouraging to note that the improvemen...  \n",
              "3                     Oswald's attempt to go to Cuba  \n",
              "4  these numbers had risen to two hundred seventy...  "
            ],
            "text/html": [
              "\n",
              "  <div id=\"df-5750b1bf-dbd6-4aca-9fc7-5572d144c8b3\">\n",
              "    <div class=\"colab-df-container\">\n",
              "      <div>\n",
              "<style scoped>\n",
              "    .dataframe tbody tr th:only-of-type {\n",
              "        vertical-align: middle;\n",
              "    }\n",
              "\n",
              "    .dataframe tbody tr th {\n",
              "        vertical-align: top;\n",
              "    }\n",
              "\n",
              "    .dataframe thead th {\n",
              "        text-align: right;\n",
              "    }\n",
              "</style>\n",
              "<table border=\"1\" class=\"dataframe\">\n",
              "  <thead>\n",
              "    <tr style=\"text-align: right;\">\n",
              "      <th></th>\n",
              "      <th>Clips_name</th>\n",
              "      <th>file_name</th>\n",
              "      <th>transcription</th>\n",
              "    </tr>\n",
              "  </thead>\n",
              "  <tbody>\n",
              "    <tr>\n",
              "      <th>0</th>\n",
              "      <td>LJ003-0116.wav</td>\n",
              "      <td>LJ003-0116</td>\n",
              "      <td>A jury having been selected and duly sworn, th...</td>\n",
              "    </tr>\n",
              "    <tr>\n",
              "      <th>1</th>\n",
              "      <td>LJ007-0207.wav</td>\n",
              "      <td>LJ007-0207</td>\n",
              "      <td>but this had the effect of throwing them into ...</td>\n",
              "    </tr>\n",
              "    <tr>\n",
              "      <th>2</th>\n",
              "      <td>LJ001-0101.wav</td>\n",
              "      <td>LJ001-0101</td>\n",
              "      <td>It is discouraging to note that the improvemen...</td>\n",
              "    </tr>\n",
              "    <tr>\n",
              "      <th>3</th>\n",
              "      <td>LJ044-0194.wav</td>\n",
              "      <td>LJ044-0194</td>\n",
              "      <td>Oswald's attempt to go to Cuba</td>\n",
              "    </tr>\n",
              "    <tr>\n",
              "      <th>4</th>\n",
              "      <td>LJ002-0010.wav</td>\n",
              "      <td>LJ002-0010</td>\n",
              "      <td>these numbers had risen to two hundred seventy...</td>\n",
              "    </tr>\n",
              "  </tbody>\n",
              "</table>\n",
              "</div>\n",
              "      <button class=\"colab-df-convert\" onclick=\"convertToInteractive('df-5750b1bf-dbd6-4aca-9fc7-5572d144c8b3')\"\n",
              "              title=\"Convert this dataframe to an interactive table.\"\n",
              "              style=\"display:none;\">\n",
              "        \n",
              "  <svg xmlns=\"http://www.w3.org/2000/svg\" height=\"24px\"viewBox=\"0 0 24 24\"\n",
              "       width=\"24px\">\n",
              "    <path d=\"M0 0h24v24H0V0z\" fill=\"none\"/>\n",
              "    <path d=\"M18.56 5.44l.94 2.06.94-2.06 2.06-.94-2.06-.94-.94-2.06-.94 2.06-2.06.94zm-11 1L8.5 8.5l.94-2.06 2.06-.94-2.06-.94L8.5 2.5l-.94 2.06-2.06.94zm10 10l.94 2.06.94-2.06 2.06-.94-2.06-.94-.94-2.06-.94 2.06-2.06.94z\"/><path d=\"M17.41 7.96l-1.37-1.37c-.4-.4-.92-.59-1.43-.59-.52 0-1.04.2-1.43.59L10.3 9.45l-7.72 7.72c-.78.78-.78 2.05 0 2.83L4 21.41c.39.39.9.59 1.41.59.51 0 1.02-.2 1.41-.59l7.78-7.78 2.81-2.81c.8-.78.8-2.07 0-2.86zM5.41 20L4 18.59l7.72-7.72 1.47 1.35L5.41 20z\"/>\n",
              "  </svg>\n",
              "      </button>\n",
              "      \n",
              "  <style>\n",
              "    .colab-df-container {\n",
              "      display:flex;\n",
              "      flex-wrap:wrap;\n",
              "      gap: 12px;\n",
              "    }\n",
              "\n",
              "    .colab-df-convert {\n",
              "      background-color: #E8F0FE;\n",
              "      border: none;\n",
              "      border-radius: 50%;\n",
              "      cursor: pointer;\n",
              "      display: none;\n",
              "      fill: #1967D2;\n",
              "      height: 32px;\n",
              "      padding: 0 0 0 0;\n",
              "      width: 32px;\n",
              "    }\n",
              "\n",
              "    .colab-df-convert:hover {\n",
              "      background-color: #E2EBFA;\n",
              "      box-shadow: 0px 1px 2px rgba(60, 64, 67, 0.3), 0px 1px 3px 1px rgba(60, 64, 67, 0.15);\n",
              "      fill: #174EA6;\n",
              "    }\n",
              "\n",
              "    [theme=dark] .colab-df-convert {\n",
              "      background-color: #3B4455;\n",
              "      fill: #D2E3FC;\n",
              "    }\n",
              "\n",
              "    [theme=dark] .colab-df-convert:hover {\n",
              "      background-color: #434B5C;\n",
              "      box-shadow: 0px 1px 3px 1px rgba(0, 0, 0, 0.15);\n",
              "      filter: drop-shadow(0px 1px 2px rgba(0, 0, 0, 0.3));\n",
              "      fill: #FFFFFF;\n",
              "    }\n",
              "  </style>\n",
              "\n",
              "      <script>\n",
              "        const buttonEl =\n",
              "          document.querySelector('#df-5750b1bf-dbd6-4aca-9fc7-5572d144c8b3 button.colab-df-convert');\n",
              "        buttonEl.style.display =\n",
              "          google.colab.kernel.accessAllowed ? 'block' : 'none';\n",
              "\n",
              "        async function convertToInteractive(key) {\n",
              "          const element = document.querySelector('#df-5750b1bf-dbd6-4aca-9fc7-5572d144c8b3');\n",
              "          const dataTable =\n",
              "            await google.colab.kernel.invokeFunction('convertToInteractive',\n",
              "                                                     [key], {});\n",
              "          if (!dataTable) return;\n",
              "\n",
              "          const docLinkHtml = 'Like what you see? Visit the ' +\n",
              "            '<a target=\"_blank\" href=https://colab.research.google.com/notebooks/data_table.ipynb>data table notebook</a>'\n",
              "            + ' to learn more about interactive tables.';\n",
              "          element.innerHTML = '';\n",
              "          dataTable['output_type'] = 'display_data';\n",
              "          await google.colab.output.renderOutput(dataTable, element);\n",
              "          const docLink = document.createElement('div');\n",
              "          docLink.innerHTML = docLinkHtml;\n",
              "          element.appendChild(docLink);\n",
              "        }\n",
              "      </script>\n",
              "    </div>\n",
              "  </div>\n",
              "  "
            ]
          },
          "metadata": {},
          "execution_count": 18
        }
      ]
    },
    {
      "cell_type": "code",
      "source": [
        "#meta_df = meta_df[:100]   # initial testing of model with 100 examples"
      ],
      "metadata": {
        "id": "JCAmkbKn7LRA"
      },
      "execution_count": null,
      "outputs": []
    },
    {
      "cell_type": "code",
      "source": [
        "len(meta_df)"
      ],
      "metadata": {
        "colab": {
          "base_uri": "https://localhost:8080/"
        },
        "id": "i59_W2PU7Se7",
        "outputId": "844f8f41-c124-4cff-b3ae-231772bacc34"
      },
      "execution_count": null,
      "outputs": [
        {
          "output_type": "execute_result",
          "data": {
            "text/plain": [
              "13083"
            ]
          },
          "metadata": {},
          "execution_count": 19
        }
      ]
    },
    {
      "cell_type": "code",
      "source": [
        "#Step 5: Split into Training Validation data set"
      ],
      "metadata": {
        "id": "tULOFB5VUTNp"
      },
      "execution_count": null,
      "outputs": []
    },
    {
      "cell_type": "code",
      "source": [
        "split =int(len(meta_df)*0.9)\n",
        "print(split)"
      ],
      "metadata": {
        "colab": {
          "base_uri": "https://localhost:8080/"
        },
        "id": "0rcbuBa5Ud_K",
        "outputId": "832946cb-2f24-444c-cefd-2e5480a1ac7d"
      },
      "execution_count": null,
      "outputs": [
        {
          "output_type": "stream",
          "name": "stdout",
          "text": [
            "11774\n"
          ]
        }
      ]
    },
    {
      "cell_type": "code",
      "source": [
        "df_train = meta_df[:split]\n",
        "df_val = meta_df[split:]\n",
        "print(len(df_train))\n",
        "print(len(df_val))"
      ],
      "metadata": {
        "colab": {
          "base_uri": "https://localhost:8080/"
        },
        "id": "koVtSWoFVVxP",
        "outputId": "048f22e7-8e0b-424b-ab57-26c271f9f02f"
      },
      "execution_count": null,
      "outputs": [
        {
          "output_type": "stream",
          "name": "stdout",
          "text": [
            "11774\n",
            "1309\n"
          ]
        }
      ]
    },
    {
      "cell_type": "code",
      "source": [
        "#MACHINE LEARNING PROCESS"
      ],
      "metadata": {
        "id": "hnNi6i-ZGqYK"
      },
      "execution_count": null,
      "outputs": []
    },
    {
      "cell_type": "code",
      "source": [
        "path = '/gdrive/MyDrive/data/Speech2text/LJSpeech-1.1/wavs/'"
      ],
      "metadata": {
        "id": "ZX2ycDcg_rXH"
      },
      "execution_count": null,
      "outputs": []
    },
    {
      "cell_type": "code",
      "source": [
        "#Functions to process input sentence"
      ],
      "metadata": {
        "id": "hDozeaVFE_j-"
      },
      "execution_count": null,
      "outputs": []
    },
    {
      "cell_type": "code",
      "source": [
        "characters = [x for x in \"abcdefghijklmnopqrstuvwxyz'?! \"]"
      ],
      "metadata": {
        "id": "UQllBhKtFK80"
      },
      "execution_count": null,
      "outputs": []
    },
    {
      "cell_type": "code",
      "source": [
        "print(len(characters))"
      ],
      "metadata": {
        "colab": {
          "base_uri": "https://localhost:8080/"
        },
        "id": "Hr5JHMuJFmeu",
        "outputId": "1682b429-3c4e-46d8-e712-25e49722e25e"
      },
      "execution_count": null,
      "outputs": [
        {
          "output_type": "stream",
          "name": "stdout",
          "text": [
            "30\n"
          ]
        }
      ]
    },
    {
      "cell_type": "code",
      "source": [
        "char_to_num = tf.keras.layers.StringLookup(vocabulary = characters, oov_token= \"\")"
      ],
      "metadata": {
        "id": "nxfkwXTKFLEi"
      },
      "execution_count": null,
      "outputs": []
    },
    {
      "cell_type": "code",
      "source": [
        "print(char_to_num.get_vocabulary())"
      ],
      "metadata": {
        "colab": {
          "base_uri": "https://localhost:8080/"
        },
        "id": "kl4pVWrqGUU0",
        "outputId": "a10019ad-8d0f-4433-c96a-1228f71dc50a"
      },
      "execution_count": null,
      "outputs": [
        {
          "output_type": "stream",
          "name": "stdout",
          "text": [
            "['', 'a', 'b', 'c', 'd', 'e', 'f', 'g', 'h', 'i', 'j', 'k', 'l', 'm', 'n', 'o', 'p', 'q', 'r', 's', 't', 'u', 'v', 'w', 'x', 'y', 'z', \"'\", '?', '!', ' ']\n"
          ]
        }
      ]
    },
    {
      "cell_type": "code",
      "source": [
        "print(char_to_num.vocabulary_size())"
      ],
      "metadata": {
        "colab": {
          "base_uri": "https://localhost:8080/"
        },
        "id": "t9tHybHfN_wc",
        "outputId": "ebe9625f-ea75-4ccb-dc79-c285d0d8a389"
      },
      "execution_count": null,
      "outputs": [
        {
          "output_type": "stream",
          "name": "stdout",
          "text": [
            "31\n"
          ]
        }
      ]
    },
    {
      "cell_type": "code",
      "source": [
        "output_dim = char_to_num.vocabulary_size()+1"
      ],
      "metadata": {
        "id": "50uMRW1sOHaT"
      },
      "execution_count": null,
      "outputs": []
    },
    {
      "cell_type": "code",
      "source": [
        "print(output_dim)"
      ],
      "metadata": {
        "colab": {
          "base_uri": "https://localhost:8080/"
        },
        "id": "r9nnyVwVOatD",
        "outputId": "7b672d17-909b-4044-a43a-a706b8b602ae"
      },
      "execution_count": null,
      "outputs": [
        {
          "output_type": "stream",
          "name": "stdout",
          "text": [
            "32\n"
          ]
        }
      ]
    },
    {
      "cell_type": "code",
      "source": [
        "num_to_char = tf.keras.layers.StringLookup(vocabulary = char_to_num.get_vocabulary(), oov_token= \"\", invert = True)"
      ],
      "metadata": {
        "id": "LebSU0cZG09V"
      },
      "execution_count": null,
      "outputs": []
    },
    {
      "cell_type": "code",
      "source": [
        "#Function to fetch audio files, create spectrogram and process corresponding sentences"
      ],
      "metadata": {
        "id": "BZ8KiSutWJmg"
      },
      "execution_count": null,
      "outputs": []
    },
    {
      "cell_type": "code",
      "source": [
        "frame_length = 256\n",
        "frame_step = 160\n",
        "fft_length = 384\n",
        "\n",
        "# frame length   = no of data points in each sliding window here 256 points will be covered in each frame out of 212893 input data point\n",
        "# frame steps/hop size = no of data points to skip when sliding window so first 256 data points then skip 160 then start from data point 416 to 672, then skip another 160 and so on\n",
        "#212893/frame steps = no of row  here 212893/160 =1329\n",
        "#the size of the FFT (here 384) determines the number of frequency bins used to represent the spectrum of each frame of the signal.\n",
        "#The number of frequency bins in the resulting spectrum is equal to half the FFT size plus one. so 384/2+1 = 193\n",
        "#This means each row with contain  193 data points i.e columns"
      ],
      "metadata": {
        "id": "e1sHtI5Hbc38"
      },
      "execution_count": null,
      "outputs": []
    },
    {
      "cell_type": "code",
      "source": [
        "def encode_single_sample(audio_file, label):\n",
        "  #process audio generating spectrogram\n",
        "  #1 reading and decoding file and change datatype to float\n",
        "  file = tf.io.read_file(path+audio_file)\n",
        "  audio,_ = tf.audio.decode_wav(file)\n",
        "  audio = tf.squeeze(audio, axis = -1)\n",
        "  audio = tf.cast(audio, tf.float32)\n",
        "\n",
        "  #2 Getting Spectrograph\n",
        "  spectrograph = tf.signal.stft(audio, frame_length = frame_length, frame_step = frame_step, fft_length= fft_length)\n",
        "\n",
        "  #3 Getting magnitude  # This does not change shape of output which will have 193 data points in each row.\n",
        "  spectrograph = tf.abs(spectrograph)\n",
        "  spectrograph = tf.math.pow(spectrograph, 0.5)\n",
        "\n",
        "  #4 Normalization\n",
        "\n",
        "  means = tf.math.reduce_mean(spectrograph, 1, keepdims = True)\n",
        "  stddev = tf.math.reduce_std(spectrograph, 1, keepdims = True)\n",
        "  spectrogram = (spectrograph - means)/(stddev+ 1e-10)\n",
        "\n",
        "  #process sentence\n",
        "\n",
        "  label = tf.strings.lower(label)\n",
        "  label = tf.strings.unicode_split(label,input_encoding = \"UTF-8\")\n",
        "  label = char_to_num(label)\n",
        "\n",
        "  return spectrogram, label\n",
        "\n",
        "\n"
      ],
      "metadata": {
        "id": "T4g6xOzbardQ"
      },
      "execution_count": null,
      "outputs": []
    },
    {
      "cell_type": "code",
      "source": [
        "#print(spectrograph.shape)  # Spectrograph of one voice clip # 193 frequencies with 1329 times stamps\n",
        "#(1329, 193)\n",
        "\n",
        "#The spectrogram is a spectro-temporal representation of the sound.\n",
        "#The horizontal direction of the spectrogram represents time, the vertical direction represents frequency.\n",
        "#The time scale of the spectrogram is the same as that of the waveform, so the spectrogram reacts to your zooming and scrolling.\n",
        "\n"
      ],
      "metadata": {
        "id": "rrt1BPlh6Sj5"
      },
      "execution_count": null,
      "outputs": []
    },
    {
      "cell_type": "code",
      "source": [
        "#Creating Dataset Object   # If any of column has null value , will give error.\n"
      ],
      "metadata": {
        "id": "nGFE4nw0Hxuv"
      },
      "execution_count": null,
      "outputs": []
    },
    {
      "cell_type": "code",
      "source": [
        "batch_size = 32\n",
        "\n",
        "train_dataset = tf.data.Dataset.from_tensor_slices((list(df_train['Clips_name']), list(df_train['transcription'])))\n",
        "\n",
        "train_dataset = train_dataset.map(encode_single_sample, num_parallel_calls = tf.data.AUTOTUNE).padded_batch(batch_size).prefetch(buffer_size=tf.data.AUTOTUNE)"
      ],
      "metadata": {
        "id": "XroVs5oKIHb_"
      },
      "execution_count": null,
      "outputs": []
    },
    {
      "cell_type": "code",
      "source": [
        "train_dataset.element_spec"
      ],
      "metadata": {
        "colab": {
          "base_uri": "https://localhost:8080/"
        },
        "id": "tMn59kbIfnMu",
        "outputId": "9f37ec0b-70a4-4f78-87b5-23ca02540eef"
      },
      "execution_count": null,
      "outputs": [
        {
          "output_type": "execute_result",
          "data": {
            "text/plain": [
              "(TensorSpec(shape=(None, None, 193), dtype=tf.float32, name=None),\n",
              " TensorSpec(shape=(None, None), dtype=tf.int64, name=None))"
            ]
          },
          "metadata": {},
          "execution_count": 47
        }
      ]
    },
    {
      "cell_type": "code",
      "source": [
        "for x,  y in train_dataset:\n",
        "  print(x.shape, y.shape)\n"
      ],
      "metadata": {
        "colab": {
          "base_uri": "https://localhost:8080/",
          "height": 1000
        },
        "id": "DlZWcRLPfxnH",
        "outputId": "77ce67c4-d1f8-4e38-b1d9-1971338f68cc"
      },
      "execution_count": null,
      "outputs": [
        {
          "output_type": "stream",
          "name": "stdout",
          "text": [
            "(32, 1369, 193) (32, 160)\n",
            "(32, 1339, 193) (32, 175)\n",
            "(32, 1376, 193) (32, 149)\n",
            "(32, 1387, 193) (32, 164)\n",
            "(32, 1373, 193) (32, 153)\n",
            "(32, 1371, 193) (32, 149)\n",
            "(32, 1352, 193) (32, 165)\n",
            "(32, 1369, 193) (32, 145)\n",
            "(32, 1353, 193) (32, 151)\n",
            "(32, 1377, 193) (32, 142)\n",
            "(32, 1376, 193) (32, 172)\n",
            "(32, 1333, 193) (32, 150)\n",
            "(32, 1385, 193) (32, 172)\n",
            "(32, 1390, 193) (32, 183)\n",
            "(32, 1323, 193) (32, 169)\n",
            "(32, 1385, 193) (32, 165)\n",
            "(32, 1390, 193) (32, 152)\n",
            "(32, 1381, 193) (32, 158)\n",
            "(32, 1376, 193) (32, 157)\n",
            "(32, 1363, 193) (32, 153)\n",
            "(32, 1307, 193) (32, 153)\n",
            "(32, 1389, 193) (32, 157)\n",
            "(32, 1381, 193) (32, 182)\n",
            "(32, 1379, 193) (32, 157)\n",
            "(32, 1240, 193) (32, 139)\n",
            "(32, 1390, 193) (32, 154)\n",
            "(32, 1389, 193) (32, 156)\n",
            "(32, 1345, 193) (32, 161)\n",
            "(32, 1310, 193) (32, 158)\n",
            "(32, 1345, 193) (32, 146)\n",
            "(32, 1387, 193) (32, 157)\n",
            "(32, 1381, 193) (32, 160)\n",
            "(32, 1329, 193) (32, 151)\n",
            "(32, 1376, 193) (32, 154)\n",
            "(32, 1326, 193) (32, 157)\n",
            "(32, 1389, 193) (32, 156)\n"
          ]
        },
        {
          "output_type": "error",
          "ename": "KeyboardInterrupt",
          "evalue": "ignored",
          "traceback": [
            "\u001b[0;31m---------------------------------------------------------------------------\u001b[0m",
            "\u001b[0;31mKeyboardInterrupt\u001b[0m                         Traceback (most recent call last)",
            "\u001b[0;32m<ipython-input-63-64d885bc73f9>\u001b[0m in \u001b[0;36m<cell line: 1>\u001b[0;34m()\u001b[0m\n\u001b[0;32m----> 1\u001b[0;31m \u001b[0;32mfor\u001b[0m \u001b[0mx\u001b[0m\u001b[0;34m,\u001b[0m  \u001b[0my\u001b[0m \u001b[0;32min\u001b[0m \u001b[0mtrain_dataset\u001b[0m\u001b[0;34m:\u001b[0m\u001b[0;34m\u001b[0m\u001b[0;34m\u001b[0m\u001b[0m\n\u001b[0m\u001b[1;32m      2\u001b[0m   \u001b[0mprint\u001b[0m\u001b[0;34m(\u001b[0m\u001b[0mx\u001b[0m\u001b[0;34m.\u001b[0m\u001b[0mshape\u001b[0m\u001b[0;34m,\u001b[0m \u001b[0my\u001b[0m\u001b[0;34m.\u001b[0m\u001b[0mshape\u001b[0m\u001b[0;34m)\u001b[0m\u001b[0;34m\u001b[0m\u001b[0;34m\u001b[0m\u001b[0m\n\u001b[1;32m      3\u001b[0m \u001b[0;34m\u001b[0m\u001b[0m\n",
            "\u001b[0;32m/usr/local/lib/python3.10/dist-packages/tensorflow/python/data/ops/iterator_ops.py\u001b[0m in \u001b[0;36m__next__\u001b[0;34m(self)\u001b[0m\n\u001b[1;32m    795\u001b[0m   \u001b[0;32mdef\u001b[0m \u001b[0m__next__\u001b[0m\u001b[0;34m(\u001b[0m\u001b[0mself\u001b[0m\u001b[0;34m)\u001b[0m\u001b[0;34m:\u001b[0m\u001b[0;34m\u001b[0m\u001b[0;34m\u001b[0m\u001b[0m\n\u001b[1;32m    796\u001b[0m     \u001b[0;32mtry\u001b[0m\u001b[0;34m:\u001b[0m\u001b[0;34m\u001b[0m\u001b[0;34m\u001b[0m\u001b[0m\n\u001b[0;32m--> 797\u001b[0;31m       \u001b[0;32mreturn\u001b[0m \u001b[0mself\u001b[0m\u001b[0;34m.\u001b[0m\u001b[0m_next_internal\u001b[0m\u001b[0;34m(\u001b[0m\u001b[0;34m)\u001b[0m\u001b[0;34m\u001b[0m\u001b[0;34m\u001b[0m\u001b[0m\n\u001b[0m\u001b[1;32m    798\u001b[0m     \u001b[0;32mexcept\u001b[0m \u001b[0merrors\u001b[0m\u001b[0;34m.\u001b[0m\u001b[0mOutOfRangeError\u001b[0m\u001b[0;34m:\u001b[0m\u001b[0;34m\u001b[0m\u001b[0;34m\u001b[0m\u001b[0m\n\u001b[1;32m    799\u001b[0m       \u001b[0;32mraise\u001b[0m \u001b[0mStopIteration\u001b[0m\u001b[0;34m\u001b[0m\u001b[0;34m\u001b[0m\u001b[0m\n",
            "\u001b[0;32m/usr/local/lib/python3.10/dist-packages/tensorflow/python/data/ops/iterator_ops.py\u001b[0m in \u001b[0;36m_next_internal\u001b[0;34m(self)\u001b[0m\n\u001b[1;32m    778\u001b[0m     \u001b[0;31m# to communicate that there is no more data to iterate over.\u001b[0m\u001b[0;34m\u001b[0m\u001b[0;34m\u001b[0m\u001b[0m\n\u001b[1;32m    779\u001b[0m     \u001b[0;32mwith\u001b[0m \u001b[0mcontext\u001b[0m\u001b[0;34m.\u001b[0m\u001b[0mexecution_mode\u001b[0m\u001b[0;34m(\u001b[0m\u001b[0mcontext\u001b[0m\u001b[0;34m.\u001b[0m\u001b[0mSYNC\u001b[0m\u001b[0;34m)\u001b[0m\u001b[0;34m:\u001b[0m\u001b[0;34m\u001b[0m\u001b[0;34m\u001b[0m\u001b[0m\n\u001b[0;32m--> 780\u001b[0;31m       ret = gen_dataset_ops.iterator_get_next(\n\u001b[0m\u001b[1;32m    781\u001b[0m           \u001b[0mself\u001b[0m\u001b[0;34m.\u001b[0m\u001b[0m_iterator_resource\u001b[0m\u001b[0;34m,\u001b[0m\u001b[0;34m\u001b[0m\u001b[0;34m\u001b[0m\u001b[0m\n\u001b[1;32m    782\u001b[0m           \u001b[0moutput_types\u001b[0m\u001b[0;34m=\u001b[0m\u001b[0mself\u001b[0m\u001b[0;34m.\u001b[0m\u001b[0m_flat_output_types\u001b[0m\u001b[0;34m,\u001b[0m\u001b[0;34m\u001b[0m\u001b[0;34m\u001b[0m\u001b[0m\n",
            "\u001b[0;32m/usr/local/lib/python3.10/dist-packages/tensorflow/python/ops/gen_dataset_ops.py\u001b[0m in \u001b[0;36miterator_get_next\u001b[0;34m(iterator, output_types, output_shapes, name)\u001b[0m\n\u001b[1;32m   3009\u001b[0m   \u001b[0;32mif\u001b[0m \u001b[0mtld\u001b[0m\u001b[0;34m.\u001b[0m\u001b[0mis_eager\u001b[0m\u001b[0;34m:\u001b[0m\u001b[0;34m\u001b[0m\u001b[0;34m\u001b[0m\u001b[0m\n\u001b[1;32m   3010\u001b[0m     \u001b[0;32mtry\u001b[0m\u001b[0;34m:\u001b[0m\u001b[0;34m\u001b[0m\u001b[0;34m\u001b[0m\u001b[0m\n\u001b[0;32m-> 3011\u001b[0;31m       _result = pywrap_tfe.TFE_Py_FastPathExecute(\n\u001b[0m\u001b[1;32m   3012\u001b[0m         \u001b[0m_ctx\u001b[0m\u001b[0;34m,\u001b[0m \u001b[0;34m\"IteratorGetNext\"\u001b[0m\u001b[0;34m,\u001b[0m \u001b[0mname\u001b[0m\u001b[0;34m,\u001b[0m \u001b[0miterator\u001b[0m\u001b[0;34m,\u001b[0m \u001b[0;34m\"output_types\"\u001b[0m\u001b[0;34m,\u001b[0m \u001b[0moutput_types\u001b[0m\u001b[0;34m,\u001b[0m\u001b[0;34m\u001b[0m\u001b[0;34m\u001b[0m\u001b[0m\n\u001b[1;32m   3013\u001b[0m         \"output_shapes\", output_shapes)\n",
            "\u001b[0;31mKeyboardInterrupt\u001b[0m: "
          ]
        }
      ]
    },
    {
      "cell_type": "code",
      "source": [
        "y[12]"
      ],
      "metadata": {
        "colab": {
          "base_uri": "https://localhost:8080/"
        },
        "id": "Hq64RRNFLHrU",
        "outputId": "a595386e-d2f2-4dd7-8f1d-000ae76034f4"
      },
      "execution_count": null,
      "outputs": [
        {
          "output_type": "execute_result",
          "data": {
            "text/plain": [
              "<tf.Tensor: shape=(156,), dtype=int64, numpy=\n",
              "array([14, 15, 23,  0, 30, 20,  8,  9, 19, 30,  9, 19, 30, 21, 14,  4, 15,\n",
              "       21,  2, 20,  5,  4, 12, 25, 30, 20,  8,  5, 30, 15, 18,  4,  5, 18,\n",
              "       30, 15,  6, 30, 19, 21,  3,  3,  5, 19, 19,  9, 15, 14, 30, 15,  6,\n",
              "       30,  6, 15, 18, 13, 19, 30,  9, 14, 30,  7,  5, 15, 12, 15,  7,  9,\n",
              "        3,  1, 12, 30, 20,  9, 13,  5, 19, 30,  0,  0, 30,  9,  0,  5,  0,\n",
              "        0, 30,  9, 14, 30, 20,  8,  5, 30, 16,  8, 25, 12, 15,  7,  5, 14,\n",
              "        9,  3, 30, 19,  5, 18,  9,  5, 19,  0,  0,  0,  0,  0,  0,  0,  0,\n",
              "        0,  0,  0,  0,  0,  0,  0,  0,  0,  0,  0,  0,  0,  0,  0,  0,  0,\n",
              "        0,  0,  0,  0,  0,  0,  0,  0,  0,  0,  0,  0,  0,  0,  0,  0,  0,\n",
              "        0,  0,  0])>"
            ]
          },
          "metadata": {},
          "execution_count": 66
        }
      ]
    },
    {
      "cell_type": "code",
      "source": [
        "val_dataset = tf.data.Dataset.from_tensor_slices((list(df_val['Clips_name']), list(df_val['transcription'])))\n",
        "val_dataset = val_dataset.map(encode_single_sample, num_parallel_calls = tf.data.AUTOTUNE).padded_batch(batch_size).prefetch(buffer_size=tf.data.AUTOTUNE)"
      ],
      "metadata": {
        "id": "Ocm6n4Lkw5qd"
      },
      "execution_count": null,
      "outputs": []
    },
    {
      "cell_type": "code",
      "source": [
        "#Machine Learning Model"
      ],
      "metadata": {
        "id": "HXcIUclwBm7r"
      },
      "execution_count": null,
      "outputs": []
    },
    {
      "cell_type": "code",
      "source": [
        "from tensorflow.keras.models import Sequential"
      ],
      "metadata": {
        "id": "9oT6e56ZBqnR"
      },
      "execution_count": null,
      "outputs": []
    },
    {
      "cell_type": "code",
      "source": [
        "from tensorflow.keras.layers import Dense, Conv2D, BatchNormalization, ReLU, Reshape, Dropout, GRU, Reshape, Bidirectional"
      ],
      "metadata": {
        "id": "_45lGH6BB5aD"
      },
      "execution_count": null,
      "outputs": []
    },
    {
      "cell_type": "code",
      "source": [
        "model = Sequential([\n",
        "    Reshape((-1, 193, 1), name=\"expand_dim\", input_shape=(None, 193)),     # see explanation below                    (batch, rows, columns/data point in each row,      channels)\n",
        "    #                                                                                                                   (-1, -1,         193,                            1) -1 means variable number\n",
        "    Conv2D(filters = 32, kernel_size = [11,41], strides = 2, padding = 'same', use_bias = False,  name = 'conv_1'), # (-1,    -1,     193/2 = 97,                        32)\n",
        "    BatchNormalization(name = 'conv_1_bn'),\n",
        "    ReLU(name= 'conv_1_relu'),\n",
        "    Conv2D(filters = 32, kernel_size = [11,41], strides = 2, padding = 'same', use_bias = False,  name = 'conv_2'),  # (-1,     -1,     97/2 = 49,                        32)\n",
        "    BatchNormalization(name = 'conv_2_bn'),\n",
        "    ReLU(name= 'conv_2_relu'),\n",
        "    Reshape((-1,49*32)), #   (-1,-1,  columns*filters )\n",
        "    #The RNN expects that the input is going to be sequential. Therefore, the input has the shape  [batch_size, time, feature_size]\n",
        "    #reshape as [b_size, num_frames, am_width * am_height * num_filters]\n",
        "    Bidirectional((GRU(units =512, activation = 'tanh',recurrent_activation='sigmoid', use_bias=True,return_sequences=True, reset_after = True , name = 'GRU_1')), name = 'bidir_1' ),\n",
        "    Dropout(rate = 0.5, name = 'drop_out_1'),\n",
        "    Bidirectional((GRU(units =512, activation = 'tanh',recurrent_activation='sigmoid', use_bias=True,return_sequences=True, reset_after = True , name = 'GRU_2')),  name = 'bidir_2' ),\n",
        "    Dropout(rate = 0.5, name = 'drop_out_2'),\n",
        "    Bidirectional((GRU(units =512, activation = 'tanh',recurrent_activation='sigmoid', use_bias=True,return_sequences=True, reset_after = True , name = 'GRU_3')),  name = 'bidir_3' ),\n",
        "    Dropout(rate = 0.5, name = 'drop_out_3'),\n",
        "    Bidirectional((GRU(units =512, activation = 'tanh',recurrent_activation='sigmoid', use_bias=True,return_sequences=True, reset_after = True , name = 'GRU_4')),  name = 'bidir_4' ),\n",
        "    Dropout(rate = 0.5, name = 'drop_out_4'),\n",
        "    Bidirectional((GRU(units =512, activation = 'tanh',recurrent_activation='sigmoid', use_bias=True,return_sequences=True, reset_after = True , name = 'GRU_5')),  name = 'bidir_5' ),\n",
        "    Dense(units= 512*2, name = 'dense1'),\n",
        "    ReLU(name= 'Dense_1_relu'),\n",
        "    Dropout(rate = 0.5, name = 'drop_out_5'),\n",
        "    Dense(units = output_dim, activation = 'softmax')\n",
        "\n",
        "\n",
        "\n",
        "])"
      ],
      "metadata": {
        "id": "PGA_KuIG9Dzj"
      },
      "execution_count": null,
      "outputs": []
    },
    {
      "cell_type": "code",
      "source": [
        "\"\"\"\n",
        "input_shape=(None, 193) is a parameter used in defining the shape of the input data for a machine learning model.\n",
        "\n",
        "In this case, None indicates that the input can have a variable number of rows (the first dimension), and 193 indicates that the input data has 193 columns (the second dimension).\n",
        "The first dimension is often left as None to allow for variable batch sizes during training or inference.\n",
        "\n",
        "For example, if we have a dataset of audio recordings, the first dimension of the input might correspond to the number of time steps in the recording,\n",
        "while the second dimension might correspond to the number of frequency bins in a spectrogram representation of the audio signal.\n",
        "In this case, input_shape=(None, 193) would be appropriate, as the length of the audio recordings can vary, but the number of frequency bins is fixed at 193.\n",
        "If the input shape is (None, 193), applying the Reshape layer with Reshape((-1, 193, 1)) will transform the input into a new shape of (None,None, 193, 1).\n",
        "\n",
        "Here, -1 is a special value that indicates that the size of the first dimension of the input should be inferred from the remaining dimensions and the batch size.\n",
        "In other words, the number of samples in the batch can vary, but the size of the other dimensions remains constant.\n",
        "\n",
        "The resulting shape (None,None 193, 1) represents a 4D tensor, where the first dimension is the batch size, the second dimension is the number of time steps (rows), and the third dimension is freq bins and 4th dim is\n",
        " the number of channels\n",
        "(which is 1 in this case). This 4D tensor is commonly used as input for 2D convolutional neural networks (CNNs) that are designed to operate on sequences of data,\n",
        " such as time series or audio signals.\n",
        "\n",
        "\"\"\""
      ],
      "metadata": {
        "colab": {
          "base_uri": "https://localhost:8080/",
          "height": 123
        },
        "id": "nr3UcSgcTEGj",
        "outputId": "9b1ce785-043b-441e-f6d2-dcb6e6696698"
      },
      "execution_count": null,
      "outputs": [
        {
          "output_type": "execute_result",
          "data": {
            "text/plain": [
              "'\\ninput_shape=(None, 193) is a parameter used in defining the shape of the input data for a machine learning model.\\n\\nIn this case, None indicates that the input can have a variable number of rows (the first dimension), and 193 indicates that the input data has 193 columns (the second dimension). The first dimension is often left as None to allow for variable batch sizes during training or inference.\\n\\nFor example, if we have a dataset of audio recordings, the first dimension of the input might correspond to the number of time steps in the recording, while the second dimension might correspond to the number of frequency bins in a spectrogram representation of the audio signal. In this case, input_shape=(None, 193) would be appropriate, as the length of the audio recordings can vary, but the number of frequency bins is fixed at 193.\\nIf the input shape is (None, 193), applying the Reshape layer with Reshape((-1, 193, 1)) will transform the input into a new shape of (None, 193, 1).\\n\\nHere, -1 is a special value that indicates that the size of the first dimension of the input should be inferred from the remaining dimensions and the batch size. In other words, the number of samples in the batch can vary, but the size of the other dimensions remains constant.\\n\\nThe resulting shape (None, 193, 1) represents a 3D tensor, where the first dimension is the batch size, the second dimension is the number of time steps, and the third dimension is the number of channels (which is 1 in this case). This 3D tensor is commonly used as input for 1D convolutional neural networks (CNNs) that are designed to operate on sequences of data, such as time series or audio signals.\\n\\n'"
            ],
            "application/vnd.google.colaboratory.intrinsic+json": {
              "type": "string"
            }
          },
          "metadata": {},
          "execution_count": 140
        }
      ]
    },
    {
      "cell_type": "code",
      "source": [
        " #Convolution output:\n",
        "    #The number of filters (32) corresponds to the number of output channels.\n",
        "    #The kernel size of [11, 41] indicates that the convolution will be done over an 11x41 window.\n",
        "    #The stride of 2 indicates that the filter will move 2 pixels at a time.\n",
        "    #The padding of 'same' means that the input will be padded with zeros to ensure that the output has the same spatial dimensions as the input.\n",
        "    #With these parameters, the convolution operation will reduce the spatial dimensions of the input by a factor of 2 in both the vertical and horizontal directions\n",
        "    #(since the stride is 2), while increasing the number of channels to 32.\n",
        "    #output will be of shape (-1,-1,  columns/2 rounded to nearest whole,filters )"
      ],
      "metadata": {
        "id": "ayQ5Ali5OERR"
      },
      "execution_count": null,
      "outputs": []
    },
    {
      "cell_type": "markdown",
      "source": [],
      "metadata": {
        "id": "av0odU7bo-Gn"
      }
    },
    {
      "cell_type": "code",
      "source": [
        "\"\"\"\n",
        "explanation for first reshape\n",
        "The Reshape layer is used to reshape the input tensor into a new shape. In this case, the layer will reshape the input tensor to have the following dimensions:\n",
        "\n",
        "The first dimension will be set to -1, which means that it will be dynamically computed based on the size of the input tensor and the other dimensions specified in the reshape.\n",
        "The second dimension will be set to 1, indicating that each element in the input tensor will be reshaped into a 1-dimensional vector.\n",
        "The third dimension will be set to input_dim, which is the size of the input data dimension.\n",
        "The fourth dimension will be set to 1, indicating that each element in the reshaped tensor will have a single channel.\n",
        "Overall, this layer will transform the input tensor into a 4-dimensional tensor with a variable number of rows, a single column, input_dim channels, and a single batch dimension. This can be useful, for example, when preparing image data for input to a convolutional neural network.*/\n",
        "\"\"\"\n"
      ],
      "metadata": {
        "colab": {
          "base_uri": "https://localhost:8080/",
          "height": 123
        },
        "id": "f1eFrMmaofoz",
        "outputId": "6486cd98-75fa-4d76-8546-7c8e254e246c"
      },
      "execution_count": null,
      "outputs": [
        {
          "output_type": "execute_result",
          "data": {
            "text/plain": [
              "'\\nexplanation for reshape\\nThe Reshape layer is used to reshape the input tensor into a new shape. In this case, the layer will reshape the input tensor to have the following dimensions:\\n\\nThe first dimension will be set to -1, which means that it will be dynamically computed based on the size of the input tensor and the other dimensions specified in the reshape.\\nThe second dimension will be set to 1, indicating that each element in the input tensor will be reshaped into a 1-dimensional vector.\\nThe third dimension will be set to input_dim, which is the size of the input data dimension.\\nThe fourth dimension will be set to 1, indicating that each element in the reshaped tensor will have a single channel.\\nOverall, this layer will transform the input tensor into a 4-dimensional tensor with a variable number of rows, a single column, input_dim channels, and a single batch dimension. This can be useful, for example, when preparing image data for input to a convolutional neural network.*/\\n'"
            ],
            "application/vnd.google.colaboratory.intrinsic+json": {
              "type": "string"
            }
          },
          "metadata": {},
          "execution_count": 44
        }
      ]
    },
    {
      "cell_type": "code",
      "source": [
        "opt = tf.keras.optimizers.Adam(learning_rate = 1e-4)"
      ],
      "metadata": {
        "id": "fEmgaOy0oiIZ"
      },
      "execution_count": null,
      "outputs": []
    },
    {
      "cell_type": "code",
      "source": [
        "#Defining CTC Loss Function\n",
        "def CTCLoss(y_true, y_pred):\n",
        "  batch_length = tf.cast(tf.shape(y_true)[0], dtype= 'int64')\n",
        "  input_length = tf.cast(tf.shape(y_pred)[1], dtype= 'int64' )\n",
        "  input_length = input_length*tf.ones(shape = (batch_length,1),dtype= 'int64' )\n",
        "\n",
        "  label_length = tf.cast(tf.shape(y_true)[1], dtype= 'int64' )\n",
        "  label_length = label_length*tf.ones(shape = (batch_length,1),dtype= 'int64' )\n",
        "\n",
        "\n",
        "\n",
        "\n",
        "  loss = tf.keras.backend.ctc_batch_cost(y_true,y_pred, input_length, label_length)  #https://keras.io/ko/backend/  for ctc_batch_cost\n",
        "  return loss\n"
      ],
      "metadata": {
        "id": "OOt5npOIzRA-"
      },
      "execution_count": null,
      "outputs": []
    },
    {
      "cell_type": "code",
      "source": [
        "model.compile(optimizer = opt, loss = CTCLoss)"
      ],
      "metadata": {
        "id": "xCS1lyaay8cO"
      },
      "execution_count": null,
      "outputs": []
    },
    {
      "cell_type": "code",
      "source": [
        "model.summary()"
      ],
      "metadata": {
        "colab": {
          "base_uri": "https://localhost:8080/"
        },
        "id": "7k97vg3W6suS",
        "outputId": "614d40f4-ba9c-4c82-e1e1-b1b394d941e3"
      },
      "execution_count": null,
      "outputs": [
        {
          "output_type": "stream",
          "name": "stdout",
          "text": [
            "Model: \"sequential\"\n",
            "_________________________________________________________________\n",
            " Layer (type)                Output Shape              Param #   \n",
            "=================================================================\n",
            " expand_dim (Reshape)        (None, None, 193, 1)      0         \n",
            "                                                                 \n",
            " conv_1 (Conv2D)             (None, None, 97, 32)      14432     \n",
            "                                                                 \n",
            " conv_1_bn (BatchNormalizati  (None, None, 97, 32)     128       \n",
            " on)                                                             \n",
            "                                                                 \n",
            " conv_1_relu (ReLU)          (None, None, 97, 32)      0         \n",
            "                                                                 \n",
            " conv_2 (Conv2D)             (None, None, 49, 32)      461824    \n",
            "                                                                 \n",
            " conv_2_bn (BatchNormalizati  (None, None, 49, 32)     128       \n",
            " on)                                                             \n",
            "                                                                 \n",
            " conv_2_relu (ReLU)          (None, None, 49, 32)      0         \n",
            "                                                                 \n",
            " reshape (Reshape)           (None, None, 1568)        0         \n",
            "                                                                 \n",
            " bidir_1 (Bidirectional)     (None, None, 1024)        6395904   \n",
            "                                                                 \n",
            " drop_out_1 (Dropout)        (None, None, 1024)        0         \n",
            "                                                                 \n",
            " bidir_2 (Bidirectional)     (None, None, 1024)        4724736   \n",
            "                                                                 \n",
            " drop_out_2 (Dropout)        (None, None, 1024)        0         \n",
            "                                                                 \n",
            " bidir_3 (Bidirectional)     (None, None, 1024)        4724736   \n",
            "                                                                 \n",
            " drop_out_3 (Dropout)        (None, None, 1024)        0         \n",
            "                                                                 \n",
            " bidir_4 (Bidirectional)     (None, None, 1024)        4724736   \n",
            "                                                                 \n",
            " drop_out_4 (Dropout)        (None, None, 1024)        0         \n",
            "                                                                 \n",
            " bidir_5 (Bidirectional)     (None, None, 1024)        4724736   \n",
            "                                                                 \n",
            " dense1 (Dense)              (None, None, 1024)        1049600   \n",
            "                                                                 \n",
            " Dense_1_relu (ReLU)         (None, None, 1024)        0         \n",
            "                                                                 \n",
            " drop_out_5 (Dropout)        (None, None, 1024)        0         \n",
            "                                                                 \n",
            " dense (Dense)               (None, None, 32)          32800     \n",
            "                                                                 \n",
            "=================================================================\n",
            "Total params: 26,853,760\n",
            "Trainable params: 26,853,632\n",
            "Non-trainable params: 128\n",
            "_________________________________________________________________\n"
          ]
        }
      ]
    },
    {
      "cell_type": "code",
      "source": [
        "hitory = model.fit(train_dataset, validation_data = val_dataset ,epochs = 10)"
      ],
      "metadata": {
        "colab": {
          "base_uri": "https://localhost:8080/"
        },
        "id": "Nif_8qmC7gVO",
        "outputId": "55520814-e86d-4221-efee-ac9562077b6e"
      },
      "execution_count": null,
      "outputs": [
        {
          "output_type": "stream",
          "name": "stdout",
          "text": [
            "Epoch 1/10\n",
            "368/368 [==============================] - 2909s 8s/step - loss: inf - val_loss: 420.1360\n",
            "Epoch 2/10\n",
            "368/368 [==============================] - 1086s 3s/step - loss: inf - val_loss: 308.1458\n",
            "Epoch 3/10\n",
            "368/368 [==============================] - 1092s 3s/step - loss: inf - val_loss: 310.2918\n",
            "Epoch 4/10\n",
            "368/368 [==============================] - 1083s 3s/step - loss: inf - val_loss: 288.8520\n",
            "Epoch 5/10\n",
            "368/368 [==============================] - 1140s 3s/step - loss: inf - val_loss: 340.5425\n",
            "Epoch 6/10\n",
            "368/368 [==============================] - 1092s 3s/step - loss: inf - val_loss: 304.8803\n",
            "Epoch 7/10\n",
            "368/368 [==============================] - 1097s 3s/step - loss: inf - val_loss: 277.8847\n",
            "Epoch 8/10\n",
            "368/368 [==============================] - 1086s 3s/step - loss: inf - val_loss: 212.0180\n",
            "Epoch 9/10\n",
            "368/368 [==============================] - 1076s 3s/step - loss: inf - val_loss: 162.4342\n",
            "Epoch 10/10\n",
            "368/368 [==============================] - 1085s 3s/step - loss: inf - val_loss: 185.2296\n"
          ]
        }
      ]
    },
    {
      "cell_type": "code",
      "source": [
        "#Defining Prediction decoding function\n",
        "\n",
        "def decode_batch_prediction(pred):\n",
        "  input_length = np.ones(pred.shape[0])*pred.shape[1]\n",
        "  results = tf.keras.backend.ctc_decode(pred, input_length = input_length, greedy = True)[0][0]                     # https://keras.io/ko/backend/ (for CTC_decode)\n",
        "  output_text = []\n",
        "  for result in results:\n",
        "    result = tf.strings.reduce_join(num_to_char(result)).numpy().decode(\"utf-8\")\n",
        "    output_text.append(result)\n",
        "  return output_text\n",
        "\n"
      ],
      "metadata": {
        "id": "uDns8IDxOqtz"
      },
      "execution_count": null,
      "outputs": []
    },
    {
      "cell_type": "code",
      "source": [
        "for batch in val_dataset:\n",
        "  x,y = batch\n",
        "  break"
      ],
      "metadata": {
        "id": "8Zyr22v0SebB"
      },
      "execution_count": null,
      "outputs": []
    },
    {
      "cell_type": "code",
      "source": [
        "print(x.shape, y.shape)"
      ],
      "metadata": {
        "colab": {
          "base_uri": "https://localhost:8080/"
        },
        "id": "VxAIZ_rWSqt6",
        "outputId": "8e68fb45-804e-412c-9224-12e9eada9e99"
      },
      "execution_count": null,
      "outputs": [
        {
          "output_type": "stream",
          "name": "stdout",
          "text": [
            "(32, 1326, 193) (32, 145)\n"
          ]
        }
      ]
    },
    {
      "cell_type": "code",
      "source": [
        "prediction  = model.predict(x)"
      ],
      "metadata": {
        "colab": {
          "base_uri": "https://localhost:8080/"
        },
        "id": "oSKkHnXBSy-B",
        "outputId": "4c04b0a0-5a3f-4c5a-85a1-608f1400022c"
      },
      "execution_count": null,
      "outputs": [
        {
          "output_type": "stream",
          "name": "stdout",
          "text": [
            "1/1 [==============================] - 1s 634ms/step\n"
          ]
        }
      ]
    },
    {
      "cell_type": "code",
      "source": [
        "prediction[0]"
      ],
      "metadata": {
        "colab": {
          "base_uri": "https://localhost:8080/"
        },
        "id": "nIJB7yOLTFNf",
        "outputId": "c319e195-4d48-4451-d77d-61c5c6e115e5"
      },
      "execution_count": null,
      "outputs": [
        {
          "output_type": "execute_result",
          "data": {
            "text/plain": [
              "array([[1.6975449e-05, 2.6481348e-07, 7.5614088e-07, ..., 3.2929581e-09,\n",
              "        2.9511993e-06, 6.6945344e-05],\n",
              "       [1.3540813e-04, 1.2793596e-04, 1.1477180e-05, ..., 1.3332541e-07,\n",
              "        3.0134765e-05, 1.5672807e-02],\n",
              "       [1.5698040e-05, 1.3331220e-05, 1.7497338e-07, ..., 2.2195399e-08,\n",
              "        7.2499772e-04, 2.0404821e-02],\n",
              "       ...,\n",
              "       [5.5278075e-01, 6.1588999e-08, 4.3685451e-09, ..., 5.6651611e-08,\n",
              "        3.9144695e-08, 4.4721004e-01],\n",
              "       [1.7801176e-01, 1.2674900e-07, 1.2083365e-08, ..., 1.1423799e-07,\n",
              "        1.0476531e-07, 8.2197189e-01],\n",
              "       [9.7543937e-01, 4.6022160e-07, 4.8716359e-08, ..., 2.7148698e-07,\n",
              "        6.5562908e-08, 2.4529876e-02]], dtype=float32)"
            ]
          },
          "metadata": {},
          "execution_count": 80
        }
      ]
    },
    {
      "cell_type": "code",
      "source": [
        "prediction.shape[0], prediction.shape[1]"
      ],
      "metadata": {
        "colab": {
          "base_uri": "https://localhost:8080/"
        },
        "id": "7irB5EJQTleH",
        "outputId": "258a7dc4-bef5-436b-bddd-f0c8cf69bec1"
      },
      "execution_count": null,
      "outputs": [
        {
          "output_type": "execute_result",
          "data": {
            "text/plain": [
              "(32, 332)"
            ]
          },
          "metadata": {},
          "execution_count": 82
        }
      ]
    },
    {
      "cell_type": "code",
      "source": [
        "prediction_decoded = decode_batch_prediction(prediction)"
      ],
      "metadata": {
        "id": "j4_JQ3y6UK48"
      },
      "execution_count": null,
      "outputs": []
    },
    {
      "cell_type": "code",
      "source": [
        "prediction_decoded [0], prediction_decoded[1] , prediction_decoded[2]"
      ],
      "metadata": {
        "colab": {
          "base_uri": "https://localhost:8080/"
        },
        "id": "CcyYOobQUXRD",
        "outputId": "f810cae1-53c4-4b86-8cf9-3fc76ffe8334"
      },
      "execution_count": null,
      "outputs": [
        {
          "output_type": "execute_result",
          "data": {
            "text/plain": [
              "('to ivie the feld ofice if the sutic displae sie f in cree ne as s s ',\n",
              " 'mrs pane ponted out that most of the oswaldsin r r ',\n",
              " 'but mstrpeares son haridly considered the converisfi')"
            ]
          },
          "metadata": {},
          "execution_count": 86
        }
      ]
    },
    {
      "cell_type": "code",
      "source": [
        "y[0], y[1], y[2]"
      ],
      "metadata": {
        "colab": {
          "base_uri": "https://localhost:8080/"
        },
        "id": "Rhbps82pUmWD",
        "outputId": "ad0bdb6c-92ec-4b3e-dcbd-2d0d33cd6ad0"
      },
      "execution_count": null,
      "outputs": [
        {
          "output_type": "execute_result",
          "data": {
            "text/plain": [
              "(<tf.Tensor: shape=(145,), dtype=int64, numpy=\n",
              " array([20, 15, 30,  1,  4, 22,  9, 19,  5, 30, 20,  8,  5, 30,  6,  9,  5,\n",
              "        12,  4, 30, 15,  6,  6,  9,  3,  5, 30,  9,  6, 30, 20,  8,  5, 30,\n",
              "        19, 21,  2, 10,  5,  3, 20, 30,  4,  9, 19, 16, 12,  1, 25, 19, 30,\n",
              "        19,  9,  7, 14, 19, 30, 15,  6, 30,  9, 14,  3, 18,  5,  1, 19,  5,\n",
              "         4, 30,  4,  1, 14,  7,  5, 18, 30, 15, 18, 30, 16, 12,  1, 14, 19,\n",
              "        30, 20, 15, 30, 12,  5,  1, 22,  5, 30,  8,  9, 19, 30,  8, 15, 13,\n",
              "         5, 30,  1, 18,  5,  1,  0,  0,  0,  0,  0,  0,  0,  0,  0,  0,  0,\n",
              "         0,  0,  0,  0,  0,  0,  0,  0,  0,  0,  0,  0,  0,  0,  0,  0,  0,\n",
              "         0,  0,  0,  0,  0,  0,  0,  0,  0])>,\n",
              " <tf.Tensor: shape=(145,), dtype=int64, numpy=\n",
              " array([13, 18, 19,  0, 30, 16,  1,  9, 14,  5, 30, 16, 15,  9, 14, 20,  5,\n",
              "         4, 30, 15, 21, 20, 30, 20,  8,  1, 20, 30, 13, 15, 19, 20, 30, 15,\n",
              "         6, 30, 20,  8,  5, 30, 15, 19, 23,  1, 12,  4, 19, 27, 30, 16, 15,\n",
              "        19, 19,  5, 19, 19,  9, 15, 14, 19, 30, 23,  5, 18,  5, 30,  9, 14,\n",
              "        30, 20,  8,  5, 30,  7,  1, 18,  1,  7,  5,  0,  0,  0,  0,  0,  0,\n",
              "         0,  0,  0,  0,  0,  0,  0,  0,  0,  0,  0,  0,  0,  0,  0,  0,  0,\n",
              "         0,  0,  0,  0,  0,  0,  0,  0,  0,  0,  0,  0,  0,  0,  0,  0,  0,\n",
              "         0,  0,  0,  0,  0,  0,  0,  0,  0,  0,  0,  0,  0,  0,  0,  0,  0,\n",
              "         0,  0,  0,  0,  0,  0,  0,  0,  0])>,\n",
              " <tf.Tensor: shape=(145,), dtype=int64, numpy=\n",
              " array([ 2, 21, 20, 30, 13, 18,  0, 30, 16,  5,  1, 18, 19, 15, 14, 30,  8,\n",
              "         1, 18,  4, 12, 25, 30,  3, 15, 14, 19,  9,  4,  5, 18,  5,  4, 30,\n",
              "        20,  8,  5, 30,  3, 15, 14, 22,  5, 18, 19,  5, 30, 19, 21,  6,  6,\n",
              "         9,  3,  9,  5, 14, 20, 12, 25,  0, 30,  1, 14,  4,  0,  0,  0,  0,\n",
              "         0,  0,  0,  0,  0,  0,  0,  0,  0,  0,  0,  0,  0,  0,  0,  0,  0,\n",
              "         0,  0,  0,  0,  0,  0,  0,  0,  0,  0,  0,  0,  0,  0,  0,  0,  0,\n",
              "         0,  0,  0,  0,  0,  0,  0,  0,  0,  0,  0,  0,  0,  0,  0,  0,  0,\n",
              "         0,  0,  0,  0,  0,  0,  0,  0,  0,  0,  0,  0,  0,  0,  0,  0,  0,\n",
              "         0,  0,  0,  0,  0,  0,  0,  0,  0])>)"
            ]
          },
          "metadata": {},
          "execution_count": 89
        }
      ]
    },
    {
      "cell_type": "code",
      "source": [
        "target = []"
      ],
      "metadata": {
        "id": "Jjzr-R4zU7sT"
      },
      "execution_count": null,
      "outputs": []
    },
    {
      "cell_type": "code",
      "source": [
        "target[0], target[1], target[2]"
      ],
      "metadata": {
        "colab": {
          "base_uri": "https://localhost:8080/"
        },
        "id": "m33TDATcVGt6",
        "outputId": "36af0b91-736d-474a-d6f3-48c274667491"
      },
      "execution_count": null,
      "outputs": [
        {
          "output_type": "execute_result",
          "data": {
            "text/plain": [
              "('to advise the field office if the subject displays signs of increased danger or plans to leave his home area',\n",
              " \"mrs paine pointed out that most of the oswalds' possessions were in the garage\",\n",
              " 'but mr pearson hardly considered the converse sufficiently and')"
            ]
          },
          "metadata": {},
          "execution_count": 93
        }
      ]
    },
    {
      "cell_type": "code",
      "source": [
        "for label in y:\n",
        "  label = tf.strings.reduce_join(num_to_char(label)).numpy().decode(\"utf-8\")\n",
        "  target.append(label)"
      ],
      "metadata": {
        "id": "jlQAl3LtU_H-"
      },
      "execution_count": null,
      "outputs": []
    },
    {
      "cell_type": "code",
      "source": [
        "#Inferencing\n",
        "\n",
        "predictions = []\n",
        "targets = []\n",
        "\n",
        "for batch in val_dataset:\n",
        "  x,y = batch\n",
        "  batch_predictions = model.predict(x)\n",
        "  batch_predictions = decode_batch_prediction(batch_predictions)\n",
        "  predictions.extend(batch_predictions)\n",
        "\n",
        "  for label in y:\n",
        "    label = tf.strings.reduce_join(num_to_char(label)).numpy().decode(\"utf-8\")\n",
        "    targets.append(label)\n",
        "\n",
        "wer_score = wer(targets, predictions)\n",
        "print(f\"WER: {wer_score:.4f}\")\n",
        "\n",
        "for i in np.random.randint(0,len(predictions),5):\n",
        "  print(f\"Target :{targets[i]}\")\n",
        "  print(f\"Predictions :{predictions[i]}\")\n",
        "\n",
        "\n",
        "\n",
        "\n"
      ],
      "metadata": {
        "id": "AbwTcpvMR_Zf",
        "colab": {
          "base_uri": "https://localhost:8080/"
        },
        "outputId": "a8833c16-dfc9-482d-f5cd-cb5324e95563"
      },
      "execution_count": null,
      "outputs": [
        {
          "output_type": "stream",
          "name": "stdout",
          "text": [
            "1/1 [==============================] - 6s 6s/step\n",
            "1/1 [==============================] - 4s 4s/step\n",
            "1/1 [==============================] - 1s 593ms/step\n",
            "1/1 [==============================] - 1s 685ms/step\n",
            "1/1 [==============================] - 1s 757ms/step\n",
            "1/1 [==============================] - 1s 760ms/step\n",
            "1/1 [==============================] - 1s 663ms/step\n",
            "1/1 [==============================] - 1s 652ms/step\n",
            "1/1 [==============================] - 1s 636ms/step\n",
            "1/1 [==============================] - 1s 565ms/step\n",
            "1/1 [==============================] - 1s 696ms/step\n",
            "1/1 [==============================] - 1s 778ms/step\n",
            "1/1 [==============================] - 1s 596ms/step\n",
            "1/1 [==============================] - 1s 713ms/step\n",
            "1/1 [==============================] - 1s 667ms/step\n",
            "1/1 [==============================] - 1s 604ms/step\n",
            "1/1 [==============================] - 1s 775ms/step\n",
            "1/1 [==============================] - 1s 710ms/step\n",
            "1/1 [==============================] - 1s 585ms/step\n",
            "1/1 [==============================] - 1s 665ms/step\n",
            "1/1 [==============================] - 1s 593ms/step\n",
            "1/1 [==============================] - 1s 660ms/step\n",
            "1/1 [==============================] - 1s 611ms/step\n",
            "1/1 [==============================] - 1s 834ms/step\n",
            "1/1 [==============================] - 1s 709ms/step\n",
            "1/1 [==============================] - 1s 522ms/step\n",
            "1/1 [==============================] - 1s 617ms/step\n",
            "1/1 [==============================] - 1s 600ms/step\n",
            "1/1 [==============================] - 1s 601ms/step\n",
            "1/1 [==============================] - 1s 767ms/step\n",
            "1/1 [==============================] - 1s 698ms/step\n",
            "1/1 [==============================] - 1s 619ms/step\n",
            "1/1 [==============================] - 1s 584ms/step\n",
            "1/1 [==============================] - 1s 639ms/step\n",
            "1/1 [==============================] - 1s 599ms/step\n",
            "1/1 [==============================] - 1s 718ms/step\n",
            "1/1 [==============================] - 1s 717ms/step\n",
            "1/1 [==============================] - 1s 640ms/step\n",
            "1/1 [==============================] - 1s 596ms/step\n",
            "1/1 [==============================] - 1s 637ms/step\n",
            "1/1 [==============================] - 3s 3s/step\n",
            "WER: 0.7651\n",
            "Target :and any other series of organs of vertebrates would give the same evidence of fundamental resemblances homologies\n",
            "Predictions :n ay other sceares of orgins of firtaberits woun give the same evides o l ls s\n",
            "Target :the city justices had not fulfilled this obligation\n",
            "Predictions :the sity justics and no fof i i\n",
            "Target :and this particular official took excellent care to select as residents for his own ward those most suitable from his own point of view\n",
            "Predictions :and this prticila ficial tok exullit car to sullect has reidentc for his on word tos os i \n",
            "Target :serving only coffee fruit juices and no hard liquors or beer end quote\n",
            "Predictions :serving only cof fro jose nd r r r o \n",
            "Target :further sums were to have been paid after the escape\n",
            "Predictions :for ther sume oe e a \n"
          ]
        }
      ]
    },
    {
      "cell_type": "code",
      "source": [
        "predictions"
      ],
      "metadata": {
        "colab": {
          "base_uri": "https://localhost:8080/"
        },
        "id": "xJVwns7OIWbD",
        "outputId": "3313d52d-ef52-425c-deae-ace9568ae961"
      },
      "execution_count": null,
      "outputs": [
        {
          "output_type": "execute_result",
          "data": {
            "text/plain": [
              "['to ivie the feld ofice if the sutic displae sie f in cree ne as s s ',\n",
              " 'mrs pane ponted out that most of the oswaldsin r r ',\n",
              " 'but mstrpeares son haridly considered the converisfi',\n",
              " 'tat he goudichanse of acompliong r',\n",
              " 'the files ar mandaly maintaned with houd ous a o i i i ici',\n",
              " 'owiththa calfication to be considerd presiply the n serc to this custon asd odti ivif',\n",
              " 'vobal sid that oswald quot wotin star any fie b iffu otd docoe won w wi ws t t e e e',\n",
              " 'owers sequot nowhe was oswald mad oa o oe ',\n",
              " 'he was found guilty of an asaled withintent and sentence to trant frctinfofe',\n",
              " 'arbeerd than eare personl strangke in the acomplichement of such tas a a o o oro',\n",
              " 'thews asogot suplie a r',\n",
              " 'in deciding whether oswald cared the assassination wepen in the ba which fraur and mrse rad l',\n",
              " 'he was waring an sicred jacket which h had noted win in oe f fr ',\n",
              " 'the cort of the marial s was instituted bi os e i i ri',\n",
              " 'id wove wa cald from the discuion in cape fre',\n",
              " 'whene le became a disiplinary proble opon his wereturmnges ol f ie ei',\n",
              " 'he sid that he ad simply onted to discuse the question  the scargent and the dringk had binsolie a anl',\n",
              " 'and he had bron har a slonder face and nack wit li pot o o r  ',\n",
              " 'jhust priered to the suting ms halan markm  in on o o a a a  ',\n",
              " 'he also recommended that miis oswald s quote sice thircite in o t  n',\n",
              " 'overfering with urie or reason to the constitution as ameans of proventing it ocopie r r o on',\n",
              " 'the commission reveved the transcrect of the fon cobercsation in which ms markommis alede o o or r i in in',\n",
              " 'oswald was nexe l',\n",
              " 'aoever several decaes ogo d ae e ere r i i',\n",
              " 'loe nidy two kidal one of that act ofther is ee rn n s',\n",
              " 'he went thare if ha poy of oficers and fos as s s f fr fr',\n",
              " 'the comissionbulive that o the fb and the secret sericed hav o or r e i ii',\n",
              " 'acordingly mi pinincimply was that the laken prince wit r r o ',\n",
              " 'and the disie fe e r',\n",
              " 'for president cenidy statng tat in many respe dalas coty has iliteded su om the manes sfrime f oi o in  ',\n",
              " 'in his testimony be or oi coio',\n",
              " 'wthis was the first annunceation of the sistime f scin ne',\n",
              " 'osty decided that the le harv oswald cased sho be reopend becuse of the alice on in o ',\n",
              " 'two sen the information as wo at a oe e',\n",
              " 'as the case mu stil be wel rememberd by the presongeration it ol inesiei r r r i',\n",
              " 'bertikully those arisin from or inie cut wh i i is iininin',\n",
              " 'troho bot the onmal and vitible caindos ware and ser ie i i i i i i ',\n",
              " 'no fixt reate wore rols governd haring oudo roms rppr om o o os os s s s i',\n",
              " 'that this resilution was an consequentes of bar the aldermens disapproving of the las decscre e ie',\n",
              " 'that ny retrace my stes and pe more indetal of the treent of the condemed inmhos lot the trs r e e iei',\n",
              " 'he ad heare to this almost to the varylase his cased had ben worly aspus e e ie fe or r n n ',\n",
              " 'at sommover pas a r sr od',\n",
              " 'intwu aolo leca rater ind the mile of the flor ad ae r r r o o o o o o o',\n",
              " 'he und with tharity given to prisoners the leving or n rn r e',\n",
              " 'a satord bruded over his ros his rage out the ouperhad d e r oe oe ',\n",
              " 'mother plates for ingraving the by of the nots lay about and o r r rs rs',\n",
              " 'it is cotiono that momencsan support of farplay for cuba has divelopd in neworlens w len on tis',\n",
              " 'and y fel thatleving watingten fo the presindent of the united states was a most neicary not alndy for tepepof of r resii f',\n",
              " 'inspit of the fact that oswald adbin surpried and was ontiedefencive to routd ded dae o on ',\n",
              " 'celerming gratis mik rfomne ad ae e e e  ',\n",
              " 'the housmad somon the cqok and bofin o o f ',\n",
              " 'et their role of protecting the president so o o o oe te',\n",
              " 'roh han mihle pane bofh nose the rold up blangket in the groduring the time t r on o n n m',\n",
              " 'ther rs scarcly one of at fosnds of worin mos n bablon sis i i i',\n",
              " 'undr the ible and ander det e o o o o',\n",
              " 'the noe was one of his hama str whe e o e',\n",
              " 'anest mpare to the averg male of his aghe thop the sivilan to otunie tate h s s n n ',\n",
              " 'marina oswald stated that whenh he astd fr hud i to i i l',\n",
              " 'the tremmendis oer aoor agiisation as comvind grat igrigations of capitlan n s s s ss',\n",
              " 'capt in frits of the homsid an robery buro ded most of the questioning b co on on o n   ',\n",
              " \"bos wil oswald's reilintentions o suing tat they wrenon to hinslf a ar\",\n",
              " 'in diecated that the no was ritom when the wreliving in arented aparment therfor e culd nofeved o oas a   ',\n",
              " 'theokadneser caing of bablon e e e e e f  ',\n",
              " 'ma sho to be moficion on on e',\n",
              " 'previus to the excecution of hand ry foteroe r r fe',\n",
              " 'the soffer was stold a tit it a',\n",
              " 'in the teritory of the secret service reaginal ofis wis o r',\n",
              " 'pu amitbecald a chaied e bablon for it is olstid coio os n o i srs',\n",
              " 'he was stroc with the perince of the corts which was not amate t a ed nd',\n",
              " 'to the time of the assasition',\n",
              " 'he had not found an other jo his wie was expecting thir secon ciled in o tovber ad theire was consre o o o o  ',\n",
              " ' had istablised cero a rigila rev of the steticse ofor ridil',\n",
              " 'these poers were not varibly pout in fors and the were iconsequens many an had i guinti in an a a',\n",
              " 'the earing officer gred with te latter clam  found oswald guilty of ronfliuse in provoking ransd nd ',\n",
              " 'sn after on o o inte te',\n",
              " 'marina oswald hastated at the rifle was omong these deseion of o e e e e e i ',\n",
              " 'wrehe dies he wonted and diint eftilive by any rol rocon it to e ',\n",
              " 'turnfes ecasional i visted the prestard but itsociponcs rondrlo on o ol',\n",
              " 'fore and l l ',\n",
              " 'thews unrstrandosocation of untrid and convicted jov ino withad dlt rs r r e s s s ',\n",
              " 'being in experience thay dicied to cal in the services of cople f frcil pr',\n",
              " 'prire to november twenty two inteen sixtyfhr r ',\n",
              " 'so virs altries rss ssis  is i      ',\n",
              " 'this gragualy was forst opon the concunes of the coprion',\n",
              " 'the print theire for cudive e placed on the cartin ai i i i ie ie',\n",
              " 'have mated dificaled for the traury to maintaing cos ncin i',\n",
              " 'wo frend to bitraed the theft but brord r r r n',\n",
              " 'oswald pantly concluded that his far play for tfubo commity etie or e ',\n",
              " 'from the erport the presidentcs partiy wl proceed to mocking berd lane o n n n en r e r r    ',\n",
              " 'v oy lun the eta or r r a a a a a',\n",
              " 'they wesuplied with fod bykepers and gave tecaimg be oprtuedt in in ir re i inin',\n",
              " 'smethers was there forgiven of fre porde f e r re',\n",
              " 'idels name on the post offis bosaplication was part of os d o in n ',\n",
              " 'event thremned to tear of his wifes dreses and brakal ha bage in o on n ',\n",
              " 'olyn noanaly so hoever in mancases oncs wen es a ad d ',\n",
              " 'sof that it mit be com the excluce of proprty of rsas ae re ',\n",
              " 'laked as sevend box arecly to mrfand od d e ',\n",
              " 'after the devition of aplications and infermation has sid or rs s',\n",
              " 'ispetily and at ms fear extrem opition to pesident kenedy that as presindtens ome s oe ini',\n",
              " 'underforty shile r i',\n",
              " 'he toked fom grated that the sutificets representing these bogse shars and which practicld die e e ',\n",
              " 'cept open host sotrs tee and entertaned daly with malal s n',\n",
              " 'and abot igheen twel apication was mae to pomeo o o o ens',\n",
              " 'to safe gar difie and in fo fli a n n i',\n",
              " 'if thy hapenged to bein fons o o s e   ',\n",
              " 'cos wore the galence of sace o to bhe pene of e ed',\n",
              " 'owas cridisor was the same mani sa in the madim torn si ais wos s i n n n',\n",
              " 'when he was sitin oorlens tovis bhe faly of his mother sisr sis e e r r',\n",
              " 'b mostmed ot concern is incariin alt the perpose of the great wor or n n o',\n",
              " 'plose the do overit tustor hands and meding bord with flor d o o i in i a a s s  ',\n",
              " 'whe dnori west the takedepartmen to incled oswald on te list wich wold a reselted in adviing usabany aplcionof pr',\n",
              " 'on the mording of november twentyto president kenedy atended abrifiset at the ota and a r r  ',\n",
              " 'the first lase hos or women which prisoners gutak inpribed with their aturnies bit at bece bv or od o n en  ',\n",
              " 'there mainfuction was tispo troble in avance an to drect ani nesiese st e',\n",
              " 'the paprsils of found wor simblar and fiber composition their for i iditon to vhila cri',\n",
              " 'thse nifigents of givence oseration tha ws s e oe',\n",
              " 'werefictichius docums  r i i i  ',\n",
              " 'those avence no dot had their fs al',\n",
              " 'le on wish to mak every one onbord share and sharalic s i i i i i i i',\n",
              " 'ings was especialy defie s t e e e ',\n",
              " 'after fomilerisation with live ainition in the twenty two rifl in the tntey toi sl',\n",
              " 'n some',\n",
              " 'th comision had ication to be come in formed to aliminted extent about the date prosssing ticnex of other feeral iglin ofo eieie',\n",
              " 'some of his aquintences feling that oswald trid to impres peple with the faf that he hedlin on or o o l le ',\n",
              " 'nitrgen is obtained from simple sals and the nutrtive proices eseid i',\n",
              " 'and a long sill f f ',\n",
              " 'shod the nomerls twilve thirty as the vice presidential omo be o proceded nor on shistonstret f ',\n",
              " 'and the thougt amedilly crostd his id as s intitn',\n",
              " 'mhsturner susqentlyng mard mitr lad l la',\n",
              " 'an atoldt im thathe sho dide a he e e ',\n",
              " 'and under the scanty covering of cuple rtes e oe s',\n",
              " 'which from their simalarity to anmals of simple or iin on o os s s',\n",
              " 'was discarded along with the others as wos e e',\n",
              " 'ad bo p pa',\n",
              " 'in non grein plance lih be gindien py and muh ros the breing oaoxgon and the excration of carveido a',\n",
              " 'the felings of postility and egresion which ceme to have plade sot o poron as l l',\n",
              " 'in acreviced betwing the but plae of the rifld on o os a',\n",
              " 'hy had lil oprtudet to et uring the dae o o al l',\n",
              " 'their was this much onst for barins n ied e e s',\n",
              " 'of the meta worfices of wor local udits trmd sels in a worgen alsent b is s s s  ',\n",
              " 'lharnd of his furpice and wen thing reconsolted ast the most fa o o o o o ie',\n",
              " 'unt intried to fly the contry on the stection of the frd but was arested at plemet justih was on the pointof ling in in  a a',\n",
              " 'fodograf the rifl used in the essasination at tempting to doplicape  pisitio of the rifle and he ligein i  r e e ',\n",
              " 'the resencs for this changere fuly se fort n pre i at',\n",
              " 'to scervicelyis on oficers with lane forcment and intlgencs agences o es s o e r re i  ',\n",
              " 'with ix quisiet tortur and withtha poise on that wol es s oet',\n",
              " 'he oner came with hipolice and was maraly comvined t ht was pr pre',\n",
              " 'olod ctlocely beine the presints ob',\n",
              " 'marina oswald gave vs er apinion that the malorde cu os as a and in',\n",
              " 'and wasscene to be bisily ingaded in watio o ',\n",
              " 'the commission considered whther osai i i l',\n",
              " 'to o comorial aver tisein fo toperfy frme indels where he was implod as atran ot o t te ie t',\n",
              " 'ald charghed with feleny wering havi i n',\n",
              " 'themited that they had madwa with many of the security nt e ',\n",
              " 'neto',\n",
              " ' provie o was also mad that the madistraes to continy to exucise foul contro i il',\n",
              " 'justifie the ariginal aligations it was imposible to d nie the indiscrmnd at as socation the gal i i  ',\n",
              " 'altho stom mo was an able to estimate the peried of time the fivbers were o the rifl he e e e e ',\n",
              " 'a stay of the bosro t',\n",
              " 'ovie an misr dbaing al or confid ithin ther wal ad dn ie ie i i i ii',\n",
              " 'this plan was on the principle of seluler seperation as sistm acoring to loredo rs r ls',\n",
              " 'a ron apon the bancommeatly folod which was only met y stion on in n n o s',\n",
              " 'n ay other sceares of orgins of firtaberits woun give the same evides o l ls s',\n",
              " 'ad in the intervile vary compry handsivand i inged musbemied salutery changes were sucessiply interduse n o to n on or s',\n",
              " 'al b who had bolted was percued and drested i i i i i i i i i i i i i i  ',\n",
              " 'th two brothers sterid et once for liver poled wis o o l  ',\n",
              " 'which he expresst in stricking and soneti b o o o i i',\n",
              " 'mir samial hore as i i i i',\n",
              " 'president and mrs ckenedy wake long ac chaineling fence at the rescection ara greaing allared ca catae ae e edd',\n",
              " 'aleter which af forded an aditinal clo was asof fond in the poed of the dce s  a a   ',\n",
              " 'he was and ponist secapt in he si trading from liverpfo where once he had the msfot on veve r to o ',\n",
              " 'and that many ixivt actions comparible to those which a brot abot e e e e i i',\n",
              " 'other marins also testified that oswald had fe frends and cep ver o t os',\n",
              " 'the rasions of fod were notorisly in aniquit and so carls i t t e n e e f f',\n",
              " 'the examdnation of the stimic btrad the presons of and to mony in lare co it o o o ',\n",
              " 'the pesidertbre maind on his bac tho hout is macltre ment apon',\n",
              " 'on the monroe silen readgingtes e s r n n an n n in n',\n",
              " 'ac nomic political r it ris is n r',\n",
              " 'ontil mi fors torm brily very presidend of the uinitded tsas s e e o r r r ',\n",
              " 'hefore the assassination of presient cind',\n",
              " 'the secret service has anvied decommision that no onuual procotions were takeng fo the das d ',\n",
              " 'the foo bablon with its lofty wals was ammostin portend event in the histrve e in r',\n",
              " 'do al this a bed ti berlya morning ton o o o or r r r i i ',\n",
              " 'the whol harted suport of fece lockal othortes was indispensible to the servics an in g g e',\n",
              " 'on the vern morde on whiche was to sufer he lidis f',\n",
              " 'at he never paded more than affixt pried for al articales of the same cae fr r r i in ll',\n",
              " 'burges frogelitly transe pereconsols to the abo amound standing in tha name o rst o o o ',\n",
              " 'pasd under the morderrect controle of the st',\n",
              " 'it must ive in an imposing sie to onestand no ot o o a r',\n",
              " 'pr this thae caplend was of fudis leir o o  ',\n",
              " 'thecreation o n expencsive stfrin',\n",
              " 'undr these critar were ther te case todbe refird to the secret service depens on the existencs of rie s r i illl',\n",
              " 'in aditionto the preventive  maurs alredymentiond thay provided for contraling axs to th biling o o o a a a a ',\n",
              " 'he hese elevater was of the fifflor wend they ari ae ae ae ',\n",
              " 'more over the parklen doters to nofor thr action after the president had expire be cause the concld that it was be o o po oe e ee',\n",
              " 'ashe became wors ond wors se e in n',\n",
              " 'a olig thousmns edentity of structur si e i i i i  ',\n",
              " 'under suparior orders al dors and gate of this bloer left o in at n o l o a    ',\n",
              " 'anothe maonws hired himself acomnvit ws fe f ',\n",
              " 'the departent hopes to desine a pactical sistm whichal fouly meed denedes of the protectiv recre sco o f fei',\n",
              " 'in oues oe',\n",
              " 'an ammendent e e e ois tonon',\n",
              " 'were deplod in and ront te tar a',\n",
              " 'many times oswald has recale bhis matr to m and id that imds win fr t t ',\n",
              " 'this acurd in novimber ighteen thirtyfor the coustim hos fin an it iciinin',\n",
              " 'he aritectuala recrds of the prison end nofting much was don at newgate in the wa oaf biling ar e e n  ',\n",
              " 'por it is oly be grein parts of the plit whiche under the inflence of sulige a ama s p po o  ',\n",
              " 'acording clmed s id d o',\n",
              " 'a b ercase as pentaken in to consiration by beking incounsel and his ma es es es es ',\n",
              " 'al prisoners pase i timon asolued i s o oi in in in in iono',\n",
              " 'one eventipe o fof tr',\n",
              " 'we also eston the wisdom of ixstend in cqod rarn t oi r ars a a a r r',\n",
              " 'ocupide the rih hand sid af front cet and hurctial jaks of the texs tata a a r ',\n",
              " 'fomtwenty one by ighteen fet to fie u re ie d',\n",
              " 'fracting as executionr f r al',\n",
              " 'ing ighten fift acured the first of asearis of jik ect f',\n",
              " 'iin some of e duplicked anfiticious warncs were thel by frmch suspend pane in i i i in i i  ',\n",
              " 'whe avcee at mal prisoners bvisited theire fe mil relations and frens on the fhe ls i ',\n",
              " 'the sity justics and no fof i i',\n",
              " 'that the man wcilds dipet was waing l i ad ae',\n",
              " 'in the down town arom large grods of spectators gave the presidenten rem e sin',\n",
              " 'she sad quote no bi d n o on n ',\n",
              " 'to maked a pro n s s s i in ',\n",
              " 'tarlsd comis flihe oating execution for ars a e e r r re i i i e e e',\n",
              " 'it was asifoie l l',\n",
              " 'ad van prin',\n",
              " 'to a sismeturil an al ae or r',\n",
              " 'onprevioications the president had requested a thact to the extent posible hese flinking motercicals hac fos s ',\n",
              " 'but the gent o rofivle of the old fos an nd n o es',\n",
              " 'ith had ben perchuse and marche naten sixtythr and takentin worls wr a a a a a an e',\n",
              " 'west brop walke trogh the parking lot beine the servistation and found aligh cold ad ad n on on o o r',\n",
              " 'evalduating the plidical over tos d l l l l e e',\n",
              " 'tat they had superimposed pon the fotagras arifl and o of e o o oe  ',\n",
              " 'afte for tercin',\n",
              " 'the forgaing rentals an pamentce for priliges to evher wifh fesexsactend on commient andis care o o o or r ',\n",
              " 'in or to inturun  formity of dicuplen it mat on the thiry firstd marh eghteen thorty fie in i i i i i ',\n",
              " 'thers n eidemict of murder in the nite in oe te te en n',\n",
              " 'as the dae fo the presidnds isidprpt',\n",
              " 'the coneti energy of somlike was aexpended in lifting the atoms intopisition of vaet on i ii',\n",
              " 'to be determened by chas o on on i ',\n",
              " 'mire ffenders charge was mal tafor non phamit of smalsoms wer c  ja of cons n o   ',\n",
              " 'thata strict compline with their duie geave them no coie put tor prs s o',\n",
              " 'some of that feling was exprestd in the insidenten voving then vice presidential cend con in in i i  ',\n",
              " 'i ingy wud them bro amsoffentirly on the otheting als o ot i is i i i r',\n",
              " 'af daved of servise and on oln n n e e',\n",
              " 'butdin those verorly das aaloms litl more than a shrie oe s s',\n",
              " 'the were not to be turinkees or asistentrn case ad r r r r r r r r',\n",
              " 'a serculer aprtur had ben let in to give fentlation s f r r ',\n",
              " 'those o gepane otfimg went as mt or o o on in',\n",
              " 'in is ador for the admission of the be of murbers and ober fele a or r r r o  o o ',\n",
              " 'maintainges recrds of peple who haf thrend the president or so condocted themselvs as to be gene ocitintin o rn',\n",
              " 'the secendenspector the revend wip porth resal was a al n n in',\n",
              " 'ar ve l fe',\n",
              " 'at thewit house kenif o donal specl st r s an an or r r r',\n",
              " 'the cors ling justoncie the cition al wi the two set to ar t tie ed n in o o',\n",
              " 'within three months threnow and moststuarious berclaries were comited pa as an an an in ',\n",
              " 'andti sheld him y tempting to place themselves te tene the preid a a a ',\n",
              " 'sined by ore that fousime f in',\n",
              " 'on the otha hand l o o o o o ',\n",
              " 'not siable orginisation cenacve efiioncy with out hecarfld an as n a i is iil l',\n",
              " 'anly out of esetisfection of al his fomer dets nd o oe s is i e e',\n",
              " 'ther wre no of men ovailble to prmit two agens to be si o r',\n",
              " 'asking his brother wi he suported the marcong ovement and wi e o o o o o ',\n",
              " 'can and shoul be recomended by this commission in the interest of the morifficion protection of te prend',\n",
              " 'the rifle was relised to the fb and forded to wating tond wr s o e oe ie i i',\n",
              " 'for some moths smehers and mibake lifed t as an n on n n nn',\n",
              " 'itis oqwied crie or o o s s',\n",
              " 'do boo tesifid that oswald was quote a compl be o o d',\n",
              " 'he sa mrr brie wach cham and folod him instintly in to the cared on or o a a',\n",
              " 'it was determen that publ exipition sol be made of the bidy throu th naberod which ad b thes ene of h rsri',\n",
              " 'i sti r',\n",
              " 'he past other unemporty fortrcs and came at lat to a waldincode i hi i i a a o a',\n",
              " 'ih al sake bu shurincis of the makng and maeed ants of a griie s wa a  ',\n",
              " 'the handbo refired tos two quote the posibility of an attempt agencse the person ors fe d',\n",
              " 'ing eighteen fife f ',\n",
              " 'some tame alaxtd  for roesn cont ntin',\n",
              " 'when frauere appeared before the commission and was ased to demnstrate hout oswald caried backe  ',\n",
              " 'they prescenti themselvs bout no one da at the dececting ro of kings collid ouspi e ',\n",
              " 'o the to long be agusof tig wal thakonstrutidblili as is i i on',\n",
              " 'the murders were perprtraded on the tent stember and thi ship continut orvoie fr er r ie n n ',\n",
              " 'he extendetd his empired to the metrain n n e et',\n",
              " 'and incompleye and fullatious meted of preventy contimio',\n",
              " 'excecnd of de rector of  infrmation counsl of the amarcos als a o r r r',\n",
              " 'an such of faver ble opertunity to strite at f tiguras grats president wo o f fof n n',\n",
              " 'aponmoving to ne worlens o epletwonet fo ein eie',\n",
              " 'the rwold became jemeral as regarde the prisondres hither two cloving had bnaudoly to such us re destitu door an ras s s',\n",
              " ' the jaler should be required to visiet fevery part and s every prisoner daly the capli or rf sisis i',\n",
              " 'the mand in the loby quote lod over is sholder and trnd rond o o os os os e e  ',\n",
              " 'thit himselfor mad a large for o weke he atre sr rd re er e r r ',\n",
              " 'inietefe',\n",
              " 'thitiss the san roqo during hcama al ',\n",
              " 'at manhester on rote a tfravling carige was prcust which as rie os r n',\n",
              " 'simonce discrided as quote qu aure n c e i i i i i  i',\n",
              " 'ms oswald told another offer frens that oswald was verycualed to hat ae e r a al ln',\n",
              " 'on the jided as se the back',\n",
              " 'cactin tae dotle ufice nd ie ',\n",
              " 'hoerds sfor he wit finihim bu prove the wekor of fi an n o',\n",
              " 'themot striking fact of siiler stouctur among plance and aon als is  ',\n",
              " 'were intended by the protectiones to deprestop market and secure the suport of the fome f f o ioin',\n",
              " 'in short etenctiunt a his felings mental and bol e e i i    ',\n",
              " 'for marmenship exr fr inin',\n",
              " 'oswald stodyd maresm after he gtoined the mariins and his simpifeses ind bat drection and for the sovietd uin p e n n n ',\n",
              " 'as much as twenty five pounds was pad for af firs flor from on thiscan',\n",
              " 'made sertan recommindations wi o edte',\n",
              " 'nd rov mama a',\n",
              " 'opisit the printed words pae two wr r r s ',\n",
              " 'theors litl condercation betwen the on wa i',\n",
              " 'wor an amagenary boundry in and noting proventid pr of ri i i i i',\n",
              " 'and the sercmstanes were dime soffitionlay supicious to war and the arest of the gental men at rme n on o or r r r r ',\n",
              " 'to seven onsns',\n",
              " 'the feloncs sid has simlor commidation and this mod of infroducing the bevereged is doti bos on ols',\n",
              " 'the womin where he loged noise that he was very reslesan nighte moning in i  in n ',\n",
              " 'the captence caven randsac his moy an cloves tovided amons te nee nears a a n on o n n ',\n",
              " 'he aded that whil be halteres ded o or r o',\n",
              " 'wor is fars posible mitgaded and to do t o e e i i ',\n",
              " 'entering theuse marin core at sevent this stree ev in dpen s csi i ',\n",
              " 'he cannot and willmotae the procutions of ditar r r ie',\n",
              " 'shortly berafter the presidents wif fa a a a  ',\n",
              " 'tit to eee alevater to the seent for and rat o o r r r r r ',\n",
              " 'as the sercom stances under wicho was purpotat oe wos ol l',\n",
              " 'the later two was to belade o on hoson',\n",
              " 'as cafled was arected and front of that prison for the execution of severl cone d er',\n",
              " 'he afactivf of for por telspopt sied on the dificulty of these sos sie ie ie  l',\n",
              " 'on uned twentyfore ninten sixtythre e e o r r',\n",
              " 'anal joson terecter of the infrmation of lacture br o of the comonus party us a e e o',\n",
              " 'he left neowgate utrly corrupted and aftea laing in crcin o r a a',\n",
              " 'and by arther mand delo of fing arprint e o he e a a e e',\n",
              " 'seven the prestdaed wast hae s f f d',\n",
              " 'except that they dnothere oasas a ',\n",
              " 'and and inquiry whether mprovements canby mad which wal regu r so or ct tit',\n",
              " 'thei testimonies of provit ive vo hever becased their lemited discrtion is consistent with that o the ant was and o coii',\n",
              " 'no ther appere to be not chans togeto cub where he hat tougt he mihfined his coministid e o r o or o o  ',\n",
              " 'or the anifectur of starty fo a a ar',\n",
              " 'this jeced blongd to le harvy oswald rin oad e n n n n   ',\n",
              " 'and by the passingers id de oue',\n",
              " 'then am mad and ar aperent unto herfother for the sacke of the loper of hers sustence and for hafving aft or n ln n ',\n",
              " 'tha no that the proise of the comstuctd vf rebuilby of amarco ad ed d ed ',\n",
              " 'thoe wae t i ae e ie a ',\n",
              " 'whe should be pad in to geneal prisonfons and no part of them hand over to the prisonrs os sl',\n",
              " 'closly foloing this grat constructive efert oe ae e e r e i isis',\n",
              " 'he was dets catifit wa al l l ',\n",
              " 'mor serisely the fac of his defection had become no leving himpoeond o an ond o ',\n",
              " \"thepresiden's by was takin to the eset rome of the whigh hous war rs s e a \",\n",
              " 'at the time of presiden kend stin',\n",
              " 'vissiters were stil promiti to com wath suplie on givindase of the wee abou the almylimitation be tf o o ',\n",
              " 'som caling temsels qrisens ir the decendencs o bolon s r r e s ',\n",
              " 'after howiver to ears in a lote grong t i t ',\n",
              " 'and investigative capbilities of the agences now opraingin this pile c n in',\n",
              " 'and itendinctor tearne to much of at axit an remissnes with formal at n t s s',\n",
              " 'whe long be remember both within n o o ol l',\n",
              " 'the toveal fal ov information reced by pres l',\n",
              " 'gened drmins d dqte',\n",
              " 'allong afsided al the luntrom was asoftring vendinghi at t n in i',\n",
              " 'hese maurs i mentiond ar in large art the probra which undermi conti o  ',\n",
              " 'and oder which quote art cultur nd the spirt o a i i ini',\n",
              " 'and geghe agency giveen cleare understanding of te issistenc whs s e ec',\n",
              " 'the fbi on sixten seperd acaions supplied a topal of one hubere thirty nine agent to astaproto o r i i i ii',\n",
              " 'and exaination of the facts in ah of the line v inins s e ',\n",
              " 'y  shond in apreavies chapter what newgate was it this pered disivastix en nitun nd o oe r o o o',\n",
              " 'special aged farse ve sorls of the secret seres bo a',\n",
              " 'stil intentov s i i',\n",
              " 'the cinelingis of the scity affarte to focroy was not lemted to the sine f fe ce c r r',\n",
              " 'ther he was seated onson sort of wond and es s aeie',\n",
              " 'oswald was caring oly thirtng dolers a seven sence of the time of his arrestd althogh a ad fe f i in',\n",
              " 'im supried that e dinco n n ',\n",
              " 'thor tel was agamble ad ae e e e e on i ',\n",
              " 'ratly as these av ben extended by mder mprovmence of am miht rspoe ad and i is',\n",
              " 'and thous and the deters det had ben actuly pad ore when he had and pr r tr  n ',\n",
              " 'she fouhe was atentding of clas os on s',\n",
              " 'as to witeo r mot the bolo recovered from wakers housed had ben fired from the rifle found on the sixt flor o s ol  ',\n",
              " 'an exaination of this report shosed hoven themost insinificent tos a i i',\n",
              " 'on prisoners convicted of feling   r r r i i i i i  ',\n",
              " 'whit maniced dic pisrest sosunder and continie to stroal ith the ficials fr sometime  i      ',\n",
              " 'in sfit of the throg o e en  ',\n",
              " 'stated that there as af soter interval btweain shos ton t re ie sn on o o',\n",
              " 'the julars wal was five re es',\n",
              " 'usn ittwety to calber bled action rifled belonging iver to ar asl',\n",
              " 'and  dals plice officer afer the carms ha benproese with poud be l lsls',\n",
              " 'the interier of one prison was te lomnated thrhout wol das stil anoity whi  il i i i i ',\n",
              " 'and the great tancsporting an anufecturing and distridi in is',\n",
              " 'becaus he was boling ot the plicemn telnmimber was a righe to codim in in ese e a ',\n",
              " 'no  enment which enin horfol economit inress  a a a o o o ',\n",
              " 'jus beforce nacking th pictur ltons rd oc cis i f f ',\n",
              " 'he bout idard r r r i i imim',\n",
              " 'the ortnary omservsm lox to the sherif ond sas a a e e e e',\n",
              " 'was acomidated with romen mtr numence hous at the xie in e te te e r',\n",
              " 'the firsornd son of a l ',\n",
              " 'he was stil ountrid but were amloserly have ascate wit he mine ronef f f in',\n",
              " 'and the assistentd to the drector in charge al investigatev actiites under the drectr and assuied prpi in n',\n",
              " 'and ho inpunisient for al his wickodnes he became caf f r e e e e ',\n",
              " 'an idi pae to atotention on howe cared the pacgon a q',\n",
              " 'suh ven were the sercomstences of the firct ifi l',\n",
              " 'and in firmar consisting o two distingt roms one for mals and one wor femels should be providof for the percroco o',\n",
              " 'was refused at the instigation of h police of fdaslater af frequt gest at tarve i   ',\n",
              " 'and the expirins a the coptence ecari to cary o bh two underdinfift or r or o o ',\n",
              " 'the comite mosoal insisted opon the entire indiviual seperation of prisonrs e s e e r r',\n",
              " 'as a resoled wos i i t',\n",
              " 'the chefe of the service has provided the commission a detal explonation of this pule',\n",
              " 'the cors siled al douts and the nexpoit as a n mn',\n",
              " 'tha punhmet mus be we fometway as asa ade',\n",
              " 'inspied owever of his prase wore the efert ri ao ond d o o',\n",
              " 'chef caradrovf one a mobl oupd by vie presiden jonson us reprsentitives tomis and for ra as  ',\n",
              " 'moter sicles for moersicls to f f r ',\n",
              " 'members of the eme it fanly of the president pred e eie',\n",
              " 'as im marin ra ar tiition and had displaean argend and rest t h ',\n",
              " 'sonce cartons of sor persporation pober cansecessly devl opr i oi i i   i',\n",
              " 'or of gardels rend s is  ',\n",
              " 'intonation a bisnesmeshns coperationad ol i  ',\n",
              " 'he sed that y left wor because bil shilly sand the e o o ed on ',\n",
              " 'or exambple the wingse of a bat ama arrand  l   ',\n",
              " 'themost triflng sn i in i i i',\n",
              " 'the butler on the acation of a def ing the famly whind hos o on on  ',\n",
              " 'af femin ts after the rifle was dscoverd on the sixflor of he prstin',\n",
              " 'mets no loger isud ra to be imprfictly cup for a word fir an botio bl l l o o n ini',\n",
              " 'the man quote inkind alitle trop end qute ad dopan or o o ',\n",
              " 'and costing a leven pons fi i e ii',\n",
              " 'during the night the sat to dispose of the body by throingiten to oppond t to a a t o o o o ',\n",
              " 'he pgan f r al',\n",
              " 'ifer est timit of times cract she weache boem of the sars a ffor r lae a a a',\n",
              " 'the comision dos bolive that their ar aspects of the prtectve maurs implod in the motorcate ad ous s c c c',\n",
              " 'the ofice of nale anteligencs the fb and the siif i i i i  ',\n",
              " 'wother andisovf saldts continuly pas bidifuion from the so on o or r i i i ',\n",
              " 'most of the agencs were the are from about one thirt or one forty fiva o o ',\n",
              " 'and this prticila ficial tok exullit car to sullect has reidentc for his on word tos os i ',\n",
              " 'and this being much mor sevon and reiglar tha toto care ae ae e ',\n",
              " 'the ocrs wreaible to maintaed periforal serculation as moiter at the neck curied a ad a e ',\n",
              " 'the referl of the copie to local secret service shold not dila imeda referl of the iformation by thefasif i i in inin',\n",
              " 'ardiffacolty with the corte to da ries no from the cort s initi i in',\n",
              " 'his hoxlie amis esa the bortder teritory butwn the aimal anviiablo cin n n ie',\n",
              " 'the sergen shoc al prisonders whether il or well on an n of f f r r r',\n",
              " 'and not as heard do for to the juges of asis that bo to cecobeses  o o o pr r r om',\n",
              " 'slet their and had ther meils providevf for them from the sessions hos o on n o',\n",
              " 'and at his request the ornary dro the cap forther do or s an in',\n",
              " 'ther haim men aid h t t e  ',\n",
              " 'that an indevigual prisence asinificent danger to the life of the president is nams plaie d a ri i ',\n",
              " 'thenatur ing carto ristixs of his neconed sl ien t',\n",
              " 'at that time roe as se e',\n",
              " 'anser he sitat he was lonly becaus haton come the preced id aed in i i ',\n",
              " 'but me ansere this question with ablones tt l o o as i  ',\n",
              " 'probably the doter had tolder the story he brot fowere when trive f e a',\n",
              " 'by the place rao had noted the similarity i discruption of betwu suspets the arresting officers we prson of e  ',\n",
              " 'he had led awiled life ad leftis nate land and ilistd fr th hr ir in a a',\n",
              " 'y recest ir extending abot fiften fet betwen the sie on of o fof fo o ',\n",
              " 'a be be e a e  ',\n",
              " 'as feigating places forcloving s o o in i in in innn',\n",
              " 'no ito not bexpected that evan imploy laber and catd al b be ple pe s i i iin',\n",
              " 'he smie contidil and wen indid wes r re o on i f',\n",
              " 'ar discrition and that o other i wides  os as a o ',\n",
              " 'bhat nother buroagent miten ar nak had bincondcting afbackround investigation of oswald at the recuset od o  ',\n",
              " 'qote that the crods about a same as the one which camed s himbefor but ther wele one hudered tosent c o n   ',\n",
              " 'th fule oudodoe',\n",
              " \"oswald's do sid c o a n n\",\n",
              " 'the desire bl tanm baime the braking of hoine n n n r r',\n",
              " 'tlater in the da he trie to commit suicied by craminga tald on his fooe p r eded',\n",
              " 'came opben alrespec orm r',\n",
              " 'the minm utime rquie y beer to parkhis motersicale andreached the secnflore luntr w it te r rs on ',\n",
              " 'aftusing much intemperit liged he ',\n",
              " ' u wer al miht a a a ',\n",
              " 'but that che in the grat nor therm could not realis that acclark of the company could onisly beon a posit ion o i ',\n",
              " 'it was soused fo the dat of the abilition of the starc hamer i i h h s f',\n",
              " 'ord narly inspecter holms testified an dentification is no requested becusides sed that the prson th hins st ',\n",
              " 'turning to phis righe in the derection of da noye od re e e r e i',\n",
              " 'whut wenty saven receved lest and six prisoners and were indsomeincsencs le',\n",
              " 'during the trile an after sentence e me e plete',\n",
              " 'on the nighe of the a leved ay e i i i i',\n",
              " 'ninten sixtythre of o  ',\n",
              " 'scoonce lost sighe of him ine som srve o os o o o',\n",
              " 'the name had deal was stampt on some of the capters prented litrtur nd o  icinini',\n",
              " 'consitering the various pro abilities which may ove proviled in i a assnn',\n",
              " 'the scee was no dot fasinatin nd ie e e fl',\n",
              " 'it was of facter which centrivicted to his cacter and ther y mih ove inflinse is isi s i iednd',\n",
              " 'the bocad neaar spece of grat brons gagtes and of immiges of rons ',\n",
              " 'acording to this committy of iteen sixtythr bencs in the smalar and most calisly conducted prisons fo   f',\n",
              " 'bi socal explontation of his o te br is s',\n",
              " 'to protectd or ational resorces andnd r r r  ',\n",
              " 'the starse commot one by on and shine briter than ols ras o o ',\n",
              " 'the fact of the murder was frs s cre a a',\n",
              " 'the station whiins stoct to pck a and d ',\n",
              " 'this not posible to tel whither oswald ded this to prvid in xu in ae a a',\n",
              " 'and which culd not e e l l',\n",
              " 'ester hivner was as inman in her il nucige of the pars oap prentics i r i i ',\n",
              " 'and as frsd the prformence of the cuens themselvs was concerned e was qote i id  ',\n",
              " 'the infirmary was in larke the imision of visiurs limited a sas i o e ie r r i',\n",
              " 'basied the jal des tir was ganis of fived te te',\n",
              " 'daries a maltreet himon way the couc oly becuse he hadguven ad vie that the see o es ie ',\n",
              " 'agencs arin structed that i is not their responsibility to henvestigate or evl a a arede',\n",
              " 'wor to becept in every ja and the prisoners do rected to ahed in them bof for rees os s d',\n",
              " 'le hav as',\n",
              " 'the cold bloded aculaing atrosty porned of selfi intrs re rs sis i i i i i i',\n",
              " 'no juge ever condemdimand to be haf parched wofh cold y da r ie e',\n",
              " 'was more propry for sceriusreflection and profedableministration bend his ici o o o  ',\n",
              " 'most of castancs on tites ar f an arlya rcece s s os o l l l',\n",
              " 'within eear he was avanced to the post of chef clark in the transford deparment as o e  ',\n",
              " 'fo whal roin caflic and desenters were incoriged toe e r or iin',\n",
              " 'the rintales of froms an fes went to te wordn on o oe ',\n",
              " 'the blo jact was found in the texes scobo depository and was edentified a a a s',\n",
              " 'the ues govrment has no carges ore compline inese',\n",
              " 'every prison was forded to ko and in frmery and the meicl suvros e e in in ns',\n",
              " 'which mark the groved of publikentrest in prison afars and which was the jurm o os s',\n",
              " 'by the intrduction of iact and efly manidal metincs of conduping the cemicle anols or an n ',\n",
              " 'within equry riding cloe on egh side recarige a man whad ben lang egente the pos r an l l  ',\n",
              " 'oswald told im that he had lonction the first flor luntrom and thad wit to the seconflore for ocou a a',\n",
              " 'vice riacaca',\n",
              " 'in ordr to amficied the foundemental siilary ore ganic fution in hir and loer amals apas pa pa pa a a a',\n",
              " 'in whiched e qustion is treated with that copy handsofnesse of nolog and cleare cuetical jutemet wi i i is',\n",
              " 'and then used the quote special tremet and quot he receved as exaple of the wa which he s pe d o',\n",
              " 'aponthe old man and the old woman as they stoe the manion oas b ',\n",
              " 'il be sufered tod dindala wa in sucessi gearation on a s ss',\n",
              " 'wen ones about hafwa onfided aresting plae nd serso o ',\n",
              " 'the arlist estimits wint stil af prmmited ol oe e e e e',\n",
              " 'the marders planed that he havfirst fired  pistil at wers ha ',\n",
              " 'nowod appeare that he was not welk com a the pan o',\n",
              " 'soires wen te toldim not finking that it couldbeture n in i o o ii',\n",
              " 'i no retrace mis tes and ife some acount of the morermo oe r r tr re',\n",
              " 'monin mosd is and mrs aber hams imposed oon os e s s',\n",
              " 'whiltee stitistixe relae to the ectivties of secret service agence stationd in feal ofise n n o i ia ',\n",
              " 'so closladed they litgether that the inspectrs a their nih visits founded dificuledinc steping ap pos o o o in in',\n",
              " 'i apears that his discarged was hasion by the fact that he bre o in in n in e o',\n",
              " 'we come to the sem',\n",
              " 'shold be apart of hos f o',\n",
              " 'is inded a sugject which cano bad mpres every considrd i n ns s',\n",
              " 'wod celermon in the right frot seat of fluinsen o r r ',\n",
              " 'that the sermony mav mad mor ecanil bust rendring the persol inturvention of sl i n n ',\n",
              " 'spirits scernly wereno coled o o o f  ',\n",
              " 'tored the triple undrpas shots fired fromarrifl od d ied id id i i i   ',\n",
              " 'much usful information wal com to the tention of local laen forcs met agencs  n he ri or of i',\n",
              " 'was after eigheen o seven troute eertions of the geer of the jae a n e ce is',\n",
              " 'it was fovose charged with the ministration of the la to gard carfili end an on on i tin',\n",
              " 'the comity on jals reported that qote alot hs o o o on ot',\n",
              " 'hese prints were examend indpendedly by ro o i f ',\n",
              " 'in one prison the bedstence had been remove lest the prisoner shud bright hm n n o i s ',\n",
              " 'ther weno meins bywhich the motion of its cloites co be produe in os',\n",
              " 'mrs rovers testified that onthirsed anovember twenty wond  o',\n",
              " 'i m remided some tie o o s s in i',\n",
              " 'so at he was no pbobe and didnot oif ti ae fr fiini',\n",
              " 'soncsmeny itoms ma prtaine to a singlcase ie i i i ',\n",
              " 'of this clas was the ingenus i pit culearly simple robery offectd o os r ai i ',\n",
              " 'and a the time of the brobery theire astilso as r',\n",
              " 'andspent inproviding cos nl  o   ',\n",
              " 'to sod a a ar',\n",
              " 'fraiur testified owever that he fout no mic so cr r r r re',\n",
              " 'the coses also contineed much the sam pation e i  ',\n",
              " 'thy saan heard brenindescriveing with at eme n d t',\n",
              " 'and be dis acoplesce to investete as a seflment o o on a an n a a ',\n",
              " 'oe thimplors ad dimploes must shared the bae o o o s s s i',\n",
              " 'these fagurs sugest at the agens of the secret seres as ',\n",
              " 'calstificalties in creaced morin more o od nd o n o ',\n",
              " 'based on the genral marein cor ragins te   ',\n",
              " 'a sulectiv cervice rengistrationsutifiget ad icitificed of service in the us mrn or r r ainn',\n",
              " 'brinin cout hivcen n noftof the body of anneling orscating prso ititit',\n",
              " 'mr calfert was teralyiverst in the stil imprfictly understod sines of prisonmangent and f lo o e e',\n",
              " 'aevay withe brontentoin r rn n n isin',\n",
              " 'this witnes adentifid oswald in a line a man most nearly resmling the man he sa ad ad   ',\n",
              " 'the oly dos exprestd were as to the suffiionc of the safe gards as to the se e e s cc',\n",
              " 'govern ar conaly sistand bulot wons in his bac ie i i i i  ',\n",
              " 'this commission has neserly bexsamend into the pfoumtioning of the variosfeeral agencs consered with the treitri f eiedid ',\n",
              " 'wut ever the exact cas which mpeled im to crime it seme sete th he e oe o o o',\n",
              " 'many of the jals were in the mostdo poron',\n",
              " 'aar brads taking of threours rie r r ',\n",
              " 'that his cronsactions and perming ham wold shortly bevery large oing to the development of his bisnes ther in he alenged man f o n',\n",
              " 'onrationg condem sel she thropere soflpon the for a as s ie an a f ',\n",
              " 'and als o a an',\n",
              " 'that he ould notprisos the opertuity for robery ofer him by his situation at or l ost t ',\n",
              " 'and he couldiiscemle a marabid',\n",
              " 'during the peried from march two ninten sixtythe o o o i ie titie ie ie',\n",
              " 'with convictes of l ages and caricteors to rendr next to ampoible but that with the apditro o os s s f',\n",
              " 'seluloss wid sprid as constictuent of he scelitencs of h moral',\n",
              " 'they had arigh mr poxtant firmd to be emploid i ther o cracf f i o o  ',\n",
              " 'which was sarls firstimportang to sinment in conection with prsin o r',\n",
              " 'it had bin for sme time divoted principly to felno o r ste',\n",
              " 'the constetly greved an ar hav and when the word we forst opend in the oring oeilif',\n",
              " 'dals fr n n ',\n",
              " 'theba station rplid quote they have benotedq',\n",
              " 'after he had assassinate id the ammarickon president i dus not apeare that he ad nd o r',\n",
              " 'that day polmer had or ran a a o t',\n",
              " 'closly oi a a',\n",
              " 'after the presidment had retive t i il',\n",
              " 'sorls who ha pertiipatded in presidential tection asimencs in dals sincs ofvisied by presidet filed re ',\n",
              " 'ninhteen sixtythre loson inquired bouthe insident and ataned throg th locaploe o o o o o  ',\n",
              " 'hoiver prolin religusly intalarent  neokadneser ma have bn he was od dol i r r    r',\n",
              " 'it was notise that he wore amacontecte e e e e e e f r',\n",
              " 'the formations the righe formations and caractorisstic were insifitof for pesie f i i i ininin',\n",
              " 'agdcate im undersuch a sistome for noting whi the vertu as suiplten whos on the othercid of the wal fe fr ere in',\n",
              " 'n wi i i i ',\n",
              " 'the sities divided into to portions by the river wuich oens o e i iei',\n",
              " 'once it had started down elmstry tord the tripale onderpas ofe',\n",
              " 'tha of fon lrove ba gingn t tor',\n",
              " 'mot a finget wheare aiefif in n n on n n o o o ',\n",
              " 'bich ups confetion was indorstd by wilms and the ammide as r e ',\n",
              " 'he fountim seoriche in as mal landed proprty which he presily solld to aman o e    ',\n",
              " 'ths face was fisible to the hole prad a f l',\n",
              " 'oswald had ily exagurated sencse of is on importons  ae e e e e ',\n",
              " 'the secret service has imbarktde pon acomplee over hal ofvits recerch activities s  i ci ',\n",
              " 'on the baes of thae date and time on the transfer mict waters was able to testified at the trnes fra had i i i i',\n",
              " 'since the assassination the secret service with the assstnce of other federal ing es s i i',\n",
              " 'which ifintrdused into apepoal and work plih a bed ad os os ',\n",
              " 'this was no to son clas in the ofice who e ant cnede a a a an a a ',\n",
              " 'he markt what he fot was the intersection of nechus and becly on amma of dalas the at',\n",
              " 'five of the six shots hid te thor ta at writh he o o o a a ',\n",
              " 'wose discrition as iven io o e i',\n",
              " 'she oterd lowd imprications cursing jud d r s s ',\n",
              " ' the fics diling with the fisalg of orginisoms me atiitices sit i t a a ',\n",
              " 'wilh the lastd to read ification of newgate a workeexecuded some seven sentres after the fist to o al l',\n",
              " 'us represenditive hand rebedos',\n",
              " 'apon the rols andisipline their in istablised wit rgard to the trement of n convictdedt al led e pes',\n",
              " 'f relising that the dreaful fat would over tie m s pi pi',\n",
              " 'the next in qary was how he hoped two open avan i i i f   ',\n",
              " 'lice presidet an mrs jonsin folod along the fencs r f r rir i i i i i',\n",
              " 'the eper went stil forther in his efert om inn',\n",
              " 'te fr ren',\n",
              " 'andt aing grate tention to the preswore o ar as a a in',\n",
              " 'trog the underpas and lease n sr',\n",
              " 'they drove their and robson on rive d on s s s  ',\n",
              " 'there wrs stil ontored axdences icationly a excutions and even the che preactio o r i a ',\n",
              " 'he receve er retaining f af five pond five shiling wi e oe ',\n",
              " 'thes daie defcagteor rom mas confirmd by flwing pasege fromsosimbus agrecriter of the fifceey',\n",
              " 'the act frscried a that heshould do bote evere twentyfor ous a a s ',\n",
              " 'noatempt was maye tminip',\n",
              " 'ahor n o',\n",
              " ' that he had ond awepen end did aguodal o puinty were uesoet praps on ruha plos anuberovi ims about his dispision n anl  ',\n",
              " 'se s i i es l l l',\n",
              " 'the een figur drins ar imt pore charctorsations of prs pseie e',\n",
              " 'tha the motercaeas coming o man strt quot were ma be acol mached if i hadt ans n qe',\n",
              " 'in cordence with tord watingtencs maxm that americkence hav agovern ment quote of a comidation was s a d d nd n n  ',\n",
              " 'osty testified that he would not of sited ime to the secret service as apotenctial ret to the president ot i i i i  ',\n",
              " 'after condination as the ros nocect apal convix pra p n  ',\n",
              " 'and ind form that the poblicoud not infutur be admited to heare the condeme re a was as s s  ',\n",
              " 'there wal be vose of cors who l tried o telu that the excetional fairs t e e ed',\n",
              " 'that provosi was ie s it ie ie e f f',\n",
              " 'osty storther throms paine as and turperter at t h a o ar r',\n",
              " 'poerals nd i ',\n",
              " 'at the first mamed the exibpition nerly created o om as a d d d',\n",
              " 'anthis ibe em min mom ces and sord a i oe',\n",
              " 'he cet no recored of om and wen as quesion fr f  i',\n",
              " 'ligae to the laste was  deters prison for fremend ot is id nd',\n",
              " 'rend paf pased o wa into tbhe overd darkice of a peal colng as i  ',\n",
              " 'margerid oswald worked in misalains o f r r l',\n",
              " 'and when onceupplinted contened to serv snid they weregenerlin gard e o o s s s ie i',\n",
              " 'the provision of daingwons ndad l',\n",
              " 'mih fondis drims arf shathered becuseof op pefifi i t',\n",
              " 'the carmain taine this avrde speed ove radistence of approximatly one hunderdi six et emaity proceding the sho ust tr ie ',\n",
              " 'she stated forther that oswald ad allinmintion nixons ma ons guring the insie ad o ao o s ',\n",
              " 'ecommity of coagencs was alected to actis the execitive also escr r or n in e e ',\n",
              " 'secret service personalii',\n",
              " 'a rehanlinken a n n n n',\n",
              " 'wo mih qotemeed an expudition to some of these other ie re e n qo',\n",
              " 'on the daof the assasination marin oswald was waching telivision wind he d h i',\n",
              " 'an on ae mormitur considration he rilied that the luited ri i in ie e',\n",
              " 'fort its eared that oxbation acars and the neade for arid lo ad an an a n ae  ',\n",
              " 'wo a previusely interviued oswald sou him ontoloivition and heard areadod ba i which he a ga o n in ene',\n",
              " 'could posibly maotoced be twee n ri os',\n",
              " 'two aditionaloperations we preformed on governer coly for wome which he had not realie he had sustaded antl r aigo sis   ',\n",
              " 'that was o firstojict taeiof fo bol or',\n",
              " 'aving firs set apart their mothers eah man o s o o a a e ',\n",
              " 'in the fe seconcs which al lat wi baker and troldy rand from the st o  ',\n",
              " 'two berusbencs memb shot card in the o ns ctr',\n",
              " 'boste to their companincs after the service that they had  wihe their i during the thainxe kiving a r i i i',\n",
              " 'in appersed do be work of efil oin rsrs',\n",
              " 'pe ar s exprestits intrestd in receving information on suspecs inverigonlor rs al',\n",
              " 'and he was so eproched by the polices s e e ie ',\n",
              " 'dring peroed from november ninte nite sxt o tin ite te e',\n",
              " 'evend those is wi gjested that intrus ae in motvaded by diire do gaintention s ie ',\n",
              " 'and may whits rebrop to atestois prevus qute carictr os s n n in i ii',\n",
              " 'it was notese to detect cure or o o o',\n",
              " 'apore man who is loy anot he sad o fi fif f i',\n",
              " 'mr turnert on seffr londen where he ot is i il pc',\n",
              " 'never sonce my in oguration im march niten thirty tfhre f   ',\n",
              " 'the ford the bdy couldbe taken from the ospil',\n",
              " 'ilnes was not so uneaversly the ro i i ir i',\n",
              " 'and ofered him af the boty iffewud give fil information as to the transaction and os s is  a',\n",
              " 'whent oswald was arested in the tecxuce their he was waing abrons sprt o h he   ',\n",
              " 'hese wit the laskt executions for hi treason bu not the lasrism mam e a a i iii',\n",
              " 'acorditi ian n o ',\n",
              " 'whil the lot u hos he s fi o in n   ',\n",
              " 'deliviion films taken of parts of the motorcaed by alin',\n",
              " 'upte formation of starch al mpordad as a a a a f f f f',\n",
              " 'chal craf shared the odiom which his ofice not strangly as is i i i i ',\n",
              " 'mutual understanding of fbi an agencguris dictions and i i i i i i i i i',\n",
              " 'in this had arregenis scity were also throm the unfortin ijurnialus to who hi havl rady referd on e e e n',\n",
              " 'on was rihud gifered a wilidicated u who had ben acre foo ao on on  ',\n",
              " 'idher by police or by coustodions of the buildings siit was not the uiual practios f e e e o',\n",
              " 'for bed the factoes shado of hop that in so ofo r r',\n",
              " 'as sunis that jentlmn wr ro',\n",
              " 'ba sfal ortionsivit have en excivated s i i oin',\n",
              " 'phord was secued in i ti i in e e',\n",
              " 'he adveary f if any closrlationships with other pe and he apeare to a bi fi in in in  ',\n",
              " 'no inconbenence was sfered by the cogragation amon whoe ore o   r r',\n",
              " \"oswald's rifle pracs i ien\",\n",
              " 'without watding for any simo the pof om a te te e',\n",
              " 'this was oly one of many grave omissions on his part he di notfil incombend on himsee i i  r  ',\n",
              " 'we utnaine pearson had seed him prisetof is po a pe aede',\n",
              " 'new le harvby oswald unde bhe ais o e',\n",
              " 'andt was on the intire aence of the later that the difence was principly ase o o os or po ',\n",
              " 'at the tomencement of every seions such of the untried as he cici a r ',\n",
              " 'it is the emaricin peple es ',\n",
              " 'that theves ordeprediters wre i o s s',\n",
              " 'while the body lay their stil waor baterd an bleving from the crold blose inflicted oon him byis cordtly asin n ',\n",
              " 'this the aproxmettime bhe entered the roming hous cot o re a s p p ',\n",
              " \"aproxmatly fifteen mils from oswald's pace of ort t s s  oe oe e\",\n",
              " 'on the seenting florofh hospinal ms kenedy of the aturngenral joind other members of the ceny fall o to o o o o ',\n",
              " 'no prisondress was a lod and hafe the inmades were with ot o s os s',\n",
              " 'nearit was his waterlo bed n n n n n n',\n",
              " 'som mihe be inabancs bt they ad eve e e o o e  ',\n",
              " 'and he must ove now that presiden cend nd nd o oe te',\n",
              " 'there were also offrentmen a no wagen crctr i an an  ',\n",
              " 'eh aon is read i i f a',\n",
              " 'and sugested the desar bili os cie',\n",
              " 'end quote catien lorancs was not instructed  havise man wach bildings allong the otercaded rot nd o i    ',\n",
              " 'under his ospcs seveales stars appear on the pore for e e ',\n",
              " 'auf th toer f expert woi h he fv',\n",
              " 'that the safty of the presidgent is e e e e r r e e  r r',\n",
              " 'ied rome for tha night and morny which ha ad i i i i i i i',\n",
              " 'for ther sume oe e a ',\n",
              " 'kinerd sed quote i told the no im right thir ai e ed d d ',\n",
              " 'after he wreturned t te e eit',\n",
              " 'in lit of the finings the comision evoldui i itis i i i a',\n",
              " 'with those wo mad the slection of the first anspectors and the two gentlmen apointed were probably the most fid in i o o l',\n",
              " 'and of his innitial commitment to that cuntry in bes beuners o o har n n c',\n",
              " 'the exstap al bee to not ofe pr in ie',\n",
              " 'the pardyed sel sae pertundy to rase fons by having he presidets pecke at politl den a i a l ',\n",
              " 'after oswald prciused the manloper cart can o wifl he e i i i',\n",
              " 'or adugon obove oar belote gagte of aton to the first tetemps of sistimaticre construction carid out under the is o o on ',\n",
              " 'way right was alov sugare the nightfor execution which he smoktin th prisonare  on od o o o s s',\n",
              " 'phaore so cald o bis i morning and or i i l',\n",
              " 'ing the case of dalis becose president kenedy had ci i i i ieie',\n",
              " 'and that oswalds fase ad not enciprinpose on on bov b',\n",
              " 'mr justis i in n',\n",
              " 'the vee him with some suspitio o n n',\n",
              " 'oswald madisuppointements thar jdustic ann pa    ',\n",
              " 'at the request of special agent loson ad vas agenf fr pendn i ae pa l',\n",
              " 'five wrasisted arestd by di fl l in i in   ',\n",
              " 'in sofars onder the sercomst taes the re led',\n",
              " 'on onication and destervences was rased which was not queld until windouse had bed groon o ad',\n",
              " 'were file unaty agrafic maes and conconvenintly berev by secre ri i r r ri i i i',\n",
              " 'the manginary president of the noniisted capcter was named aja had dal ta in o wo wa is s  ',\n",
              " 'the therd convict is a she stlr apord in of l in in i is',\n",
              " 'som waes in scopland sesed cocrat an cien ien i o f ',\n",
              " 'owever the comple a dentity of carcterstix betwen the paper and tae n a a on o r',\n",
              " 'the serviced had the avateg of nine thousan five undrdors of work af af or r r i ite',\n",
              " 'orne the faful discharge of some peity fs s n or',\n",
              " 'was appece of a omince calicko apron stame wuld be hs s   ',\n",
              " 'the president vi presid ent were other officer next in the order o suceion to the ofice of president the rpid e e ie ',\n",
              " 'examend theblik and discoverd a bolge aproximat lt nini i al b i',\n",
              " 'he was the cind of person wo coultri and ome somboy inbat wa posibldin on to go ad l os is s s  ',\n",
              " 'whichar never destened to cut the gons d tr i a     ',\n",
              " 'whend te parmers were demanding leguslation which wou givethem oprtuities and in senti o o   ',\n",
              " 'also foritur dalr and oder two mor commanpace roe e r e i ',\n",
              " 'special agen glen i benit onte leftis place insied folo cocco e ar r  ',\n",
              " 'in ecorns with standard moring frcdges as s is i i i i in',\n",
              " 'ogin wo n o on',\n",
              " 'and vie presidential folo o car ust portable set with he seper fre cont or r r co cocon',\n",
              " 'covener conaly testified that he recdgnied the first nos a  ',\n",
              " 'simen testified hat fimmilarity woild the bolted cobeat heved in drie practe s ad d d d',\n",
              " 'there was noa penlty to ons',\n",
              " 'were not alto gita creditable to ben',\n",
              " 'and ubly parsihi fe f ',\n",
              " 'with thosin which theirs no seperation no proper inforcement of fard ba on on o f f',\n",
              " 'neve the les inorder to give compe it tcr',\n",
              " 'to under tac e of or',\n",
              " 'one of aleanders genals who for time madit his fhoe e ae e ae  l ',\n",
              " 'he appeare to di instiplies of the mre re oco',\n",
              " 'hevenso so ver critic as mr witefeld sat ae te e e e i',\n",
              " 'the rople alsnese of  bl of the inmats of the presard ma be gathered from the prison punishement bok which freqully recond is ie s fl',\n",
              " 'grenater as stot milage man r o i i on ',\n",
              " \"morina oswald's test mony indicaes that er husend was not coticully conscerned about his contine possesion of he otin inin i c \",\n",
              " 'which having gontue several seions at las becaime la in tete fr',\n",
              " 'the fi was reake dot and in the ashes we found seven lard ad os s s  ',\n",
              " 'he tld the mouthy fo aupt a nw wat they wre don r r i i o a a a ',\n",
              " 'ba caro was qits beci that his recomondation was based ri marly te e e e eis i i in',\n",
              " 'to devele cord nated and matualy compatible sistiom e r o o o n on n n ini',\n",
              " 'at the second exactin formation was ataded of is ms s e ',\n",
              " 'the shots wor a slo woving target re n  i',\n",
              " 'or tmmis jefercson from mation o o l',\n",
              " 'osibly by factors of which os o o o al l l',\n",
              " 'but along poblock dispusion fod n s s s s e ere e',\n",
              " 'two men from the presidentes boo care we o e e iei',\n",
              " 'woch almighe bydoining the felon sid loged is eceprs of i i ri is is ',\n",
              " 'in numberlis caes such s that of fore les fs es e f oe e e',\n",
              " 'cal prat of who mentiones ous bemae was ae e e ',\n",
              " 'tat trmmendis crad asemble hand beling m was execudetd naghteen twalle ft rs s s ',\n",
              " 'rol oupt in to o shet hafininghe theic witha flord roingcin t     ',\n",
              " 'its the concluion of the commission that evn an he aencs of ser ri',\n",
              " 'on the othe and os i ',\n",
              " 'if eny buy reily wonto to shoped the president of the inited stae i i i i o',\n",
              " 'to the lastd theire for he pladed the part of a man o o ndnd d o',\n",
              " 'but the cane of sercomstantial evidence was strong an of to satis fye the jure wor re e e o on ',\n",
              " 'and he dnot a stalised and y close frenciits orsocations athontd apers and acone r ton o',\n",
              " 'noise wee ore mo prs o oe ',\n",
              " 'this mtr caning had lefthis witdo alife intrest in to fousand pos s oa a a a ',\n",
              " 'aker qo hadi inmine at the shots came rom the top of isfilding hear and quote e e t tre re ',\n",
              " 'tre monsprire to his regualy steuld seperation date ustencibly to carfor his mother hn n n n n n  ',\n",
              " 'it hasusd other treury laenforcsmedagentcs on special expermence in bilding an rotservies in plaes to which the prestion frl',\n",
              " 'bich persons undercentence of detomtaine from mal the oficer fron',\n",
              " 'but the ris old inbo cas f rel',\n",
              " \"the agence on the fount of the runing bords had derections to move meadialy to pisitions just to the rear of the president and imsckenidi whene the presiden's carsl\",\n",
              " 'his lae give wae he e n f f o',\n",
              " 'and request to other agences fe o or oi in',\n",
              " 'teferd the secon mategred that constitly weninfif f f o o i',\n",
              " 'he increse of bank forgures and it scas fr r r c',\n",
              " 'thisin ad ministratovf clasification indicating mad no for r rsdid',\n",
              " 'in recting o concluiond that the shouts came from the six plor soiced con o od o e e l',\n",
              " 'broder as ie fi',\n",
              " 'sucton al ternitive was to be popo o  is in n ns s ',\n",
              " 'mer samul hor when axmentd considered it indispencibly neseary or r e i  ',\n",
              " 'i  there for bong tosn i i ',\n",
              " 'and this flor p l',\n",
              " 'wichad continued through that lon pre o o or o d',\n",
              " 'which was inturn placed to the rie onf ocos',\n",
              " 'whilvhese mal fr rs',\n",
              " 'as to the excoluion of strangers of thescon',\n",
              " 'pickend his wie wold av ben hapy to ecece evr',\n",
              " 'the ame however was nearly  str a a a o  i  i  ',\n",
              " 'any in al information that bay makom an contact wit e  en in c  en e ',\n",
              " 'he citene to be intrested in bhat untry after he weturned e t',\n",
              " 'to tham entered the chaplan or ored nar fo in ol l',\n",
              " 'this time concering his us of ala',\n",
              " 'whled miting that he hatd had many dificles on l',\n",
              " 'thends of many of the leters suchs the ae i i i  ',\n",
              " 'oswald paitly continuwed to have persole difficultis wal ais insin',\n",
              " 'and dos bring the histry of prison disciplnd o o on n',\n",
              " 'the bolk of the prisoners wers tili is',\n",
              " 'who tested that the fick ticies had del was ind amarckon sidisand and had oben convicted of affelng was o a ',\n",
              " 'where af fiche cary and abrace of pr es s fr ',\n",
              " 'wo had ben concernd in various jobs of a disonus carct o i  ',\n",
              " 'are ofendisig t o on cio',\n",
              " 'ord that the bablony an solders tod cofidedtly a other somet nd r r n o o ',\n",
              " 'wun beglive n e',\n",
              " 'wo seldem let a sesion go by wi i ie e',\n",
              " 'but a number roms fiften mor er les r f ',\n",
              " 'he gin ine',\n",
              " 'the other perprtated in arai wak carige and shoing tha protitu with which criminals excet n ol i i i ',\n",
              " 'as dage he must be cording to the derifin ifr',\n",
              " 'but mis maning speaking in af for in excend r r cr o o ien n inie',\n",
              " 'he ojected to the instruction of prisonrs n igai',\n",
              " 'odit rathe thand rational duty and meining bin apparctly thae hing sfof e e a ',\n",
              " 'the two mend disigre ou the coersation which to pae em',\n",
              " 'on atober nin anteen sixtyto he went to the dal sf i iii',\n",
              " 'the reto couse in the inditment on for steling at shec volduforten huder pons the sece cri t f   ',\n",
              " 'the jote of the ad moty cort the rih ols i n n  ',\n",
              " 'vila pasions to esly arose r e e ',\n",
              " 'the crocls of newga folum two by arther gif fi i ',\n",
              " 'the governer was lifted ontwas strectr and n o o o',\n",
              " 'and telsus that in this date sid quote such prisoners were safly as socated whos maners and codo o o onn',\n",
              " 'on the sixtve day the trups of siruse andtio bl a',\n",
              " 'ad about alefven forty fivm the florlaing co o o o',\n",
              " 'he had ad nie tased in bricobrac an cn on o o o c',\n",
              " 'and by the folowing ear fort he seven s d o ',\n",
              " 'acordingly the committed to ime the comand of their hol arm and bute cee f isi ',\n",
              " 'and whilad has arived at serton concluions in respectri is s s',\n",
              " 'af the contiti fe ie e e ere',\n",
              " 'wut his bil mens  conish is the crime of inturrution of the government of the niet state and the discroction fof icricic i',\n",
              " 'was provided by the test mony of charl givens whoe was the last non imploy to c oswald i id e i is isii',\n",
              " 'thav disonest roes wo was so pety ind flantor pae o o o e e',\n",
              " 'oswald obennioations with the us om anmosfo o o i ti i i',\n",
              " 'many ears were to alas before these ajections should be farly mit n e f f fof o ',\n",
              " 'the fod suplived thae hire plant lihe at of the on os s r r r r r aded',\n",
              " \"ot b coination of oswald's no mars supites and doargd or wale ontn o o o o \",\n",
              " 'the form of imparting the inteligencs was dan l hs',\n",
              " 'ba bhe wat oe e r',\n",
              " 'was lang in the sity wile wals werestil tad o o on inin',\n",
              " 'truly fot a the officers gon at that time appeare to be almolstucting theminl posoa ald',\n",
              " 'there was adet woned jostover the er the soss r r o o o ',\n",
              " 'the prisoner was convaded without o la to the hom ofice and the ar eimend by the prive co l a hi i i o o o r',\n",
              " 'and wene was compleated both sie f the prison orbrot n to i in ine',\n",
              " 'wo interveed oswald after his returme from the soviounin and prire ton ovember toi tenein et',\n",
              " 'but al punimente migh rely be commuted into of fing to be cend in rd r rd',\n",
              " 'ae lesidise to ot thiy o git no pa wo ufinaedresin n nens in e ',\n",
              " 'the harvy oswald was bord in otover ninte thir e ninin newrelans lse an i ie s s',\n",
              " 'he asassinated the presidont shot oficet i s s re ',\n",
              " 'dosting whishd as the cee of rlindion oar e e ',\n",
              " 'acording to socl is indicatded quote preisi i col on n n  n n n',\n",
              " 'this veary proper ral was hoever se o s s e i i i ii',\n",
              " 'it and i advirted strongly on the ma wie difrinces as regards conscrction r ed d d i',\n",
              " 'scerchius were mad serinly but they wer to offe friifi e ie i i i i',\n",
              " 'fiver sixcers later wo e e e f  ',\n",
              " 'and the winose of the opsit houseds wich commended qod d a s',\n",
              " 'the agence in the foloa car also ere exed i cicin in',\n",
              " 'as the execution or fasion the nos e ',\n",
              " 'under the neoistm ta hol of the aranges f fl f f f',\n",
              " 'cildrom and dastend to ca and givein into the custdy of the sargent of ams and the res we e e ers e er',\n",
              " 'the comisions rev of the proviioncs for presidential protection af the time of president kenidies tric to dalis deminstrite tenef foso o',\n",
              " 'nither aliar s wa ',\n",
              " 'tored any afil e e e ts',\n",
              " 'the manigce hat sene orperd noting offime of cors as o conderstildi notrn e i ',\n",
              " 'but at the tame tie with an are of the most in ti l an',\n",
              " 'aliften dets troblensi a ar',\n",
              " 'oxperd who havd ben pacing baards on for words withis hands u l  s co  ',\n",
              " 'the commission concluded that the rifl used to wassassina president kendy and wone governer pcoly was ad d  a   ',\n",
              " 'aso their for as feld wit than himselvfe ad bablon wasfated to be taken he wint to darios and ased timmify set of very o on n o',\n",
              " 'the service prces a r r',\n",
              " 'lokated on the sothiced cone o i iscin',\n",
              " 'and usid egenst im ad nd n n on',\n",
              " 'cosl for the two empes s ',\n",
              " 'at montfi he was araned at the ol baly and cl l e s is s i i i i',\n",
              " 'un ovember fiften inten sixtythre the samedae at his wife told a not to com to arvin as ws o o',\n",
              " 'in adition to be order cupon the evelo contained by uas postam on or ord o o o s',\n",
              " 'nd quote folo bi s curlos bil of proticule as o o o o of f e ',\n",
              " 'and a livened by flach sons of rilling long wudediscrictions of r es',\n",
              " 'ir sory mand one wheh the genral calse indifence and msmnin in to in i l l',\n",
              " 'the asistence of traine feder aloe fofro fs',\n",
              " 'and rod an in the ase l',\n",
              " 'dotors metthors was long in inmatof newge a o ',\n",
              " 'the was reviling and rose tor ingas ual wi t he e as',\n",
              " 'he semed wil in newgate to relise therly at therewas no offod n e re i ie fif i f',\n",
              " 'infect posty particippaded intransmining to the secret serves e is i i i i f i titiet',\n",
              " 'at toe cort marial hearing which folod  sd ed e e e e   ',\n",
              " 'on sixty to one sedoe',\n",
              " 'on november forty as e ie ie f',\n",
              " 'however aprofore they he hold ons myg personal papers ol e ie e e ',\n",
              " 'asid was ocupied and apropeied d ed e',\n",
              " 'the porter ase whulth he had gut a as as as a a a',\n",
              " ' norded oswald ever complane that he was hid oe n n n ',\n",
              " 'with roind caracter ta habits and of o i i i i',\n",
              " 'bu althog covis lading did nose of the aaal from the platd l os sasct',\n",
              " 'his wife testiffided that he copecse e e re r r re',\n",
              " 'the proficy of the he bri as l l',\n",
              " 'thro which there wo ine asnsa a',\n",
              " 'more anmle fo was bevend he se',\n",
              " 'in marchininten sixtythre wil atempking to locade mria ',\n",
              " 'from e mobility of anibals cov with his carictrst cat l f l l linin',\n",
              " 'whel ma brina oswald new of fer osbncs plan togo to mexco and vencs to cubiif pob s s    o  ',\n",
              " 'its rinplaters fisl od and the res r or co o t t t t',\n",
              " 'but the jur after shord dliberation do not his itae to bring in afverdictd of guilt ad d o or re red d t',\n",
              " 'and amaster of the alom who cep this tcee of thei rilsaans a as a a r ',\n",
              " 'these fibers wreemend by al am stom bal aspeialaged tisie fre eie i fi ie ',\n",
              " 'it was mading combent o pon the justics to provi distinged laces of confiment f f s is',\n",
              " 'fraes had aready benceed by plice men nange tros who sahs movement with the pisil o o e eie ',\n",
              " 'with the mens of rng an onis li l o os',\n",
              " \"charo was the only one af oswald's dre principle oservers who reamended that he beai o o o io oin\",\n",
              " 'the lo he mat nother woman ad o o of o o a a',\n",
              " 'the ho of er waord migh to much bu no sistom of pel de suplines pompe s o o  ',\n",
              " 'they wereprovedo and imploid t some prisons at others ucjected rie a pad pede',\n",
              " 'some time after marghe twhenty sen but coring to mring o a ar r i ie e ie e e',\n",
              " 'le has to be die nos tas quote personot pater distervencs is i re rses s en e ndendnd',\n",
              " 'the ilages bro clid reffa to prfecion a a a f f f fr',\n",
              " 'the formal f binstructions to its agence ou plining e information to ber eferd to the secret service o o i',\n",
              " 'and the ban becaime lible ro o o n n sn n on',\n",
              " 'wre mined ing hersonse that ay were ortfon th o in in in in on o',\n",
              " 'frahur testified that the rifle was acuret that ad had lesst re oal e i i i l',\n",
              " 'atho in the foncumbercation she discrve the mans cot or o e e ',\n",
              " 'no dot wis arecouncsls proviled was orde os',\n",
              " 'these word wer also in the heanriding oly ar l',\n",
              " 'he made aradidid',\n",
              " 'an imtation which the socity indegently andvery gjustly recued ae i ',\n",
              " 'i i',\n",
              " 'and so pasing by the rove downd nd to be gond non o r',\n",
              " 'secret servicagents station atlaer stots on the presidence it tinerary of november twenty to ele',\n",
              " 'os ded el',\n",
              " 'an con almust inverly protur thae loctures of his calsf a o n n',\n",
              " 'er net and ollygjust pomout of ja f cmei se ie e e',\n",
              " 'oswald ould not posibly ef ven waing blo jacket during the trict with waly sinit was fond in the doman o rom of the depost ray n o ',\n",
              " 'the leter foundi the poced of the cees was f fe f ar ',\n",
              " 'that wal he had be gon to breed mak an angles af the ageffiftn the concoe i in   ',\n",
              " 'his sutn paxese to mens unlimited was no dot do to the proftiabl rold ysu a o o r n n ',\n",
              " 'werhiy presintly committed berglaryat liminten was s n in i i i i ',\n",
              " 'en wi the secret servicagentcs incharge of security at of fie t ir i ir ir i r r tr',\n",
              " 'oswald told frits that afterlenche he went out sie to with formin lif fr n f',\n",
              " 'even tho only fo o r',\n",
              " 'in the first sears the fir i s s s ',\n",
              " 'first cime the sherfe the under sharf son seveal alderman and sit offiis r r  ',\n",
              " 'dhisfihed his commiiet o i in',\n",
              " 'sertind frencs of the prisoners were wache and vfound o ben oinin in r',\n",
              " 'this ucurd two monse beforly wie on o o on n n n n',\n",
              " 'e roe o ini i i i i i ',\n",
              " 'nerld n fie fr',\n",
              " 'and the lovse of bhe livfe instintly closed to geither inveirhu of an act if contractiof r e is',\n",
              " 'ithis revaver dran aer ond pe ei o d ed ie ',\n",
              " 'the secnd dact ast in the folwing ear and large and demended the firs ad a a a o o o o',\n",
              " 'no section l o o o i ie ie ie',\n",
              " 'he retakon in a carct to the place of execution oe ',\n",
              " 'in somplaces he ditary was to fl n oe e r oe  ',\n",
              " 'hire cobe no meadation twe thos sistoms as a and ',\n",
              " 'while cocla l plmerin his am i i i ii',\n",
              " 'as indefetigable and sel sacficing found by peresolvistation that the conition op poac o o i ',\n",
              " 'the sirgons ofserve tho exran nos f fr r r f f f f  ',\n",
              " 'seceration of prisoners on sels doly sertified by the inpeces ',\n",
              " 'o the large sos in shamsporting speculation the conviction of the princsls i i ififiinin',\n",
              " 'vared soconsiderably of the severld docummence lof behined that to muchralines connot bepoe os sisin',\n",
              " 'and wicertly havebend imposfle to any one les nemble men ac honee traned und or the old st o o on n n i ii',\n",
              " 'heari has bence ujested bereh the fams aning gidens which some angent others nco o s s o o o o',\n",
              " \"the dificulties which oswald's problms wold of castd immin any relation ship r o o \",\n",
              " 'after he wreturnd from his tric to mexco where his aplication o god cou a as a ad dede',\n",
              " 'moreover helo foerd to he public oparnces which he personaly injuoie  bai dciion of the november titetexs was a e e enn',\n",
              " 'butid wil by astaning prtisn o o ',\n",
              " 'as the manshe so cil ofcurtipet in avouating mrs marcoms adentificioto o o i i ininnnn',\n",
              " 'infact on ther sinrs first ti for s s o ',\n",
              " 'or toprovent discruct ive priccuting which many iso in is i i ie e ie',\n",
              " 'whoc aifing in the nesepaker oafbout his defection an lessty ngad iti o o o',\n",
              " 'aring fl boil of coo coliin his and presoalble crst t in r r r al',\n",
              " 'a siht was perctus o bitn redlime and whith orsere an',\n",
              " 'the crmersial expeirioncs of these lveros so',\n",
              " 'in iten twent seven this cid was compelto report that nometerial chang to tikenplaceen newgaet os i i i o is',\n",
              " 'the evidence indicate that oswal uualy told his prespecti vimploers and implimemet coslers that he had resl i int io r ',\n",
              " 'he stroly coy in mi plaes bu byng finges for his wife th s d ',\n",
              " 'that tabilis om mis probably dw to enie action b ois is i ae e ',\n",
              " 'hout coveruse the fois dve bit the faris posibl man an s a r',\n",
              " 'the govern mentl consqunces of asasination of one of the spesified of ficials eve inited tae ap o or o',\n",
              " 'oswald whilth have had other and more faver ble oprtunites to strik t the governr tat on this sicaion and m r er e e e',\n",
              " 'was strone in front of the dok and spricl ettords the bant o o con t is t',\n",
              " 'these assany andgainges of prsio were fond of hunty ad o r r r r r r r',\n",
              " ...]"
            ]
          },
          "metadata": {},
          "execution_count": 46
        }
      ]
    },
    {
      "cell_type": "code",
      "source": [
        "len(targets)"
      ],
      "metadata": {
        "colab": {
          "base_uri": "https://localhost:8080/"
        },
        "id": "Cmw-DSKpPYUt",
        "outputId": "56f8b52d-53e6-4735-fa8e-ebe5855efefa"
      },
      "execution_count": null,
      "outputs": [
        {
          "output_type": "execute_result",
          "data": {
            "text/plain": [
              "1309"
            ]
          },
          "metadata": {},
          "execution_count": 67
        }
      ]
    },
    {
      "cell_type": "code",
      "source": [
        "len(predictions)"
      ],
      "metadata": {
        "colab": {
          "base_uri": "https://localhost:8080/"
        },
        "id": "B8MAZLm3Pc-x",
        "outputId": "cd971cc7-895c-4b71-d2f4-7befd1367f36"
      },
      "execution_count": null,
      "outputs": [
        {
          "output_type": "execute_result",
          "data": {
            "text/plain": [
              "1309"
            ]
          },
          "metadata": {},
          "execution_count": 68
        }
      ]
    },
    {
      "cell_type": "code",
      "source": [
        "targets[0]"
      ],
      "metadata": {
        "colab": {
          "base_uri": "https://localhost:8080/",
          "height": 36
        },
        "id": "o73fZvy1P2tw",
        "outputId": "969fc3e3-b040-4e20-a8f8-3739fee427a2"
      },
      "execution_count": null,
      "outputs": [
        {
          "output_type": "execute_result",
          "data": {
            "text/plain": [
              "'to advise the field office if the subject displays signs of increased danger or plans to leave his home area'"
            ],
            "application/vnd.google.colaboratory.intrinsic+json": {
              "type": "string"
            }
          },
          "metadata": {},
          "execution_count": 69
        }
      ]
    },
    {
      "cell_type": "code",
      "source": [
        "predictions[0]"
      ],
      "metadata": {
        "colab": {
          "base_uri": "https://localhost:8080/",
          "height": 36
        },
        "id": "UpUPW-aoP5sS",
        "outputId": "506778c1-4050-414f-ad2c-563f00d50d2b"
      },
      "execution_count": null,
      "outputs": [
        {
          "output_type": "execute_result",
          "data": {
            "text/plain": [
              "'to ivie the feld ofice if the sutic displae sie f in cree ne as s s '"
            ],
            "application/vnd.google.colaboratory.intrinsic+json": {
              "type": "string"
            }
          },
          "metadata": {},
          "execution_count": 70
        }
      ]
    },
    {
      "cell_type": "code",
      "source": [
        "wer_score1 = wer(targets[0], predictions[0])"
      ],
      "metadata": {
        "id": "wCFHzuxzQBhk"
      },
      "execution_count": null,
      "outputs": []
    },
    {
      "cell_type": "code",
      "source": [
        "print(wer_score1)"
      ],
      "metadata": {
        "colab": {
          "base_uri": "https://localhost:8080/"
        },
        "id": "t3o-sZmeQFl8",
        "outputId": "efc31941-60bd-4a3f-e4a4-b7481a079937"
      },
      "execution_count": null,
      "outputs": [
        {
          "output_type": "stream",
          "name": "stdout",
          "text": [
            "0.8\n"
          ]
        }
      ]
    }
  ]
}